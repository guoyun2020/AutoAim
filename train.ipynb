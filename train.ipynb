{
 "cells": [
  {
   "cell_type": "code",
   "execution_count": null,
   "metadata": {
    "collapsed": false
   },
   "outputs": [
    {
     "data": {
      "text/plain": [
       "'\\nThis is a computer vision project based on paddleX and \\na computer game named CS:GO, which is used to detect the\\nenemies and shot automatically. It is implemented by deep\\nlearning method Fast-RCNN and pyautogui lib. You can use \\nit to learn or just for fun in the game (just like me), \\nbut never use it for cheating. Thanks for your cooperation!\\n\\n'"
      ]
     },
     "execution_count": null,
     "metadata": {},
     "output_type": "execute_result"
    }
   ],
   "source": [
    "# project: CSGO AutoAim (train)\n",
    "# author: GY\n",
    "# version: 1.0\n",
    "# time: 2021.2.23\n",
    "# descirption:\n",
    "\n",
    "\"\"\"\n",
    "This is a computer vision project based on paddleX and \n",
    "a computer game named CS:GO, which is used to detect the\n",
    "enemies and shot automatically. It is implemented by deep\n",
    "learning method Fast-RCNN and pyautogui lib. You can use \n",
    "it to learn or just for fun in the game (just like me), \n",
    "but never use it for cheating. Thanks for your cooperation!\n",
    "\n",
    "\"\"\"\n"
   ]
  },
  {
   "cell_type": "code",
   "execution_count": 1,
   "metadata": {
    "collapsed": false
   },
   "outputs": [
    {
     "name": "stdout",
     "output_type": "stream",
     "text": [
      "Looking in indexes: https://mirror.baidu.com/pypi/simple\n",
      "Requirement already satisfied: paddlex in /opt/conda/envs/python35-paddle120-env/lib/python3.7/site-packages (1.3.7)\n",
      "Requirement already satisfied: sklearn in /opt/conda/envs/python35-paddle120-env/lib/python3.7/site-packages (from paddlex) (0.0)\n",
      "Requirement already satisfied: shapely>=1.7.0 in /opt/conda/envs/python35-paddle120-env/lib/python3.7/site-packages (from paddlex) (1.7.1)\n",
      "Requirement already satisfied: flask-cors in /opt/conda/envs/python35-paddle120-env/lib/python3.7/site-packages (from paddlex) (3.0.8)\n",
      "Requirement already satisfied: psutil in /opt/conda/envs/python35-paddle120-env/lib/python3.7/site-packages (from paddlex) (5.7.2)\n",
      "Requirement already satisfied: tqdm in /opt/conda/envs/python35-paddle120-env/lib/python3.7/site-packages (from paddlex) (4.36.1)\n",
      "Requirement already satisfied: colorama in /opt/conda/envs/python35-paddle120-env/lib/python3.7/site-packages (from paddlex) (0.4.4)\n",
      "Requirement already satisfied: pycocotools; platform_system != \"Windows\" in /opt/conda/envs/python35-paddle120-env/lib/python3.7/site-packages (from paddlex) (2.0.2)\n",
      "Requirement already satisfied: visualdl>=2.0.0 in /opt/conda/envs/python35-paddle120-env/lib/python3.7/site-packages (from paddlex) (2.1.1)\n",
      "Requirement already satisfied: paddleslim==1.1.1 in /opt/conda/envs/python35-paddle120-env/lib/python3.7/site-packages (from paddlex) (1.1.1)\n",
      "Requirement already satisfied: pyyaml in /opt/conda/envs/python35-paddle120-env/lib/python3.7/site-packages (from paddlex) (5.1.2)\n",
      "Requirement already satisfied: opencv-python in /opt/conda/envs/python35-paddle120-env/lib/python3.7/site-packages (from paddlex) (4.1.1.26)\n",
      "Requirement already satisfied: xlwt in /opt/conda/envs/python35-paddle120-env/lib/python3.7/site-packages (from paddlex) (1.3.0)\n",
      "Requirement already satisfied: scikit-learn in /opt/conda/envs/python35-paddle120-env/lib/python3.7/site-packages (from sklearn->paddlex) (0.20.0)\n",
      "Requirement already satisfied: Six in /opt/conda/envs/python35-paddle120-env/lib/python3.7/site-packages (from flask-cors->paddlex) (1.15.0)\n",
      "Requirement already satisfied: Flask>=0.9 in /opt/conda/envs/python35-paddle120-env/lib/python3.7/site-packages (from flask-cors->paddlex) (1.1.1)\n",
      "Requirement already satisfied: setuptools>=18.0 in /opt/conda/envs/python35-paddle120-env/lib/python3.7/site-packages (from pycocotools; platform_system != \"Windows\"->paddlex) (41.4.0)\n",
      "Requirement already satisfied: cython>=0.27.3 in /opt/conda/envs/python35-paddle120-env/lib/python3.7/site-packages (from pycocotools; platform_system != \"Windows\"->paddlex) (0.29)\n",
      "Requirement already satisfied: matplotlib>=2.1.0 in /opt/conda/envs/python35-paddle120-env/lib/python3.7/site-packages (from pycocotools; platform_system != \"Windows\"->paddlex) (2.2.3)\n",
      "Requirement already satisfied: flake8>=3.7.9 in /opt/conda/envs/python35-paddle120-env/lib/python3.7/site-packages (from visualdl>=2.0.0->paddlex) (3.8.2)\n",
      "Requirement already satisfied: requests in /opt/conda/envs/python35-paddle120-env/lib/python3.7/site-packages (from visualdl>=2.0.0->paddlex) (2.22.0)\n",
      "Requirement already satisfied: Flask-Babel>=1.0.0 in /opt/conda/envs/python35-paddle120-env/lib/python3.7/site-packages (from visualdl>=2.0.0->paddlex) (1.0.0)\n",
      "Requirement already satisfied: protobuf>=3.11.0 in /opt/conda/envs/python35-paddle120-env/lib/python3.7/site-packages (from visualdl>=2.0.0->paddlex) (3.14.0)\n",
      "Requirement already satisfied: bce-python-sdk in /opt/conda/envs/python35-paddle120-env/lib/python3.7/site-packages (from visualdl>=2.0.0->paddlex) (0.8.53)\n",
      "Requirement already satisfied: numpy in /opt/conda/envs/python35-paddle120-env/lib/python3.7/site-packages (from visualdl>=2.0.0->paddlex) (1.16.4)\n",
      "Requirement already satisfied: pre-commit in /opt/conda/envs/python35-paddle120-env/lib/python3.7/site-packages (from visualdl>=2.0.0->paddlex) (1.21.0)\n",
      "Requirement already satisfied: Pillow>=7.0.0 in /opt/conda/envs/python35-paddle120-env/lib/python3.7/site-packages (from visualdl>=2.0.0->paddlex) (7.1.2)\n",
      "Requirement already satisfied: shellcheck-py in /opt/conda/envs/python35-paddle120-env/lib/python3.7/site-packages (from visualdl>=2.0.0->paddlex) (0.7.1.1)\n",
      "Requirement already satisfied: pyzmq in /opt/conda/envs/python35-paddle120-env/lib/python3.7/site-packages (from paddleslim==1.1.1->paddlex) (18.1.1)\n",
      "Requirement already satisfied: scipy>=0.13.3 in /opt/conda/envs/python35-paddle120-env/lib/python3.7/site-packages (from scikit-learn->sklearn->paddlex) (1.3.0)\n",
      "Requirement already satisfied: Werkzeug>=0.15 in /opt/conda/envs/python35-paddle120-env/lib/python3.7/site-packages (from Flask>=0.9->flask-cors->paddlex) (0.16.0)\n",
      "Requirement already satisfied: itsdangerous>=0.24 in /opt/conda/envs/python35-paddle120-env/lib/python3.7/site-packages (from Flask>=0.9->flask-cors->paddlex) (1.1.0)\n",
      "Requirement already satisfied: Jinja2>=2.10.1 in /opt/conda/envs/python35-paddle120-env/lib/python3.7/site-packages (from Flask>=0.9->flask-cors->paddlex) (2.10.1)\n",
      "Requirement already satisfied: click>=5.1 in /opt/conda/envs/python35-paddle120-env/lib/python3.7/site-packages (from Flask>=0.9->flask-cors->paddlex) (7.0)\n",
      "Requirement already satisfied: cycler>=0.10 in /opt/conda/envs/python35-paddle120-env/lib/python3.7/site-packages (from matplotlib>=2.1.0->pycocotools; platform_system != \"Windows\"->paddlex) (0.10.0)\n",
      "Requirement already satisfied: pyparsing!=2.0.4,!=2.1.2,!=2.1.6,>=2.0.1 in /opt/conda/envs/python35-paddle120-env/lib/python3.7/site-packages (from matplotlib>=2.1.0->pycocotools; platform_system != \"Windows\"->paddlex) (2.4.2)\n",
      "Requirement already satisfied: kiwisolver>=1.0.1 in /opt/conda/envs/python35-paddle120-env/lib/python3.7/site-packages (from matplotlib>=2.1.0->pycocotools; platform_system != \"Windows\"->paddlex) (1.1.0)\n",
      "Requirement already satisfied: pytz in /opt/conda/envs/python35-paddle120-env/lib/python3.7/site-packages (from matplotlib>=2.1.0->pycocotools; platform_system != \"Windows\"->paddlex) (2019.3)\n",
      "Requirement already satisfied: python-dateutil>=2.1 in /opt/conda/envs/python35-paddle120-env/lib/python3.7/site-packages (from matplotlib>=2.1.0->pycocotools; platform_system != \"Windows\"->paddlex) (2.8.0)\n",
      "Requirement already satisfied: pyflakes<2.3.0,>=2.2.0 in /opt/conda/envs/python35-paddle120-env/lib/python3.7/site-packages (from flake8>=3.7.9->visualdl>=2.0.0->paddlex) (2.2.0)\n",
      "Requirement already satisfied: mccabe<0.7.0,>=0.6.0 in /opt/conda/envs/python35-paddle120-env/lib/python3.7/site-packages (from flake8>=3.7.9->visualdl>=2.0.0->paddlex) (0.6.1)\n",
      "Requirement already satisfied: pycodestyle<2.7.0,>=2.6.0a1 in /opt/conda/envs/python35-paddle120-env/lib/python3.7/site-packages (from flake8>=3.7.9->visualdl>=2.0.0->paddlex) (2.6.0)\n",
      "Requirement already satisfied: importlib-metadata; python_version < \"3.8\" in /opt/conda/envs/python35-paddle120-env/lib/python3.7/site-packages (from flake8>=3.7.9->visualdl>=2.0.0->paddlex) (0.23)\n",
      "Requirement already satisfied: certifi>=2017.4.17 in /opt/conda/envs/python35-paddle120-env/lib/python3.7/site-packages (from requests->visualdl>=2.0.0->paddlex) (2019.9.11)\n",
      "Requirement already satisfied: idna<2.9,>=2.5 in /opt/conda/envs/python35-paddle120-env/lib/python3.7/site-packages (from requests->visualdl>=2.0.0->paddlex) (2.8)\n",
      "Requirement already satisfied: chardet<3.1.0,>=3.0.2 in /opt/conda/envs/python35-paddle120-env/lib/python3.7/site-packages (from requests->visualdl>=2.0.0->paddlex) (3.0.4)\n",
      "Requirement already satisfied: urllib3!=1.25.0,!=1.25.1,<1.26,>=1.21.1 in /opt/conda/envs/python35-paddle120-env/lib/python3.7/site-packages (from requests->visualdl>=2.0.0->paddlex) (1.25.6)\n",
      "Requirement already satisfied: Babel>=2.3 in /opt/conda/envs/python35-paddle120-env/lib/python3.7/site-packages (from Flask-Babel>=1.0.0->visualdl>=2.0.0->paddlex) (2.8.0)\n",
      "Requirement already satisfied: future>=0.6.0 in /opt/conda/envs/python35-paddle120-env/lib/python3.7/site-packages (from bce-python-sdk->visualdl>=2.0.0->paddlex) (0.18.0)\n",
      "Requirement already satisfied: pycryptodome>=3.8.0 in /opt/conda/envs/python35-paddle120-env/lib/python3.7/site-packages (from bce-python-sdk->visualdl>=2.0.0->paddlex) (3.9.9)\n",
      "Requirement already satisfied: aspy.yaml in /opt/conda/envs/python35-paddle120-env/lib/python3.7/site-packages (from pre-commit->visualdl>=2.0.0->paddlex) (1.3.0)\n",
      "Requirement already satisfied: virtualenv>=15.2 in /opt/conda/envs/python35-paddle120-env/lib/python3.7/site-packages (from pre-commit->visualdl>=2.0.0->paddlex) (16.7.9)\n",
      "Requirement already satisfied: nodeenv>=0.11.1 in /opt/conda/envs/python35-paddle120-env/lib/python3.7/site-packages (from pre-commit->visualdl>=2.0.0->paddlex) (1.3.4)\n",
      "Requirement already satisfied: identify>=1.0.0 in /opt/conda/envs/python35-paddle120-env/lib/python3.7/site-packages (from pre-commit->visualdl>=2.0.0->paddlex) (1.4.10)\n",
      "Requirement already satisfied: cfgv>=2.0.0 in /opt/conda/envs/python35-paddle120-env/lib/python3.7/site-packages (from pre-commit->visualdl>=2.0.0->paddlex) (2.0.1)\n",
      "Requirement already satisfied: toml in /opt/conda/envs/python35-paddle120-env/lib/python3.7/site-packages (from pre-commit->visualdl>=2.0.0->paddlex) (0.10.0)\n",
      "Requirement already satisfied: MarkupSafe>=0.23 in /opt/conda/envs/python35-paddle120-env/lib/python3.7/site-packages (from Jinja2>=2.10.1->Flask>=0.9->flask-cors->paddlex) (1.1.1)\n",
      "Requirement already satisfied: zipp>=0.5 in /opt/conda/envs/python35-paddle120-env/lib/python3.7/site-packages (from importlib-metadata; python_version < \"3.8\"->flake8>=3.7.9->visualdl>=2.0.0->paddlex) (0.6.0)\n",
      "Requirement already satisfied: more-itertools in /opt/conda/envs/python35-paddle120-env/lib/python3.7/site-packages (from zipp>=0.5->importlib-metadata; python_version < \"3.8\"->flake8>=3.7.9->visualdl>=2.0.0->paddlex) (7.2.0)\n"
     ]
    }
   ],
   "source": [
    "# install paddlex\n",
    "! pip install paddlex -i https://mirror.baidu.com/pypi/simple"
   ]
  },
  {
   "cell_type": "code",
   "execution_count": null,
   "metadata": {
    "collapsed": false
   },
   "outputs": [],
   "source": [
    "# import datasets zip\n",
    "import zipfile\n",
    "zf = zipfile.ZipFile(\"datasets_new.zip\")\n",
    "zf.extractall(\"train/\")"
   ]
  },
  {
   "cell_type": "code",
   "execution_count": 2,
   "metadata": {
    "collapsed": false
   },
   "outputs": [],
   "source": [
    "# GPU setting\r\n",
    "import matplotlib\r\n",
    "matplotlib.use('Agg') \r\n",
    "import os\r\n",
    "os.environ['CUDA_VISIBLE_DEVICES'] = '0'\r\n",
    "import paddlex as pdx"
   ]
  },
  {
   "cell_type": "code",
   "execution_count": 3,
   "metadata": {
    "collapsed": false
   },
   "outputs": [],
   "source": [
    "# data transform\r\n",
    "from paddlex.det import transforms\r\n",
    "train_transforms = transforms.Compose([\r\n",
    "    transforms.RandomHorizontalFlip(),\r\n",
    "    transforms.Normalize(),\r\n",
    "    transforms.ResizeByShort(short_size=800, max_size=1333),\r\n",
    "    transforms.Padding(coarsest_stride=32)\r\n",
    "])\r\n",
    "\r\n",
    "eval_transforms = transforms.Compose([\r\n",
    "    transforms.Normalize(),\r\n",
    "    transforms.ResizeByShort(short_size=800, max_size=1333),\r\n",
    "    transforms.Padding(coarsest_stride=32),\r\n",
    "])"
   ]
  },
  {
   "cell_type": "code",
   "execution_count": null,
   "metadata": {
    "collapsed": false
   },
   "outputs": [],
   "source": [
    "import os\r\n",
    "import random\r\n",
    "\r\n",
    "\r\n",
    "trainval_percent = 0.1\r\n",
    "train_percent = 0.9\r\n",
    "xmlfilepath = 'train/Annotations'\r\n",
    "txtsavepath = 'train/ImageSets/Main'\r\n",
    "total_xml = os.listdir(xmlfilepath)\r\n",
    "num = len(total_xml)\r\n",
    "list = range(num)\r\n",
    "tv = int(num * trainval_percent)\r\n",
    "tr = int(tv * train_percent)\r\n",
    "trainval = random.sample(list, tv)\r\n",
    "train = random.sample(trainval, tr)\r\n",
    "#os.makedirs('train/ImageSets/Main')\r\n",
    "ftrainval = open('train/ImageSets/Main/trainval.txt', 'w')\r\n",
    "ftest = open('train/ImageSets/Main/test.txt', 'w')\r\n",
    "ftrain = open('train/ImageSets/Main/train.txt', 'w')\r\n",
    "fval = open('train/ImageSets/Main/val.txt', 'w')\r\n",
    "\r\n",
    "for i in list:\r\n",
    "    name = total_xml[i][:-4]\r\n",
    "    if i in trainval:\r\n",
    "        ftrainval.write(\"JPG/\"+name+\".jpg \" + \"Annotations/\"+name+\".xml\\n\")\r\n",
    "        if i in train:\r\n",
    "            ftest.write(\"JPG/\"+name+\".jpg \" + \"Annotations/\"+name+\".xml\\n\")\r\n",
    "        else:\r\n",
    "            fval.write(\"JPG/\"+name+\".jpg \" + \"Annotations/\"+name+\".xml\\n\")\r\n",
    "    else:\r\n",
    "        ftrain.write(\"JPG/\"+name+\".jpg \" + \"Annotations/\"+name+\".xml\\n\")\r\n",
    "\r\n",
    "ftrainval.close()\r\n",
    "ftrain.close()\r\n",
    "fval.close()\r\n",
    "ftest.close()"
   ]
  },
  {
   "cell_type": "code",
   "execution_count": 4,
   "metadata": {
    "collapsed": false
   },
   "outputs": [
    {
     "name": "stdout",
     "output_type": "stream",
     "text": [
      "2021-02-25 23:18:09 [INFO]\tStarting to read file list from dataset...\n",
      "2021-02-25 23:18:09 [INFO]\t166 samples in file train/ImageSets/Main/train.txt\n",
      "creating index...\n",
      "index created!\n",
      "2021-02-25 23:18:09 [INFO]\tStarting to read file list from dataset...\n",
      "2021-02-25 23:18:09 [INFO]\t2 samples in file train/ImageSets/Main/val.txt\n",
      "creating index...\n",
      "index created!\n"
     ]
    }
   ],
   "source": [
    "# making train & valid datasets\r\n",
    "import paddlex as pdx\r\n",
    "train_dataset = pdx.datasets.VOCDetection(\r\n",
    "    data_dir='train/',\r\n",
    "    file_list='train/ImageSets/Main/train.txt',\r\n",
    "    label_list='train/ImageSets/Main/labels.txt',\r\n",
    "    transforms=train_transforms,\r\n",
    "    shuffle=True)\r\n",
    "eval_dataset = pdx.datasets.VOCDetection(\r\n",
    "    data_dir='train/',\r\n",
    "    file_list='train/ImageSets/Main/val.txt',\r\n",
    "    label_list='train/ImageSets/Main/labels.txt',\r\n",
    "    transforms=eval_transforms)"
   ]
  },
  {
   "cell_type": "code",
   "execution_count": 6,
   "metadata": {
    "collapsed": false
   },
   "outputs": [
    {
     "name": "stderr",
     "output_type": "stream",
     "text": [
      "2021-02-25 23:20:18,197-INFO: If regularizer of a Parameter has been set by 'fluid.ParamAttr' or 'fluid.WeightNormParamAttr' already. The Regularization[L2Decay, regularization_coeff=0.000100] in Optimizer will not take effect, and it will only be applied to other Parameters!\n"
     ]
    },
    {
     "name": "stdout",
     "output_type": "stream",
     "text": [
      "2021-02-25 23:20:18 [INFO]\tDownloading ResNet50_cos_pretrained.tar from https://paddle-imagenet-models-name.bj.bcebos.com/ResNet50_cos_pretrained.tar\n"
     ]
    },
    {
     "name": "stderr",
     "output_type": "stream",
     "text": [
      "100%|██████████| 100310/100310 [00:01<00:00, 57276.60KB/s]\n"
     ]
    },
    {
     "name": "stdout",
     "output_type": "stream",
     "text": [
      "2021-02-25 23:20:20 [INFO]\tDecompressing output/faster_rcnn_r50_fpn/pretrain/ResNet50_cos_pretrained.tar...\n",
      "2021-02-25 23:20:24 [INFO]\tLoad pretrain weights from output/faster_rcnn_r50_fpn/pretrain/ResNet50_cos_pretrained.\n"
     ]
    },
    {
     "name": "stderr",
     "output_type": "stream",
     "text": [
      "2021-02-25 23:20:24,382-WARNING: output/faster_rcnn_r50_fpn/pretrain/ResNet50_cos_pretrained.pdparams not found, try to load model file saved with [ save_params, save_persistables, save_vars ]\n"
     ]
    },
    {
     "name": "stdout",
     "output_type": "stream",
     "text": [
      "2021-02-25 23:20:24 [INFO]\tThere are 265 varaibles in output/faster_rcnn_r50_fpn/pretrain/ResNet50_cos_pretrained are loaded.\n",
      "2021-02-25 23:20:32 [INFO]\t[TRAIN] Epoch=1/64, Step=2/41, loss=1.486506, loss_cls=0.774877, loss_bbox=0.00167, loss_rpn_cls=0.699571, loss_rpn_bbox=0.010389, lr=0.000832, time_each_step=3.68s, eta=2:44:31\n",
      "2021-02-25 23:20:33 [INFO]\t[TRAIN] Epoch=1/64, Step=4/41, loss=0.904502, loss_cls=0.193593, loss_bbox=1.4e-05, loss_rpn_cls=0.697124, loss_rpn_bbox=0.013771, lr=0.000829, time_each_step=2.13s, eta=1:35:18\n",
      "2021-02-25 23:20:34 [INFO]\t[TRAIN] Epoch=1/64, Step=6/41, loss=0.756007, loss_cls=0.04663, loss_bbox=0.002137, loss_rpn_cls=0.691873, loss_rpn_bbox=0.015367, lr=0.000826, time_each_step=1.59s, eta=1:11:15\n",
      "2021-02-25 23:20:35 [INFO]\t[TRAIN] Epoch=1/64, Step=8/41, loss=0.708227, loss_cls=0.020474, loss_bbox=8e-06, loss_rpn_cls=0.679569, loss_rpn_bbox=0.008176, lr=0.000823, time_each_step=1.3s, eta=0:58:8\n",
      "2021-02-25 23:20:36 [INFO]\t[TRAIN] Epoch=1/64, Step=10/41, loss=0.724098, loss_cls=0.037422, loss_bbox=0.00208, loss_rpn_cls=0.660324, loss_rpn_bbox=0.024272, lr=0.00082, time_each_step=1.13s, eta=0:50:25\n",
      "2021-02-25 23:20:36 [INFO]\t[TRAIN] Epoch=1/64, Step=12/41, loss=0.734034, loss_cls=0.079822, loss_bbox=0.004771, loss_rpn_cls=0.629497, loss_rpn_bbox=0.019944, lr=0.000817, time_each_step=1.0s, eta=0:44:34\n",
      "2021-02-25 23:20:37 [INFO]\t[TRAIN] Epoch=1/64, Step=14/41, loss=0.674315, loss_cls=0.079601, loss_bbox=3.5e-05, loss_rpn_cls=0.582905, loss_rpn_bbox=0.011774, lr=0.000814, time_each_step=0.91s, eta=0:40:30\n",
      "2021-02-25 23:20:38 [INFO]\t[TRAIN] Epoch=1/64, Step=16/41, loss=0.664913, loss_cls=0.123963, loss_bbox=5.8e-05, loss_rpn_cls=0.525696, loss_rpn_bbox=0.015195, lr=0.000811, time_each_step=0.84s, eta=0:37:36\n",
      "2021-02-25 23:20:39 [INFO]\t[TRAIN] Epoch=1/64, Step=18/41, loss=0.589746, loss_cls=0.124007, loss_bbox=3e-05, loss_rpn_cls=0.448191, loss_rpn_bbox=0.017518, lr=0.000808, time_each_step=0.79s, eta=0:35:18\n",
      "2021-02-25 23:20:40 [INFO]\t[TRAIN] Epoch=1/64, Step=20/41, loss=0.425867, loss_cls=0.088519, loss_bbox=0.002097, loss_rpn_cls=0.324339, loss_rpn_bbox=0.010912, lr=0.000805, time_each_step=0.75s, eta=0:33:27\n",
      "2021-02-25 23:20:40 [INFO]\t[TRAIN] Epoch=1/64, Step=22/41, loss=0.304846, loss_cls=0.058783, loss_bbox=0.002532, loss_rpn_cls=0.231925, loss_rpn_bbox=0.011607, lr=0.000803, time_each_step=0.42s, eta=0:18:50\n",
      "2021-02-25 23:20:41 [INFO]\t[TRAIN] Epoch=1/64, Step=24/41, loss=0.270176, loss_cls=0.121164, loss_bbox=6.4e-05, loss_rpn_cls=0.138477, loss_rpn_bbox=0.010471, lr=0.0008, time_each_step=0.4s, eta=0:17:43\n",
      "2021-02-25 23:20:42 [INFO]\t[TRAIN] Epoch=1/64, Step=26/41, loss=0.322283, loss_cls=0.175754, loss_bbox=0.002254, loss_rpn_cls=0.12611, loss_rpn_bbox=0.018165, lr=0.000797, time_each_step=0.39s, eta=0:17:6\n",
      "2021-02-25 23:20:43 [INFO]\t[TRAIN] Epoch=1/64, Step=28/41, loss=0.35879, loss_cls=0.179514, loss_bbox=0.005185, loss_rpn_cls=0.153407, loss_rpn_bbox=0.020684, lr=0.000794, time_each_step=0.38s, eta=0:17:0\n",
      "2021-02-25 23:20:43 [INFO]\t[TRAIN] Epoch=1/64, Step=30/41, loss=0.228427, loss_cls=0.11301, loss_bbox=2.4e-05, loss_rpn_cls=0.103532, loss_rpn_bbox=0.01186, lr=0.000791, time_each_step=0.38s, eta=0:16:56\n",
      "2021-02-25 23:20:44 [INFO]\t[TRAIN] Epoch=1/64, Step=32/41, loss=0.306226, loss_cls=0.165022, loss_bbox=0.014668, loss_rpn_cls=0.117424, loss_rpn_bbox=0.009111, lr=0.000788, time_each_step=0.39s, eta=0:17:16\n",
      "2021-02-25 23:20:45 [INFO]\t[TRAIN] Epoch=1/64, Step=34/41, loss=0.243729, loss_cls=0.159212, loss_bbox=0.011421, loss_rpn_cls=0.067595, loss_rpn_bbox=0.005501, lr=0.000785, time_each_step=0.39s, eta=0:17:23\n",
      "2021-02-25 23:20:46 [INFO]\t[TRAIN] Epoch=1/64, Step=36/41, loss=0.229185, loss_cls=0.126169, loss_bbox=0.016463, loss_rpn_cls=0.073617, loss_rpn_bbox=0.012936, lr=0.000782, time_each_step=0.39s, eta=0:17:19\n",
      "2021-02-25 23:20:47 [INFO]\t[TRAIN] Epoch=1/64, Step=38/41, loss=0.226927, loss_cls=0.118118, loss_bbox=0.026146, loss_rpn_cls=0.073299, loss_rpn_bbox=0.009364, lr=0.000779, time_each_step=0.39s, eta=0:17:13\n",
      "2021-02-25 23:20:47 [INFO]\t[TRAIN] Epoch=1/64, Step=40/41, loss=0.318146, loss_cls=0.153558, loss_bbox=0.055932, loss_rpn_cls=0.09769, loss_rpn_bbox=0.010966, lr=0.000776, time_each_step=0.39s, eta=0:17:15\n",
      "2021-02-25 23:20:48 [INFO]\t[TRAIN] Epoch 1 finished, loss=0.530303, loss_cls=0.153, loss_bbox=0.006724, loss_rpn_cls=0.35733, loss_rpn_bbox=0.01325, lr=0.000804 .\n",
      "2021-02-25 23:20:48 [WARNING]\tFaster RCNN supports batch_size=1 only during evaluating, so batch_size is forced to be set to 1.\n",
      "2021-02-25 23:20:48 [INFO]\tStart to evaluating(total_samples=2, total_steps=2)...\n"
     ]
    },
    {
     "name": "stderr",
     "output_type": "stream",
     "text": [
      "100%|██████████| 2/2 [00:01<00:00,  1.03it/s]\n"
     ]
    },
    {
     "name": "stdout",
     "output_type": "stream",
     "text": [
      "2021-02-25 23:20:50 [INFO]\t[EVAL] Finished, Epoch=1, bbox_map=0.0 .\n",
      "2021-02-25 23:20:54 [INFO]\tModel saved in output/faster_rcnn_r50_fpn/best_model.\n",
      "2021-02-25 23:20:59 [INFO]\tModel saved in output/faster_rcnn_r50_fpn/epoch_1.\n",
      "2021-02-25 23:20:59 [INFO]\tCurrent evaluated best model in eval_dataset is epoch_1, bbox_map=0.0\n",
      "2021-02-25 23:21:09 [INFO]\t[TRAIN] Epoch=2/64, Step=1/41, loss=0.114607, loss_cls=0.031743, loss_bbox=0.005945, loss_rpn_cls=0.073501, loss_rpn_bbox=0.003418, lr=0.000773, time_each_step=0.83s, eta=0:36:48\n",
      "2021-02-25 23:21:10 [INFO]\t[TRAIN] Epoch=2/64, Step=3/41, loss=0.19803, loss_cls=0.065086, loss_bbox=0.018467, loss_rpn_cls=0.108815, loss_rpn_bbox=0.005662, lr=0.00077, time_each_step=0.87s, eta=0:36:48\n",
      "2021-02-25 23:21:11 [INFO]\t[TRAIN] Epoch=2/64, Step=5/41, loss=0.27275, loss_cls=0.117268, loss_bbox=0.071899, loss_rpn_cls=0.075636, loss_rpn_bbox=0.007947, lr=0.000767, time_each_step=0.89s, eta=0:36:47\n",
      "2021-02-25 23:21:12 [INFO]\t[TRAIN] Epoch=2/64, Step=7/41, loss=0.228852, loss_cls=0.104901, loss_bbox=0.039672, loss_rpn_cls=0.076599, loss_rpn_bbox=0.007681, lr=0.000764, time_each_step=0.9s, eta=0:36:45\n",
      "2021-02-25 23:21:13 [INFO]\t[TRAIN] Epoch=2/64, Step=9/41, loss=0.10679, loss_cls=0.04002, loss_bbox=0.003858, loss_rpn_cls=0.055565, loss_rpn_bbox=0.007347, lr=0.000761, time_each_step=0.9s, eta=0:36:44\n",
      "2021-02-25 23:21:14 [INFO]\t[TRAIN] Epoch=2/64, Step=11/41, loss=0.110955, loss_cls=0.035889, loss_bbox=0.008132, loss_rpn_cls=0.058914, loss_rpn_bbox=0.00802, lr=0.000759, time_each_step=0.9s, eta=0:36:42\n",
      "2021-02-25 23:21:15 [INFO]\t[TRAIN] Epoch=2/64, Step=13/41, loss=0.224478, loss_cls=0.114714, loss_bbox=0.053777, loss_rpn_cls=0.04756, loss_rpn_bbox=0.008426, lr=0.000756, time_each_step=0.9s, eta=0:36:40\n",
      "2021-02-25 23:21:16 [INFO]\t[TRAIN] Epoch=2/64, Step=15/41, loss=0.194938, loss_cls=0.098039, loss_bbox=0.031816, loss_rpn_cls=0.052447, loss_rpn_bbox=0.012636, lr=0.000753, time_each_step=0.9s, eta=0:36:38\n",
      "2021-02-25 23:21:16 [INFO]\t[TRAIN] Epoch=2/64, Step=17/41, loss=0.278906, loss_cls=0.135732, loss_bbox=0.066567, loss_rpn_cls=0.06321, loss_rpn_bbox=0.013397, lr=0.00075, time_each_step=0.91s, eta=0:36:37\n",
      "2021-02-25 23:21:17 [INFO]\t[TRAIN] Epoch=2/64, Step=19/41, loss=0.436364, loss_cls=0.237498, loss_bbox=0.111085, loss_rpn_cls=0.07304, loss_rpn_bbox=0.014741, lr=0.000747, time_each_step=0.91s, eta=0:36:35\n",
      "2021-02-25 23:21:18 [INFO]\t[TRAIN] Epoch=2/64, Step=21/41, loss=0.220482, loss_cls=0.128641, loss_bbox=0.0531, loss_rpn_cls=0.035523, loss_rpn_bbox=0.003219, lr=0.000744, time_each_step=0.47s, eta=0:36:24\n",
      "2021-02-25 23:21:19 [INFO]\t[TRAIN] Epoch=2/64, Step=23/41, loss=0.233929, loss_cls=0.128611, loss_bbox=0.056896, loss_rpn_cls=0.043117, loss_rpn_bbox=0.005305, lr=0.000741, time_each_step=0.43s, eta=0:36:23\n",
      "2021-02-25 23:21:19 [INFO]\t[TRAIN] Epoch=2/64, Step=25/41, loss=0.283032, loss_cls=0.093065, loss_bbox=0.054554, loss_rpn_cls=0.092305, loss_rpn_bbox=0.043108, lr=0.000738, time_each_step=0.42s, eta=0:36:22\n",
      "2021-02-25 23:21:20 [INFO]\t[TRAIN] Epoch=2/64, Step=27/41, loss=0.232434, loss_cls=0.124211, loss_bbox=0.057833, loss_rpn_cls=0.047175, loss_rpn_bbox=0.003215, lr=0.000735, time_each_step=0.41s, eta=0:36:21\n",
      "2021-02-25 23:21:21 [INFO]\t[TRAIN] Epoch=2/64, Step=29/41, loss=0.290857, loss_cls=0.133892, loss_bbox=0.070905, loss_rpn_cls=0.076523, loss_rpn_bbox=0.009536, lr=0.000732, time_each_step=0.4s, eta=0:36:20\n",
      "2021-02-25 23:21:22 [INFO]\t[TRAIN] Epoch=2/64, Step=31/41, loss=0.243748, loss_cls=0.129546, loss_bbox=0.067127, loss_rpn_cls=0.040035, loss_rpn_bbox=0.00704, lr=0.000729, time_each_step=0.39s, eta=0:36:19\n",
      "2021-02-25 23:21:22 [INFO]\t[TRAIN] Epoch=2/64, Step=33/41, loss=0.268634, loss_cls=0.132507, loss_bbox=0.07707, loss_rpn_cls=0.049286, loss_rpn_bbox=0.009771, lr=0.000726, time_each_step=0.39s, eta=0:36:18\n",
      "2021-02-25 23:21:23 [INFO]\t[TRAIN] Epoch=2/64, Step=35/41, loss=0.139865, loss_cls=0.066026, loss_bbox=0.026173, loss_rpn_cls=0.03637, loss_rpn_bbox=0.011296, lr=0.000723, time_each_step=0.38s, eta=0:36:17\n",
      "2021-02-25 23:21:24 [INFO]\t[TRAIN] Epoch=2/64, Step=37/41, loss=0.138414, loss_cls=0.063382, loss_bbox=0.029184, loss_rpn_cls=0.041745, loss_rpn_bbox=0.004103, lr=0.00072, time_each_step=0.38s, eta=0:36:16\n",
      "2021-02-25 23:21:25 [INFO]\t[TRAIN] Epoch=2/64, Step=39/41, loss=0.159839, loss_cls=0.08039, loss_bbox=0.038645, loss_rpn_cls=0.034259, loss_rpn_bbox=0.006544, lr=0.000717, time_each_step=0.38s, eta=0:36:16\n",
      "2021-02-25 23:21:25 [INFO]\t[TRAIN] Epoch=2/64, Step=41/41, loss=0.253122, loss_cls=0.129957, loss_bbox=0.061256, loss_rpn_cls=0.051726, loss_rpn_bbox=0.010183, lr=0.000715, time_each_step=0.38s, eta=0:36:15\n",
      "2021-02-25 23:21:25 [INFO]\t[TRAIN] Epoch 2 finished, loss=0.244889, loss_cls=0.118755, loss_bbox=0.056802, loss_rpn_cls=0.059826, loss_rpn_bbox=0.009506, lr=0.000744 .\n",
      "2021-02-25 23:21:25 [WARNING]\tFaster RCNN supports batch_size=1 only during evaluating, so batch_size is forced to be set to 1.\n",
      "2021-02-25 23:21:25 [INFO]\tStart to evaluating(total_samples=2, total_steps=2)...\n"
     ]
    },
    {
     "name": "stderr",
     "output_type": "stream",
     "text": [
      "100%|██████████| 2/2 [00:04<00:00,  2.18s/it]\n"
     ]
    },
    {
     "name": "stdout",
     "output_type": "stream",
     "text": [
      "2021-02-25 23:21:30 [INFO]\t[EVAL] Finished, Epoch=2, bbox_map=3.030303 .\n",
      "2021-02-25 23:21:35 [INFO]\tModel saved in output/faster_rcnn_r50_fpn/best_model.\n",
      "2021-02-25 23:21:39 [INFO]\tModel saved in output/faster_rcnn_r50_fpn/epoch_2.\n",
      "2021-02-25 23:21:39 [INFO]\tCurrent evaluated best model in eval_dataset is epoch_2, bbox_map=3.0303030303030307\n",
      "2021-02-25 23:21:48 [INFO]\t[TRAIN] Epoch=3/64, Step=2/41, loss=0.202953, loss_cls=0.104286, loss_bbox=0.048399, loss_rpn_cls=0.045163, loss_rpn_bbox=0.005105, lr=0.000712, time_each_step=0.78s, eta=0:40:48\n",
      "2021-02-25 23:21:49 [INFO]\t[TRAIN] Epoch=3/64, Step=4/41, loss=0.127331, loss_cls=0.06817, loss_bbox=0.029004, loss_rpn_cls=0.026707, loss_rpn_bbox=0.00345, lr=0.000709, time_each_step=0.82s, eta=0:40:48\n",
      "2021-02-25 23:21:50 [INFO]\t[TRAIN] Epoch=3/64, Step=6/41, loss=0.214238, loss_cls=0.099267, loss_bbox=0.057666, loss_rpn_cls=0.045423, loss_rpn_bbox=0.011882, lr=0.000706, time_each_step=0.83s, eta=0:40:47\n",
      "2021-02-25 23:21:51 [INFO]\t[TRAIN] Epoch=3/64, Step=8/41, loss=0.44156, loss_cls=0.234569, loss_bbox=0.125639, loss_rpn_cls=0.0656, loss_rpn_bbox=0.015753, lr=0.000703, time_each_step=0.84s, eta=0:40:46\n",
      "2021-02-25 23:21:52 [INFO]\t[TRAIN] Epoch=3/64, Step=10/41, loss=0.21868, loss_cls=0.114589, loss_bbox=0.059196, loss_rpn_cls=0.03677, loss_rpn_bbox=0.008126, lr=0.0007, time_each_step=0.85s, eta=0:40:44\n",
      "2021-02-25 23:21:53 [INFO]\t[TRAIN] Epoch=3/64, Step=12/41, loss=0.194759, loss_cls=0.096787, loss_bbox=0.065996, loss_rpn_cls=0.027884, loss_rpn_bbox=0.004093, lr=0.000697, time_each_step=0.86s, eta=0:40:43\n",
      "2021-02-25 23:21:54 [INFO]\t[TRAIN] Epoch=3/64, Step=14/41, loss=0.427982, loss_cls=0.23154, loss_bbox=0.127544, loss_rpn_cls=0.062869, loss_rpn_bbox=0.006029, lr=0.000694, time_each_step=0.86s, eta=0:40:41\n",
      "2021-02-25 23:21:55 [INFO]\t[TRAIN] Epoch=3/64, Step=16/41, loss=0.244104, loss_cls=0.137985, loss_bbox=0.077428, loss_rpn_cls=0.025038, loss_rpn_bbox=0.003653, lr=0.000691, time_each_step=0.87s, eta=0:40:40\n",
      "2021-02-25 23:21:56 [INFO]\t[TRAIN] Epoch=3/64, Step=18/41, loss=0.236465, loss_cls=0.113421, loss_bbox=0.075909, loss_rpn_cls=0.036075, loss_rpn_bbox=0.011059, lr=0.000688, time_each_step=0.87s, eta=0:40:38\n",
      "2021-02-25 23:21:56 [INFO]\t[TRAIN] Epoch=3/64, Step=20/41, loss=0.260765, loss_cls=0.144719, loss_bbox=0.081124, loss_rpn_cls=0.029093, loss_rpn_bbox=0.00583, lr=0.000685, time_each_step=0.88s, eta=0:40:36\n",
      "2021-02-25 23:21:57 [INFO]\t[TRAIN] Epoch=3/64, Step=22/41, loss=0.224307, loss_cls=0.137873, loss_bbox=0.049033, loss_rpn_cls=0.030872, loss_rpn_bbox=0.006529, lr=0.000682, time_each_step=0.47s, eta=0:40:27\n",
      "2021-02-25 23:21:58 [INFO]\t[TRAIN] Epoch=3/64, Step=24/41, loss=0.234197, loss_cls=0.129028, loss_bbox=0.067061, loss_rpn_cls=0.031248, loss_rpn_bbox=0.00686, lr=0.000679, time_each_step=0.43s, eta=0:40:25\n",
      "2021-02-25 23:21:59 [INFO]\t[TRAIN] Epoch=3/64, Step=26/41, loss=0.195415, loss_cls=0.101267, loss_bbox=0.059812, loss_rpn_cls=0.027073, loss_rpn_bbox=0.007262, lr=0.000676, time_each_step=0.42s, eta=0:40:24\n",
      "2021-02-25 23:21:59 [INFO]\t[TRAIN] Epoch=3/64, Step=28/41, loss=0.18058, loss_cls=0.089773, loss_bbox=0.063773, loss_rpn_cls=0.022072, loss_rpn_bbox=0.004961, lr=0.000673, time_each_step=0.41s, eta=0:40:23\n",
      "2021-02-25 23:22:00 [INFO]\t[TRAIN] Epoch=3/64, Step=30/41, loss=0.173529, loss_cls=0.081143, loss_bbox=0.048321, loss_rpn_cls=0.036403, loss_rpn_bbox=0.007662, lr=0.000671, time_each_step=0.4s, eta=0:40:22\n",
      "2021-02-25 23:22:01 [INFO]\t[TRAIN] Epoch=3/64, Step=32/41, loss=0.15482, loss_cls=0.073442, loss_bbox=0.037082, loss_rpn_cls=0.034692, loss_rpn_bbox=0.009604, lr=0.000668, time_each_step=0.4s, eta=0:40:21\n",
      "2021-02-25 23:22:02 [INFO]\t[TRAIN] Epoch=3/64, Step=34/41, loss=0.189729, loss_cls=0.079691, loss_bbox=0.040238, loss_rpn_cls=0.047323, loss_rpn_bbox=0.022476, lr=0.000665, time_each_step=0.4s, eta=0:40:21\n",
      "2021-02-25 23:22:03 [INFO]\t[TRAIN] Epoch=3/64, Step=36/41, loss=0.299472, loss_cls=0.160421, loss_bbox=0.062677, loss_rpn_cls=0.060598, loss_rpn_bbox=0.015776, lr=0.000662, time_each_step=0.39s, eta=0:40:20\n",
      "2021-02-25 23:22:03 [INFO]\t[TRAIN] Epoch=3/64, Step=38/41, loss=0.306746, loss_cls=0.158147, loss_bbox=0.080013, loss_rpn_cls=0.061469, loss_rpn_bbox=0.007118, lr=0.000659, time_each_step=0.39s, eta=0:40:19\n",
      "2021-02-25 23:22:04 [INFO]\t[TRAIN] Epoch=3/64, Step=40/41, loss=0.318487, loss_cls=0.172256, loss_bbox=0.108033, loss_rpn_cls=0.030211, loss_rpn_bbox=0.007988, lr=0.000656, time_each_step=0.38s, eta=0:40:18\n",
      "2021-02-25 23:22:05 [INFO]\t[TRAIN] Epoch 3 finished, loss=0.270587, loss_cls=0.140378, loss_bbox=0.080139, loss_rpn_cls=0.040818, loss_rpn_bbox=0.009252, lr=0.000684 .\n",
      "2021-02-25 23:22:05 [WARNING]\tFaster RCNN supports batch_size=1 only during evaluating, so batch_size is forced to be set to 1.\n",
      "2021-02-25 23:22:05 [INFO]\tStart to evaluating(total_samples=2, total_steps=2)...\n"
     ]
    },
    {
     "name": "stderr",
     "output_type": "stream",
     "text": [
      "100%|██████████| 2/2 [00:03<00:00,  1.58s/it]\n"
     ]
    },
    {
     "name": "stdout",
     "output_type": "stream",
     "text": [
      "2021-02-25 23:22:08 [INFO]\t[EVAL] Finished, Epoch=3, bbox_map=1.948052 .\n",
      "2021-02-25 23:22:12 [INFO]\tModel saved in output/faster_rcnn_r50_fpn/epoch_3.\n",
      "2021-02-25 23:22:12 [INFO]\tCurrent evaluated best model in eval_dataset is epoch_2, bbox_map=3.0303030303030307\n",
      "2021-02-25 23:22:17 [INFO]\t[TRAIN] Epoch=4/64, Step=1/41, loss=0.244443, loss_cls=0.12466, loss_bbox=0.082628, loss_rpn_cls=0.027969, loss_rpn_bbox=0.009186, lr=0.000653, time_each_step=0.62s, eta=0:33:44\n",
      "2021-02-25 23:22:19 [INFO]\t[TRAIN] Epoch=4/64, Step=3/41, loss=0.229731, loss_cls=0.118881, loss_bbox=0.085104, loss_rpn_cls=0.021877, loss_rpn_bbox=0.00387, lr=0.00065, time_each_step=0.66s, eta=0:33:44\n",
      "2021-02-25 23:22:20 [INFO]\t[TRAIN] Epoch=4/64, Step=5/41, loss=0.119574, loss_cls=0.058045, loss_bbox=0.031107, loss_rpn_cls=0.02572, loss_rpn_bbox=0.004702, lr=0.000647, time_each_step=0.67s, eta=0:33:43\n",
      "2021-02-25 23:22:21 [INFO]\t[TRAIN] Epoch=4/64, Step=7/41, loss=0.309302, loss_cls=0.159947, loss_bbox=0.094813, loss_rpn_cls=0.039746, loss_rpn_bbox=0.014796, lr=0.000644, time_each_step=0.68s, eta=0:33:42\n",
      "2021-02-25 23:22:22 [INFO]\t[TRAIN] Epoch=4/64, Step=9/41, loss=0.340919, loss_cls=0.184638, loss_bbox=0.118835, loss_rpn_cls=0.02856, loss_rpn_bbox=0.008886, lr=0.000641, time_each_step=0.69s, eta=0:33:41\n",
      "2021-02-25 23:22:22 [INFO]\t[TRAIN] Epoch=4/64, Step=11/41, loss=0.286262, loss_cls=0.141725, loss_bbox=0.102953, loss_rpn_cls=0.034475, loss_rpn_bbox=0.007109, lr=0.000638, time_each_step=0.69s, eta=0:33:40\n",
      "2021-02-25 23:22:23 [INFO]\t[TRAIN] Epoch=4/64, Step=13/41, loss=0.385713, loss_cls=0.204341, loss_bbox=0.132211, loss_rpn_cls=0.039853, loss_rpn_bbox=0.009307, lr=0.000635, time_each_step=0.7s, eta=0:33:38\n",
      "2021-02-25 23:22:24 [INFO]\t[TRAIN] Epoch=4/64, Step=15/41, loss=0.340421, loss_cls=0.159617, loss_bbox=0.104996, loss_rpn_cls=0.06234, loss_rpn_bbox=0.013469, lr=0.000632, time_each_step=0.7s, eta=0:33:37\n",
      "2021-02-25 23:22:25 [INFO]\t[TRAIN] Epoch=4/64, Step=17/41, loss=0.133891, loss_cls=0.068899, loss_bbox=0.045206, loss_rpn_cls=0.015075, loss_rpn_bbox=0.004711, lr=0.000629, time_each_step=0.7s, eta=0:33:36\n",
      "2021-02-25 23:22:26 [INFO]\t[TRAIN] Epoch=4/64, Step=19/41, loss=0.174331, loss_cls=0.082713, loss_bbox=0.057592, loss_rpn_cls=0.024126, loss_rpn_bbox=0.0099, lr=0.000627, time_each_step=0.7s, eta=0:33:34\n",
      "2021-02-25 23:22:26 [INFO]\t[TRAIN] Epoch=4/64, Step=21/41, loss=0.25001, loss_cls=0.113938, loss_bbox=0.073587, loss_rpn_cls=0.054827, loss_rpn_bbox=0.007658, lr=0.000624, time_each_step=0.47s, eta=0:33:28\n",
      "2021-02-25 23:22:27 [INFO]\t[TRAIN] Epoch=4/64, Step=23/41, loss=0.23459, loss_cls=0.097028, loss_bbox=0.0601, loss_rpn_cls=0.053302, loss_rpn_bbox=0.024159, lr=0.000621, time_each_step=0.43s, eta=0:33:27\n",
      "2021-02-25 23:22:28 [INFO]\t[TRAIN] Epoch=4/64, Step=25/41, loss=0.207135, loss_cls=0.112194, loss_bbox=0.062255, loss_rpn_cls=0.028445, loss_rpn_bbox=0.004241, lr=0.000618, time_each_step=0.42s, eta=0:33:26\n",
      "2021-02-25 23:22:29 [INFO]\t[TRAIN] Epoch=4/64, Step=27/41, loss=0.366826, loss_cls=0.189675, loss_bbox=0.142089, loss_rpn_cls=0.029973, loss_rpn_bbox=0.005089, lr=0.000615, time_each_step=0.41s, eta=0:33:25\n",
      "2021-02-25 23:22:30 [INFO]\t[TRAIN] Epoch=4/64, Step=29/41, loss=0.352158, loss_cls=0.183551, loss_bbox=0.109467, loss_rpn_cls=0.043325, loss_rpn_bbox=0.015814, lr=0.000612, time_each_step=0.4s, eta=0:33:24\n",
      "2021-02-25 23:22:30 [INFO]\t[TRAIN] Epoch=4/64, Step=31/41, loss=0.400384, loss_cls=0.220776, loss_bbox=0.126124, loss_rpn_cls=0.043041, loss_rpn_bbox=0.010442, lr=0.000609, time_each_step=0.4s, eta=0:33:23\n",
      "2021-02-25 23:22:31 [INFO]\t[TRAIN] Epoch=4/64, Step=33/41, loss=0.377421, loss_cls=0.210018, loss_bbox=0.113954, loss_rpn_cls=0.043601, loss_rpn_bbox=0.009848, lr=0.000606, time_each_step=0.4s, eta=0:33:22\n",
      "2021-02-25 23:22:32 [INFO]\t[TRAIN] Epoch=4/64, Step=35/41, loss=0.229872, loss_cls=0.114466, loss_bbox=0.061646, loss_rpn_cls=0.042954, loss_rpn_bbox=0.010805, lr=0.000603, time_each_step=0.4s, eta=0:33:21\n",
      "2021-02-25 23:22:33 [INFO]\t[TRAIN] Epoch=4/64, Step=37/41, loss=0.301667, loss_cls=0.164682, loss_bbox=0.10205, loss_rpn_cls=0.026952, loss_rpn_bbox=0.007982, lr=0.0006, time_each_step=0.4s, eta=0:33:20\n",
      "2021-02-25 23:22:34 [INFO]\t[TRAIN] Epoch=4/64, Step=39/41, loss=0.297989, loss_cls=0.159688, loss_bbox=0.086335, loss_rpn_cls=0.0437, loss_rpn_bbox=0.008265, lr=0.000597, time_each_step=0.4s, eta=0:33:20\n",
      "2021-02-25 23:22:34 [INFO]\t[TRAIN] Epoch=4/64, Step=41/41, loss=0.350355, loss_cls=0.18006, loss_bbox=0.123058, loss_rpn_cls=0.03735, loss_rpn_bbox=0.009887, lr=0.000594, time_each_step=0.4s, eta=0:33:19\n",
      "2021-02-25 23:22:34 [INFO]\t[TRAIN] Epoch 4 finished, loss=0.283129, loss_cls=0.147918, loss_bbox=0.090529, loss_rpn_cls=0.035891, loss_rpn_bbox=0.00879, lr=0.000624 .\n",
      "2021-02-25 23:22:34 [WARNING]\tFaster RCNN supports batch_size=1 only during evaluating, so batch_size is forced to be set to 1.\n",
      "2021-02-25 23:22:34 [INFO]\tStart to evaluating(total_samples=2, total_steps=2)...\n"
     ]
    },
    {
     "name": "stderr",
     "output_type": "stream",
     "text": [
      "100%|██████████| 2/2 [00:05<00:00,  2.74s/it]\n"
     ]
    },
    {
     "name": "stdout",
     "output_type": "stream",
     "text": [
      "2021-02-25 23:22:40 [INFO]\t[EVAL] Finished, Epoch=4, bbox_map=2.371542 .\n",
      "2021-02-25 23:22:44 [INFO]\tModel saved in output/faster_rcnn_r50_fpn/epoch_4.\n",
      "2021-02-25 23:22:44 [INFO]\tCurrent evaluated best model in eval_dataset is epoch_2, bbox_map=3.0303030303030307\n",
      "2021-02-25 23:22:50 [INFO]\t[TRAIN] Epoch=5/64, Step=2/41, loss=0.386922, loss_cls=0.199375, loss_bbox=0.136853, loss_rpn_cls=0.037687, loss_rpn_bbox=0.013007, lr=0.000591, time_each_step=0.66s, eta=0:32:17\n",
      "2021-02-25 23:22:51 [INFO]\t[TRAIN] Epoch=5/64, Step=4/41, loss=0.179745, loss_cls=0.100154, loss_bbox=0.058552, loss_rpn_cls=0.017541, loss_rpn_bbox=0.003498, lr=0.000588, time_each_step=0.66s, eta=0:32:15\n",
      "2021-02-25 23:22:52 [INFO]\t[TRAIN] Epoch=5/64, Step=6/41, loss=0.311931, loss_cls=0.163408, loss_bbox=0.109414, loss_rpn_cls=0.029096, loss_rpn_bbox=0.010014, lr=0.000585, time_each_step=0.68s, eta=0:32:15\n",
      "2021-02-25 23:22:53 [INFO]\t[TRAIN] Epoch=5/64, Step=8/41, loss=0.236759, loss_cls=0.123282, loss_bbox=0.07634, loss_rpn_cls=0.028624, loss_rpn_bbox=0.008514, lr=0.000583, time_each_step=0.69s, eta=0:32:14\n",
      "2021-02-25 23:22:54 [INFO]\t[TRAIN] Epoch=5/64, Step=10/41, loss=0.342557, loss_cls=0.179487, loss_bbox=0.114797, loss_rpn_cls=0.040362, loss_rpn_bbox=0.007912, lr=0.00058, time_each_step=0.7s, eta=0:32:13\n",
      "2021-02-25 23:22:55 [INFO]\t[TRAIN] Epoch=5/64, Step=12/41, loss=0.176749, loss_cls=0.084155, loss_bbox=0.059086, loss_rpn_cls=0.025927, loss_rpn_bbox=0.00758, lr=0.000577, time_each_step=0.7s, eta=0:32:11\n",
      "2021-02-25 23:22:56 [INFO]\t[TRAIN] Epoch=5/64, Step=14/41, loss=0.271569, loss_cls=0.135407, loss_bbox=0.106303, loss_rpn_cls=0.024688, loss_rpn_bbox=0.005171, lr=0.000574, time_each_step=0.7s, eta=0:32:10\n",
      "2021-02-25 23:22:57 [INFO]\t[TRAIN] Epoch=5/64, Step=16/41, loss=0.35822, loss_cls=0.187639, loss_bbox=0.115888, loss_rpn_cls=0.041872, loss_rpn_bbox=0.012821, lr=0.000571, time_each_step=0.7s, eta=0:32:8\n",
      "2021-02-25 23:22:57 [INFO]\t[TRAIN] Epoch=5/64, Step=18/41, loss=0.268844, loss_cls=0.138385, loss_bbox=0.087627, loss_rpn_cls=0.034345, loss_rpn_bbox=0.008487, lr=0.000568, time_each_step=0.7s, eta=0:32:7\n",
      "2021-02-25 23:22:58 [INFO]\t[TRAIN] Epoch=5/64, Step=20/41, loss=0.315076, loss_cls=0.158064, loss_bbox=0.114001, loss_rpn_cls=0.031845, loss_rpn_bbox=0.011166, lr=0.000565, time_each_step=0.7s, eta=0:32:6\n",
      "2021-02-25 23:22:59 [INFO]\t[TRAIN] Epoch=5/64, Step=22/41, loss=0.238137, loss_cls=0.131371, loss_bbox=0.07946, loss_rpn_cls=0.022522, loss_rpn_bbox=0.004783, lr=0.000562, time_each_step=0.44s, eta=0:31:59\n",
      "2021-02-25 23:23:00 [INFO]\t[TRAIN] Epoch=5/64, Step=24/41, loss=0.279393, loss_cls=0.149151, loss_bbox=0.092879, loss_rpn_cls=0.029637, loss_rpn_bbox=0.007726, lr=0.000559, time_each_step=0.43s, eta=0:31:58\n",
      "2021-02-25 23:23:01 [INFO]\t[TRAIN] Epoch=5/64, Step=26/41, loss=0.217849, loss_cls=0.114693, loss_bbox=0.075321, loss_rpn_cls=0.023006, loss_rpn_bbox=0.004829, lr=0.000556, time_each_step=0.42s, eta=0:31:57\n",
      "2021-02-25 23:23:01 [INFO]\t[TRAIN] Epoch=5/64, Step=28/41, loss=0.357174, loss_cls=0.169686, loss_bbox=0.11515, loss_rpn_cls=0.06034, loss_rpn_bbox=0.011998, lr=0.000553, time_each_step=0.41s, eta=0:31:56\n",
      "2021-02-25 23:23:02 [INFO]\t[TRAIN] Epoch=5/64, Step=30/41, loss=0.21321, loss_cls=0.11541, loss_bbox=0.063379, loss_rpn_cls=0.026771, loss_rpn_bbox=0.007651, lr=0.00055, time_each_step=0.4s, eta=0:31:55\n",
      "2021-02-25 23:23:03 [INFO]\t[TRAIN] Epoch=5/64, Step=32/41, loss=0.235367, loss_cls=0.118528, loss_bbox=0.076945, loss_rpn_cls=0.034521, loss_rpn_bbox=0.005373, lr=0.000547, time_each_step=0.39s, eta=0:31:54\n",
      "2021-02-25 23:23:04 [INFO]\t[TRAIN] Epoch=5/64, Step=34/41, loss=0.327185, loss_cls=0.164673, loss_bbox=0.125986, loss_rpn_cls=0.027358, loss_rpn_bbox=0.009168, lr=0.000544, time_each_step=0.39s, eta=0:31:54\n",
      "2021-02-25 23:23:04 [INFO]\t[TRAIN] Epoch=5/64, Step=36/41, loss=0.218016, loss_cls=0.114658, loss_bbox=0.066535, loss_rpn_cls=0.03222, loss_rpn_bbox=0.004602, lr=0.000541, time_each_step=0.39s, eta=0:31:53\n",
      "2021-02-25 23:23:05 [INFO]\t[TRAIN] Epoch=5/64, Step=38/41, loss=0.442893, loss_cls=0.240093, loss_bbox=0.157792, loss_rpn_cls=0.037445, loss_rpn_bbox=0.007564, lr=0.000539, time_each_step=0.39s, eta=0:31:52\n",
      "2021-02-25 23:23:06 [INFO]\t[TRAIN] Epoch=5/64, Step=40/41, loss=0.305716, loss_cls=0.163834, loss_bbox=0.106987, loss_rpn_cls=0.02952, loss_rpn_bbox=0.005375, lr=0.000536, time_each_step=0.38s, eta=0:31:51\n",
      "2021-02-25 23:23:06 [INFO]\t[TRAIN] Epoch 5 finished, loss=0.277354, loss_cls=0.143361, loss_bbox=0.091808, loss_rpn_cls=0.033536, loss_rpn_bbox=0.00865, lr=0.000563 .\n",
      "2021-02-25 23:23:06 [WARNING]\tFaster RCNN supports batch_size=1 only during evaluating, so batch_size is forced to be set to 1.\n",
      "2021-02-25 23:23:06 [INFO]\tStart to evaluating(total_samples=2, total_steps=2)...\n"
     ]
    },
    {
     "name": "stderr",
     "output_type": "stream",
     "text": [
      "100%|██████████| 2/2 [00:03<00:00,  1.91s/it]\n"
     ]
    },
    {
     "name": "stdout",
     "output_type": "stream",
     "text": [
      "2021-02-25 23:23:10 [INFO]\t[EVAL] Finished, Epoch=5, bbox_map=4.340176 .\n",
      "2021-02-25 23:23:15 [INFO]\tModel saved in output/faster_rcnn_r50_fpn/best_model.\n",
      "2021-02-25 23:23:19 [INFO]\tModel saved in output/faster_rcnn_r50_fpn/epoch_5.\n",
      "2021-02-25 23:23:19 [INFO]\tCurrent evaluated best model in eval_dataset is epoch_5, bbox_map=4.340175953079179\n",
      "2021-02-25 23:23:24 [INFO]\t[TRAIN] Epoch=6/64, Step=1/41, loss=0.204066, loss_cls=0.115152, loss_bbox=0.059877, loss_rpn_cls=0.022983, loss_rpn_bbox=0.006053, lr=0.000533, time_each_step=0.63s, eta=0:34:13\n",
      "2021-02-25 23:23:26 [INFO]\t[TRAIN] Epoch=6/64, Step=3/41, loss=0.31641, loss_cls=0.145993, loss_bbox=0.109985, loss_rpn_cls=0.045954, loss_rpn_bbox=0.014479, lr=0.00053, time_each_step=0.66s, eta=0:34:13\n",
      "2021-02-25 23:23:27 [INFO]\t[TRAIN] Epoch=6/64, Step=5/41, loss=0.2974, loss_cls=0.158565, loss_bbox=0.104092, loss_rpn_cls=0.029066, loss_rpn_bbox=0.005677, lr=0.000527, time_each_step=0.69s, eta=0:34:13\n",
      "2021-02-25 23:23:28 [INFO]\t[TRAIN] Epoch=6/64, Step=7/41, loss=0.254675, loss_cls=0.112232, loss_bbox=0.0745, loss_rpn_cls=0.045081, loss_rpn_bbox=0.022863, lr=0.000524, time_each_step=0.69s, eta=0:34:12\n",
      "2021-02-25 23:23:29 [INFO]\t[TRAIN] Epoch=6/64, Step=9/41, loss=0.157294, loss_cls=0.079363, loss_bbox=0.053689, loss_rpn_cls=0.018819, loss_rpn_bbox=0.005423, lr=0.000521, time_each_step=0.71s, eta=0:34:11\n",
      "2021-02-25 23:23:30 [INFO]\t[TRAIN] Epoch=6/64, Step=11/41, loss=0.220355, loss_cls=0.108338, loss_bbox=0.094731, loss_rpn_cls=0.014361, loss_rpn_bbox=0.002926, lr=0.000518, time_each_step=0.72s, eta=0:34:10\n",
      "2021-02-25 23:23:31 [INFO]\t[TRAIN] Epoch=6/64, Step=13/41, loss=0.187251, loss_cls=0.111799, loss_bbox=0.055742, loss_rpn_cls=0.015242, loss_rpn_bbox=0.004469, lr=0.000515, time_each_step=0.72s, eta=0:34:8\n",
      "2021-02-25 23:23:32 [INFO]\t[TRAIN] Epoch=6/64, Step=15/41, loss=0.302968, loss_cls=0.157629, loss_bbox=0.092845, loss_rpn_cls=0.041273, loss_rpn_bbox=0.011221, lr=0.000512, time_each_step=0.73s, eta=0:34:7\n",
      "2021-02-25 23:23:32 [INFO]\t[TRAIN] Epoch=6/64, Step=17/41, loss=0.263226, loss_cls=0.127778, loss_bbox=0.104597, loss_rpn_cls=0.02359, loss_rpn_bbox=0.007261, lr=0.000509, time_each_step=0.73s, eta=0:34:6\n",
      "2021-02-25 23:23:33 [INFO]\t[TRAIN] Epoch=6/64, Step=19/41, loss=0.293741, loss_cls=0.151036, loss_bbox=0.102104, loss_rpn_cls=0.032718, loss_rpn_bbox=0.007883, lr=0.000506, time_each_step=0.73s, eta=0:34:4\n",
      "2021-02-25 23:23:34 [INFO]\t[TRAIN] Epoch=6/64, Step=21/41, loss=0.332976, loss_cls=0.163923, loss_bbox=0.134366, loss_rpn_cls=0.026852, loss_rpn_bbox=0.007836, lr=0.000503, time_each_step=0.5s, eta=0:33:58\n",
      "2021-02-25 23:23:35 [INFO]\t[TRAIN] Epoch=6/64, Step=23/41, loss=0.314079, loss_cls=0.183104, loss_bbox=0.102395, loss_rpn_cls=0.022432, loss_rpn_bbox=0.006148, lr=0.0005, time_each_step=0.47s, eta=0:33:57\n",
      "2021-02-25 23:23:36 [INFO]\t[TRAIN] Epoch=6/64, Step=25/41, loss=0.262213, loss_cls=0.140997, loss_bbox=0.089147, loss_rpn_cls=0.025452, loss_rpn_bbox=0.006617, lr=0.000497, time_each_step=0.44s, eta=0:33:55\n",
      "2021-02-25 23:23:37 [INFO]\t[TRAIN] Epoch=6/64, Step=27/41, loss=0.170737, loss_cls=0.080739, loss_bbox=0.066318, loss_rpn_cls=0.016282, loss_rpn_bbox=0.007399, lr=0.000495, time_each_step=0.43s, eta=0:33:54\n",
      "2021-02-25 23:23:37 [INFO]\t[TRAIN] Epoch=6/64, Step=29/41, loss=0.181214, loss_cls=0.089511, loss_bbox=0.061999, loss_rpn_cls=0.023375, loss_rpn_bbox=0.006329, lr=0.000492, time_each_step=0.42s, eta=0:33:53\n",
      "2021-02-25 23:23:38 [INFO]\t[TRAIN] Epoch=6/64, Step=31/41, loss=0.187595, loss_cls=0.09641, loss_bbox=0.06066, loss_rpn_cls=0.023278, loss_rpn_bbox=0.007247, lr=0.000489, time_each_step=0.42s, eta=0:33:52\n",
      "2021-02-25 23:23:39 [INFO]\t[TRAIN] Epoch=6/64, Step=33/41, loss=0.490283, loss_cls=0.251364, loss_bbox=0.194436, loss_rpn_cls=0.034105, loss_rpn_bbox=0.010378, lr=0.000486, time_each_step=0.41s, eta=0:33:52\n",
      "2021-02-25 23:23:40 [INFO]\t[TRAIN] Epoch=6/64, Step=35/41, loss=0.23599, loss_cls=0.134167, loss_bbox=0.070997, loss_rpn_cls=0.02734, loss_rpn_bbox=0.003485, lr=0.000483, time_each_step=0.41s, eta=0:33:51\n",
      "2021-02-25 23:23:41 [INFO]\t[TRAIN] Epoch=6/64, Step=37/41, loss=0.206984, loss_cls=0.103899, loss_bbox=0.077681, loss_rpn_cls=0.020811, loss_rpn_bbox=0.004593, lr=0.00048, time_each_step=0.4s, eta=0:33:50\n",
      "2021-02-25 23:23:41 [INFO]\t[TRAIN] Epoch=6/64, Step=39/41, loss=0.235757, loss_cls=0.122708, loss_bbox=0.074938, loss_rpn_cls=0.032216, loss_rpn_bbox=0.005896, lr=0.000477, time_each_step=0.4s, eta=0:33:49\n",
      "2021-02-25 23:23:42 [INFO]\t[TRAIN] Epoch=6/64, Step=41/41, loss=0.444318, loss_cls=0.231978, loss_bbox=0.160917, loss_rpn_cls=0.04102, loss_rpn_bbox=0.010403, lr=0.000474, time_each_step=0.39s, eta=0:33:48\n",
      "2021-02-25 23:23:42 [INFO]\t[TRAIN] Epoch 6 finished, loss=0.277253, loss_cls=0.141407, loss_bbox=0.095616, loss_rpn_cls=0.031344, loss_rpn_bbox=0.008885, lr=0.000503 .\n",
      "2021-02-25 23:23:42 [WARNING]\tFaster RCNN supports batch_size=1 only during evaluating, so batch_size is forced to be set to 1.\n",
      "2021-02-25 23:23:42 [INFO]\tStart to evaluating(total_samples=2, total_steps=2)...\n"
     ]
    },
    {
     "name": "stderr",
     "output_type": "stream",
     "text": [
      "100%|██████████| 2/2 [00:03<00:00,  1.65s/it]\n"
     ]
    },
    {
     "name": "stdout",
     "output_type": "stream",
     "text": [
      "2021-02-25 23:23:45 [INFO]\t[EVAL] Finished, Epoch=6, bbox_map=56.060606 .\n",
      "2021-02-25 23:23:50 [INFO]\tModel saved in output/faster_rcnn_r50_fpn/best_model.\n",
      "2021-02-25 23:23:54 [INFO]\tModel saved in output/faster_rcnn_r50_fpn/epoch_6.\n",
      "2021-02-25 23:23:54 [INFO]\tCurrent evaluated best model in eval_dataset is epoch_6, bbox_map=56.060606060606055\n",
      "2021-02-25 23:24:02 [INFO]\t[TRAIN] Epoch=7/64, Step=2/41, loss=0.187735, loss_cls=0.089939, loss_bbox=0.057736, loss_rpn_cls=0.027676, loss_rpn_bbox=0.012384, lr=0.000471, time_each_step=0.74s, eta=0:33:52\n",
      "2021-02-25 23:24:03 [INFO]\t[TRAIN] Epoch=7/64, Step=4/41, loss=0.394546, loss_cls=0.199228, loss_bbox=0.134509, loss_rpn_cls=0.044371, loss_rpn_bbox=0.016439, lr=0.000468, time_each_step=0.75s, eta=0:33:51\n",
      "2021-02-25 23:24:04 [INFO]\t[TRAIN] Epoch=7/64, Step=6/41, loss=0.162601, loss_cls=0.084148, loss_bbox=0.059142, loss_rpn_cls=0.015431, loss_rpn_bbox=0.00388, lr=0.000465, time_each_step=0.76s, eta=0:33:50\n",
      "2021-02-25 23:24:05 [INFO]\t[TRAIN] Epoch=7/64, Step=8/41, loss=0.312709, loss_cls=0.145256, loss_bbox=0.124109, loss_rpn_cls=0.037909, loss_rpn_bbox=0.005435, lr=0.000462, time_each_step=0.77s, eta=0:33:48\n",
      "2021-02-25 23:24:06 [INFO]\t[TRAIN] Epoch=7/64, Step=10/41, loss=0.363859, loss_cls=0.174824, loss_bbox=0.144764, loss_rpn_cls=0.033108, loss_rpn_bbox=0.011163, lr=0.000459, time_each_step=0.78s, eta=0:33:47\n",
      "2021-02-25 23:24:07 [INFO]\t[TRAIN] Epoch=7/64, Step=12/41, loss=0.19608, loss_cls=0.093464, loss_bbox=0.068708, loss_rpn_cls=0.025609, loss_rpn_bbox=0.008299, lr=0.000456, time_each_step=0.78s, eta=0:33:46\n",
      "2021-02-25 23:24:07 [INFO]\t[TRAIN] Epoch=7/64, Step=14/41, loss=0.251673, loss_cls=0.115293, loss_bbox=0.09826, loss_rpn_cls=0.03098, loss_rpn_bbox=0.00714, lr=0.000453, time_each_step=0.79s, eta=0:33:44\n",
      "2021-02-25 23:24:08 [INFO]\t[TRAIN] Epoch=7/64, Step=16/41, loss=0.323422, loss_cls=0.170948, loss_bbox=0.120199, loss_rpn_cls=0.025804, loss_rpn_bbox=0.006471, lr=0.000451, time_each_step=0.79s, eta=0:33:43\n",
      "2021-02-25 23:24:09 [INFO]\t[TRAIN] Epoch=7/64, Step=18/41, loss=0.172711, loss_cls=0.087155, loss_bbox=0.064476, loss_rpn_cls=0.014782, loss_rpn_bbox=0.006299, lr=0.000448, time_each_step=0.8s, eta=0:33:41\n",
      "2021-02-25 23:24:10 [INFO]\t[TRAIN] Epoch=7/64, Step=20/41, loss=0.350398, loss_cls=0.165345, loss_bbox=0.136866, loss_rpn_cls=0.038902, loss_rpn_bbox=0.009285, lr=0.000445, time_each_step=0.8s, eta=0:33:40\n",
      "2021-02-25 23:24:11 [INFO]\t[TRAIN] Epoch=7/64, Step=22/41, loss=0.178479, loss_cls=0.073259, loss_bbox=0.053932, loss_rpn_cls=0.0454, loss_rpn_bbox=0.005889, lr=0.000442, time_each_step=0.45s, eta=0:33:31\n",
      "2021-02-25 23:24:12 [INFO]\t[TRAIN] Epoch=7/64, Step=24/41, loss=0.237024, loss_cls=0.10591, loss_bbox=0.068826, loss_rpn_cls=0.042012, loss_rpn_bbox=0.020276, lr=0.000439, time_each_step=0.43s, eta=0:33:30\n",
      "2021-02-25 23:24:12 [INFO]\t[TRAIN] Epoch=7/64, Step=26/41, loss=0.193886, loss_cls=0.105819, loss_bbox=0.067053, loss_rpn_cls=0.018251, loss_rpn_bbox=0.002762, lr=0.000436, time_each_step=0.43s, eta=0:33:29\n",
      "2021-02-25 23:24:13 [INFO]\t[TRAIN] Epoch=7/64, Step=28/41, loss=0.208541, loss_cls=0.109244, loss_bbox=0.070628, loss_rpn_cls=0.021861, loss_rpn_bbox=0.006808, lr=0.000433, time_each_step=0.42s, eta=0:33:28\n",
      "2021-02-25 23:24:14 [INFO]\t[TRAIN] Epoch=7/64, Step=30/41, loss=0.151563, loss_cls=0.075241, loss_bbox=0.056212, loss_rpn_cls=0.015319, loss_rpn_bbox=0.004791, lr=0.00043, time_each_step=0.41s, eta=0:33:27\n",
      "2021-02-25 23:24:15 [INFO]\t[TRAIN] Epoch=7/64, Step=32/41, loss=0.361265, loss_cls=0.197843, loss_bbox=0.123665, loss_rpn_cls=0.03384, loss_rpn_bbox=0.005917, lr=0.000427, time_each_step=0.41s, eta=0:33:27\n",
      "2021-02-25 23:24:15 [INFO]\t[TRAIN] Epoch=7/64, Step=34/41, loss=0.3523, loss_cls=0.180554, loss_bbox=0.128566, loss_rpn_cls=0.03511, loss_rpn_bbox=0.00807, lr=0.000424, time_each_step=0.4s, eta=0:33:26\n",
      "2021-02-25 23:24:16 [INFO]\t[TRAIN] Epoch=7/64, Step=36/41, loss=0.173336, loss_cls=0.092568, loss_bbox=0.064134, loss_rpn_cls=0.013239, loss_rpn_bbox=0.003395, lr=0.000421, time_each_step=0.39s, eta=0:33:25\n",
      "2021-02-25 23:24:17 [INFO]\t[TRAIN] Epoch=7/64, Step=38/41, loss=0.22748, loss_cls=0.111214, loss_bbox=0.069311, loss_rpn_cls=0.039291, loss_rpn_bbox=0.007664, lr=0.000418, time_each_step=0.39s, eta=0:33:24\n",
      "2021-02-25 23:24:18 [INFO]\t[TRAIN] Epoch=7/64, Step=40/41, loss=0.219922, loss_cls=0.115184, loss_bbox=0.078193, loss_rpn_cls=0.021745, loss_rpn_bbox=0.0048, lr=0.000415, time_each_step=0.39s, eta=0:33:23\n",
      "2021-02-25 23:24:18 [INFO]\t[TRAIN] Epoch 7 finished, loss=0.271564, loss_cls=0.136404, loss_bbox=0.096902, loss_rpn_cls=0.029673, loss_rpn_bbox=0.008584, lr=0.000443 .\n",
      "2021-02-25 23:24:18 [WARNING]\tFaster RCNN supports batch_size=1 only during evaluating, so batch_size is forced to be set to 1.\n",
      "2021-02-25 23:24:18 [INFO]\tStart to evaluating(total_samples=2, total_steps=2)...\n"
     ]
    },
    {
     "name": "stderr",
     "output_type": "stream",
     "text": [
      "100%|██████████| 2/2 [00:03<00:00,  1.79s/it]\n"
     ]
    },
    {
     "name": "stdout",
     "output_type": "stream",
     "text": [
      "2021-02-25 23:24:22 [INFO]\t[EVAL] Finished, Epoch=7, bbox_map=55.263158 .\n",
      "2021-02-25 23:24:27 [INFO]\tModel saved in output/faster_rcnn_r50_fpn/epoch_7.\n",
      "2021-02-25 23:24:27 [INFO]\tCurrent evaluated best model in eval_dataset is epoch_6, bbox_map=56.060606060606055\n",
      "2021-02-25 23:24:33 [INFO]\t[TRAIN] Epoch=8/64, Step=1/41, loss=0.259016, loss_cls=0.120346, loss_bbox=0.108501, loss_rpn_cls=0.022575, loss_rpn_bbox=0.007593, lr=0.000412, time_each_step=0.65s, eta=0:31:7\n",
      "2021-02-25 23:24:34 [INFO]\t[TRAIN] Epoch=8/64, Step=3/41, loss=0.300041, loss_cls=0.126998, loss_bbox=0.092951, loss_rpn_cls=0.055005, loss_rpn_bbox=0.025087, lr=0.000409, time_each_step=0.69s, eta=0:31:7\n",
      "2021-02-25 23:24:35 [INFO]\t[TRAIN] Epoch=8/64, Step=5/41, loss=0.322216, loss_cls=0.158419, loss_bbox=0.111314, loss_rpn_cls=0.04031, loss_rpn_bbox=0.012172, lr=0.000407, time_each_step=0.7s, eta=0:31:6\n",
      "2021-02-25 23:24:36 [INFO]\t[TRAIN] Epoch=8/64, Step=7/41, loss=0.179021, loss_cls=0.095718, loss_bbox=0.062942, loss_rpn_cls=0.016116, loss_rpn_bbox=0.004245, lr=0.000404, time_each_step=0.71s, eta=0:31:5\n",
      "2021-02-25 23:24:37 [INFO]\t[TRAIN] Epoch=8/64, Step=9/41, loss=0.26525, loss_cls=0.1401, loss_bbox=0.092106, loss_rpn_cls=0.025099, loss_rpn_bbox=0.007946, lr=0.000401, time_each_step=0.72s, eta=0:31:4\n",
      "2021-02-25 23:24:38 [INFO]\t[TRAIN] Epoch=8/64, Step=11/41, loss=0.344176, loss_cls=0.173131, loss_bbox=0.117893, loss_rpn_cls=0.038165, loss_rpn_bbox=0.014987, lr=0.000398, time_each_step=0.72s, eta=0:31:2\n",
      "2021-02-25 23:24:39 [INFO]\t[TRAIN] Epoch=8/64, Step=13/41, loss=0.244156, loss_cls=0.125853, loss_bbox=0.091446, loss_rpn_cls=0.020574, loss_rpn_bbox=0.006283, lr=0.000395, time_each_step=0.72s, eta=0:31:1\n",
      "2021-02-25 23:24:40 [INFO]\t[TRAIN] Epoch=8/64, Step=15/41, loss=0.317302, loss_cls=0.163375, loss_bbox=0.117154, loss_rpn_cls=0.027796, loss_rpn_bbox=0.008977, lr=0.000392, time_each_step=0.73s, eta=0:30:59\n",
      "2021-02-25 23:24:40 [INFO]\t[TRAIN] Epoch=8/64, Step=17/41, loss=0.37203, loss_cls=0.175414, loss_bbox=0.14234, loss_rpn_cls=0.042635, loss_rpn_bbox=0.011641, lr=0.000389, time_each_step=0.74s, eta=0:30:58\n",
      "2021-02-25 23:24:41 [INFO]\t[TRAIN] Epoch=8/64, Step=19/41, loss=0.253915, loss_cls=0.125657, loss_bbox=0.088025, loss_rpn_cls=0.033006, loss_rpn_bbox=0.007227, lr=0.000386, time_each_step=0.74s, eta=0:30:57\n",
      "2021-02-25 23:24:42 [INFO]\t[TRAIN] Epoch=8/64, Step=21/41, loss=0.158497, loss_cls=0.075422, loss_bbox=0.058821, loss_rpn_cls=0.02041, loss_rpn_bbox=0.003844, lr=0.000383, time_each_step=0.46s, eta=0:30:50\n",
      "2021-02-25 23:24:43 [INFO]\t[TRAIN] Epoch=8/64, Step=23/41, loss=0.212212, loss_cls=0.112225, loss_bbox=0.066435, loss_rpn_cls=0.028569, loss_rpn_bbox=0.004984, lr=0.00038, time_each_step=0.43s, eta=0:30:48\n",
      "2021-02-25 23:24:43 [INFO]\t[TRAIN] Epoch=8/64, Step=25/41, loss=0.384428, loss_cls=0.195928, loss_bbox=0.15247, loss_rpn_cls=0.026638, loss_rpn_bbox=0.009392, lr=0.000377, time_each_step=0.42s, eta=0:30:47\n",
      "2021-02-25 23:24:44 [INFO]\t[TRAIN] Epoch=8/64, Step=27/41, loss=0.285503, loss_cls=0.151458, loss_bbox=0.095081, loss_rpn_cls=0.031774, loss_rpn_bbox=0.00719, lr=0.000374, time_each_step=0.41s, eta=0:30:46\n",
      "2021-02-25 23:24:45 [INFO]\t[TRAIN] Epoch=8/64, Step=29/41, loss=0.141718, loss_cls=0.073808, loss_bbox=0.0518, loss_rpn_cls=0.012893, loss_rpn_bbox=0.003216, lr=0.000371, time_each_step=0.4s, eta=0:30:45\n",
      "2021-02-25 23:24:46 [INFO]\t[TRAIN] Epoch=8/64, Step=31/41, loss=0.28286, loss_cls=0.148847, loss_bbox=0.103487, loss_rpn_cls=0.025302, loss_rpn_bbox=0.005224, lr=0.000368, time_each_step=0.39s, eta=0:30:44\n",
      "2021-02-25 23:24:47 [INFO]\t[TRAIN] Epoch=8/64, Step=33/41, loss=0.303475, loss_cls=0.150253, loss_bbox=0.116559, loss_rpn_cls=0.026722, loss_rpn_bbox=0.009941, lr=0.000365, time_each_step=0.39s, eta=0:30:44\n",
      "2021-02-25 23:24:47 [INFO]\t[TRAIN] Epoch=8/64, Step=35/41, loss=0.181341, loss_cls=0.096109, loss_bbox=0.057081, loss_rpn_cls=0.022212, loss_rpn_bbox=0.005939, lr=0.000363, time_each_step=0.39s, eta=0:30:43\n",
      "2021-02-25 23:24:48 [INFO]\t[TRAIN] Epoch=8/64, Step=37/41, loss=0.227908, loss_cls=0.116946, loss_bbox=0.087085, loss_rpn_cls=0.014798, loss_rpn_bbox=0.009079, lr=0.00036, time_each_step=0.39s, eta=0:30:42\n",
      "2021-02-25 23:24:49 [INFO]\t[TRAIN] Epoch=8/64, Step=39/41, loss=0.229292, loss_cls=0.103248, loss_bbox=0.079261, loss_rpn_cls=0.032994, loss_rpn_bbox=0.013789, lr=0.000357, time_each_step=0.4s, eta=0:30:41\n",
      "2021-02-25 23:24:50 [INFO]\t[TRAIN] Epoch=8/64, Step=41/41, loss=0.310593, loss_cls=0.158094, loss_bbox=0.114076, loss_rpn_cls=0.032784, loss_rpn_bbox=0.00564, lr=0.000354, time_each_step=0.4s, eta=0:30:40\n",
      "2021-02-25 23:24:50 [INFO]\t[TRAIN] Epoch 8 finished, loss=0.268764, loss_cls=0.133665, loss_bbox=0.098413, loss_rpn_cls=0.028141, loss_rpn_bbox=0.008545, lr=0.000383 .\n",
      "2021-02-25 23:24:50 [WARNING]\tFaster RCNN supports batch_size=1 only during evaluating, so batch_size is forced to be set to 1.\n",
      "2021-02-25 23:24:50 [INFO]\tStart to evaluating(total_samples=2, total_steps=2)...\n"
     ]
    },
    {
     "name": "stderr",
     "output_type": "stream",
     "text": [
      "100%|██████████| 2/2 [00:06<00:00,  3.23s/it]\n"
     ]
    },
    {
     "name": "stdout",
     "output_type": "stream",
     "text": [
      "2021-02-25 23:24:56 [INFO]\t[EVAL] Finished, Epoch=8, bbox_map=61.111111 .\n",
      "2021-02-25 23:25:01 [INFO]\tModel saved in output/faster_rcnn_r50_fpn/best_model.\n",
      "2021-02-25 23:25:05 [INFO]\tModel saved in output/faster_rcnn_r50_fpn/epoch_8.\n",
      "2021-02-25 23:25:05 [INFO]\tCurrent evaluated best model in eval_dataset is epoch_8, bbox_map=61.111111111111114\n",
      "2021-02-25 23:25:11 [INFO]\t[TRAIN] Epoch=9/64, Step=2/41, loss=0.255097, loss_cls=0.128632, loss_bbox=0.088494, loss_rpn_cls=0.02909, loss_rpn_bbox=0.008881, lr=0.000351, time_each_step=0.66s, eta=0:35:56\n",
      "2021-02-25 23:25:12 [INFO]\t[TRAIN] Epoch=9/64, Step=4/41, loss=0.233738, loss_cls=0.114141, loss_bbox=0.095675, loss_rpn_cls=0.019013, loss_rpn_bbox=0.004909, lr=0.000348, time_each_step=0.68s, eta=0:35:56\n",
      "2021-02-25 23:25:13 [INFO]\t[TRAIN] Epoch=9/64, Step=6/41, loss=0.122176, loss_cls=0.059891, loss_bbox=0.040741, loss_rpn_cls=0.016944, loss_rpn_bbox=0.0046, lr=0.000345, time_each_step=0.69s, eta=0:35:55\n",
      "2021-02-25 23:25:14 [INFO]\t[TRAIN] Epoch=9/64, Step=8/41, loss=0.254148, loss_cls=0.132831, loss_bbox=0.083249, loss_rpn_cls=0.031355, loss_rpn_bbox=0.006713, lr=0.000342, time_each_step=0.7s, eta=0:35:54\n",
      "2021-02-25 23:25:15 [INFO]\t[TRAIN] Epoch=9/64, Step=10/41, loss=0.156948, loss_cls=0.075978, loss_bbox=0.054787, loss_rpn_cls=0.020567, loss_rpn_bbox=0.005616, lr=0.000339, time_each_step=0.71s, eta=0:35:53\n",
      "2021-02-25 23:25:16 [INFO]\t[TRAIN] Epoch=9/64, Step=12/41, loss=0.259719, loss_cls=0.126401, loss_bbox=0.096191, loss_rpn_cls=0.027936, loss_rpn_bbox=0.009191, lr=0.000336, time_each_step=0.72s, eta=0:35:51\n",
      "2021-02-25 23:25:17 [INFO]\t[TRAIN] Epoch=9/64, Step=14/41, loss=0.226033, loss_cls=0.117203, loss_bbox=0.08912, loss_rpn_cls=0.015486, loss_rpn_bbox=0.004223, lr=0.000333, time_each_step=0.71s, eta=0:35:50\n",
      "2021-02-25 23:25:18 [INFO]\t[TRAIN] Epoch=9/64, Step=16/41, loss=0.2127, loss_cls=0.104127, loss_bbox=0.078696, loss_rpn_cls=0.021811, loss_rpn_bbox=0.008067, lr=0.00033, time_each_step=0.71s, eta=0:35:48\n",
      "2021-02-25 23:25:19 [INFO]\t[TRAIN] Epoch=9/64, Step=18/41, loss=0.463481, loss_cls=0.221672, loss_bbox=0.152376, loss_rpn_cls=0.073381, loss_rpn_bbox=0.016052, lr=0.000327, time_each_step=0.71s, eta=0:35:47\n",
      "2021-02-25 23:25:19 [INFO]\t[TRAIN] Epoch=9/64, Step=20/41, loss=0.318499, loss_cls=0.142511, loss_bbox=0.113344, loss_rpn_cls=0.040922, loss_rpn_bbox=0.021722, lr=0.000324, time_each_step=0.71s, eta=0:35:46\n",
      "2021-02-25 23:25:20 [INFO]\t[TRAIN] Epoch=9/64, Step=22/41, loss=0.327543, loss_cls=0.151025, loss_bbox=0.132982, loss_rpn_cls=0.034551, loss_rpn_bbox=0.008985, lr=0.000321, time_each_step=0.46s, eta=0:35:39\n",
      "2021-02-25 23:25:21 [INFO]\t[TRAIN] Epoch=9/64, Step=24/41, loss=0.281057, loss_cls=0.139723, loss_bbox=0.090167, loss_rpn_cls=0.038134, loss_rpn_bbox=0.013034, lr=0.000319, time_each_step=0.44s, eta=0:35:38\n",
      "2021-02-25 23:25:22 [INFO]\t[TRAIN] Epoch=9/64, Step=26/41, loss=0.493165, loss_cls=0.24011, loss_bbox=0.199978, loss_rpn_cls=0.041667, loss_rpn_bbox=0.011411, lr=0.000316, time_each_step=0.43s, eta=0:35:37\n",
      "2021-02-25 23:25:23 [INFO]\t[TRAIN] Epoch=9/64, Step=28/41, loss=0.174135, loss_cls=0.094019, loss_bbox=0.056374, loss_rpn_cls=0.017548, loss_rpn_bbox=0.006194, lr=0.000313, time_each_step=0.43s, eta=0:35:36\n",
      "2021-02-25 23:25:24 [INFO]\t[TRAIN] Epoch=9/64, Step=30/41, loss=0.243511, loss_cls=0.105651, loss_bbox=0.103386, loss_rpn_cls=0.028261, loss_rpn_bbox=0.006213, lr=0.00031, time_each_step=0.42s, eta=0:35:35\n",
      "2021-02-25 23:25:24 [INFO]\t[TRAIN] Epoch=9/64, Step=32/41, loss=0.325772, loss_cls=0.168372, loss_bbox=0.116262, loss_rpn_cls=0.031822, loss_rpn_bbox=0.009317, lr=0.000307, time_each_step=0.41s, eta=0:35:34\n",
      "2021-02-25 23:25:25 [INFO]\t[TRAIN] Epoch=9/64, Step=34/41, loss=0.29735, loss_cls=0.140068, loss_bbox=0.109849, loss_rpn_cls=0.034526, loss_rpn_bbox=0.012906, lr=0.000304, time_each_step=0.41s, eta=0:35:34\n",
      "2021-02-25 23:25:26 [INFO]\t[TRAIN] Epoch=9/64, Step=36/41, loss=0.249855, loss_cls=0.13463, loss_bbox=0.0906, loss_rpn_cls=0.01987, loss_rpn_bbox=0.004755, lr=0.000301, time_each_step=0.41s, eta=0:35:33\n",
      "2021-02-25 23:25:27 [INFO]\t[TRAIN] Epoch=9/64, Step=38/41, loss=0.319659, loss_cls=0.171322, loss_bbox=0.115933, loss_rpn_cls=0.022607, loss_rpn_bbox=0.009797, lr=0.000298, time_each_step=0.41s, eta=0:35:32\n",
      "2021-02-25 23:25:28 [INFO]\t[TRAIN] Epoch=9/64, Step=40/41, loss=0.189092, loss_cls=0.093286, loss_bbox=0.077606, loss_rpn_cls=0.013804, loss_rpn_bbox=0.004395, lr=0.000295, time_each_step=0.41s, eta=0:35:31\n",
      "2021-02-25 23:25:28 [INFO]\t[TRAIN] Epoch 9 finished, loss=0.262899, loss_cls=0.130258, loss_bbox=0.097406, loss_rpn_cls=0.026984, loss_rpn_bbox=0.008251, lr=0.000323 .\n",
      "2021-02-25 23:25:28 [WARNING]\tFaster RCNN supports batch_size=1 only during evaluating, so batch_size is forced to be set to 1.\n",
      "2021-02-25 23:25:28 [INFO]\tStart to evaluating(total_samples=2, total_steps=2)...\n"
     ]
    },
    {
     "name": "stderr",
     "output_type": "stream",
     "text": [
      "100%|██████████| 2/2 [00:03<00:00,  1.65s/it]\n"
     ]
    },
    {
     "name": "stdout",
     "output_type": "stream",
     "text": [
      "2021-02-25 23:25:31 [INFO]\t[EVAL] Finished, Epoch=9, bbox_map=61.111111 .\n",
      "2021-02-25 23:25:36 [INFO]\tModel saved in output/faster_rcnn_r50_fpn/epoch_9.\n",
      "2021-02-25 23:25:36 [INFO]\tCurrent evaluated best model in eval_dataset is epoch_8, bbox_map=61.111111111111114\n",
      "2021-02-25 23:25:41 [INFO]\t[TRAIN] Epoch=10/64, Step=1/41, loss=0.270111, loss_cls=0.134481, loss_bbox=0.10478, loss_rpn_cls=0.024212, loss_rpn_bbox=0.006638, lr=0.000292, time_each_step=0.67s, eta=0:27:56\n",
      "2021-02-25 23:25:43 [INFO]\t[TRAIN] Epoch=10/64, Step=3/41, loss=0.146731, loss_cls=0.070467, loss_bbox=0.063551, loss_rpn_cls=0.010395, loss_rpn_bbox=0.002317, lr=0.000289, time_each_step=0.7s, eta=0:27:56\n",
      "2021-02-25 23:25:44 [INFO]\t[TRAIN] Epoch=10/64, Step=5/41, loss=0.297559, loss_cls=0.130697, loss_bbox=0.098603, loss_rpn_cls=0.046205, loss_rpn_bbox=0.022055, lr=0.000286, time_each_step=0.71s, eta=0:27:55\n",
      "2021-02-25 23:25:45 [INFO]\t[TRAIN] Epoch=10/64, Step=7/41, loss=0.197575, loss_cls=0.097735, loss_bbox=0.071207, loss_rpn_cls=0.023347, loss_rpn_bbox=0.005286, lr=0.000283, time_each_step=0.71s, eta=0:27:53\n",
      "2021-02-25 23:25:46 [INFO]\t[TRAIN] Epoch=10/64, Step=9/41, loss=0.274925, loss_cls=0.135633, loss_bbox=0.104981, loss_rpn_cls=0.026959, loss_rpn_bbox=0.007352, lr=0.00028, time_each_step=0.72s, eta=0:27:52\n",
      "2021-02-25 23:25:46 [INFO]\t[TRAIN] Epoch=10/64, Step=11/41, loss=0.221131, loss_cls=0.107826, loss_bbox=0.087984, loss_rpn_cls=0.021073, loss_rpn_bbox=0.004248, lr=0.000277, time_each_step=0.73s, eta=0:27:51\n",
      "2021-02-25 23:25:47 [INFO]\t[TRAIN] Epoch=10/64, Step=13/41, loss=0.282093, loss_cls=0.126715, loss_bbox=0.11231, loss_rpn_cls=0.034982, loss_rpn_bbox=0.008087, lr=0.000275, time_each_step=0.72s, eta=0:27:49\n",
      "2021-02-25 23:25:48 [INFO]\t[TRAIN] Epoch=10/64, Step=15/41, loss=0.300454, loss_cls=0.155303, loss_bbox=0.11228, loss_rpn_cls=0.024107, loss_rpn_bbox=0.008764, lr=0.000272, time_each_step=0.73s, eta=0:27:48\n",
      "2021-02-25 23:25:49 [INFO]\t[TRAIN] Epoch=10/64, Step=17/41, loss=0.416192, loss_cls=0.204097, loss_bbox=0.157792, loss_rpn_cls=0.040158, loss_rpn_bbox=0.014145, lr=0.000269, time_each_step=0.73s, eta=0:27:47\n",
      "2021-02-25 23:25:50 [INFO]\t[TRAIN] Epoch=10/64, Step=19/41, loss=0.195455, loss_cls=0.111484, loss_bbox=0.064872, loss_rpn_cls=0.01472, loss_rpn_bbox=0.004379, lr=0.000266, time_each_step=0.73s, eta=0:27:45\n",
      "2021-02-25 23:25:50 [INFO]\t[TRAIN] Epoch=10/64, Step=21/41, loss=0.198246, loss_cls=0.099489, loss_bbox=0.079264, loss_rpn_cls=0.014399, loss_rpn_bbox=0.005094, lr=0.000263, time_each_step=0.47s, eta=0:27:38\n",
      "2021-02-25 23:25:51 [INFO]\t[TRAIN] Epoch=10/64, Step=23/41, loss=0.224765, loss_cls=0.114832, loss_bbox=0.07988, loss_rpn_cls=0.022241, loss_rpn_bbox=0.007812, lr=0.00026, time_each_step=0.43s, eta=0:27:37\n",
      "2021-02-25 23:25:52 [INFO]\t[TRAIN] Epoch=10/64, Step=25/41, loss=0.240815, loss_cls=0.115438, loss_bbox=0.08648, loss_rpn_cls=0.0247, loss_rpn_bbox=0.014197, lr=0.000257, time_each_step=0.41s, eta=0:27:36\n",
      "2021-02-25 23:25:53 [INFO]\t[TRAIN] Epoch=10/64, Step=27/41, loss=0.197942, loss_cls=0.095355, loss_bbox=0.061821, loss_rpn_cls=0.029848, loss_rpn_bbox=0.010918, lr=0.000254, time_each_step=0.41s, eta=0:27:35\n",
      "2021-02-25 23:25:54 [INFO]\t[TRAIN] Epoch=10/64, Step=29/41, loss=0.271699, loss_cls=0.12462, loss_bbox=0.117278, loss_rpn_cls=0.021301, loss_rpn_bbox=0.0085, lr=0.000251, time_each_step=0.4s, eta=0:27:34\n",
      "2021-02-25 23:25:54 [INFO]\t[TRAIN] Epoch=10/64, Step=31/41, loss=0.200428, loss_cls=0.09745, loss_bbox=0.074923, loss_rpn_cls=0.019912, loss_rpn_bbox=0.008143, lr=0.000248, time_each_step=0.39s, eta=0:27:33\n",
      "2021-02-25 23:25:55 [INFO]\t[TRAIN] Epoch=10/64, Step=33/41, loss=0.27487, loss_cls=0.143731, loss_bbox=0.106625, loss_rpn_cls=0.018681, loss_rpn_bbox=0.005833, lr=0.000245, time_each_step=0.39s, eta=0:27:32\n",
      "2021-02-25 23:25:56 [INFO]\t[TRAIN] Epoch=10/64, Step=35/41, loss=0.434017, loss_cls=0.19822, loss_bbox=0.155854, loss_rpn_cls=0.062812, loss_rpn_bbox=0.017131, lr=0.000242, time_each_step=0.39s, eta=0:27:31\n",
      "2021-02-25 23:25:57 [INFO]\t[TRAIN] Epoch=10/64, Step=37/41, loss=0.334574, loss_cls=0.165964, loss_bbox=0.124223, loss_rpn_cls=0.032819, loss_rpn_bbox=0.011567, lr=0.000239, time_each_step=0.39s, eta=0:27:31\n",
      "2021-02-25 23:25:57 [INFO]\t[TRAIN] Epoch=10/64, Step=39/41, loss=0.187176, loss_cls=0.094426, loss_bbox=0.074388, loss_rpn_cls=0.013737, loss_rpn_bbox=0.004625, lr=0.000236, time_each_step=0.39s, eta=0:27:30\n",
      "2021-02-25 23:25:58 [INFO]\t[TRAIN] Epoch=10/64, Step=41/41, loss=0.190342, loss_cls=0.091911, loss_bbox=0.083116, loss_rpn_cls=0.011926, loss_rpn_bbox=0.00339, lr=0.000233, time_each_step=0.39s, eta=0:27:29\n",
      "2021-02-25 23:25:58 [INFO]\t[TRAIN] Epoch 10 finished, loss=0.253479, loss_cls=0.124715, loss_bbox=0.095742, loss_rpn_cls=0.024901, loss_rpn_bbox=0.008121, lr=0.000263 .\n",
      "2021-02-25 23:25:58 [WARNING]\tFaster RCNN supports batch_size=1 only during evaluating, so batch_size is forced to be set to 1.\n",
      "2021-02-25 23:25:58 [INFO]\tStart to evaluating(total_samples=2, total_steps=2)...\n"
     ]
    },
    {
     "name": "stderr",
     "output_type": "stream",
     "text": [
      "100%|██████████| 2/2 [00:07<00:00,  3.76s/it]\n"
     ]
    },
    {
     "name": "stdout",
     "output_type": "stream",
     "text": [
      "2021-02-25 23:26:06 [INFO]\t[EVAL] Finished, Epoch=10, bbox_map=83.333333 .\n",
      "2021-02-25 23:26:10 [INFO]\tModel saved in output/faster_rcnn_r50_fpn/best_model.\n",
      "2021-02-25 23:26:15 [INFO]\tModel saved in output/faster_rcnn_r50_fpn/epoch_10.\n",
      "2021-02-25 23:26:15 [INFO]\tCurrent evaluated best model in eval_dataset is epoch_10, bbox_map=83.33333333333334\n",
      "2021-02-25 23:26:21 [INFO]\t[TRAIN] Epoch=11/64, Step=2/41, loss=0.306019, loss_cls=0.158664, loss_bbox=0.116599, loss_rpn_cls=0.022106, loss_rpn_bbox=0.00865, lr=0.000231, time_each_step=0.69s, eta=0:35:8\n",
      "2021-02-25 23:26:22 [INFO]\t[TRAIN] Epoch=11/64, Step=4/41, loss=0.165969, loss_cls=0.082628, loss_bbox=0.067673, loss_rpn_cls=0.012793, loss_rpn_bbox=0.002875, lr=0.000228, time_each_step=0.71s, eta=0:35:7\n",
      "2021-02-25 23:26:23 [INFO]\t[TRAIN] Epoch=11/64, Step=6/41, loss=0.214277, loss_cls=0.105421, loss_bbox=0.084853, loss_rpn_cls=0.019093, loss_rpn_bbox=0.00491, lr=0.000225, time_each_step=0.72s, eta=0:35:6\n",
      "2021-02-25 23:26:24 [INFO]\t[TRAIN] Epoch=11/64, Step=8/41, loss=0.171732, loss_cls=0.078792, loss_bbox=0.071812, loss_rpn_cls=0.015059, loss_rpn_bbox=0.006068, lr=0.000222, time_each_step=0.72s, eta=0:35:5\n",
      "2021-02-25 23:26:25 [INFO]\t[TRAIN] Epoch=11/64, Step=10/41, loss=0.287463, loss_cls=0.141826, loss_bbox=0.106694, loss_rpn_cls=0.032617, loss_rpn_bbox=0.006325, lr=0.000219, time_each_step=0.73s, eta=0:35:3\n",
      "2021-02-25 23:26:26 [INFO]\t[TRAIN] Epoch=11/64, Step=12/41, loss=0.201282, loss_cls=0.104953, loss_bbox=0.076516, loss_rpn_cls=0.01504, loss_rpn_bbox=0.004772, lr=0.000216, time_each_step=0.73s, eta=0:35:2\n",
      "2021-02-25 23:26:27 [INFO]\t[TRAIN] Epoch=11/64, Step=14/41, loss=0.207071, loss_cls=0.098671, loss_bbox=0.087927, loss_rpn_cls=0.015713, loss_rpn_bbox=0.00476, lr=0.000213, time_each_step=0.73s, eta=0:35:1\n",
      "2021-02-25 23:26:28 [INFO]\t[TRAIN] Epoch=11/64, Step=16/41, loss=0.340983, loss_cls=0.168476, loss_bbox=0.120843, loss_rpn_cls=0.036633, loss_rpn_bbox=0.015031, lr=0.00021, time_each_step=0.73s, eta=0:34:59\n",
      "2021-02-25 23:26:28 [INFO]\t[TRAIN] Epoch=11/64, Step=18/41, loss=0.285157, loss_cls=0.147918, loss_bbox=0.112722, loss_rpn_cls=0.019001, loss_rpn_bbox=0.005517, lr=0.000207, time_each_step=0.74s, eta=0:34:58\n",
      "2021-02-25 23:26:29 [INFO]\t[TRAIN] Epoch=11/64, Step=20/41, loss=0.209413, loss_cls=0.11495, loss_bbox=0.071271, loss_rpn_cls=0.016754, loss_rpn_bbox=0.006438, lr=0.000204, time_each_step=0.73s, eta=0:34:56\n",
      "2021-02-25 23:26:30 [INFO]\t[TRAIN] Epoch=11/64, Step=22/41, loss=0.248248, loss_cls=0.123363, loss_bbox=0.087032, loss_rpn_cls=0.030223, loss_rpn_bbox=0.00763, lr=0.000201, time_each_step=0.43s, eta=0:34:49\n",
      "2021-02-25 23:26:31 [INFO]\t[TRAIN] Epoch=11/64, Step=24/41, loss=0.232659, loss_cls=0.109361, loss_bbox=0.102111, loss_rpn_cls=0.016124, loss_rpn_bbox=0.005063, lr=0.000198, time_each_step=0.42s, eta=0:34:48\n",
      "2021-02-25 23:26:32 [INFO]\t[TRAIN] Epoch=11/64, Step=26/41, loss=0.397462, loss_cls=0.18983, loss_bbox=0.161517, loss_rpn_cls=0.031806, loss_rpn_bbox=0.014309, lr=0.000195, time_each_step=0.41s, eta=0:34:47\n",
      "2021-02-25 23:26:33 [INFO]\t[TRAIN] Epoch=11/64, Step=28/41, loss=0.190067, loss_cls=0.094885, loss_bbox=0.056473, loss_rpn_cls=0.028723, loss_rpn_bbox=0.009987, lr=0.000192, time_each_step=0.41s, eta=0:34:46\n",
      "2021-02-25 23:26:33 [INFO]\t[TRAIN] Epoch=11/64, Step=30/41, loss=0.290051, loss_cls=0.147775, loss_bbox=0.099409, loss_rpn_cls=0.033822, loss_rpn_bbox=0.009044, lr=0.000189, time_each_step=0.41s, eta=0:34:45\n",
      "2021-02-25 23:26:34 [INFO]\t[TRAIN] Epoch=11/64, Step=32/41, loss=0.366662, loss_cls=0.178136, loss_bbox=0.150382, loss_rpn_cls=0.029985, loss_rpn_bbox=0.008159, lr=0.000187, time_each_step=0.41s, eta=0:34:45\n",
      "2021-02-25 23:26:35 [INFO]\t[TRAIN] Epoch=11/64, Step=34/41, loss=0.1544, loss_cls=0.08329, loss_bbox=0.056688, loss_rpn_cls=0.010854, loss_rpn_bbox=0.003568, lr=0.000184, time_each_step=0.41s, eta=0:34:44\n",
      "2021-02-25 23:26:36 [INFO]\t[TRAIN] Epoch=11/64, Step=36/41, loss=0.134156, loss_cls=0.077647, loss_bbox=0.04705, loss_rpn_cls=0.007696, loss_rpn_bbox=0.001764, lr=0.000181, time_each_step=0.4s, eta=0:34:43\n",
      "2021-02-25 23:26:37 [INFO]\t[TRAIN] Epoch=11/64, Step=38/41, loss=0.205482, loss_cls=0.102272, loss_bbox=0.068188, loss_rpn_cls=0.026765, loss_rpn_bbox=0.008256, lr=0.000178, time_each_step=0.41s, eta=0:34:42\n",
      "2021-02-25 23:26:37 [INFO]\t[TRAIN] Epoch=11/64, Step=40/41, loss=0.294882, loss_cls=0.154831, loss_bbox=0.112637, loss_rpn_cls=0.017166, loss_rpn_bbox=0.010248, lr=0.000175, time_each_step=0.41s, eta=0:34:41\n",
      "2021-02-25 23:26:38 [INFO]\t[TRAIN] Epoch 11 finished, loss=0.246676, loss_cls=0.12075, loss_bbox=0.093308, loss_rpn_cls=0.024701, loss_rpn_bbox=0.007918, lr=0.000203 .\n",
      "2021-02-25 23:26:38 [WARNING]\tFaster RCNN supports batch_size=1 only during evaluating, so batch_size is forced to be set to 1.\n",
      "2021-02-25 23:26:38 [INFO]\tStart to evaluating(total_samples=2, total_steps=2)...\n"
     ]
    },
    {
     "name": "stderr",
     "output_type": "stream",
     "text": [
      "100%|██████████| 2/2 [00:05<00:00,  2.83s/it]\n"
     ]
    },
    {
     "name": "stdout",
     "output_type": "stream",
     "text": [
      "2021-02-25 23:26:44 [INFO]\t[EVAL] Finished, Epoch=11, bbox_map=75.0 .\n",
      "2021-02-25 23:26:48 [INFO]\tModel saved in output/faster_rcnn_r50_fpn/epoch_11.\n",
      "2021-02-25 23:26:48 [INFO]\tCurrent evaluated best model in eval_dataset is epoch_10, bbox_map=83.33333333333334\n",
      "2021-02-25 23:26:55 [INFO]\t[TRAIN] Epoch=12/64, Step=1/41, loss=0.204402, loss_cls=0.103855, loss_bbox=0.078621, loss_rpn_cls=0.014923, loss_rpn_bbox=0.007003, lr=0.000172, time_each_step=0.7s, eta=0:29:57\n",
      "2021-02-25 23:26:56 [INFO]\t[TRAIN] Epoch=12/64, Step=3/41, loss=0.347927, loss_cls=0.159869, loss_bbox=0.14924, loss_rpn_cls=0.030628, loss_rpn_bbox=0.008191, lr=0.000169, time_each_step=0.72s, eta=0:29:56\n",
      "2021-02-25 23:26:57 [INFO]\t[TRAIN] Epoch=12/64, Step=5/41, loss=0.260088, loss_cls=0.122758, loss_bbox=0.089558, loss_rpn_cls=0.027183, loss_rpn_bbox=0.020589, lr=0.000166, time_each_step=0.73s, eta=0:29:55\n",
      "2021-02-25 23:26:58 [INFO]\t[TRAIN] Epoch=12/64, Step=7/41, loss=0.297274, loss_cls=0.150547, loss_bbox=0.117004, loss_rpn_cls=0.02014, loss_rpn_bbox=0.009584, lr=0.000163, time_each_step=0.73s, eta=0:29:53\n",
      "2021-02-25 23:26:59 [INFO]\t[TRAIN] Epoch=12/64, Step=9/41, loss=0.190984, loss_cls=0.090133, loss_bbox=0.066485, loss_rpn_cls=0.02782, loss_rpn_bbox=0.006546, lr=0.00016, time_each_step=0.74s, eta=0:29:52\n",
      "2021-02-25 23:26:59 [INFO]\t[TRAIN] Epoch=12/64, Step=11/41, loss=0.250317, loss_cls=0.12716, loss_bbox=0.098136, loss_rpn_cls=0.021643, loss_rpn_bbox=0.003379, lr=0.000157, time_each_step=0.74s, eta=0:29:51\n",
      "2021-02-25 23:27:00 [INFO]\t[TRAIN] Epoch=12/64, Step=13/41, loss=0.312838, loss_cls=0.159221, loss_bbox=0.117789, loss_rpn_cls=0.026945, loss_rpn_bbox=0.008883, lr=0.000154, time_each_step=0.74s, eta=0:29:49\n",
      "2021-02-25 23:27:01 [INFO]\t[TRAIN] Epoch=12/64, Step=15/41, loss=0.202031, loss_cls=0.090511, loss_bbox=0.091949, loss_rpn_cls=0.014087, loss_rpn_bbox=0.005484, lr=0.000151, time_each_step=0.74s, eta=0:29:48\n",
      "2021-02-25 23:27:02 [INFO]\t[TRAIN] Epoch=12/64, Step=17/41, loss=0.344461, loss_cls=0.165231, loss_bbox=0.146342, loss_rpn_cls=0.022894, loss_rpn_bbox=0.009994, lr=0.000148, time_each_step=0.74s, eta=0:29:46\n",
      "2021-02-25 23:27:03 [INFO]\t[TRAIN] Epoch=12/64, Step=19/41, loss=0.333486, loss_cls=0.163469, loss_bbox=0.135692, loss_rpn_cls=0.026842, loss_rpn_bbox=0.007482, lr=0.000145, time_each_step=0.74s, eta=0:29:45\n",
      "2021-02-25 23:27:04 [INFO]\t[TRAIN] Epoch=12/64, Step=21/41, loss=0.233967, loss_cls=0.120235, loss_bbox=0.092145, loss_rpn_cls=0.015899, loss_rpn_bbox=0.005687, lr=0.000143, time_each_step=0.45s, eta=0:29:38\n",
      "2021-02-25 23:27:04 [INFO]\t[TRAIN] Epoch=12/64, Step=23/41, loss=0.249865, loss_cls=0.126212, loss_bbox=0.089016, loss_rpn_cls=0.023232, loss_rpn_bbox=0.011405, lr=0.00014, time_each_step=0.43s, eta=0:29:36\n",
      "2021-02-25 23:27:05 [INFO]\t[TRAIN] Epoch=12/64, Step=25/41, loss=0.256106, loss_cls=0.135213, loss_bbox=0.101689, loss_rpn_cls=0.015072, loss_rpn_bbox=0.004132, lr=0.000137, time_each_step=0.42s, eta=0:29:35\n",
      "2021-02-25 23:27:06 [INFO]\t[TRAIN] Epoch=12/64, Step=27/41, loss=0.292196, loss_cls=0.159361, loss_bbox=0.09887, loss_rpn_cls=0.024285, loss_rpn_bbox=0.009679, lr=0.000134, time_each_step=0.42s, eta=0:29:34\n",
      "2021-02-25 23:27:07 [INFO]\t[TRAIN] Epoch=12/64, Step=29/41, loss=0.211712, loss_cls=0.107369, loss_bbox=0.077002, loss_rpn_cls=0.020281, loss_rpn_bbox=0.00706, lr=0.000131, time_each_step=0.41s, eta=0:29:33\n",
      "2021-02-25 23:27:08 [INFO]\t[TRAIN] Epoch=12/64, Step=31/41, loss=0.281813, loss_cls=0.140838, loss_bbox=0.108751, loss_rpn_cls=0.023835, loss_rpn_bbox=0.008389, lr=0.000128, time_each_step=0.41s, eta=0:29:33\n",
      "2021-02-25 23:27:08 [INFO]\t[TRAIN] Epoch=12/64, Step=33/41, loss=0.192786, loss_cls=0.089987, loss_bbox=0.082018, loss_rpn_cls=0.014028, loss_rpn_bbox=0.006753, lr=0.000125, time_each_step=0.4s, eta=0:29:32\n",
      "2021-02-25 23:27:09 [INFO]\t[TRAIN] Epoch=12/64, Step=35/41, loss=0.246954, loss_cls=0.122298, loss_bbox=0.085042, loss_rpn_cls=0.03166, loss_rpn_bbox=0.007953, lr=0.000122, time_each_step=0.4s, eta=0:29:31\n",
      "2021-02-25 23:27:10 [INFO]\t[TRAIN] Epoch=12/64, Step=37/41, loss=0.229114, loss_cls=0.108799, loss_bbox=0.093978, loss_rpn_cls=0.020955, loss_rpn_bbox=0.005382, lr=0.000119, time_each_step=0.4s, eta=0:29:30\n",
      "2021-02-25 23:27:11 [INFO]\t[TRAIN] Epoch=12/64, Step=39/41, loss=0.339567, loss_cls=0.157381, loss_bbox=0.122326, loss_rpn_cls=0.044757, loss_rpn_bbox=0.015103, lr=0.000116, time_each_step=0.4s, eta=0:29:29\n",
      "2021-02-25 23:27:12 [INFO]\t[TRAIN] Epoch=12/64, Step=41/41, loss=0.319499, loss_cls=0.146236, loss_bbox=0.131936, loss_rpn_cls=0.02644, loss_rpn_bbox=0.014887, lr=0.000113, time_each_step=0.4s, eta=0:29:29\n",
      "2021-02-25 23:27:12 [INFO]\t[TRAIN] Epoch 12 finished, loss=0.248407, loss_cls=0.122282, loss_bbox=0.095324, loss_rpn_cls=0.022991, loss_rpn_bbox=0.00781, lr=0.000143 .\n",
      "2021-02-25 23:27:12 [WARNING]\tFaster RCNN supports batch_size=1 only during evaluating, so batch_size is forced to be set to 1.\n",
      "2021-02-25 23:27:12 [INFO]\tStart to evaluating(total_samples=2, total_steps=2)...\n"
     ]
    },
    {
     "name": "stderr",
     "output_type": "stream",
     "text": [
      "100%|██████████| 2/2 [00:05<00:00,  2.79s/it]\n"
     ]
    },
    {
     "name": "stdout",
     "output_type": "stream",
     "text": [
      "2021-02-25 23:27:17 [INFO]\t[EVAL] Finished, Epoch=12, bbox_map=71.212121 .\n",
      "2021-02-25 23:27:22 [INFO]\tModel saved in output/faster_rcnn_r50_fpn/epoch_12.\n",
      "2021-02-25 23:27:22 [INFO]\tCurrent evaluated best model in eval_dataset is epoch_10, bbox_map=83.33333333333334\n",
      "2021-02-25 23:27:28 [INFO]\t[TRAIN] Epoch=13/64, Step=2/41, loss=0.344912, loss_cls=0.166281, loss_bbox=0.122217, loss_rpn_cls=0.045303, loss_rpn_bbox=0.01111, lr=0.00011, time_each_step=0.65s, eta=0:29:31\n",
      "2021-02-25 23:27:29 [INFO]\t[TRAIN] Epoch=13/64, Step=4/41, loss=0.154547, loss_cls=0.078286, loss_bbox=0.056617, loss_rpn_cls=0.016052, loss_rpn_bbox=0.003591, lr=0.000107, time_each_step=0.65s, eta=0:29:30\n",
      "2021-02-25 23:27:30 [INFO]\t[TRAIN] Epoch=13/64, Step=6/41, loss=0.187318, loss_cls=0.094498, loss_bbox=0.067563, loss_rpn_cls=0.016683, loss_rpn_bbox=0.008574, lr=0.000104, time_each_step=0.65s, eta=0:29:28\n",
      "2021-02-25 23:27:31 [INFO]\t[TRAIN] Epoch=13/64, Step=8/41, loss=0.280115, loss_cls=0.125931, loss_bbox=0.108391, loss_rpn_cls=0.037767, loss_rpn_bbox=0.008026, lr=0.000101, time_each_step=0.65s, eta=0:29:27\n",
      "2021-02-25 23:27:31 [INFO]\t[TRAIN] Epoch=13/64, Step=10/41, loss=0.164564, loss_cls=0.083802, loss_bbox=0.063729, loss_rpn_cls=0.010807, loss_rpn_bbox=0.006226, lr=0.0001, time_each_step=0.65s, eta=0:29:26\n",
      "2021-02-25 23:27:32 [INFO]\t[TRAIN] Epoch=13/64, Step=12/41, loss=0.192576, loss_cls=0.1037, loss_bbox=0.075836, loss_rpn_cls=0.00852, loss_rpn_bbox=0.00452, lr=0.0001, time_each_step=0.66s, eta=0:29:25\n",
      "2021-02-25 23:27:33 [INFO]\t[TRAIN] Epoch=13/64, Step=14/41, loss=0.320929, loss_cls=0.179229, loss_bbox=0.118382, loss_rpn_cls=0.016847, loss_rpn_bbox=0.00647, lr=0.0001, time_each_step=0.66s, eta=0:29:24\n",
      "2021-02-25 23:27:34 [INFO]\t[TRAIN] Epoch=13/64, Step=16/41, loss=0.231155, loss_cls=0.114355, loss_bbox=0.086299, loss_rpn_cls=0.020453, loss_rpn_bbox=0.010048, lr=0.0001, time_each_step=0.67s, eta=0:29:22\n",
      "2021-02-25 23:27:35 [INFO]\t[TRAIN] Epoch=13/64, Step=18/41, loss=0.207481, loss_cls=0.108838, loss_bbox=0.080994, loss_rpn_cls=0.011402, loss_rpn_bbox=0.006248, lr=0.0001, time_each_step=0.66s, eta=0:29:21\n",
      "2021-02-25 23:27:36 [INFO]\t[TRAIN] Epoch=13/64, Step=20/41, loss=0.270471, loss_cls=0.130221, loss_bbox=0.102404, loss_rpn_cls=0.029514, loss_rpn_bbox=0.008333, lr=0.0001, time_each_step=0.67s, eta=0:29:20\n",
      "2021-02-25 23:27:37 [INFO]\t[TRAIN] Epoch=13/64, Step=22/41, loss=0.180316, loss_cls=0.087245, loss_bbox=0.071677, loss_rpn_cls=0.016267, loss_rpn_bbox=0.005127, lr=0.0001, time_each_step=0.42s, eta=0:29:14\n",
      "2021-02-25 23:27:37 [INFO]\t[TRAIN] Epoch=13/64, Step=24/41, loss=0.177596, loss_cls=0.088469, loss_bbox=0.067972, loss_rpn_cls=0.016571, loss_rpn_bbox=0.004584, lr=0.0001, time_each_step=0.42s, eta=0:29:13\n",
      "2021-02-25 23:27:38 [INFO]\t[TRAIN] Epoch=13/64, Step=26/41, loss=0.217763, loss_cls=0.08897, loss_bbox=0.065699, loss_rpn_cls=0.037732, loss_rpn_bbox=0.025362, lr=0.0001, time_each_step=0.42s, eta=0:29:12\n",
      "2021-02-25 23:27:39 [INFO]\t[TRAIN] Epoch=13/64, Step=28/41, loss=0.330323, loss_cls=0.157598, loss_bbox=0.125033, loss_rpn_cls=0.034468, loss_rpn_bbox=0.013224, lr=0.0001, time_each_step=0.42s, eta=0:29:11\n",
      "2021-02-25 23:27:40 [INFO]\t[TRAIN] Epoch=13/64, Step=30/41, loss=0.321805, loss_cls=0.163514, loss_bbox=0.118551, loss_rpn_cls=0.032537, loss_rpn_bbox=0.007203, lr=0.0001, time_each_step=0.42s, eta=0:29:10\n",
      "2021-02-25 23:27:40 [INFO]\t[TRAIN] Epoch=13/64, Step=32/41, loss=0.368885, loss_cls=0.198347, loss_bbox=0.138239, loss_rpn_cls=0.023852, loss_rpn_bbox=0.008447, lr=0.0001, time_each_step=0.41s, eta=0:29:9\n",
      "2021-02-25 23:27:41 [INFO]\t[TRAIN] Epoch=13/64, Step=34/41, loss=0.357397, loss_cls=0.162508, loss_bbox=0.150311, loss_rpn_cls=0.036975, loss_rpn_bbox=0.007602, lr=0.0001, time_each_step=0.41s, eta=0:29:8\n",
      "2021-02-25 23:27:42 [INFO]\t[TRAIN] Epoch=13/64, Step=36/41, loss=0.238732, loss_cls=0.114274, loss_bbox=0.093579, loss_rpn_cls=0.024847, loss_rpn_bbox=0.006032, lr=0.0001, time_each_step=0.4s, eta=0:29:8\n",
      "2021-02-25 23:27:43 [INFO]\t[TRAIN] Epoch=13/64, Step=38/41, loss=0.199225, loss_cls=0.103199, loss_bbox=0.079638, loss_rpn_cls=0.010491, loss_rpn_bbox=0.005898, lr=0.0001, time_each_step=0.4s, eta=0:29:7\n",
      "2021-02-25 23:27:44 [INFO]\t[TRAIN] Epoch=13/64, Step=40/41, loss=0.182421, loss_cls=0.088385, loss_bbox=0.076092, loss_rpn_cls=0.009953, loss_rpn_bbox=0.00799, lr=0.0001, time_each_step=0.4s, eta=0:29:6\n",
      "2021-02-25 23:27:44 [INFO]\t[TRAIN] Epoch 13 finished, loss=0.239736, loss_cls=0.118554, loss_bbox=0.091442, loss_rpn_cls=0.021934, loss_rpn_bbox=0.007806, lr=0.000101 .\n",
      "2021-02-25 23:27:44 [WARNING]\tFaster RCNN supports batch_size=1 only during evaluating, so batch_size is forced to be set to 1.\n",
      "2021-02-25 23:27:44 [INFO]\tStart to evaluating(total_samples=2, total_steps=2)...\n"
     ]
    },
    {
     "name": "stderr",
     "output_type": "stream",
     "text": [
      "100%|██████████| 2/2 [00:03<00:00,  1.82s/it]\n"
     ]
    },
    {
     "name": "stdout",
     "output_type": "stream",
     "text": [
      "2021-02-25 23:27:48 [INFO]\t[EVAL] Finished, Epoch=13, bbox_map=66.666667 .\n",
      "2021-02-25 23:27:52 [INFO]\tModel saved in output/faster_rcnn_r50_fpn/epoch_13.\n",
      "2021-02-25 23:27:52 [INFO]\tCurrent evaluated best model in eval_dataset is epoch_10, bbox_map=83.33333333333334\n",
      "2021-02-25 23:27:58 [INFO]\t[TRAIN] Epoch=14/64, Step=1/41, loss=0.235658, loss_cls=0.120158, loss_bbox=0.074583, loss_rpn_cls=0.035149, loss_rpn_bbox=0.005768, lr=0.0001, time_each_step=0.66s, eta=0:25:12\n",
      "2021-02-25 23:27:59 [INFO]\t[TRAIN] Epoch=14/64, Step=3/41, loss=0.250745, loss_cls=0.132693, loss_bbox=0.092504, loss_rpn_cls=0.019812, loss_rpn_bbox=0.005736, lr=0.0001, time_each_step=0.69s, eta=0:25:12\n",
      "2021-02-25 23:28:00 [INFO]\t[TRAIN] Epoch=14/64, Step=5/41, loss=0.283658, loss_cls=0.132025, loss_bbox=0.11688, loss_rpn_cls=0.027036, loss_rpn_bbox=0.007717, lr=0.0001, time_each_step=0.7s, eta=0:25:11\n",
      "2021-02-25 23:28:01 [INFO]\t[TRAIN] Epoch=14/64, Step=7/41, loss=0.299841, loss_cls=0.134351, loss_bbox=0.12827, loss_rpn_cls=0.028413, loss_rpn_bbox=0.008808, lr=0.0001, time_each_step=0.71s, eta=0:25:10\n",
      "2021-02-25 23:28:02 [INFO]\t[TRAIN] Epoch=14/64, Step=9/41, loss=0.226315, loss_cls=0.116564, loss_bbox=0.093998, loss_rpn_cls=0.01008, loss_rpn_bbox=0.005674, lr=0.0001, time_each_step=0.72s, eta=0:25:8\n",
      "2021-02-25 23:28:03 [INFO]\t[TRAIN] Epoch=14/64, Step=11/41, loss=0.108454, loss_cls=0.056303, loss_bbox=0.042572, loss_rpn_cls=0.007019, loss_rpn_bbox=0.00256, lr=0.0001, time_each_step=0.72s, eta=0:25:7\n",
      "2021-02-25 23:28:03 [INFO]\t[TRAIN] Epoch=14/64, Step=13/41, loss=0.228951, loss_cls=0.107987, loss_bbox=0.100464, loss_rpn_cls=0.013951, loss_rpn_bbox=0.006548, lr=0.0001, time_each_step=0.72s, eta=0:25:6\n",
      "2021-02-25 23:28:04 [INFO]\t[TRAIN] Epoch=14/64, Step=15/41, loss=0.30689, loss_cls=0.158236, loss_bbox=0.122776, loss_rpn_cls=0.017843, loss_rpn_bbox=0.008036, lr=0.0001, time_each_step=0.72s, eta=0:25:4\n",
      "2021-02-25 23:28:05 [INFO]\t[TRAIN] Epoch=14/64, Step=17/41, loss=0.186152, loss_cls=0.091156, loss_bbox=0.071537, loss_rpn_cls=0.019282, loss_rpn_bbox=0.004177, lr=0.0001, time_each_step=0.72s, eta=0:25:3\n",
      "2021-02-25 23:28:06 [INFO]\t[TRAIN] Epoch=14/64, Step=19/41, loss=0.268407, loss_cls=0.132039, loss_bbox=0.099243, loss_rpn_cls=0.026994, loss_rpn_bbox=0.010132, lr=0.0001, time_each_step=0.72s, eta=0:25:1\n",
      "2021-02-25 23:28:07 [INFO]\t[TRAIN] Epoch=14/64, Step=21/41, loss=0.308002, loss_cls=0.157322, loss_bbox=0.125583, loss_rpn_cls=0.018129, loss_rpn_bbox=0.006968, lr=0.0001, time_each_step=0.46s, eta=0:24:55\n",
      "2021-02-25 23:28:08 [INFO]\t[TRAIN] Epoch=14/64, Step=23/41, loss=0.226705, loss_cls=0.116349, loss_bbox=0.088702, loss_rpn_cls=0.015779, loss_rpn_bbox=0.005875, lr=0.0001, time_each_step=0.43s, eta=0:24:53\n",
      "2021-02-25 23:28:08 [INFO]\t[TRAIN] Epoch=14/64, Step=25/41, loss=0.279925, loss_cls=0.125085, loss_bbox=0.089894, loss_rpn_cls=0.052719, loss_rpn_bbox=0.012226, lr=0.0001, time_each_step=0.42s, eta=0:24:52\n",
      "2021-02-25 23:28:09 [INFO]\t[TRAIN] Epoch=14/64, Step=27/41, loss=0.267382, loss_cls=0.145125, loss_bbox=0.092945, loss_rpn_cls=0.021526, loss_rpn_bbox=0.007785, lr=0.0001, time_each_step=0.41s, eta=0:24:51\n",
      "2021-02-25 23:28:10 [INFO]\t[TRAIN] Epoch=14/64, Step=29/41, loss=0.356949, loss_cls=0.170474, loss_bbox=0.153227, loss_rpn_cls=0.022357, loss_rpn_bbox=0.010892, lr=0.0001, time_each_step=0.4s, eta=0:24:50\n",
      "2021-02-25 23:28:11 [INFO]\t[TRAIN] Epoch=14/64, Step=31/41, loss=0.22347, loss_cls=0.112637, loss_bbox=0.08709, loss_rpn_cls=0.015752, loss_rpn_bbox=0.007991, lr=0.0001, time_each_step=0.4s, eta=0:24:49\n",
      "2021-02-25 23:28:11 [INFO]\t[TRAIN] Epoch=14/64, Step=33/41, loss=0.174653, loss_cls=0.091997, loss_bbox=0.058923, loss_rpn_cls=0.012845, loss_rpn_bbox=0.010887, lr=0.0001, time_each_step=0.4s, eta=0:24:49\n",
      "2021-02-25 23:28:12 [INFO]\t[TRAIN] Epoch=14/64, Step=35/41, loss=0.272837, loss_cls=0.112538, loss_bbox=0.102249, loss_rpn_cls=0.04764, loss_rpn_bbox=0.01041, lr=0.0001, time_each_step=0.39s, eta=0:24:48\n",
      "2021-02-25 23:28:13 [INFO]\t[TRAIN] Epoch=14/64, Step=37/41, loss=0.184728, loss_cls=0.092434, loss_bbox=0.073336, loss_rpn_cls=0.015102, loss_rpn_bbox=0.003855, lr=0.0001, time_each_step=0.39s, eta=0:24:47\n",
      "2021-02-25 23:28:14 [INFO]\t[TRAIN] Epoch=14/64, Step=39/41, loss=0.219607, loss_cls=0.105528, loss_bbox=0.091791, loss_rpn_cls=0.016876, loss_rpn_bbox=0.005413, lr=0.0001, time_each_step=0.39s, eta=0:24:46\n",
      "2021-02-25 23:28:15 [INFO]\t[TRAIN] Epoch=14/64, Step=41/41, loss=0.264376, loss_cls=0.135165, loss_bbox=0.101338, loss_rpn_cls=0.020942, loss_rpn_bbox=0.006931, lr=0.0001, time_each_step=0.39s, eta=0:24:46\n",
      "2021-02-25 23:28:15 [INFO]\t[TRAIN] Epoch 14 finished, loss=0.246591, loss_cls=0.121331, loss_bbox=0.095661, loss_rpn_cls=0.021724, loss_rpn_bbox=0.007876, lr=0.0001 .\n",
      "2021-02-25 23:28:15 [WARNING]\tFaster RCNN supports batch_size=1 only during evaluating, so batch_size is forced to be set to 1.\n",
      "2021-02-25 23:28:15 [INFO]\tStart to evaluating(total_samples=2, total_steps=2)...\n"
     ]
    },
    {
     "name": "stderr",
     "output_type": "stream",
     "text": [
      "100%|██████████| 2/2 [00:03<00:00,  1.68s/it]\n"
     ]
    },
    {
     "name": "stdout",
     "output_type": "stream",
     "text": [
      "2021-02-25 23:28:18 [INFO]\t[EVAL] Finished, Epoch=14, bbox_map=72.727273 .\n",
      "2021-02-25 23:28:22 [INFO]\tModel saved in output/faster_rcnn_r50_fpn/epoch_14.\n",
      "2021-02-25 23:28:22 [INFO]\tCurrent evaluated best model in eval_dataset is epoch_10, bbox_map=83.33333333333334\n",
      "2021-02-25 23:28:30 [INFO]\t[TRAIN] Epoch=15/64, Step=2/41, loss=0.229153, loss_cls=0.124923, loss_bbox=0.087584, loss_rpn_cls=0.010956, loss_rpn_bbox=0.00569, lr=0.0001, time_each_step=0.73s, eta=0:25:15\n",
      "2021-02-25 23:28:31 [INFO]\t[TRAIN] Epoch=15/64, Step=4/41, loss=0.356904, loss_cls=0.158515, loss_bbox=0.145629, loss_rpn_cls=0.039443, loss_rpn_bbox=0.013316, lr=0.0001, time_each_step=0.75s, eta=0:25:14\n",
      "2021-02-25 23:28:32 [INFO]\t[TRAIN] Epoch=15/64, Step=6/41, loss=0.33356, loss_cls=0.148322, loss_bbox=0.14814, loss_rpn_cls=0.026253, loss_rpn_bbox=0.010844, lr=0.0001, time_each_step=0.76s, eta=0:25:13\n",
      "2021-02-25 23:28:33 [INFO]\t[TRAIN] Epoch=15/64, Step=8/41, loss=0.204712, loss_cls=0.106147, loss_bbox=0.071261, loss_rpn_cls=0.019372, loss_rpn_bbox=0.007932, lr=0.0001, time_each_step=0.77s, eta=0:25:12\n",
      "2021-02-25 23:28:34 [INFO]\t[TRAIN] Epoch=15/64, Step=10/41, loss=0.199234, loss_cls=0.104041, loss_bbox=0.080319, loss_rpn_cls=0.011714, loss_rpn_bbox=0.00316, lr=0.0001, time_each_step=0.78s, eta=0:25:11\n",
      "2021-02-25 23:28:35 [INFO]\t[TRAIN] Epoch=15/64, Step=12/41, loss=0.230016, loss_cls=0.099084, loss_bbox=0.081875, loss_rpn_cls=0.027288, loss_rpn_bbox=0.021769, lr=0.0001, time_each_step=0.79s, eta=0:25:9\n",
      "2021-02-25 23:28:36 [INFO]\t[TRAIN] Epoch=15/64, Step=14/41, loss=0.223925, loss_cls=0.115097, loss_bbox=0.077987, loss_rpn_cls=0.02478, loss_rpn_bbox=0.006061, lr=0.0001, time_each_step=0.79s, eta=0:25:8\n",
      "2021-02-25 23:28:36 [INFO]\t[TRAIN] Epoch=15/64, Step=16/41, loss=0.248581, loss_cls=0.11177, loss_bbox=0.113772, loss_rpn_cls=0.016999, loss_rpn_bbox=0.00604, lr=0.0001, time_each_step=0.79s, eta=0:25:6\n",
      "2021-02-25 23:28:37 [INFO]\t[TRAIN] Epoch=15/64, Step=18/41, loss=0.180082, loss_cls=0.093019, loss_bbox=0.073083, loss_rpn_cls=0.010112, loss_rpn_bbox=0.003868, lr=0.0001, time_each_step=0.79s, eta=0:25:5\n",
      "2021-02-25 23:28:38 [INFO]\t[TRAIN] Epoch=15/64, Step=20/41, loss=0.154255, loss_cls=0.081732, loss_bbox=0.060292, loss_rpn_cls=0.007886, loss_rpn_bbox=0.004345, lr=0.0001, time_each_step=0.79s, eta=0:25:3\n",
      "2021-02-25 23:28:39 [INFO]\t[TRAIN] Epoch=15/64, Step=22/41, loss=0.178718, loss_cls=0.090582, loss_bbox=0.071171, loss_rpn_cls=0.01146, loss_rpn_bbox=0.005505, lr=0.0001, time_each_step=0.46s, eta=0:24:55\n",
      "2021-02-25 23:28:40 [INFO]\t[TRAIN] Epoch=15/64, Step=24/41, loss=0.144622, loss_cls=0.074384, loss_bbox=0.050004, loss_rpn_cls=0.017343, loss_rpn_bbox=0.00289, lr=0.0001, time_each_step=0.44s, eta=0:24:54\n",
      "2021-02-25 23:28:40 [INFO]\t[TRAIN] Epoch=15/64, Step=26/41, loss=0.262863, loss_cls=0.139638, loss_bbox=0.101877, loss_rpn_cls=0.017852, loss_rpn_bbox=0.003496, lr=0.0001, time_each_step=0.43s, eta=0:24:53\n",
      "2021-02-25 23:28:41 [INFO]\t[TRAIN] Epoch=15/64, Step=28/41, loss=0.359839, loss_cls=0.174066, loss_bbox=0.13675, loss_rpn_cls=0.034758, loss_rpn_bbox=0.014265, lr=0.0001, time_each_step=0.42s, eta=0:24:52\n",
      "2021-02-25 23:28:42 [INFO]\t[TRAIN] Epoch=15/64, Step=30/41, loss=0.236052, loss_cls=0.116416, loss_bbox=0.099344, loss_rpn_cls=0.01455, loss_rpn_bbox=0.005742, lr=0.0001, time_each_step=0.4s, eta=0:24:51\n",
      "2021-02-25 23:28:43 [INFO]\t[TRAIN] Epoch=15/64, Step=32/41, loss=0.262006, loss_cls=0.125634, loss_bbox=0.112292, loss_rpn_cls=0.019143, loss_rpn_bbox=0.004938, lr=0.0001, time_each_step=0.4s, eta=0:24:50\n",
      "2021-02-25 23:28:43 [INFO]\t[TRAIN] Epoch=15/64, Step=34/41, loss=0.227368, loss_cls=0.117601, loss_bbox=0.095498, loss_rpn_cls=0.008833, loss_rpn_bbox=0.005437, lr=0.0001, time_each_step=0.39s, eta=0:24:49\n",
      "2021-02-25 23:28:44 [INFO]\t[TRAIN] Epoch=15/64, Step=36/41, loss=0.203569, loss_cls=0.112682, loss_bbox=0.072901, loss_rpn_cls=0.013321, loss_rpn_bbox=0.004665, lr=0.0001, time_each_step=0.39s, eta=0:24:48\n",
      "2021-02-25 23:28:45 [INFO]\t[TRAIN] Epoch=15/64, Step=38/41, loss=0.24976, loss_cls=0.130978, loss_bbox=0.101667, loss_rpn_cls=0.011784, loss_rpn_bbox=0.005331, lr=0.0001, time_each_step=0.39s, eta=0:24:48\n",
      "2021-02-25 23:28:46 [INFO]\t[TRAIN] Epoch=15/64, Step=40/41, loss=0.299142, loss_cls=0.145631, loss_bbox=0.116313, loss_rpn_cls=0.026796, loss_rpn_bbox=0.010402, lr=0.0001, time_each_step=0.38s, eta=0:24:47\n",
      "2021-02-25 23:28:46 [INFO]\t[TRAIN] Epoch 15 finished, loss=0.240936, loss_cls=0.118659, loss_bbox=0.093386, loss_rpn_cls=0.021265, loss_rpn_bbox=0.007626, lr=0.0001 .\n",
      "2021-02-25 23:28:46 [WARNING]\tFaster RCNN supports batch_size=1 only during evaluating, so batch_size is forced to be set to 1.\n",
      "2021-02-25 23:28:46 [INFO]\tStart to evaluating(total_samples=2, total_steps=2)...\n"
     ]
    },
    {
     "name": "stderr",
     "output_type": "stream",
     "text": [
      "100%|██████████| 2/2 [00:03<00:00,  1.80s/it]\n"
     ]
    },
    {
     "name": "stdout",
     "output_type": "stream",
     "text": [
      "2021-02-25 23:28:50 [INFO]\t[EVAL] Finished, Epoch=15, bbox_map=66.666667 .\n",
      "2021-02-25 23:28:54 [INFO]\tModel saved in output/faster_rcnn_r50_fpn/epoch_15.\n",
      "2021-02-25 23:28:54 [INFO]\tCurrent evaluated best model in eval_dataset is epoch_10, bbox_map=83.33333333333334\n",
      "2021-02-25 23:29:01 [INFO]\t[TRAIN] Epoch=16/64, Step=1/41, loss=0.298015, loss_cls=0.16017, loss_bbox=0.112234, loss_rpn_cls=0.018474, loss_rpn_bbox=0.007136, lr=0.0001, time_each_step=0.74s, eta=0:25:58\n",
      "2021-02-25 23:29:03 [INFO]\t[TRAIN] Epoch=16/64, Step=3/41, loss=0.260913, loss_cls=0.139252, loss_bbox=0.094109, loss_rpn_cls=0.019847, loss_rpn_bbox=0.007705, lr=0.0001, time_each_step=0.77s, eta=0:25:57\n",
      "2021-02-25 23:29:04 [INFO]\t[TRAIN] Epoch=16/64, Step=5/41, loss=0.278622, loss_cls=0.132961, loss_bbox=0.113659, loss_rpn_cls=0.022239, loss_rpn_bbox=0.009764, lr=0.0001, time_each_step=0.78s, eta=0:25:56\n",
      "2021-02-25 23:29:05 [INFO]\t[TRAIN] Epoch=16/64, Step=7/41, loss=0.13474, loss_cls=0.068943, loss_bbox=0.053768, loss_rpn_cls=0.008579, loss_rpn_bbox=0.00345, lr=0.0001, time_each_step=0.79s, eta=0:25:55\n",
      "2021-02-25 23:29:06 [INFO]\t[TRAIN] Epoch=16/64, Step=9/41, loss=0.293254, loss_cls=0.136689, loss_bbox=0.128514, loss_rpn_cls=0.02036, loss_rpn_bbox=0.00769, lr=0.0001, time_each_step=0.81s, eta=0:25:54\n",
      "2021-02-25 23:29:07 [INFO]\t[TRAIN] Epoch=16/64, Step=11/41, loss=0.240516, loss_cls=0.120834, loss_bbox=0.103092, loss_rpn_cls=0.01081, loss_rpn_bbox=0.005779, lr=0.0001, time_each_step=0.81s, eta=0:25:53\n",
      "2021-02-25 23:29:07 [INFO]\t[TRAIN] Epoch=16/64, Step=13/41, loss=0.266003, loss_cls=0.132196, loss_bbox=0.10511, loss_rpn_cls=0.02118, loss_rpn_bbox=0.007518, lr=0.0001, time_each_step=0.81s, eta=0:25:51\n",
      "2021-02-25 23:29:08 [INFO]\t[TRAIN] Epoch=16/64, Step=15/41, loss=0.44729, loss_cls=0.208871, loss_bbox=0.186084, loss_rpn_cls=0.041325, loss_rpn_bbox=0.011009, lr=0.0001, time_each_step=0.82s, eta=0:25:50\n",
      "2021-02-25 23:29:09 [INFO]\t[TRAIN] Epoch=16/64, Step=17/41, loss=0.13495, loss_cls=0.063957, loss_bbox=0.051011, loss_rpn_cls=0.015559, loss_rpn_bbox=0.004423, lr=0.0001, time_each_step=0.84s, eta=0:25:48\n",
      "2021-02-25 23:29:10 [INFO]\t[TRAIN] Epoch=16/64, Step=19/41, loss=0.183751, loss_cls=0.086792, loss_bbox=0.065119, loss_rpn_cls=0.020625, loss_rpn_bbox=0.011215, lr=0.0001, time_each_step=0.85s, eta=0:25:47\n",
      "2021-02-25 23:29:11 [INFO]\t[TRAIN] Epoch=16/64, Step=21/41, loss=0.243602, loss_cls=0.1182, loss_bbox=0.093657, loss_rpn_cls=0.021047, loss_rpn_bbox=0.010698, lr=0.0001, time_each_step=0.5s, eta=0:25:38\n",
      "2021-02-25 23:29:12 [INFO]\t[TRAIN] Epoch=16/64, Step=23/41, loss=0.187706, loss_cls=0.080828, loss_bbox=0.063743, loss_rpn_cls=0.035188, loss_rpn_bbox=0.007947, lr=0.0001, time_each_step=0.47s, eta=0:25:37\n",
      "2021-02-25 23:29:13 [INFO]\t[TRAIN] Epoch=16/64, Step=25/41, loss=0.196593, loss_cls=0.08923, loss_bbox=0.075593, loss_rpn_cls=0.025214, loss_rpn_bbox=0.006556, lr=0.0001, time_each_step=0.47s, eta=0:25:36\n",
      "2021-02-25 23:29:14 [INFO]\t[TRAIN] Epoch=16/64, Step=27/41, loss=0.127095, loss_cls=0.067001, loss_bbox=0.04843, loss_rpn_cls=0.00884, loss_rpn_bbox=0.002824, lr=0.0001, time_each_step=0.46s, eta=0:25:35\n",
      "2021-02-25 23:29:15 [INFO]\t[TRAIN] Epoch=16/64, Step=29/41, loss=0.217163, loss_cls=0.111241, loss_bbox=0.079554, loss_rpn_cls=0.018434, loss_rpn_bbox=0.007933, lr=0.0001, time_each_step=0.44s, eta=0:25:34\n",
      "2021-02-25 23:29:16 [INFO]\t[TRAIN] Epoch=16/64, Step=31/41, loss=0.243056, loss_cls=0.117889, loss_bbox=0.090909, loss_rpn_cls=0.027624, loss_rpn_bbox=0.006634, lr=0.0001, time_each_step=0.44s, eta=0:25:33\n",
      "2021-02-25 23:29:16 [INFO]\t[TRAIN] Epoch=16/64, Step=33/41, loss=0.277067, loss_cls=0.139845, loss_bbox=0.118599, loss_rpn_cls=0.014318, loss_rpn_bbox=0.004305, lr=0.0001, time_each_step=0.44s, eta=0:25:32\n",
      "2021-02-25 23:29:17 [INFO]\t[TRAIN] Epoch=16/64, Step=35/41, loss=0.276881, loss_cls=0.147881, loss_bbox=0.102495, loss_rpn_cls=0.018207, loss_rpn_bbox=0.008299, lr=0.0001, time_each_step=0.44s, eta=0:25:31\n",
      "2021-02-25 23:29:18 [INFO]\t[TRAIN] Epoch=16/64, Step=37/41, loss=0.15832, loss_cls=0.088594, loss_bbox=0.060136, loss_rpn_cls=0.006882, loss_rpn_bbox=0.002708, lr=0.0001, time_each_step=0.42s, eta=0:25:30\n",
      "2021-02-25 23:29:19 [INFO]\t[TRAIN] Epoch=16/64, Step=39/41, loss=0.185796, loss_cls=0.086748, loss_bbox=0.0692, loss_rpn_cls=0.020763, loss_rpn_bbox=0.009085, lr=0.0001, time_each_step=0.42s, eta=0:25:29\n",
      "2021-02-25 23:29:20 [INFO]\t[TRAIN] Epoch=16/64, Step=41/41, loss=0.20676, loss_cls=0.091249, loss_bbox=0.098909, loss_rpn_cls=0.009695, loss_rpn_bbox=0.006907, lr=0.0001, time_each_step=0.41s, eta=0:25:28\n",
      "2021-02-25 23:29:20 [INFO]\t[TRAIN] Epoch 16 finished, loss=0.234324, loss_cls=0.116391, loss_bbox=0.090446, loss_rpn_cls=0.019965, loss_rpn_bbox=0.007522, lr=0.0001 .\n",
      "2021-02-25 23:29:20 [WARNING]\tFaster RCNN supports batch_size=1 only during evaluating, so batch_size is forced to be set to 1.\n",
      "2021-02-25 23:29:20 [INFO]\tStart to evaluating(total_samples=2, total_steps=2)...\n"
     ]
    },
    {
     "name": "stderr",
     "output_type": "stream",
     "text": [
      "100%|██████████| 2/2 [00:04<00:00,  2.13s/it]\n"
     ]
    },
    {
     "name": "stdout",
     "output_type": "stream",
     "text": [
      "2021-02-25 23:29:24 [INFO]\t[EVAL] Finished, Epoch=16, bbox_map=75.0 .\n",
      "2021-02-25 23:29:28 [INFO]\tModel saved in output/faster_rcnn_r50_fpn/epoch_16.\n",
      "2021-02-25 23:29:28 [INFO]\tCurrent evaluated best model in eval_dataset is epoch_10, bbox_map=83.33333333333334\n",
      "2021-02-25 23:29:36 [INFO]\t[TRAIN] Epoch=17/64, Step=2/41, loss=0.262238, loss_cls=0.122334, loss_bbox=0.098152, loss_rpn_cls=0.029106, loss_rpn_bbox=0.012645, lr=0.0001, time_each_step=0.74s, eta=0:27:46\n",
      "2021-02-25 23:29:37 [INFO]\t[TRAIN] Epoch=17/64, Step=4/41, loss=0.327262, loss_cls=0.165909, loss_bbox=0.119153, loss_rpn_cls=0.031869, loss_rpn_bbox=0.010332, lr=0.0001, time_each_step=0.75s, eta=0:27:45\n",
      "2021-02-25 23:29:38 [INFO]\t[TRAIN] Epoch=17/64, Step=6/41, loss=0.112449, loss_cls=0.054548, loss_bbox=0.037843, loss_rpn_cls=0.013459, loss_rpn_bbox=0.0066, lr=0.0001, time_each_step=0.77s, eta=0:27:44\n",
      "2021-02-25 23:29:39 [INFO]\t[TRAIN] Epoch=17/64, Step=8/41, loss=0.243499, loss_cls=0.122094, loss_bbox=0.099231, loss_rpn_cls=0.016398, loss_rpn_bbox=0.005776, lr=0.0001, time_each_step=0.78s, eta=0:27:42\n",
      "2021-02-25 23:29:40 [INFO]\t[TRAIN] Epoch=17/64, Step=10/41, loss=0.198854, loss_cls=0.097651, loss_bbox=0.072146, loss_rpn_cls=0.021555, loss_rpn_bbox=0.007503, lr=0.0001, time_each_step=0.78s, eta=0:27:41\n",
      "2021-02-25 23:29:41 [INFO]\t[TRAIN] Epoch=17/64, Step=12/41, loss=0.224123, loss_cls=0.098762, loss_bbox=0.078352, loss_rpn_cls=0.026986, loss_rpn_bbox=0.020022, lr=0.0001, time_each_step=0.78s, eta=0:27:39\n",
      "2021-02-25 23:29:42 [INFO]\t[TRAIN] Epoch=17/64, Step=14/41, loss=0.216299, loss_cls=0.103734, loss_bbox=0.077027, loss_rpn_cls=0.027961, loss_rpn_bbox=0.007577, lr=0.0001, time_each_step=0.78s, eta=0:27:38\n",
      "2021-02-25 23:29:42 [INFO]\t[TRAIN] Epoch=17/64, Step=16/41, loss=0.255532, loss_cls=0.125621, loss_bbox=0.103376, loss_rpn_cls=0.019317, loss_rpn_bbox=0.007218, lr=0.0001, time_each_step=0.78s, eta=0:27:36\n",
      "2021-02-25 23:29:43 [INFO]\t[TRAIN] Epoch=17/64, Step=18/41, loss=0.164454, loss_cls=0.074646, loss_bbox=0.069515, loss_rpn_cls=0.012543, loss_rpn_bbox=0.00775, lr=0.0001, time_each_step=0.78s, eta=0:27:35\n",
      "2021-02-25 23:29:44 [INFO]\t[TRAIN] Epoch=17/64, Step=20/41, loss=0.193288, loss_cls=0.090519, loss_bbox=0.082554, loss_rpn_cls=0.012995, loss_rpn_bbox=0.00722, lr=0.0001, time_each_step=0.78s, eta=0:27:33\n",
      "2021-02-25 23:29:45 [INFO]\t[TRAIN] Epoch=17/64, Step=22/41, loss=0.148325, loss_cls=0.076073, loss_bbox=0.051839, loss_rpn_cls=0.016841, loss_rpn_bbox=0.003571, lr=0.0001, time_each_step=0.45s, eta=0:27:25\n",
      "2021-02-25 23:29:46 [INFO]\t[TRAIN] Epoch=17/64, Step=24/41, loss=0.191285, loss_cls=0.09465, loss_bbox=0.083018, loss_rpn_cls=0.00914, loss_rpn_bbox=0.004478, lr=0.0001, time_each_step=0.44s, eta=0:27:24\n",
      "2021-02-25 23:29:47 [INFO]\t[TRAIN] Epoch=17/64, Step=26/41, loss=0.20695, loss_cls=0.100353, loss_bbox=0.077954, loss_rpn_cls=0.020951, loss_rpn_bbox=0.007691, lr=0.0001, time_each_step=0.43s, eta=0:27:23\n",
      "2021-02-25 23:29:48 [INFO]\t[TRAIN] Epoch=17/64, Step=28/41, loss=0.278458, loss_cls=0.128462, loss_bbox=0.131713, loss_rpn_cls=0.01066, loss_rpn_bbox=0.007623, lr=0.0001, time_each_step=0.42s, eta=0:27:22\n",
      "2021-02-25 23:29:48 [INFO]\t[TRAIN] Epoch=17/64, Step=30/41, loss=0.193665, loss_cls=0.101971, loss_bbox=0.069777, loss_rpn_cls=0.015989, loss_rpn_bbox=0.005928, lr=0.0001, time_each_step=0.42s, eta=0:27:21\n",
      "2021-02-25 23:29:49 [INFO]\t[TRAIN] Epoch=17/64, Step=32/41, loss=0.278417, loss_cls=0.150204, loss_bbox=0.112391, loss_rpn_cls=0.011551, loss_rpn_bbox=0.004271, lr=0.0001, time_each_step=0.42s, eta=0:27:20\n",
      "2021-02-25 23:29:50 [INFO]\t[TRAIN] Epoch=17/64, Step=34/41, loss=0.268913, loss_cls=0.11959, loss_bbox=0.116674, loss_rpn_cls=0.022224, loss_rpn_bbox=0.010426, lr=0.0001, time_each_step=0.41s, eta=0:27:20\n",
      "2021-02-25 23:29:51 [INFO]\t[TRAIN] Epoch=17/64, Step=36/41, loss=0.119586, loss_cls=0.057918, loss_bbox=0.053857, loss_rpn_cls=0.003738, loss_rpn_bbox=0.004073, lr=0.0001, time_each_step=0.41s, eta=0:27:19\n",
      "2021-02-25 23:29:52 [INFO]\t[TRAIN] Epoch=17/64, Step=38/41, loss=0.314634, loss_cls=0.16695, loss_bbox=0.113944, loss_rpn_cls=0.022888, loss_rpn_bbox=0.010852, lr=0.0001, time_each_step=0.41s, eta=0:27:18\n",
      "2021-02-25 23:29:52 [INFO]\t[TRAIN] Epoch=17/64, Step=40/41, loss=0.303102, loss_cls=0.16123, loss_bbox=0.113831, loss_rpn_cls=0.021855, loss_rpn_bbox=0.006186, lr=0.0001, time_each_step=0.41s, eta=0:27:17\n",
      "2021-02-25 23:29:53 [INFO]\t[TRAIN] Epoch 17 finished, loss=0.232573, loss_cls=0.114093, loss_bbox=0.091013, loss_rpn_cls=0.019574, loss_rpn_bbox=0.007892, lr=0.0001 .\n",
      "2021-02-25 23:29:53 [WARNING]\tFaster RCNN supports batch_size=1 only during evaluating, so batch_size is forced to be set to 1.\n",
      "2021-02-25 23:29:53 [INFO]\tStart to evaluating(total_samples=2, total_steps=2)...\n"
     ]
    },
    {
     "name": "stderr",
     "output_type": "stream",
     "text": [
      "100%|██████████| 2/2 [00:03<00:00,  1.72s/it]\n"
     ]
    },
    {
     "name": "stdout",
     "output_type": "stream",
     "text": [
      "2021-02-25 23:29:56 [INFO]\t[EVAL] Finished, Epoch=17, bbox_map=62.5 .\n",
      "2021-02-25 23:30:00 [INFO]\tModel saved in output/faster_rcnn_r50_fpn/epoch_17.\n",
      "2021-02-25 23:30:00 [INFO]\tCurrent evaluated best model in eval_dataset is epoch_10, bbox_map=83.33333333333334\n",
      "2021-02-25 23:30:06 [INFO]\t[TRAIN] Epoch=18/64, Step=1/41, loss=0.142947, loss_cls=0.07402, loss_bbox=0.062473, loss_rpn_cls=0.004223, loss_rpn_bbox=0.002231, lr=0.0001, time_each_step=0.67s, eta=0:24:51\n",
      "2021-02-25 23:30:07 [INFO]\t[TRAIN] Epoch=18/64, Step=3/41, loss=0.246342, loss_cls=0.117396, loss_bbox=0.092185, loss_rpn_cls=0.027357, loss_rpn_bbox=0.009405, lr=0.0001, time_each_step=0.71s, eta=0:24:51\n",
      "2021-02-25 23:30:08 [INFO]\t[TRAIN] Epoch=18/64, Step=5/41, loss=0.204744, loss_cls=0.099942, loss_bbox=0.079946, loss_rpn_cls=0.019891, loss_rpn_bbox=0.004965, lr=0.0001, time_each_step=0.71s, eta=0:24:50\n",
      "2021-02-25 23:30:09 [INFO]\t[TRAIN] Epoch=18/64, Step=7/41, loss=0.153452, loss_cls=0.086151, loss_bbox=0.053996, loss_rpn_cls=0.009705, loss_rpn_bbox=0.0036, lr=0.0001, time_each_step=0.72s, eta=0:24:48\n",
      "2021-02-25 23:30:10 [INFO]\t[TRAIN] Epoch=18/64, Step=9/41, loss=0.296706, loss_cls=0.141389, loss_bbox=0.095122, loss_rpn_cls=0.041937, loss_rpn_bbox=0.018258, lr=0.0001, time_each_step=0.72s, eta=0:24:47\n",
      "2021-02-25 23:30:11 [INFO]\t[TRAIN] Epoch=18/64, Step=11/41, loss=0.127556, loss_cls=0.063395, loss_bbox=0.047948, loss_rpn_cls=0.011738, loss_rpn_bbox=0.004475, lr=0.0001, time_each_step=0.72s, eta=0:24:46\n",
      "2021-02-25 23:30:12 [INFO]\t[TRAIN] Epoch=18/64, Step=13/41, loss=0.327226, loss_cls=0.158188, loss_bbox=0.143671, loss_rpn_cls=0.015357, loss_rpn_bbox=0.01001, lr=0.0001, time_each_step=0.72s, eta=0:24:44\n",
      "2021-02-25 23:30:13 [INFO]\t[TRAIN] Epoch=18/64, Step=15/41, loss=0.285201, loss_cls=0.142043, loss_bbox=0.122159, loss_rpn_cls=0.013405, loss_rpn_bbox=0.007595, lr=0.0001, time_each_step=0.73s, eta=0:24:43\n",
      "2021-02-25 23:30:14 [INFO]\t[TRAIN] Epoch=18/64, Step=17/41, loss=0.215943, loss_cls=0.116987, loss_bbox=0.081955, loss_rpn_cls=0.009329, loss_rpn_bbox=0.007673, lr=0.0001, time_each_step=0.73s, eta=0:24:41\n",
      "2021-02-25 23:30:14 [INFO]\t[TRAIN] Epoch=18/64, Step=19/41, loss=0.186408, loss_cls=0.104195, loss_bbox=0.067697, loss_rpn_cls=0.0092, loss_rpn_bbox=0.005316, lr=0.0001, time_each_step=0.73s, eta=0:24:40\n",
      "2021-02-25 23:30:15 [INFO]\t[TRAIN] Epoch=18/64, Step=21/41, loss=0.246213, loss_cls=0.112516, loss_bbox=0.084068, loss_rpn_cls=0.040224, loss_rpn_bbox=0.009406, lr=0.0001, time_each_step=0.47s, eta=0:24:33\n",
      "2021-02-25 23:30:16 [INFO]\t[TRAIN] Epoch=18/64, Step=23/41, loss=0.267713, loss_cls=0.109872, loss_bbox=0.136627, loss_rpn_cls=0.014435, loss_rpn_bbox=0.006779, lr=0.0001, time_each_step=0.42s, eta=0:24:32\n",
      "2021-02-25 23:30:17 [INFO]\t[TRAIN] Epoch=18/64, Step=25/41, loss=0.129224, loss_cls=0.062368, loss_bbox=0.054031, loss_rpn_cls=0.006496, loss_rpn_bbox=0.006328, lr=0.0001, time_each_step=0.41s, eta=0:24:30\n",
      "2021-02-25 23:30:17 [INFO]\t[TRAIN] Epoch=18/64, Step=27/41, loss=0.333037, loss_cls=0.163507, loss_bbox=0.140877, loss_rpn_cls=0.018254, loss_rpn_bbox=0.010399, lr=0.0001, time_each_step=0.41s, eta=0:24:30\n",
      "2021-02-25 23:30:18 [INFO]\t[TRAIN] Epoch=18/64, Step=29/41, loss=0.150363, loss_cls=0.06741, loss_bbox=0.041098, loss_rpn_cls=0.031294, loss_rpn_bbox=0.01056, lr=0.0001, time_each_step=0.4s, eta=0:24:29\n",
      "2021-02-25 23:30:19 [INFO]\t[TRAIN] Epoch=18/64, Step=31/41, loss=0.239919, loss_cls=0.107237, loss_bbox=0.083418, loss_rpn_cls=0.02707, loss_rpn_bbox=0.022193, lr=0.0001, time_each_step=0.4s, eta=0:24:28\n",
      "2021-02-25 23:30:20 [INFO]\t[TRAIN] Epoch=18/64, Step=33/41, loss=0.209163, loss_cls=0.109944, loss_bbox=0.082181, loss_rpn_cls=0.010476, loss_rpn_bbox=0.006562, lr=0.0001, time_each_step=0.4s, eta=0:24:27\n",
      "2021-02-25 23:30:21 [INFO]\t[TRAIN] Epoch=18/64, Step=35/41, loss=0.253529, loss_cls=0.128672, loss_bbox=0.091347, loss_rpn_cls=0.026771, loss_rpn_bbox=0.006739, lr=0.0001, time_each_step=0.4s, eta=0:24:26\n",
      "2021-02-25 23:30:21 [INFO]\t[TRAIN] Epoch=18/64, Step=37/41, loss=0.159595, loss_cls=0.08453, loss_bbox=0.060818, loss_rpn_cls=0.010314, loss_rpn_bbox=0.003935, lr=0.0001, time_each_step=0.39s, eta=0:24:26\n",
      "2021-02-25 23:30:22 [INFO]\t[TRAIN] Epoch=18/64, Step=39/41, loss=0.2856, loss_cls=0.151675, loss_bbox=0.115349, loss_rpn_cls=0.012997, loss_rpn_bbox=0.005579, lr=0.0001, time_each_step=0.39s, eta=0:24:25\n",
      "2021-02-25 23:30:23 [INFO]\t[TRAIN] Epoch=18/64, Step=41/41, loss=0.207715, loss_cls=0.111341, loss_bbox=0.085743, loss_rpn_cls=0.007437, loss_rpn_bbox=0.003194, lr=0.0001, time_each_step=0.4s, eta=0:24:24\n",
      "2021-02-25 23:30:23 [INFO]\t[TRAIN] Epoch 18 finished, loss=0.227686, loss_cls=0.113188, loss_bbox=0.088727, loss_rpn_cls=0.018193, loss_rpn_bbox=0.007579, lr=0.0001 .\n",
      "2021-02-25 23:30:23 [WARNING]\tFaster RCNN supports batch_size=1 only during evaluating, so batch_size is forced to be set to 1.\n",
      "2021-02-25 23:30:23 [INFO]\tStart to evaluating(total_samples=2, total_steps=2)...\n"
     ]
    },
    {
     "name": "stderr",
     "output_type": "stream",
     "text": [
      "100%|██████████| 2/2 [00:04<00:00,  2.42s/it]\n"
     ]
    },
    {
     "name": "stdout",
     "output_type": "stream",
     "text": [
      "2021-02-25 23:30:28 [INFO]\t[EVAL] Finished, Epoch=18, bbox_map=75.0 .\n",
      "2021-02-25 23:30:32 [INFO]\tModel saved in output/faster_rcnn_r50_fpn/epoch_18.\n",
      "2021-02-25 23:30:32 [INFO]\tCurrent evaluated best model in eval_dataset is epoch_10, bbox_map=83.33333333333334\n",
      "2021-02-25 23:30:39 [INFO]\t[TRAIN] Epoch=19/64, Step=2/41, loss=0.120287, loss_cls=0.068864, loss_bbox=0.046937, loss_rpn_cls=0.00326, loss_rpn_bbox=0.001227, lr=0.0001, time_each_step=0.71s, eta=0:24:37\n",
      "2021-02-25 23:30:40 [INFO]\t[TRAIN] Epoch=19/64, Step=4/41, loss=0.237356, loss_cls=0.128165, loss_bbox=0.090998, loss_rpn_cls=0.012302, loss_rpn_bbox=0.005892, lr=0.0001, time_each_step=0.71s, eta=0:24:36\n",
      "2021-02-25 23:30:41 [INFO]\t[TRAIN] Epoch=19/64, Step=6/41, loss=0.182725, loss_cls=0.089208, loss_bbox=0.06696, loss_rpn_cls=0.018168, loss_rpn_bbox=0.00839, lr=0.0001, time_each_step=0.72s, eta=0:24:35\n",
      "2021-02-25 23:30:42 [INFO]\t[TRAIN] Epoch=19/64, Step=8/41, loss=0.098327, loss_cls=0.04684, loss_bbox=0.038635, loss_rpn_cls=0.007632, loss_rpn_bbox=0.00522, lr=0.0001, time_each_step=0.73s, eta=0:24:34\n",
      "2021-02-25 23:30:43 [INFO]\t[TRAIN] Epoch=19/64, Step=10/41, loss=0.132065, loss_cls=0.066665, loss_bbox=0.056295, loss_rpn_cls=0.005781, loss_rpn_bbox=0.003324, lr=0.0001, time_each_step=0.73s, eta=0:24:32\n",
      "2021-02-25 23:30:44 [INFO]\t[TRAIN] Epoch=19/64, Step=12/41, loss=0.225947, loss_cls=0.110507, loss_bbox=0.092329, loss_rpn_cls=0.016208, loss_rpn_bbox=0.006904, lr=0.0001, time_each_step=0.73s, eta=0:24:31\n",
      "2021-02-25 23:30:44 [INFO]\t[TRAIN] Epoch=19/64, Step=14/41, loss=0.178964, loss_cls=0.083081, loss_bbox=0.075395, loss_rpn_cls=0.0139, loss_rpn_bbox=0.006588, lr=0.0001, time_each_step=0.73s, eta=0:24:30\n",
      "2021-02-25 23:30:45 [INFO]\t[TRAIN] Epoch=19/64, Step=16/41, loss=0.31352, loss_cls=0.164552, loss_bbox=0.10913, loss_rpn_cls=0.030626, loss_rpn_bbox=0.009212, lr=0.0001, time_each_step=0.74s, eta=0:24:28\n",
      "2021-02-25 23:30:46 [INFO]\t[TRAIN] Epoch=19/64, Step=18/41, loss=0.282244, loss_cls=0.143434, loss_bbox=0.113254, loss_rpn_cls=0.017185, loss_rpn_bbox=0.008371, lr=0.0001, time_each_step=0.74s, eta=0:24:27\n",
      "2021-02-25 23:30:47 [INFO]\t[TRAIN] Epoch=19/64, Step=20/41, loss=0.131108, loss_cls=0.068904, loss_bbox=0.047296, loss_rpn_cls=0.00942, loss_rpn_bbox=0.005488, lr=0.0001, time_each_step=0.73s, eta=0:24:25\n",
      "2021-02-25 23:30:48 [INFO]\t[TRAIN] Epoch=19/64, Step=22/41, loss=0.411399, loss_cls=0.207028, loss_bbox=0.163653, loss_rpn_cls=0.028569, loss_rpn_bbox=0.01215, lr=0.0001, time_each_step=0.43s, eta=0:24:18\n",
      "2021-02-25 23:30:48 [INFO]\t[TRAIN] Epoch=19/64, Step=24/41, loss=0.144772, loss_cls=0.07373, loss_bbox=0.058351, loss_rpn_cls=0.009712, loss_rpn_bbox=0.002979, lr=0.0001, time_each_step=0.42s, eta=0:24:17\n",
      "2021-02-25 23:30:49 [INFO]\t[TRAIN] Epoch=19/64, Step=26/41, loss=0.131292, loss_cls=0.065688, loss_bbox=0.043533, loss_rpn_cls=0.016172, loss_rpn_bbox=0.005898, lr=0.0001, time_each_step=0.41s, eta=0:24:16\n",
      "2021-02-25 23:30:50 [INFO]\t[TRAIN] Epoch=19/64, Step=28/41, loss=0.198502, loss_cls=0.107778, loss_bbox=0.076544, loss_rpn_cls=0.008362, loss_rpn_bbox=0.005818, lr=0.0001, time_each_step=0.41s, eta=0:24:15\n",
      "2021-02-25 23:30:51 [INFO]\t[TRAIN] Epoch=19/64, Step=30/41, loss=0.220834, loss_cls=0.119296, loss_bbox=0.082955, loss_rpn_cls=0.010955, loss_rpn_bbox=0.007628, lr=0.0001, time_each_step=0.4s, eta=0:24:14\n",
      "2021-02-25 23:30:52 [INFO]\t[TRAIN] Epoch=19/64, Step=32/41, loss=0.228015, loss_cls=0.134535, loss_bbox=0.080959, loss_rpn_cls=0.007282, loss_rpn_bbox=0.005239, lr=0.0001, time_each_step=0.4s, eta=0:24:13\n",
      "2021-02-25 23:30:52 [INFO]\t[TRAIN] Epoch=19/64, Step=34/41, loss=0.269732, loss_cls=0.135866, loss_bbox=0.094659, loss_rpn_cls=0.02406, loss_rpn_bbox=0.015147, lr=0.0001, time_each_step=0.4s, eta=0:24:13\n",
      "2021-02-25 23:30:53 [INFO]\t[TRAIN] Epoch=19/64, Step=36/41, loss=0.192296, loss_cls=0.097623, loss_bbox=0.070579, loss_rpn_cls=0.017348, loss_rpn_bbox=0.006747, lr=0.0001, time_each_step=0.4s, eta=0:24:12\n",
      "2021-02-25 23:30:54 [INFO]\t[TRAIN] Epoch=19/64, Step=38/41, loss=0.342629, loss_cls=0.165573, loss_bbox=0.110701, loss_rpn_cls=0.050496, loss_rpn_bbox=0.01586, lr=0.0001, time_each_step=0.39s, eta=0:24:11\n",
      "2021-02-25 23:30:55 [INFO]\t[TRAIN] Epoch=19/64, Step=40/41, loss=0.309095, loss_cls=0.144926, loss_bbox=0.125654, loss_rpn_cls=0.015808, loss_rpn_bbox=0.022707, lr=0.0001, time_each_step=0.39s, eta=0:24:10\n",
      "2021-02-25 23:30:55 [INFO]\t[TRAIN] Epoch 19 finished, loss=0.227514, loss_cls=0.114379, loss_bbox=0.087115, loss_rpn_cls=0.018166, loss_rpn_bbox=0.007854, lr=0.0001 .\n",
      "2021-02-25 23:30:55 [WARNING]\tFaster RCNN supports batch_size=1 only during evaluating, so batch_size is forced to be set to 1.\n",
      "2021-02-25 23:30:55 [INFO]\tStart to evaluating(total_samples=2, total_steps=2)...\n"
     ]
    },
    {
     "name": "stderr",
     "output_type": "stream",
     "text": [
      "100%|██████████| 2/2 [00:07<00:00,  3.84s/it]\n"
     ]
    },
    {
     "name": "stdout",
     "output_type": "stream",
     "text": [
      "2021-02-25 23:31:03 [INFO]\t[EVAL] Finished, Epoch=19, bbox_map=36.666667 .\n",
      "2021-02-25 23:31:09 [INFO]\tModel saved in output/faster_rcnn_r50_fpn/epoch_19.\n",
      "2021-02-25 23:31:09 [INFO]\tCurrent evaluated best model in eval_dataset is epoch_10, bbox_map=83.33333333333334\n",
      "2021-02-25 23:31:18 [INFO]\t[TRAIN] Epoch=20/64, Step=1/41, loss=0.128621, loss_cls=0.06629, loss_bbox=0.056041, loss_rpn_cls=0.002745, loss_rpn_bbox=0.003545, lr=0.0001, time_each_step=0.81s, eta=0:27:39\n",
      "2021-02-25 23:31:19 [INFO]\t[TRAIN] Epoch=20/64, Step=3/41, loss=0.223783, loss_cls=0.114908, loss_bbox=0.084892, loss_rpn_cls=0.018204, loss_rpn_bbox=0.005778, lr=0.0001, time_each_step=0.82s, eta=0:27:38\n",
      "2021-02-25 23:31:20 [INFO]\t[TRAIN] Epoch=20/64, Step=5/41, loss=0.192005, loss_cls=0.080573, loss_bbox=0.073181, loss_rpn_cls=0.018476, loss_rpn_bbox=0.019775, lr=0.0001, time_each_step=0.83s, eta=0:27:36\n",
      "2021-02-25 23:31:21 [INFO]\t[TRAIN] Epoch=20/64, Step=7/41, loss=0.196817, loss_cls=0.10039, loss_bbox=0.082649, loss_rpn_cls=0.008703, loss_rpn_bbox=0.005075, lr=0.0001, time_each_step=0.84s, eta=0:27:35\n",
      "2021-02-25 23:31:21 [INFO]\t[TRAIN] Epoch=20/64, Step=9/41, loss=0.180851, loss_cls=0.098247, loss_bbox=0.06546, loss_rpn_cls=0.01179, loss_rpn_bbox=0.005355, lr=0.0001, time_each_step=0.85s, eta=0:27:34\n",
      "2021-02-25 23:31:22 [INFO]\t[TRAIN] Epoch=20/64, Step=11/41, loss=0.169474, loss_cls=0.091911, loss_bbox=0.064168, loss_rpn_cls=0.010812, loss_rpn_bbox=0.002584, lr=0.0001, time_each_step=0.85s, eta=0:27:32\n",
      "2021-02-25 23:31:23 [INFO]\t[TRAIN] Epoch=20/64, Step=13/41, loss=0.269635, loss_cls=0.145293, loss_bbox=0.100183, loss_rpn_cls=0.015824, loss_rpn_bbox=0.008336, lr=0.0001, time_each_step=0.85s, eta=0:27:30\n",
      "2021-02-25 23:31:24 [INFO]\t[TRAIN] Epoch=20/64, Step=15/41, loss=0.214703, loss_cls=0.099775, loss_bbox=0.089186, loss_rpn_cls=0.016722, loss_rpn_bbox=0.00902, lr=0.0001, time_each_step=0.86s, eta=0:27:29\n",
      "2021-02-25 23:31:25 [INFO]\t[TRAIN] Epoch=20/64, Step=17/41, loss=0.148181, loss_cls=0.076604, loss_bbox=0.0569, loss_rpn_cls=0.011362, loss_rpn_bbox=0.003315, lr=0.0001, time_each_step=0.86s, eta=0:27:27\n",
      "2021-02-25 23:31:26 [INFO]\t[TRAIN] Epoch=20/64, Step=19/41, loss=0.297493, loss_cls=0.153245, loss_bbox=0.115657, loss_rpn_cls=0.018663, loss_rpn_bbox=0.009928, lr=0.0001, time_each_step=0.87s, eta=0:27:26\n",
      "2021-02-25 23:31:27 [INFO]\t[TRAIN] Epoch=20/64, Step=21/41, loss=0.264563, loss_cls=0.120498, loss_bbox=0.120549, loss_rpn_cls=0.015664, loss_rpn_bbox=0.007852, lr=0.0001, time_each_step=0.45s, eta=0:27:15\n",
      "2021-02-25 23:31:27 [INFO]\t[TRAIN] Epoch=20/64, Step=23/41, loss=0.323586, loss_cls=0.163663, loss_bbox=0.130853, loss_rpn_cls=0.016695, loss_rpn_bbox=0.012375, lr=0.0001, time_each_step=0.44s, eta=0:27:14\n",
      "2021-02-25 23:31:28 [INFO]\t[TRAIN] Epoch=20/64, Step=25/41, loss=0.281796, loss_cls=0.14249, loss_bbox=0.0981, loss_rpn_cls=0.027388, loss_rpn_bbox=0.013818, lr=0.0001, time_each_step=0.43s, eta=0:27:13\n",
      "2021-02-25 23:31:29 [INFO]\t[TRAIN] Epoch=20/64, Step=27/41, loss=0.234206, loss_cls=0.109643, loss_bbox=0.080836, loss_rpn_cls=0.030991, loss_rpn_bbox=0.012735, lr=0.0001, time_each_step=0.41s, eta=0:27:12\n",
      "2021-02-25 23:31:30 [INFO]\t[TRAIN] Epoch=20/64, Step=29/41, loss=0.10801, loss_cls=0.055818, loss_bbox=0.043063, loss_rpn_cls=0.00536, loss_rpn_bbox=0.003768, lr=0.0001, time_each_step=0.41s, eta=0:27:11\n",
      "2021-02-25 23:31:31 [INFO]\t[TRAIN] Epoch=20/64, Step=31/41, loss=0.203174, loss_cls=0.094377, loss_bbox=0.083736, loss_rpn_cls=0.017124, loss_rpn_bbox=0.007937, lr=0.0001, time_each_step=0.41s, eta=0:27:11\n",
      "2021-02-25 23:31:31 [INFO]\t[TRAIN] Epoch=20/64, Step=33/41, loss=0.178232, loss_cls=0.092726, loss_bbox=0.066562, loss_rpn_cls=0.011568, loss_rpn_bbox=0.007377, lr=0.0001, time_each_step=0.41s, eta=0:27:10\n",
      "2021-02-25 23:31:32 [INFO]\t[TRAIN] Epoch=20/64, Step=35/41, loss=0.228587, loss_cls=0.11202, loss_bbox=0.09096, loss_rpn_cls=0.01543, loss_rpn_bbox=0.010177, lr=0.0001, time_each_step=0.4s, eta=0:27:9\n",
      "2021-02-25 23:31:33 [INFO]\t[TRAIN] Epoch=20/64, Step=37/41, loss=0.236102, loss_cls=0.124175, loss_bbox=0.096397, loss_rpn_cls=0.009031, loss_rpn_bbox=0.0065, lr=0.0001, time_each_step=0.4s, eta=0:27:8\n",
      "2021-02-25 23:31:34 [INFO]\t[TRAIN] Epoch=20/64, Step=39/41, loss=0.134725, loss_cls=0.059969, loss_bbox=0.059138, loss_rpn_cls=0.012317, loss_rpn_bbox=0.003302, lr=0.0001, time_each_step=0.39s, eta=0:27:7\n",
      "2021-02-25 23:31:34 [INFO]\t[TRAIN] Epoch=20/64, Step=41/41, loss=0.193586, loss_cls=0.102063, loss_bbox=0.075804, loss_rpn_cls=0.010667, loss_rpn_bbox=0.005053, lr=0.0001, time_each_step=0.39s, eta=0:27:6\n",
      "2021-02-25 23:31:34 [INFO]\t[TRAIN] Epoch 20 finished, loss=0.217176, loss_cls=0.107998, loss_bbox=0.083619, loss_rpn_cls=0.017705, loss_rpn_bbox=0.007855, lr=0.0001 .\n",
      "2021-02-25 23:31:34 [WARNING]\tFaster RCNN supports batch_size=1 only during evaluating, so batch_size is forced to be set to 1.\n",
      "2021-02-25 23:31:34 [INFO]\tStart to evaluating(total_samples=2, total_steps=2)...\n"
     ]
    },
    {
     "name": "stderr",
     "output_type": "stream",
     "text": [
      "100%|██████████| 2/2 [00:03<00:00,  1.71s/it]\n"
     ]
    },
    {
     "name": "stdout",
     "output_type": "stream",
     "text": [
      "2021-02-25 23:31:38 [INFO]\t[EVAL] Finished, Epoch=20, bbox_map=66.666667 .\n",
      "2021-02-25 23:31:42 [INFO]\tModel saved in output/faster_rcnn_r50_fpn/epoch_20.\n",
      "2021-02-25 23:31:42 [INFO]\tCurrent evaluated best model in eval_dataset is epoch_10, bbox_map=83.33333333333334\n",
      "2021-02-25 23:31:49 [INFO]\t[TRAIN] Epoch=21/64, Step=2/41, loss=0.156064, loss_cls=0.080253, loss_bbox=0.060177, loss_rpn_cls=0.011906, loss_rpn_bbox=0.003728, lr=9.5e-05, time_each_step=0.7s, eta=0:24:22\n",
      "2021-02-25 23:31:50 [INFO]\t[TRAIN] Epoch=21/64, Step=4/41, loss=0.173213, loss_cls=0.07684, loss_bbox=0.061562, loss_rpn_cls=0.022236, loss_rpn_bbox=0.012576, lr=9.5e-05, time_each_step=0.73s, eta=0:24:22\n",
      "2021-02-25 23:31:52 [INFO]\t[TRAIN] Epoch=21/64, Step=6/41, loss=0.245072, loss_cls=0.117531, loss_bbox=0.101506, loss_rpn_cls=0.015513, loss_rpn_bbox=0.010522, lr=9.5e-05, time_each_step=0.75s, eta=0:24:21\n",
      "2021-02-25 23:31:52 [INFO]\t[TRAIN] Epoch=21/64, Step=8/41, loss=0.301827, loss_cls=0.147904, loss_bbox=0.134437, loss_rpn_cls=0.013636, loss_rpn_bbox=0.005849, lr=9.5e-05, time_each_step=0.76s, eta=0:24:20\n",
      "2021-02-25 23:31:54 [INFO]\t[TRAIN] Epoch=21/64, Step=10/41, loss=0.264655, loss_cls=0.127029, loss_bbox=0.106499, loss_rpn_cls=0.022393, loss_rpn_bbox=0.008734, lr=9.5e-05, time_each_step=0.77s, eta=0:24:18\n",
      "2021-02-25 23:31:54 [INFO]\t[TRAIN] Epoch=21/64, Step=12/41, loss=0.250967, loss_cls=0.123852, loss_bbox=0.105405, loss_rpn_cls=0.014911, loss_rpn_bbox=0.006799, lr=9.5e-05, time_each_step=0.77s, eta=0:24:17\n",
      "2021-02-25 23:31:55 [INFO]\t[TRAIN] Epoch=21/64, Step=14/41, loss=0.206402, loss_cls=0.09154, loss_bbox=0.077629, loss_rpn_cls=0.017292, loss_rpn_bbox=0.01994, lr=9.5e-05, time_each_step=0.77s, eta=0:24:16\n",
      "2021-02-25 23:31:56 [INFO]\t[TRAIN] Epoch=21/64, Step=16/41, loss=0.221412, loss_cls=0.119916, loss_bbox=0.09012, loss_rpn_cls=0.006008, loss_rpn_bbox=0.005367, lr=9.5e-05, time_each_step=0.78s, eta=0:24:14\n",
      "2021-02-25 23:31:57 [INFO]\t[TRAIN] Epoch=21/64, Step=18/41, loss=0.221736, loss_cls=0.104067, loss_bbox=0.085826, loss_rpn_cls=0.021657, loss_rpn_bbox=0.010186, lr=9.5e-05, time_each_step=0.78s, eta=0:24:13\n",
      "2021-02-25 23:31:58 [INFO]\t[TRAIN] Epoch=21/64, Step=20/41, loss=0.213678, loss_cls=0.102692, loss_bbox=0.075559, loss_rpn_cls=0.025512, loss_rpn_bbox=0.009915, lr=9.5e-05, time_each_step=0.78s, eta=0:24:11\n",
      "2021-02-25 23:31:58 [INFO]\t[TRAIN] Epoch=21/64, Step=22/41, loss=0.223179, loss_cls=0.112885, loss_bbox=0.094251, loss_rpn_cls=0.00976, loss_rpn_bbox=0.006284, lr=9.5e-05, time_each_step=0.47s, eta=0:24:4\n",
      "2021-02-25 23:31:59 [INFO]\t[TRAIN] Epoch=21/64, Step=24/41, loss=0.104699, loss_cls=0.059512, loss_bbox=0.036201, loss_rpn_cls=0.006031, loss_rpn_bbox=0.002954, lr=9.5e-05, time_each_step=0.44s, eta=0:24:2\n",
      "2021-02-25 23:32:00 [INFO]\t[TRAIN] Epoch=21/64, Step=26/41, loss=0.136326, loss_cls=0.075682, loss_bbox=0.049511, loss_rpn_cls=0.007159, loss_rpn_bbox=0.003974, lr=9.5e-05, time_each_step=0.42s, eta=0:24:1\n",
      "2021-02-25 23:32:01 [INFO]\t[TRAIN] Epoch=21/64, Step=28/41, loss=0.194064, loss_cls=0.09845, loss_bbox=0.068186, loss_rpn_cls=0.021503, loss_rpn_bbox=0.005925, lr=9.5e-05, time_each_step=0.41s, eta=0:24:0\n",
      "2021-02-25 23:32:01 [INFO]\t[TRAIN] Epoch=21/64, Step=30/41, loss=0.123063, loss_cls=0.062638, loss_bbox=0.043844, loss_rpn_cls=0.010141, loss_rpn_bbox=0.00644, lr=9.5e-05, time_each_step=0.39s, eta=0:23:59\n",
      "2021-02-25 23:32:02 [INFO]\t[TRAIN] Epoch=21/64, Step=32/41, loss=0.167335, loss_cls=0.068099, loss_bbox=0.043419, loss_rpn_cls=0.047357, loss_rpn_bbox=0.00846, lr=9.5e-05, time_each_step=0.39s, eta=0:23:58\n",
      "2021-02-25 23:32:03 [INFO]\t[TRAIN] Epoch=21/64, Step=34/41, loss=0.162043, loss_cls=0.083, loss_bbox=0.055224, loss_rpn_cls=0.018483, loss_rpn_bbox=0.005336, lr=9.5e-05, time_each_step=0.38s, eta=0:23:57\n",
      "2021-02-25 23:32:04 [INFO]\t[TRAIN] Epoch=21/64, Step=36/41, loss=0.30853, loss_cls=0.157985, loss_bbox=0.126184, loss_rpn_cls=0.012452, loss_rpn_bbox=0.01191, lr=9.5e-05, time_each_step=0.38s, eta=0:23:57\n",
      "2021-02-25 23:32:04 [INFO]\t[TRAIN] Epoch=21/64, Step=38/41, loss=0.222067, loss_cls=0.111144, loss_bbox=0.093006, loss_rpn_cls=0.011741, loss_rpn_bbox=0.006175, lr=9.5e-05, time_each_step=0.38s, eta=0:23:56\n",
      "2021-02-25 23:32:05 [INFO]\t[TRAIN] Epoch=21/64, Step=40/41, loss=0.215559, loss_cls=0.123592, loss_bbox=0.078669, loss_rpn_cls=0.008979, loss_rpn_bbox=0.004319, lr=9.5e-05, time_each_step=0.38s, eta=0:23:55\n",
      "2021-02-25 23:32:06 [INFO]\t[TRAIN] Epoch 21 finished, loss=0.220213, loss_cls=0.109572, loss_bbox=0.086323, loss_rpn_cls=0.016726, loss_rpn_bbox=0.007593, lr=9.5e-05 .\n",
      "2021-02-25 23:32:06 [WARNING]\tFaster RCNN supports batch_size=1 only during evaluating, so batch_size is forced to be set to 1.\n",
      "2021-02-25 23:32:06 [INFO]\tStart to evaluating(total_samples=2, total_steps=2)...\n"
     ]
    },
    {
     "name": "stderr",
     "output_type": "stream",
     "text": [
      "100%|██████████| 2/2 [00:04<00:00,  2.04s/it]\n"
     ]
    },
    {
     "name": "stdout",
     "output_type": "stream",
     "text": [
      "2021-02-25 23:32:10 [INFO]\t[EVAL] Finished, Epoch=21, bbox_map=37.5 .\n",
      "2021-02-25 23:32:14 [INFO]\tModel saved in output/faster_rcnn_r50_fpn/epoch_21.\n",
      "2021-02-25 23:32:14 [INFO]\tCurrent evaluated best model in eval_dataset is epoch_10, bbox_map=83.33333333333334\n",
      "2021-02-25 23:32:20 [INFO]\t[TRAIN] Epoch=22/64, Step=1/41, loss=0.190575, loss_cls=0.098151, loss_bbox=0.061777, loss_rpn_cls=0.023431, loss_rpn_bbox=0.007216, lr=9e-05, time_each_step=0.67s, eta=0:22:51\n",
      "2021-02-25 23:32:22 [INFO]\t[TRAIN] Epoch=22/64, Step=3/41, loss=0.304356, loss_cls=0.140018, loss_bbox=0.139794, loss_rpn_cls=0.017413, loss_rpn_bbox=0.007131, lr=9e-05, time_each_step=0.72s, eta=0:22:51\n",
      "2021-02-25 23:32:22 [INFO]\t[TRAIN] Epoch=22/64, Step=5/41, loss=0.206821, loss_cls=0.113819, loss_bbox=0.069772, loss_rpn_cls=0.01811, loss_rpn_bbox=0.00512, lr=9e-05, time_each_step=0.72s, eta=0:22:50\n",
      "2021-02-25 23:32:23 [INFO]\t[TRAIN] Epoch=22/64, Step=7/41, loss=0.158406, loss_cls=0.063412, loss_bbox=0.051373, loss_rpn_cls=0.02617, loss_rpn_bbox=0.017452, lr=9e-05, time_each_step=0.73s, eta=0:22:49\n",
      "2021-02-25 23:32:24 [INFO]\t[TRAIN] Epoch=22/64, Step=9/41, loss=0.193573, loss_cls=0.095749, loss_bbox=0.077167, loss_rpn_cls=0.01323, loss_rpn_bbox=0.007427, lr=9e-05, time_each_step=0.74s, eta=0:22:48\n",
      "2021-02-25 23:32:25 [INFO]\t[TRAIN] Epoch=22/64, Step=11/41, loss=0.207532, loss_cls=0.109268, loss_bbox=0.080738, loss_rpn_cls=0.010966, loss_rpn_bbox=0.00656, lr=9e-05, time_each_step=0.74s, eta=0:22:46\n",
      "2021-02-25 23:32:26 [INFO]\t[TRAIN] Epoch=22/64, Step=13/41, loss=0.214462, loss_cls=0.111132, loss_bbox=0.092557, loss_rpn_cls=0.004778, loss_rpn_bbox=0.005995, lr=9e-05, time_each_step=0.75s, eta=0:22:45\n",
      "2021-02-25 23:32:27 [INFO]\t[TRAIN] Epoch=22/64, Step=15/41, loss=0.098297, loss_cls=0.048302, loss_bbox=0.040649, loss_rpn_cls=0.00691, loss_rpn_bbox=0.002435, lr=9e-05, time_each_step=0.75s, eta=0:22:44\n",
      "2021-02-25 23:32:28 [INFO]\t[TRAIN] Epoch=22/64, Step=17/41, loss=0.207123, loss_cls=0.10278, loss_bbox=0.08154, loss_rpn_cls=0.016262, loss_rpn_bbox=0.00654, lr=9e-05, time_each_step=0.75s, eta=0:22:42\n",
      "2021-02-25 23:32:29 [INFO]\t[TRAIN] Epoch=22/64, Step=19/41, loss=0.271689, loss_cls=0.120627, loss_bbox=0.112988, loss_rpn_cls=0.030032, loss_rpn_bbox=0.008041, lr=9e-05, time_each_step=0.76s, eta=0:22:41\n",
      "2021-02-25 23:32:29 [INFO]\t[TRAIN] Epoch=22/64, Step=21/41, loss=0.183909, loss_cls=0.090397, loss_bbox=0.067928, loss_rpn_cls=0.019064, loss_rpn_bbox=0.00652, lr=9e-05, time_each_step=0.47s, eta=0:22:33\n",
      "2021-02-25 23:32:30 [INFO]\t[TRAIN] Epoch=22/64, Step=23/41, loss=0.24646, loss_cls=0.113887, loss_bbox=0.105941, loss_rpn_cls=0.01864, loss_rpn_bbox=0.007992, lr=9e-05, time_each_step=0.43s, eta=0:22:32\n",
      "2021-02-25 23:32:31 [INFO]\t[TRAIN] Epoch=22/64, Step=25/41, loss=0.252271, loss_cls=0.125251, loss_bbox=0.098088, loss_rpn_cls=0.021953, loss_rpn_bbox=0.006979, lr=9e-05, time_each_step=0.43s, eta=0:22:31\n",
      "2021-02-25 23:32:32 [INFO]\t[TRAIN] Epoch=22/64, Step=27/41, loss=0.182022, loss_cls=0.100225, loss_bbox=0.068168, loss_rpn_cls=0.008823, loss_rpn_bbox=0.004806, lr=9e-05, time_each_step=0.41s, eta=0:22:30\n",
      "2021-02-25 23:32:33 [INFO]\t[TRAIN] Epoch=22/64, Step=29/41, loss=0.254446, loss_cls=0.133112, loss_bbox=0.091648, loss_rpn_cls=0.022911, loss_rpn_bbox=0.006775, lr=9e-05, time_each_step=0.41s, eta=0:22:29\n",
      "2021-02-25 23:32:33 [INFO]\t[TRAIN] Epoch=22/64, Step=31/41, loss=0.345997, loss_cls=0.181285, loss_bbox=0.131696, loss_rpn_cls=0.02115, loss_rpn_bbox=0.011866, lr=9e-05, time_each_step=0.41s, eta=0:22:28\n",
      "2021-02-25 23:32:34 [INFO]\t[TRAIN] Epoch=22/64, Step=33/41, loss=0.261217, loss_cls=0.127277, loss_bbox=0.097594, loss_rpn_cls=0.023507, loss_rpn_bbox=0.012839, lr=9e-05, time_each_step=0.4s, eta=0:22:27\n",
      "2021-02-25 23:32:35 [INFO]\t[TRAIN] Epoch=22/64, Step=35/41, loss=0.105704, loss_cls=0.050496, loss_bbox=0.044723, loss_rpn_cls=0.003416, loss_rpn_bbox=0.007069, lr=9e-05, time_each_step=0.4s, eta=0:22:26\n",
      "2021-02-25 23:32:36 [INFO]\t[TRAIN] Epoch=22/64, Step=37/41, loss=0.270355, loss_cls=0.129253, loss_bbox=0.117795, loss_rpn_cls=0.011709, loss_rpn_bbox=0.011598, lr=9e-05, time_each_step=0.39s, eta=0:22:26\n",
      "2021-02-25 23:32:37 [INFO]\t[TRAIN] Epoch=22/64, Step=39/41, loss=0.167866, loss_cls=0.079165, loss_bbox=0.072292, loss_rpn_cls=0.011198, loss_rpn_bbox=0.005211, lr=9e-05, time_each_step=0.39s, eta=0:22:25\n",
      "2021-02-25 23:32:37 [INFO]\t[TRAIN] Epoch=22/64, Step=41/41, loss=0.248432, loss_cls=0.127396, loss_bbox=0.099032, loss_rpn_cls=0.016202, loss_rpn_bbox=0.005802, lr=9e-05, time_each_step=0.39s, eta=0:22:24\n",
      "2021-02-25 23:32:37 [INFO]\t[TRAIN] Epoch 22 finished, loss=0.215781, loss_cls=0.108668, loss_bbox=0.083687, loss_rpn_cls=0.015681, loss_rpn_bbox=0.007744, lr=9e-05 .\n",
      "2021-02-25 23:32:37 [WARNING]\tFaster RCNN supports batch_size=1 only during evaluating, so batch_size is forced to be set to 1.\n",
      "2021-02-25 23:32:37 [INFO]\tStart to evaluating(total_samples=2, total_steps=2)...\n"
     ]
    },
    {
     "name": "stderr",
     "output_type": "stream",
     "text": [
      "100%|██████████| 2/2 [00:04<00:00,  2.14s/it]\n"
     ]
    },
    {
     "name": "stdout",
     "output_type": "stream",
     "text": [
      "2021-02-25 23:32:42 [INFO]\t[EVAL] Finished, Epoch=22, bbox_map=21.868687 .\n",
      "2021-02-25 23:32:46 [INFO]\tModel saved in output/faster_rcnn_r50_fpn/epoch_22.\n",
      "2021-02-25 23:32:46 [INFO]\tCurrent evaluated best model in eval_dataset is epoch_10, bbox_map=83.33333333333334\n",
      "2021-02-25 23:32:52 [INFO]\t[TRAIN] Epoch=23/64, Step=2/41, loss=0.145031, loss_cls=0.066203, loss_bbox=0.060052, loss_rpn_cls=0.007017, loss_rpn_bbox=0.011759, lr=8.6e-05, time_each_step=0.67s, eta=0:22:21\n",
      "2021-02-25 23:32:53 [INFO]\t[TRAIN] Epoch=23/64, Step=4/41, loss=0.236993, loss_cls=0.121748, loss_bbox=0.099092, loss_rpn_cls=0.00923, loss_rpn_bbox=0.006923, lr=8.6e-05, time_each_step=0.7s, eta=0:22:20\n",
      "2021-02-25 23:32:54 [INFO]\t[TRAIN] Epoch=23/64, Step=6/41, loss=0.226025, loss_cls=0.117954, loss_bbox=0.085255, loss_rpn_cls=0.01378, loss_rpn_bbox=0.009035, lr=8.6e-05, time_each_step=0.7s, eta=0:22:19\n",
      "2021-02-25 23:32:55 [INFO]\t[TRAIN] Epoch=23/64, Step=8/41, loss=0.14549, loss_cls=0.073629, loss_bbox=0.058263, loss_rpn_cls=0.00854, loss_rpn_bbox=0.005059, lr=8.6e-05, time_each_step=0.7s, eta=0:22:18\n",
      "2021-02-25 23:32:56 [INFO]\t[TRAIN] Epoch=23/64, Step=10/41, loss=0.186289, loss_cls=0.093441, loss_bbox=0.070968, loss_rpn_cls=0.016524, loss_rpn_bbox=0.005356, lr=8.6e-05, time_each_step=0.71s, eta=0:22:16\n",
      "2021-02-25 23:32:57 [INFO]\t[TRAIN] Epoch=23/64, Step=12/41, loss=0.146115, loss_cls=0.066419, loss_bbox=0.071927, loss_rpn_cls=0.002206, loss_rpn_bbox=0.005563, lr=8.6e-05, time_each_step=0.71s, eta=0:22:15\n",
      "2021-02-25 23:32:58 [INFO]\t[TRAIN] Epoch=23/64, Step=14/41, loss=0.113784, loss_cls=0.055076, loss_bbox=0.047472, loss_rpn_cls=0.007866, loss_rpn_bbox=0.00337, lr=8.6e-05, time_each_step=0.71s, eta=0:22:14\n",
      "2021-02-25 23:32:58 [INFO]\t[TRAIN] Epoch=23/64, Step=16/41, loss=0.32711, loss_cls=0.174445, loss_bbox=0.134724, loss_rpn_cls=0.010526, loss_rpn_bbox=0.007414, lr=8.6e-05, time_each_step=0.71s, eta=0:22:12\n",
      "2021-02-25 23:32:59 [INFO]\t[TRAIN] Epoch=23/64, Step=18/41, loss=0.233828, loss_cls=0.113204, loss_bbox=0.094241, loss_rpn_cls=0.017371, loss_rpn_bbox=0.009012, lr=8.6e-05, time_each_step=0.71s, eta=0:22:11\n",
      "2021-02-25 23:33:00 [INFO]\t[TRAIN] Epoch=23/64, Step=20/41, loss=0.151191, loss_cls=0.081503, loss_bbox=0.05899, loss_rpn_cls=0.006937, loss_rpn_bbox=0.003761, lr=8.6e-05, time_each_step=0.72s, eta=0:22:10\n",
      "2021-02-25 23:33:01 [INFO]\t[TRAIN] Epoch=23/64, Step=22/41, loss=0.245902, loss_cls=0.126365, loss_bbox=0.104663, loss_rpn_cls=0.007307, loss_rpn_bbox=0.007568, lr=8.6e-05, time_each_step=0.44s, eta=0:22:3\n",
      "2021-02-25 23:33:02 [INFO]\t[TRAIN] Epoch=23/64, Step=24/41, loss=0.31995, loss_cls=0.153717, loss_bbox=0.12821, loss_rpn_cls=0.027273, loss_rpn_bbox=0.01075, lr=8.6e-05, time_each_step=0.42s, eta=0:22:2\n",
      "2021-02-25 23:33:02 [INFO]\t[TRAIN] Epoch=23/64, Step=26/41, loss=0.223847, loss_cls=0.114762, loss_bbox=0.082694, loss_rpn_cls=0.018173, loss_rpn_bbox=0.008219, lr=8.6e-05, time_each_step=0.41s, eta=0:22:1\n",
      "2021-02-25 23:33:03 [INFO]\t[TRAIN] Epoch=23/64, Step=28/41, loss=0.221764, loss_cls=0.097024, loss_bbox=0.0776, loss_rpn_cls=0.035112, loss_rpn_bbox=0.012027, lr=8.6e-05, time_each_step=0.41s, eta=0:22:0\n",
      "2021-02-25 23:33:04 [INFO]\t[TRAIN] Epoch=23/64, Step=30/41, loss=0.211763, loss_cls=0.11208, loss_bbox=0.080268, loss_rpn_cls=0.011693, loss_rpn_bbox=0.007722, lr=8.6e-05, time_each_step=0.4s, eta=0:21:59\n",
      "2021-02-25 23:33:05 [INFO]\t[TRAIN] Epoch=23/64, Step=32/41, loss=0.166914, loss_cls=0.082463, loss_bbox=0.057381, loss_rpn_cls=0.020411, loss_rpn_bbox=0.006659, lr=8.6e-05, time_each_step=0.4s, eta=0:21:58\n",
      "2021-02-25 23:33:06 [INFO]\t[TRAIN] Epoch=23/64, Step=34/41, loss=0.18355, loss_cls=0.07616, loss_bbox=0.069209, loss_rpn_cls=0.020866, loss_rpn_bbox=0.017314, lr=8.6e-05, time_each_step=0.39s, eta=0:21:57\n",
      "2021-02-25 23:33:06 [INFO]\t[TRAIN] Epoch=23/64, Step=36/41, loss=0.139346, loss_cls=0.080538, loss_bbox=0.047332, loss_rpn_cls=0.007001, loss_rpn_bbox=0.004475, lr=8.6e-05, time_each_step=0.4s, eta=0:21:56\n",
      "2021-02-25 23:33:07 [INFO]\t[TRAIN] Epoch=23/64, Step=38/41, loss=0.1323, loss_cls=0.077375, loss_bbox=0.046425, loss_rpn_cls=0.005856, loss_rpn_bbox=0.002644, lr=8.6e-05, time_each_step=0.4s, eta=0:21:56\n",
      "2021-02-25 23:33:08 [INFO]\t[TRAIN] Epoch=23/64, Step=40/41, loss=0.248686, loss_cls=0.121758, loss_bbox=0.096909, loss_rpn_cls=0.02214, loss_rpn_bbox=0.007879, lr=8.6e-05, time_each_step=0.4s, eta=0:21:55\n",
      "2021-02-25 23:33:08 [INFO]\t[TRAIN] Epoch 23 finished, loss=0.216238, loss_cls=0.107708, loss_bbox=0.084483, loss_rpn_cls=0.016168, loss_rpn_bbox=0.007879, lr=8.6e-05 .\n",
      "2021-02-25 23:33:08 [WARNING]\tFaster RCNN supports batch_size=1 only during evaluating, so batch_size is forced to be set to 1.\n",
      "2021-02-25 23:33:08 [INFO]\tStart to evaluating(total_samples=2, total_steps=2)...\n"
     ]
    },
    {
     "name": "stderr",
     "output_type": "stream",
     "text": [
      "100%|██████████| 2/2 [00:04<00:00,  2.36s/it]\n"
     ]
    },
    {
     "name": "stdout",
     "output_type": "stream",
     "text": [
      "2021-02-25 23:33:13 [INFO]\t[EVAL] Finished, Epoch=23, bbox_map=19.090909 .\n",
      "2021-02-25 23:33:17 [INFO]\tModel saved in output/faster_rcnn_r50_fpn/epoch_23.\n",
      "2021-02-25 23:33:17 [INFO]\tCurrent evaluated best model in eval_dataset is epoch_10, bbox_map=83.33333333333334\n",
      "2021-02-25 23:33:22 [INFO]\t[TRAIN] Epoch=24/64, Step=1/41, loss=0.207272, loss_cls=0.106237, loss_bbox=0.090952, loss_rpn_cls=0.004976, loss_rpn_bbox=0.005107, lr=8.1e-05, time_each_step=0.6s, eta=0:21:29\n",
      "2021-02-25 23:33:23 [INFO]\t[TRAIN] Epoch=24/64, Step=3/41, loss=0.15259, loss_cls=0.082723, loss_bbox=0.059388, loss_rpn_cls=0.00584, loss_rpn_bbox=0.004638, lr=8.1e-05, time_each_step=0.64s, eta=0:21:29\n",
      "2021-02-25 23:33:25 [INFO]\t[TRAIN] Epoch=24/64, Step=5/41, loss=0.234282, loss_cls=0.11205, loss_bbox=0.096222, loss_rpn_cls=0.018687, loss_rpn_bbox=0.007323, lr=8.1e-05, time_each_step=0.67s, eta=0:21:29\n",
      "2021-02-25 23:33:26 [INFO]\t[TRAIN] Epoch=24/64, Step=7/41, loss=0.140417, loss_cls=0.067659, loss_bbox=0.057994, loss_rpn_cls=0.010361, loss_rpn_bbox=0.004402, lr=8.1e-05, time_each_step=0.68s, eta=0:21:28\n",
      "2021-02-25 23:33:26 [INFO]\t[TRAIN] Epoch=24/64, Step=9/41, loss=0.149578, loss_cls=0.07087, loss_bbox=0.068125, loss_rpn_cls=0.006331, loss_rpn_bbox=0.004252, lr=8.1e-05, time_each_step=0.68s, eta=0:21:27\n",
      "2021-02-25 23:33:27 [INFO]\t[TRAIN] Epoch=24/64, Step=11/41, loss=0.12787, loss_cls=0.065558, loss_bbox=0.052432, loss_rpn_cls=0.00741, loss_rpn_bbox=0.002469, lr=8.1e-05, time_each_step=0.69s, eta=0:21:25\n",
      "2021-02-25 23:33:28 [INFO]\t[TRAIN] Epoch=24/64, Step=13/41, loss=0.205215, loss_cls=0.105907, loss_bbox=0.074689, loss_rpn_cls=0.017826, loss_rpn_bbox=0.006793, lr=8.1e-05, time_each_step=0.69s, eta=0:21:24\n",
      "2021-02-25 23:33:29 [INFO]\t[TRAIN] Epoch=24/64, Step=15/41, loss=0.24467, loss_cls=0.135655, loss_bbox=0.093624, loss_rpn_cls=0.008458, loss_rpn_bbox=0.006932, lr=8.1e-05, time_each_step=0.69s, eta=0:21:23\n",
      "2021-02-25 23:33:30 [INFO]\t[TRAIN] Epoch=24/64, Step=17/41, loss=0.147146, loss_cls=0.081529, loss_bbox=0.053164, loss_rpn_cls=0.008723, loss_rpn_bbox=0.00373, lr=8.1e-05, time_each_step=0.69s, eta=0:21:21\n",
      "2021-02-25 23:33:31 [INFO]\t[TRAIN] Epoch=24/64, Step=19/41, loss=0.377939, loss_cls=0.19528, loss_bbox=0.139283, loss_rpn_cls=0.033167, loss_rpn_bbox=0.010208, lr=8.1e-05, time_each_step=0.69s, eta=0:21:20\n",
      "2021-02-25 23:33:31 [INFO]\t[TRAIN] Epoch=24/64, Step=21/41, loss=0.208785, loss_cls=0.10539, loss_bbox=0.080656, loss_rpn_cls=0.015137, loss_rpn_bbox=0.007602, lr=8.1e-05, time_each_step=0.49s, eta=0:21:15\n",
      "2021-02-25 23:33:32 [INFO]\t[TRAIN] Epoch=24/64, Step=23/41, loss=0.253107, loss_cls=0.128855, loss_bbox=0.097891, loss_rpn_cls=0.017302, loss_rpn_bbox=0.009059, lr=8.1e-05, time_each_step=0.44s, eta=0:21:13\n",
      "2021-02-25 23:33:33 [INFO]\t[TRAIN] Epoch=24/64, Step=25/41, loss=0.316325, loss_cls=0.15464, loss_bbox=0.122056, loss_rpn_cls=0.024301, loss_rpn_bbox=0.015329, lr=8.1e-05, time_each_step=0.42s, eta=0:21:12\n",
      "2021-02-25 23:33:34 [INFO]\t[TRAIN] Epoch=24/64, Step=27/41, loss=0.139572, loss_cls=0.06356, loss_bbox=0.056433, loss_rpn_cls=0.012381, loss_rpn_bbox=0.007198, lr=8.1e-05, time_each_step=0.41s, eta=0:21:11\n",
      "2021-02-25 23:33:35 [INFO]\t[TRAIN] Epoch=24/64, Step=29/41, loss=0.163634, loss_cls=0.084444, loss_bbox=0.069257, loss_rpn_cls=0.007277, loss_rpn_bbox=0.002656, lr=8.1e-05, time_each_step=0.41s, eta=0:21:10\n",
      "2021-02-25 23:33:35 [INFO]\t[TRAIN] Epoch=24/64, Step=31/41, loss=0.22708, loss_cls=0.123783, loss_bbox=0.088052, loss_rpn_cls=0.005891, loss_rpn_bbox=0.009354, lr=8.1e-05, time_each_step=0.41s, eta=0:21:9\n",
      "2021-02-25 23:33:36 [INFO]\t[TRAIN] Epoch=24/64, Step=33/41, loss=0.191373, loss_cls=0.093969, loss_bbox=0.069412, loss_rpn_cls=0.018981, loss_rpn_bbox=0.009011, lr=8.1e-05, time_each_step=0.4s, eta=0:21:8\n",
      "2021-02-25 23:33:37 [INFO]\t[TRAIN] Epoch=24/64, Step=35/41, loss=0.197371, loss_cls=0.094613, loss_bbox=0.063431, loss_rpn_cls=0.028464, loss_rpn_bbox=0.010862, lr=8.1e-05, time_each_step=0.4s, eta=0:21:7\n",
      "2021-02-25 23:33:38 [INFO]\t[TRAIN] Epoch=24/64, Step=37/41, loss=0.308474, loss_cls=0.132295, loss_bbox=0.136939, loss_rpn_cls=0.02814, loss_rpn_bbox=0.0111, lr=8.1e-05, time_each_step=0.4s, eta=0:21:6\n",
      "2021-02-25 23:33:38 [INFO]\t[TRAIN] Epoch=24/64, Step=39/41, loss=0.29255, loss_cls=0.145532, loss_bbox=0.126036, loss_rpn_cls=0.012865, loss_rpn_bbox=0.008117, lr=8.1e-05, time_each_step=0.39s, eta=0:21:6\n",
      "2021-02-25 23:33:39 [INFO]\t[TRAIN] Epoch=24/64, Step=41/41, loss=0.200443, loss_cls=0.104773, loss_bbox=0.075302, loss_rpn_cls=0.012274, loss_rpn_bbox=0.008094, lr=8.1e-05, time_each_step=0.39s, eta=0:21:5\n",
      "2021-02-25 23:33:39 [INFO]\t[TRAIN] Epoch 24 finished, loss=0.214754, loss_cls=0.107485, loss_bbox=0.084678, loss_rpn_cls=0.01477, loss_rpn_bbox=0.007822, lr=8.1e-05 .\n",
      "2021-02-25 23:33:39 [WARNING]\tFaster RCNN supports batch_size=1 only during evaluating, so batch_size is forced to be set to 1.\n",
      "2021-02-25 23:33:39 [INFO]\tStart to evaluating(total_samples=2, total_steps=2)...\n"
     ]
    },
    {
     "name": "stderr",
     "output_type": "stream",
     "text": [
      "100%|██████████| 2/2 [00:06<00:00,  3.47s/it]\n"
     ]
    },
    {
     "name": "stdout",
     "output_type": "stream",
     "text": [
      "2021-02-25 23:33:46 [INFO]\t[EVAL] Finished, Epoch=24, bbox_map=19.090909 .\n",
      "2021-02-25 23:33:50 [INFO]\tModel saved in output/faster_rcnn_r50_fpn/epoch_24.\n",
      "2021-02-25 23:33:50 [INFO]\tCurrent evaluated best model in eval_dataset is epoch_10, bbox_map=83.33333333333334\n",
      "2021-02-25 23:33:59 [INFO]\t[TRAIN] Epoch=25/64, Step=2/41, loss=0.33106, loss_cls=0.164073, loss_bbox=0.14233, loss_rpn_cls=0.012836, loss_rpn_bbox=0.011821, lr=7.7e-05, time_each_step=0.77s, eta=0:22:18\n",
      "2021-02-25 23:34:00 [INFO]\t[TRAIN] Epoch=25/64, Step=4/41, loss=0.387741, loss_cls=0.177681, loss_bbox=0.146302, loss_rpn_cls=0.037825, loss_rpn_bbox=0.025933, lr=7.7e-05, time_each_step=0.77s, eta=0:22:17\n",
      "2021-02-25 23:34:01 [INFO]\t[TRAIN] Epoch=25/64, Step=6/41, loss=0.202949, loss_cls=0.113677, loss_bbox=0.075005, loss_rpn_cls=0.008033, loss_rpn_bbox=0.006234, lr=7.7e-05, time_each_step=0.78s, eta=0:22:16\n",
      "2021-02-25 23:34:02 [INFO]\t[TRAIN] Epoch=25/64, Step=8/41, loss=0.222964, loss_cls=0.105429, loss_bbox=0.096861, loss_rpn_cls=0.013808, loss_rpn_bbox=0.006866, lr=7.7e-05, time_each_step=0.79s, eta=0:22:14\n",
      "2021-02-25 23:34:03 [INFO]\t[TRAIN] Epoch=25/64, Step=10/41, loss=0.201652, loss_cls=0.095414, loss_bbox=0.079777, loss_rpn_cls=0.020238, loss_rpn_bbox=0.006223, lr=7.7e-05, time_each_step=0.8s, eta=0:22:13\n",
      "2021-02-25 23:34:03 [INFO]\t[TRAIN] Epoch=25/64, Step=12/41, loss=0.183847, loss_cls=0.097055, loss_bbox=0.072215, loss_rpn_cls=0.011738, loss_rpn_bbox=0.00284, lr=7.7e-05, time_each_step=0.8s, eta=0:22:12\n",
      "2021-02-25 23:34:04 [INFO]\t[TRAIN] Epoch=25/64, Step=14/41, loss=0.215208, loss_cls=0.109503, loss_bbox=0.086884, loss_rpn_cls=0.012576, loss_rpn_bbox=0.006244, lr=7.7e-05, time_each_step=0.8s, eta=0:22:10\n",
      "2021-02-25 23:34:05 [INFO]\t[TRAIN] Epoch=25/64, Step=16/41, loss=0.217705, loss_cls=0.106711, loss_bbox=0.081, loss_rpn_cls=0.01837, loss_rpn_bbox=0.011624, lr=7.7e-05, time_each_step=0.81s, eta=0:22:9\n",
      "2021-02-25 23:34:06 [INFO]\t[TRAIN] Epoch=25/64, Step=18/41, loss=0.204584, loss_cls=0.11049, loss_bbox=0.078756, loss_rpn_cls=0.008354, loss_rpn_bbox=0.006983, lr=7.7e-05, time_each_step=0.82s, eta=0:22:7\n",
      "2021-02-25 23:34:07 [INFO]\t[TRAIN] Epoch=25/64, Step=20/41, loss=0.2264, loss_cls=0.121104, loss_bbox=0.088615, loss_rpn_cls=0.010669, loss_rpn_bbox=0.006012, lr=7.7e-05, time_each_step=0.82s, eta=0:22:6\n",
      "2021-02-25 23:34:08 [INFO]\t[TRAIN] Epoch=25/64, Step=22/41, loss=0.147526, loss_cls=0.07958, loss_bbox=0.050688, loss_rpn_cls=0.009655, loss_rpn_bbox=0.007603, lr=7.7e-05, time_each_step=0.44s, eta=0:21:57\n",
      "2021-02-25 23:34:08 [INFO]\t[TRAIN] Epoch=25/64, Step=24/41, loss=0.252725, loss_cls=0.122871, loss_bbox=0.098615, loss_rpn_cls=0.022328, loss_rpn_bbox=0.008911, lr=7.7e-05, time_each_step=0.43s, eta=0:21:56\n",
      "2021-02-25 23:34:09 [INFO]\t[TRAIN] Epoch=25/64, Step=26/41, loss=0.24168, loss_cls=0.126499, loss_bbox=0.10416, loss_rpn_cls=0.005862, loss_rpn_bbox=0.00516, lr=7.7e-05, time_each_step=0.42s, eta=0:21:55\n",
      "2021-02-25 23:34:10 [INFO]\t[TRAIN] Epoch=25/64, Step=28/41, loss=0.233836, loss_cls=0.118017, loss_bbox=0.088154, loss_rpn_cls=0.016153, loss_rpn_bbox=0.011512, lr=7.7e-05, time_each_step=0.41s, eta=0:21:54\n",
      "2021-02-25 23:34:11 [INFO]\t[TRAIN] Epoch=25/64, Step=30/41, loss=0.163162, loss_cls=0.085395, loss_bbox=0.055904, loss_rpn_cls=0.014483, loss_rpn_bbox=0.00738, lr=7.7e-05, time_each_step=0.4s, eta=0:21:53\n",
      "2021-02-25 23:34:11 [INFO]\t[TRAIN] Epoch=25/64, Step=32/41, loss=0.264484, loss_cls=0.119374, loss_bbox=0.125925, loss_rpn_cls=0.010475, loss_rpn_bbox=0.00871, lr=7.7e-05, time_each_step=0.4s, eta=0:21:52\n",
      "2021-02-25 23:34:12 [INFO]\t[TRAIN] Epoch=25/64, Step=34/41, loss=0.183023, loss_cls=0.101017, loss_bbox=0.060747, loss_rpn_cls=0.012984, loss_rpn_bbox=0.008275, lr=7.7e-05, time_each_step=0.39s, eta=0:21:51\n",
      "2021-02-25 23:34:13 [INFO]\t[TRAIN] Epoch=25/64, Step=36/41, loss=0.199564, loss_cls=0.103492, loss_bbox=0.071979, loss_rpn_cls=0.017699, loss_rpn_bbox=0.006395, lr=7.7e-05, time_each_step=0.38s, eta=0:21:50\n",
      "2021-02-25 23:34:14 [INFO]\t[TRAIN] Epoch=25/64, Step=38/41, loss=0.265231, loss_cls=0.142798, loss_bbox=0.099972, loss_rpn_cls=0.013361, loss_rpn_bbox=0.0091, lr=7.7e-05, time_each_step=0.38s, eta=0:21:50\n",
      "2021-02-25 23:34:14 [INFO]\t[TRAIN] Epoch=25/64, Step=40/41, loss=0.11826, loss_cls=0.057526, loss_bbox=0.054056, loss_rpn_cls=0.003144, loss_rpn_bbox=0.003534, lr=7.7e-05, time_each_step=0.38s, eta=0:21:49\n",
      "2021-02-25 23:34:15 [INFO]\t[TRAIN] Epoch 25 finished, loss=0.213134, loss_cls=0.108254, loss_bbox=0.082796, loss_rpn_cls=0.014324, loss_rpn_bbox=0.00776, lr=7.7e-05 .\n",
      "2021-02-25 23:34:15 [WARNING]\tFaster RCNN supports batch_size=1 only during evaluating, so batch_size is forced to be set to 1.\n",
      "2021-02-25 23:34:15 [INFO]\tStart to evaluating(total_samples=2, total_steps=2)...\n"
     ]
    },
    {
     "name": "stderr",
     "output_type": "stream",
     "text": [
      "100%|██████████| 2/2 [00:07<00:00,  3.58s/it]\n"
     ]
    },
    {
     "name": "stdout",
     "output_type": "stream",
     "text": [
      "2021-02-25 23:34:22 [INFO]\t[EVAL] Finished, Epoch=25, bbox_map=33.128342 .\n",
      "2021-02-25 23:34:26 [INFO]\tModel saved in output/faster_rcnn_r50_fpn/epoch_25.\n",
      "2021-02-25 23:34:26 [INFO]\tCurrent evaluated best model in eval_dataset is epoch_10, bbox_map=83.33333333333334\n",
      "2021-02-25 23:34:34 [INFO]\t[TRAIN] Epoch=26/64, Step=1/41, loss=0.152395, loss_cls=0.081996, loss_bbox=0.06356, loss_rpn_cls=0.004654, loss_rpn_bbox=0.002184, lr=7.4e-05, time_each_step=0.77s, eta=0:23:20\n",
      "2021-02-25 23:34:36 [INFO]\t[TRAIN] Epoch=26/64, Step=3/41, loss=0.292228, loss_cls=0.151458, loss_bbox=0.121666, loss_rpn_cls=0.008639, loss_rpn_bbox=0.010465, lr=7.4e-05, time_each_step=0.8s, eta=0:23:19\n",
      "2021-02-25 23:34:37 [INFO]\t[TRAIN] Epoch=26/64, Step=5/41, loss=0.118962, loss_cls=0.056944, loss_bbox=0.042714, loss_rpn_cls=0.014678, loss_rpn_bbox=0.004626, lr=7.4e-05, time_each_step=0.81s, eta=0:23:18\n",
      "2021-02-25 23:34:38 [INFO]\t[TRAIN] Epoch=26/64, Step=7/41, loss=0.1627, loss_cls=0.089444, loss_bbox=0.066434, loss_rpn_cls=0.002969, loss_rpn_bbox=0.003853, lr=7.4e-05, time_each_step=0.82s, eta=0:23:17\n",
      "2021-02-25 23:34:38 [INFO]\t[TRAIN] Epoch=26/64, Step=9/41, loss=0.114768, loss_cls=0.053777, loss_bbox=0.047629, loss_rpn_cls=0.009673, loss_rpn_bbox=0.003688, lr=7.4e-05, time_each_step=0.83s, eta=0:23:15\n",
      "2021-02-25 23:34:39 [INFO]\t[TRAIN] Epoch=26/64, Step=11/41, loss=0.239137, loss_cls=0.115999, loss_bbox=0.087897, loss_rpn_cls=0.024389, loss_rpn_bbox=0.010852, lr=7.4e-05, time_each_step=0.83s, eta=0:23:14\n",
      "2021-02-25 23:34:40 [INFO]\t[TRAIN] Epoch=26/64, Step=13/41, loss=0.165478, loss_cls=0.083453, loss_bbox=0.0543, loss_rpn_cls=0.017834, loss_rpn_bbox=0.00989, lr=7.4e-05, time_each_step=0.83s, eta=0:23:12\n",
      "2021-02-25 23:34:41 [INFO]\t[TRAIN] Epoch=26/64, Step=15/41, loss=0.146454, loss_cls=0.073897, loss_bbox=0.06261, loss_rpn_cls=0.004829, loss_rpn_bbox=0.005117, lr=7.4e-05, time_each_step=0.84s, eta=0:23:11\n",
      "2021-02-25 23:34:42 [INFO]\t[TRAIN] Epoch=26/64, Step=17/41, loss=0.258207, loss_cls=0.121889, loss_bbox=0.1007, loss_rpn_cls=0.022794, loss_rpn_bbox=0.012824, lr=7.4e-05, time_each_step=0.84s, eta=0:23:9\n",
      "2021-02-25 23:34:43 [INFO]\t[TRAIN] Epoch=26/64, Step=19/41, loss=0.238892, loss_cls=0.119878, loss_bbox=0.103143, loss_rpn_cls=0.011716, loss_rpn_bbox=0.004155, lr=7.4e-05, time_each_step=0.84s, eta=0:23:7\n",
      "2021-02-25 23:34:43 [INFO]\t[TRAIN] Epoch=26/64, Step=21/41, loss=0.264648, loss_cls=0.144105, loss_bbox=0.105816, loss_rpn_cls=0.008307, loss_rpn_bbox=0.00642, lr=7.4e-05, time_each_step=0.45s, eta=0:22:58\n",
      "2021-02-25 23:34:44 [INFO]\t[TRAIN] Epoch=26/64, Step=23/41, loss=0.254695, loss_cls=0.134618, loss_bbox=0.093148, loss_rpn_cls=0.015569, loss_rpn_bbox=0.01136, lr=7.4e-05, time_each_step=0.43s, eta=0:22:56\n",
      "2021-02-25 23:34:45 [INFO]\t[TRAIN] Epoch=26/64, Step=25/41, loss=0.278423, loss_cls=0.134813, loss_bbox=0.106324, loss_rpn_cls=0.023799, loss_rpn_bbox=0.013487, lr=7.4e-05, time_each_step=0.42s, eta=0:22:55\n",
      "2021-02-25 23:34:46 [INFO]\t[TRAIN] Epoch=26/64, Step=27/41, loss=0.141879, loss_cls=0.058632, loss_bbox=0.050931, loss_rpn_cls=0.014958, loss_rpn_bbox=0.017357, lr=7.4e-05, time_each_step=0.41s, eta=0:22:55\n",
      "2021-02-25 23:34:47 [INFO]\t[TRAIN] Epoch=26/64, Step=29/41, loss=0.134899, loss_cls=0.062568, loss_bbox=0.056881, loss_rpn_cls=0.010149, loss_rpn_bbox=0.0053, lr=7.4e-05, time_each_step=0.4s, eta=0:22:54\n",
      "2021-02-25 23:34:47 [INFO]\t[TRAIN] Epoch=26/64, Step=31/41, loss=0.163386, loss_cls=0.086992, loss_bbox=0.06024, loss_rpn_cls=0.011082, loss_rpn_bbox=0.005071, lr=7.4e-05, time_each_step=0.4s, eta=0:22:53\n",
      "2021-02-25 23:34:48 [INFO]\t[TRAIN] Epoch=26/64, Step=33/41, loss=0.279337, loss_cls=0.121957, loss_bbox=0.134912, loss_rpn_cls=0.014119, loss_rpn_bbox=0.00835, lr=7.4e-05, time_each_step=0.4s, eta=0:22:52\n",
      "2021-02-25 23:34:49 [INFO]\t[TRAIN] Epoch=26/64, Step=35/41, loss=0.301168, loss_cls=0.139571, loss_bbox=0.137451, loss_rpn_cls=0.016956, loss_rpn_bbox=0.00719, lr=7.4e-05, time_each_step=0.4s, eta=0:22:51\n",
      "2021-02-25 23:34:50 [INFO]\t[TRAIN] Epoch=26/64, Step=37/41, loss=0.332139, loss_cls=0.162478, loss_bbox=0.129901, loss_rpn_cls=0.028536, loss_rpn_bbox=0.011224, lr=7.4e-05, time_each_step=0.39s, eta=0:22:50\n",
      "2021-02-25 23:34:50 [INFO]\t[TRAIN] Epoch=26/64, Step=39/41, loss=0.168172, loss_cls=0.09267, loss_bbox=0.066991, loss_rpn_cls=0.00467, loss_rpn_bbox=0.003842, lr=7.4e-05, time_each_step=0.39s, eta=0:22:50\n",
      "2021-02-25 23:34:51 [INFO]\t[TRAIN] Epoch=26/64, Step=41/41, loss=0.168722, loss_cls=0.087976, loss_bbox=0.067209, loss_rpn_cls=0.009729, loss_rpn_bbox=0.003808, lr=7.4e-05, time_each_step=0.39s, eta=0:22:49\n",
      "2021-02-25 23:34:51 [INFO]\t[TRAIN] Epoch 26 finished, loss=0.214473, loss_cls=0.108744, loss_bbox=0.084451, loss_rpn_cls=0.013688, loss_rpn_bbox=0.00759, lr=7.4e-05 .\n",
      "2021-02-25 23:34:51 [WARNING]\tFaster RCNN supports batch_size=1 only during evaluating, so batch_size is forced to be set to 1.\n",
      "2021-02-25 23:34:51 [INFO]\tStart to evaluating(total_samples=2, total_steps=2)...\n"
     ]
    },
    {
     "name": "stderr",
     "output_type": "stream",
     "text": [
      "100%|██████████| 2/2 [00:04<00:00,  2.06s/it]\n"
     ]
    },
    {
     "name": "stdout",
     "output_type": "stream",
     "text": [
      "2021-02-25 23:34:55 [INFO]\t[EVAL] Finished, Epoch=26, bbox_map=37.5 .\n",
      "2021-02-25 23:34:59 [INFO]\tModel saved in output/faster_rcnn_r50_fpn/epoch_26.\n",
      "2021-02-25 23:34:59 [INFO]\tCurrent evaluated best model in eval_dataset is epoch_10, bbox_map=83.33333333333334\n",
      "2021-02-25 23:35:08 [INFO]\t[TRAIN] Epoch=27/64, Step=2/41, loss=0.141893, loss_cls=0.07732, loss_bbox=0.050413, loss_rpn_cls=0.009317, loss_rpn_bbox=0.004843, lr=7e-05, time_each_step=0.78s, eta=0:21:5\n",
      "2021-02-25 23:35:09 [INFO]\t[TRAIN] Epoch=27/64, Step=4/41, loss=0.221639, loss_cls=0.112807, loss_bbox=0.086052, loss_rpn_cls=0.018738, loss_rpn_bbox=0.004042, lr=7e-05, time_each_step=0.8s, eta=0:21:4\n",
      "2021-02-25 23:35:10 [INFO]\t[TRAIN] Epoch=27/64, Step=6/41, loss=0.381144, loss_cls=0.186427, loss_bbox=0.157628, loss_rpn_cls=0.020716, loss_rpn_bbox=0.016373, lr=7e-05, time_each_step=0.8s, eta=0:21:2\n",
      "2021-02-25 23:35:11 [INFO]\t[TRAIN] Epoch=27/64, Step=8/41, loss=0.212246, loss_cls=0.111579, loss_bbox=0.086397, loss_rpn_cls=0.008814, loss_rpn_bbox=0.005456, lr=7e-05, time_each_step=0.82s, eta=0:21:1\n",
      "2021-02-25 23:35:12 [INFO]\t[TRAIN] Epoch=27/64, Step=10/41, loss=0.182718, loss_cls=0.086327, loss_bbox=0.079711, loss_rpn_cls=0.01179, loss_rpn_bbox=0.004891, lr=7e-05, time_each_step=0.83s, eta=0:21:0\n",
      "2021-02-25 23:35:13 [INFO]\t[TRAIN] Epoch=27/64, Step=12/41, loss=0.263687, loss_cls=0.127982, loss_bbox=0.091521, loss_rpn_cls=0.022147, loss_rpn_bbox=0.022037, lr=7e-05, time_each_step=0.83s, eta=0:20:58\n",
      "2021-02-25 23:35:14 [INFO]\t[TRAIN] Epoch=27/64, Step=14/41, loss=0.159801, loss_cls=0.086265, loss_bbox=0.057031, loss_rpn_cls=0.010498, loss_rpn_bbox=0.006008, lr=7e-05, time_each_step=0.83s, eta=0:20:57\n",
      "2021-02-25 23:35:15 [INFO]\t[TRAIN] Epoch=27/64, Step=16/41, loss=0.126675, loss_cls=0.066594, loss_bbox=0.048734, loss_rpn_cls=0.006285, loss_rpn_bbox=0.005063, lr=7e-05, time_each_step=0.84s, eta=0:20:55\n",
      "2021-02-25 23:35:15 [INFO]\t[TRAIN] Epoch=27/64, Step=18/41, loss=0.150032, loss_cls=0.080293, loss_bbox=0.06141, loss_rpn_cls=0.002353, loss_rpn_bbox=0.005975, lr=7e-05, time_each_step=0.84s, eta=0:20:53\n",
      "2021-02-25 23:35:16 [INFO]\t[TRAIN] Epoch=27/64, Step=20/41, loss=0.151837, loss_cls=0.070894, loss_bbox=0.05891, loss_rpn_cls=0.012443, loss_rpn_bbox=0.009589, lr=7e-05, time_each_step=0.84s, eta=0:20:52\n",
      "2021-02-25 23:35:17 [INFO]\t[TRAIN] Epoch=27/64, Step=22/41, loss=0.237284, loss_cls=0.127328, loss_bbox=0.094779, loss_rpn_cls=0.009384, loss_rpn_bbox=0.005792, lr=7e-05, time_each_step=0.45s, eta=0:20:43\n",
      "2021-02-25 23:35:18 [INFO]\t[TRAIN] Epoch=27/64, Step=24/41, loss=0.266055, loss_cls=0.134587, loss_bbox=0.103484, loss_rpn_cls=0.018526, loss_rpn_bbox=0.009458, lr=7e-05, time_each_step=0.42s, eta=0:20:41\n",
      "2021-02-25 23:35:18 [INFO]\t[TRAIN] Epoch=27/64, Step=26/41, loss=0.177283, loss_cls=0.09396, loss_bbox=0.049123, loss_rpn_cls=0.025178, loss_rpn_bbox=0.009022, lr=7e-05, time_each_step=0.41s, eta=0:20:40\n",
      "2021-02-25 23:35:19 [INFO]\t[TRAIN] Epoch=27/64, Step=28/41, loss=0.126038, loss_cls=0.064767, loss_bbox=0.044542, loss_rpn_cls=0.012009, loss_rpn_bbox=0.00472, lr=7e-05, time_each_step=0.4s, eta=0:20:39\n",
      "2021-02-25 23:35:20 [INFO]\t[TRAIN] Epoch=27/64, Step=30/41, loss=0.198045, loss_cls=0.093376, loss_bbox=0.073674, loss_rpn_cls=0.020336, loss_rpn_bbox=0.010659, lr=7e-05, time_each_step=0.39s, eta=0:20:39\n",
      "2021-02-25 23:35:21 [INFO]\t[TRAIN] Epoch=27/64, Step=32/41, loss=0.293224, loss_cls=0.147858, loss_bbox=0.106592, loss_rpn_cls=0.027936, loss_rpn_bbox=0.010838, lr=7e-05, time_each_step=0.39s, eta=0:20:38\n",
      "2021-02-25 23:35:21 [INFO]\t[TRAIN] Epoch=27/64, Step=34/41, loss=0.191526, loss_cls=0.092318, loss_bbox=0.086194, loss_rpn_cls=0.007379, loss_rpn_bbox=0.005635, lr=7e-05, time_each_step=0.39s, eta=0:20:37\n",
      "2021-02-25 23:35:22 [INFO]\t[TRAIN] Epoch=27/64, Step=36/41, loss=0.213395, loss_cls=0.11933, loss_bbox=0.078292, loss_rpn_cls=0.009029, loss_rpn_bbox=0.006744, lr=7e-05, time_each_step=0.38s, eta=0:20:36\n",
      "2021-02-25 23:35:23 [INFO]\t[TRAIN] Epoch=27/64, Step=38/41, loss=0.155975, loss_cls=0.07538, loss_bbox=0.069446, loss_rpn_cls=0.004352, loss_rpn_bbox=0.006797, lr=7e-05, time_each_step=0.39s, eta=0:20:35\n",
      "2021-02-25 23:35:24 [INFO]\t[TRAIN] Epoch=27/64, Step=40/41, loss=0.22842, loss_cls=0.123711, loss_bbox=0.090388, loss_rpn_cls=0.005951, loss_rpn_bbox=0.00837, lr=7e-05, time_each_step=0.39s, eta=0:20:35\n",
      "2021-02-25 23:35:24 [INFO]\t[TRAIN] Epoch 27 finished, loss=0.205118, loss_cls=0.103835, loss_bbox=0.08035, loss_rpn_cls=0.013306, loss_rpn_bbox=0.007627, lr=7e-05 .\n",
      "2021-02-25 23:35:24 [WARNING]\tFaster RCNN supports batch_size=1 only during evaluating, so batch_size is forced to be set to 1.\n",
      "2021-02-25 23:35:24 [INFO]\tStart to evaluating(total_samples=2, total_steps=2)...\n"
     ]
    },
    {
     "name": "stderr",
     "output_type": "stream",
     "text": [
      "100%|██████████| 2/2 [00:04<00:00,  2.46s/it]\n"
     ]
    },
    {
     "name": "stdout",
     "output_type": "stream",
     "text": [
      "2021-02-25 23:35:29 [INFO]\t[EVAL] Finished, Epoch=27, bbox_map=37.5 .\n",
      "2021-02-25 23:35:33 [INFO]\tModel saved in output/faster_rcnn_r50_fpn/epoch_27.\n",
      "2021-02-25 23:35:33 [INFO]\tCurrent evaluated best model in eval_dataset is epoch_10, bbox_map=83.33333333333334\n",
      "2021-02-25 23:35:40 [INFO]\t[TRAIN] Epoch=28/64, Step=1/41, loss=0.249014, loss_cls=0.12756, loss_bbox=0.099132, loss_rpn_cls=0.014454, loss_rpn_bbox=0.007868, lr=6.6e-05, time_each_step=0.7s, eta=0:21:4\n",
      "2021-02-25 23:35:42 [INFO]\t[TRAIN] Epoch=28/64, Step=3/41, loss=0.166952, loss_cls=0.089004, loss_bbox=0.060931, loss_rpn_cls=0.010203, loss_rpn_bbox=0.006815, lr=6.6e-05, time_each_step=0.75s, eta=0:21:4\n",
      "2021-02-25 23:35:43 [INFO]\t[TRAIN] Epoch=28/64, Step=5/41, loss=0.370843, loss_cls=0.187015, loss_bbox=0.159074, loss_rpn_cls=0.015466, loss_rpn_bbox=0.009288, lr=6.6e-05, time_each_step=0.77s, eta=0:21:3\n",
      "2021-02-25 23:35:44 [INFO]\t[TRAIN] Epoch=28/64, Step=7/41, loss=0.154548, loss_cls=0.084805, loss_bbox=0.055164, loss_rpn_cls=0.009157, loss_rpn_bbox=0.005422, lr=6.6e-05, time_each_step=0.77s, eta=0:21:2\n",
      "2021-02-25 23:35:45 [INFO]\t[TRAIN] Epoch=28/64, Step=9/41, loss=0.135412, loss_cls=0.068622, loss_bbox=0.062432, loss_rpn_cls=0.002664, loss_rpn_bbox=0.001695, lr=6.6e-05, time_each_step=0.78s, eta=0:21:1\n",
      "2021-02-25 23:35:46 [INFO]\t[TRAIN] Epoch=28/64, Step=11/41, loss=0.163854, loss_cls=0.074752, loss_bbox=0.065158, loss_rpn_cls=0.019313, loss_rpn_bbox=0.004632, lr=6.6e-05, time_each_step=0.78s, eta=0:20:59\n",
      "2021-02-25 23:35:46 [INFO]\t[TRAIN] Epoch=28/64, Step=13/41, loss=0.238072, loss_cls=0.127051, loss_bbox=0.092225, loss_rpn_cls=0.01043, loss_rpn_bbox=0.008365, lr=6.6e-05, time_each_step=0.79s, eta=0:20:58\n",
      "2021-02-25 23:35:47 [INFO]\t[TRAIN] Epoch=28/64, Step=15/41, loss=0.157907, loss_cls=0.089129, loss_bbox=0.059088, loss_rpn_cls=0.004761, loss_rpn_bbox=0.004929, lr=6.6e-05, time_each_step=0.79s, eta=0:20:56\n",
      "2021-02-25 23:35:48 [INFO]\t[TRAIN] Epoch=28/64, Step=17/41, loss=0.103491, loss_cls=0.055668, loss_bbox=0.04066, loss_rpn_cls=0.003686, loss_rpn_bbox=0.003477, lr=6.6e-05, time_each_step=0.79s, eta=0:20:55\n",
      "2021-02-25 23:35:49 [INFO]\t[TRAIN] Epoch=28/64, Step=19/41, loss=0.148973, loss_cls=0.075557, loss_bbox=0.053164, loss_rpn_cls=0.01313, loss_rpn_bbox=0.007122, lr=6.6e-05, time_each_step=0.78s, eta=0:20:53\n",
      "2021-02-25 23:35:49 [INFO]\t[TRAIN] Epoch=28/64, Step=21/41, loss=0.096968, loss_cls=0.041734, loss_bbox=0.040388, loss_rpn_cls=0.01062, loss_rpn_bbox=0.004227, lr=6.6e-05, time_each_step=0.48s, eta=0:20:45\n",
      "2021-02-25 23:35:50 [INFO]\t[TRAIN] Epoch=28/64, Step=23/41, loss=0.256904, loss_cls=0.125713, loss_bbox=0.099292, loss_rpn_cls=0.018919, loss_rpn_bbox=0.012979, lr=6.6e-05, time_each_step=0.44s, eta=0:20:44\n",
      "2021-02-25 23:35:51 [INFO]\t[TRAIN] Epoch=28/64, Step=25/41, loss=0.247821, loss_cls=0.108954, loss_bbox=0.108677, loss_rpn_cls=0.021776, loss_rpn_bbox=0.008414, lr=6.6e-05, time_each_step=0.41s, eta=0:20:42\n",
      "2021-02-25 23:35:52 [INFO]\t[TRAIN] Epoch=28/64, Step=27/41, loss=0.278132, loss_cls=0.140377, loss_bbox=0.124174, loss_rpn_cls=0.007967, loss_rpn_bbox=0.005613, lr=6.6e-05, time_each_step=0.41s, eta=0:20:42\n",
      "2021-02-25 23:35:53 [INFO]\t[TRAIN] Epoch=28/64, Step=29/41, loss=0.204188, loss_cls=0.101736, loss_bbox=0.076036, loss_rpn_cls=0.020878, loss_rpn_bbox=0.005538, lr=6.6e-05, time_each_step=0.4s, eta=0:20:41\n",
      "2021-02-25 23:35:53 [INFO]\t[TRAIN] Epoch=28/64, Step=31/41, loss=0.287567, loss_cls=0.142011, loss_bbox=0.127036, loss_rpn_cls=0.009364, loss_rpn_bbox=0.009155, lr=6.6e-05, time_each_step=0.39s, eta=0:20:40\n",
      "2021-02-25 23:35:54 [INFO]\t[TRAIN] Epoch=28/64, Step=33/41, loss=0.191708, loss_cls=0.099578, loss_bbox=0.074314, loss_rpn_cls=0.012916, loss_rpn_bbox=0.0049, lr=6.6e-05, time_each_step=0.39s, eta=0:20:39\n",
      "2021-02-25 23:35:55 [INFO]\t[TRAIN] Epoch=28/64, Step=35/41, loss=0.33163, loss_cls=0.181995, loss_bbox=0.134037, loss_rpn_cls=0.009829, loss_rpn_bbox=0.005769, lr=6.6e-05, time_each_step=0.39s, eta=0:20:38\n",
      "2021-02-25 23:35:56 [INFO]\t[TRAIN] Epoch=28/64, Step=37/41, loss=0.228905, loss_cls=0.115895, loss_bbox=0.084873, loss_rpn_cls=0.018924, loss_rpn_bbox=0.009213, lr=6.6e-05, time_each_step=0.38s, eta=0:20:37\n",
      "2021-02-25 23:35:56 [INFO]\t[TRAIN] Epoch=28/64, Step=39/41, loss=0.356024, loss_cls=0.175857, loss_bbox=0.138473, loss_rpn_cls=0.024383, loss_rpn_bbox=0.017311, lr=6.6e-05, time_each_step=0.39s, eta=0:20:37\n",
      "2021-02-25 23:35:57 [INFO]\t[TRAIN] Epoch=28/64, Step=41/41, loss=0.114937, loss_cls=0.058241, loss_bbox=0.048128, loss_rpn_cls=0.005393, loss_rpn_bbox=0.003174, lr=6.6e-05, time_each_step=0.39s, eta=0:20:36\n",
      "2021-02-25 23:35:57 [INFO]\t[TRAIN] Epoch 28 finished, loss=0.212518, loss_cls=0.108386, loss_bbox=0.083487, loss_rpn_cls=0.013058, loss_rpn_bbox=0.007588, lr=6.6e-05 .\n",
      "2021-02-25 23:35:57 [WARNING]\tFaster RCNN supports batch_size=1 only during evaluating, so batch_size is forced to be set to 1.\n",
      "2021-02-25 23:35:57 [INFO]\tStart to evaluating(total_samples=2, total_steps=2)...\n"
     ]
    },
    {
     "name": "stderr",
     "output_type": "stream",
     "text": [
      "100%|██████████| 2/2 [00:03<00:00,  1.89s/it]\n"
     ]
    },
    {
     "name": "stdout",
     "output_type": "stream",
     "text": [
      "2021-02-25 23:36:01 [INFO]\t[EVAL] Finished, Epoch=28, bbox_map=32.386364 .\n",
      "2021-02-25 23:36:06 [INFO]\tModel saved in output/faster_rcnn_r50_fpn/epoch_28.\n",
      "2021-02-25 23:36:06 [INFO]\tCurrent evaluated best model in eval_dataset is epoch_10, bbox_map=83.33333333333334\n",
      "2021-02-25 23:36:12 [INFO]\t[TRAIN] Epoch=29/64, Step=2/41, loss=0.238654, loss_cls=0.116344, loss_bbox=0.106138, loss_rpn_cls=0.008983, loss_rpn_bbox=0.007188, lr=6.3e-05, time_each_step=0.66s, eta=0:19:24\n",
      "2021-02-25 23:36:13 [INFO]\t[TRAIN] Epoch=29/64, Step=4/41, loss=0.215945, loss_cls=0.112609, loss_bbox=0.076508, loss_rpn_cls=0.011495, loss_rpn_bbox=0.015332, lr=6.3e-05, time_each_step=0.67s, eta=0:19:23\n",
      "2021-02-25 23:36:14 [INFO]\t[TRAIN] Epoch=29/64, Step=6/41, loss=0.238791, loss_cls=0.125039, loss_bbox=0.099481, loss_rpn_cls=0.008686, loss_rpn_bbox=0.005585, lr=6.3e-05, time_each_step=0.67s, eta=0:19:22\n",
      "2021-02-25 23:36:15 [INFO]\t[TRAIN] Epoch=29/64, Step=8/41, loss=0.122011, loss_cls=0.065743, loss_bbox=0.044386, loss_rpn_cls=0.007673, loss_rpn_bbox=0.004209, lr=6.3e-05, time_each_step=0.68s, eta=0:19:21\n",
      "2021-02-25 23:36:16 [INFO]\t[TRAIN] Epoch=29/64, Step=10/41, loss=0.26336, loss_cls=0.122145, loss_bbox=0.123625, loss_rpn_cls=0.011673, loss_rpn_bbox=0.005917, lr=6.3e-05, time_each_step=0.68s, eta=0:19:19\n",
      "2021-02-25 23:36:16 [INFO]\t[TRAIN] Epoch=29/64, Step=12/41, loss=0.205675, loss_cls=0.105177, loss_bbox=0.084184, loss_rpn_cls=0.011868, loss_rpn_bbox=0.004447, lr=6.3e-05, time_each_step=0.68s, eta=0:19:18\n",
      "2021-02-25 23:36:17 [INFO]\t[TRAIN] Epoch=29/64, Step=14/41, loss=0.226395, loss_cls=0.117706, loss_bbox=0.089895, loss_rpn_cls=0.012563, loss_rpn_bbox=0.006232, lr=6.3e-05, time_each_step=0.69s, eta=0:19:17\n",
      "2021-02-25 23:36:18 [INFO]\t[TRAIN] Epoch=29/64, Step=16/41, loss=0.201015, loss_cls=0.111331, loss_bbox=0.064153, loss_rpn_cls=0.014835, loss_rpn_bbox=0.010696, lr=6.3e-05, time_each_step=0.69s, eta=0:19:15\n",
      "2021-02-25 23:36:19 [INFO]\t[TRAIN] Epoch=29/64, Step=18/41, loss=0.20272, loss_cls=0.100928, loss_bbox=0.077237, loss_rpn_cls=0.014473, loss_rpn_bbox=0.010082, lr=6.3e-05, time_each_step=0.7s, eta=0:19:14\n",
      "2021-02-25 23:36:20 [INFO]\t[TRAIN] Epoch=29/64, Step=20/41, loss=0.152012, loss_cls=0.08157, loss_bbox=0.043948, loss_rpn_cls=0.020408, loss_rpn_bbox=0.006086, lr=6.3e-05, time_each_step=0.7s, eta=0:19:13\n",
      "2021-02-25 23:36:20 [INFO]\t[TRAIN] Epoch=29/64, Step=22/41, loss=0.261705, loss_cls=0.132612, loss_bbox=0.107295, loss_rpn_cls=0.013606, loss_rpn_bbox=0.008191, lr=6.3e-05, time_each_step=0.42s, eta=0:19:6\n",
      "2021-02-25 23:36:21 [INFO]\t[TRAIN] Epoch=29/64, Step=24/41, loss=0.192585, loss_cls=0.098811, loss_bbox=0.079228, loss_rpn_cls=0.00902, loss_rpn_bbox=0.005525, lr=6.3e-05, time_each_step=0.42s, eta=0:19:5\n",
      "2021-02-25 23:36:22 [INFO]\t[TRAIN] Epoch=29/64, Step=26/41, loss=0.242824, loss_cls=0.113959, loss_bbox=0.070601, loss_rpn_cls=0.047043, loss_rpn_bbox=0.011221, lr=6.3e-05, time_each_step=0.41s, eta=0:19:4\n",
      "2021-02-25 23:36:23 [INFO]\t[TRAIN] Epoch=29/64, Step=28/41, loss=0.235147, loss_cls=0.119836, loss_bbox=0.101853, loss_rpn_cls=0.004881, loss_rpn_bbox=0.008576, lr=6.3e-05, time_each_step=0.41s, eta=0:19:3\n",
      "2021-02-25 23:36:24 [INFO]\t[TRAIN] Epoch=29/64, Step=30/41, loss=0.118033, loss_cls=0.058371, loss_bbox=0.051198, loss_rpn_cls=0.004867, loss_rpn_bbox=0.003596, lr=6.3e-05, time_each_step=0.41s, eta=0:19:3\n",
      "2021-02-25 23:36:24 [INFO]\t[TRAIN] Epoch=29/64, Step=32/41, loss=0.15453, loss_cls=0.076244, loss_bbox=0.060936, loss_rpn_cls=0.009285, loss_rpn_bbox=0.008065, lr=6.3e-05, time_each_step=0.41s, eta=0:19:2\n",
      "2021-02-25 23:36:25 [INFO]\t[TRAIN] Epoch=29/64, Step=34/41, loss=0.287038, loss_cls=0.121216, loss_bbox=0.149401, loss_rpn_cls=0.009273, loss_rpn_bbox=0.007149, lr=6.3e-05, time_each_step=0.41s, eta=0:19:1\n",
      "2021-02-25 23:36:26 [INFO]\t[TRAIN] Epoch=29/64, Step=36/41, loss=0.153398, loss_cls=0.078729, loss_bbox=0.062464, loss_rpn_cls=0.006994, loss_rpn_bbox=0.00521, lr=6.3e-05, time_each_step=0.41s, eta=0:19:0\n",
      "2021-02-25 23:36:27 [INFO]\t[TRAIN] Epoch=29/64, Step=38/41, loss=0.212676, loss_cls=0.116064, loss_bbox=0.081178, loss_rpn_cls=0.00967, loss_rpn_bbox=0.005765, lr=6.3e-05, time_each_step=0.4s, eta=0:18:59\n",
      "2021-02-25 23:36:28 [INFO]\t[TRAIN] Epoch=29/64, Step=40/41, loss=0.169378, loss_cls=0.086014, loss_bbox=0.065909, loss_rpn_cls=0.008338, loss_rpn_bbox=0.009117, lr=6.3e-05, time_each_step=0.41s, eta=0:18:59\n",
      "2021-02-25 23:36:28 [INFO]\t[TRAIN] Epoch 29 finished, loss=0.208234, loss_cls=0.106829, loss_bbox=0.081819, loss_rpn_cls=0.012358, loss_rpn_bbox=0.007228, lr=6.3e-05 .\n",
      "2021-02-25 23:36:28 [WARNING]\tFaster RCNN supports batch_size=1 only during evaluating, so batch_size is forced to be set to 1.\n",
      "2021-02-25 23:36:28 [INFO]\tStart to evaluating(total_samples=2, total_steps=2)...\n"
     ]
    },
    {
     "name": "stderr",
     "output_type": "stream",
     "text": [
      "100%|██████████| 2/2 [00:04<00:00,  2.01s/it]\n"
     ]
    },
    {
     "name": "stdout",
     "output_type": "stream",
     "text": [
      "2021-02-25 23:36:32 [INFO]\t[EVAL] Finished, Epoch=29, bbox_map=41.666667 .\n",
      "2021-02-25 23:36:36 [INFO]\tModel saved in output/faster_rcnn_r50_fpn/epoch_29.\n",
      "2021-02-25 23:36:36 [INFO]\tCurrent evaluated best model in eval_dataset is epoch_10, bbox_map=83.33333333333334\n",
      "2021-02-25 23:36:41 [INFO]\t[TRAIN] Epoch=30/64, Step=1/41, loss=0.170268, loss_cls=0.088085, loss_bbox=0.070778, loss_rpn_cls=0.006947, loss_rpn_bbox=0.004458, lr=6e-05, time_each_step=0.61s, eta=0:17:43\n",
      "2021-02-25 23:36:42 [INFO]\t[TRAIN] Epoch=30/64, Step=3/41, loss=0.156155, loss_cls=0.078642, loss_bbox=0.067296, loss_rpn_cls=0.006575, loss_rpn_bbox=0.003643, lr=6e-05, time_each_step=0.63s, eta=0:17:43\n",
      "2021-02-25 23:36:43 [INFO]\t[TRAIN] Epoch=30/64, Step=5/41, loss=0.239988, loss_cls=0.130502, loss_bbox=0.088333, loss_rpn_cls=0.013965, loss_rpn_bbox=0.007187, lr=6e-05, time_each_step=0.65s, eta=0:17:42\n",
      "2021-02-25 23:36:44 [INFO]\t[TRAIN] Epoch=30/64, Step=7/41, loss=0.154746, loss_cls=0.08627, loss_bbox=0.054776, loss_rpn_cls=0.007717, loss_rpn_bbox=0.005983, lr=6e-05, time_each_step=0.66s, eta=0:17:41\n",
      "2021-02-25 23:36:45 [INFO]\t[TRAIN] Epoch=30/64, Step=9/41, loss=0.254526, loss_cls=0.134917, loss_bbox=0.086315, loss_rpn_cls=0.023598, loss_rpn_bbox=0.009697, lr=6e-05, time_each_step=0.66s, eta=0:17:40\n",
      "2021-02-25 23:36:46 [INFO]\t[TRAIN] Epoch=30/64, Step=11/41, loss=0.141739, loss_cls=0.076423, loss_bbox=0.055568, loss_rpn_cls=0.004314, loss_rpn_bbox=0.005434, lr=6e-05, time_each_step=0.67s, eta=0:17:39\n",
      "2021-02-25 23:36:47 [INFO]\t[TRAIN] Epoch=30/64, Step=13/41, loss=0.141938, loss_cls=0.073079, loss_bbox=0.057566, loss_rpn_cls=0.006503, loss_rpn_bbox=0.00479, lr=6e-05, time_each_step=0.67s, eta=0:17:38\n",
      "2021-02-25 23:36:47 [INFO]\t[TRAIN] Epoch=30/64, Step=15/41, loss=0.304512, loss_cls=0.147377, loss_bbox=0.130899, loss_rpn_cls=0.016727, loss_rpn_bbox=0.009509, lr=6e-05, time_each_step=0.67s, eta=0:17:36\n",
      "2021-02-25 23:36:48 [INFO]\t[TRAIN] Epoch=30/64, Step=17/41, loss=0.255835, loss_cls=0.131592, loss_bbox=0.091172, loss_rpn_cls=0.020214, loss_rpn_bbox=0.012858, lr=6e-05, time_each_step=0.67s, eta=0:17:35\n",
      "2021-02-25 23:36:49 [INFO]\t[TRAIN] Epoch=30/64, Step=19/41, loss=0.201632, loss_cls=0.101453, loss_bbox=0.084059, loss_rpn_cls=0.010426, loss_rpn_bbox=0.005694, lr=6e-05, time_each_step=0.68s, eta=0:17:34\n",
      "2021-02-25 23:36:50 [INFO]\t[TRAIN] Epoch=30/64, Step=21/41, loss=0.325487, loss_cls=0.165767, loss_bbox=0.132652, loss_rpn_cls=0.015048, loss_rpn_bbox=0.01202, lr=6e-05, time_each_step=0.47s, eta=0:17:28\n",
      "2021-02-25 23:36:51 [INFO]\t[TRAIN] Epoch=30/64, Step=23/41, loss=0.288564, loss_cls=0.154554, loss_bbox=0.107425, loss_rpn_cls=0.014553, loss_rpn_bbox=0.012032, lr=6e-05, time_each_step=0.46s, eta=0:17:27\n",
      "2021-02-25 23:36:52 [INFO]\t[TRAIN] Epoch=30/64, Step=25/41, loss=0.083158, loss_cls=0.043963, loss_bbox=0.035862, loss_rpn_cls=0.000986, loss_rpn_bbox=0.002347, lr=6e-05, time_each_step=0.44s, eta=0:17:26\n",
      "2021-02-25 23:36:52 [INFO]\t[TRAIN] Epoch=30/64, Step=27/41, loss=0.242094, loss_cls=0.123008, loss_bbox=0.082251, loss_rpn_cls=0.022161, loss_rpn_bbox=0.014674, lr=6e-05, time_each_step=0.43s, eta=0:17:25\n",
      "2021-02-25 23:36:53 [INFO]\t[TRAIN] Epoch=30/64, Step=29/41, loss=0.158804, loss_cls=0.084566, loss_bbox=0.0599, loss_rpn_cls=0.007424, loss_rpn_bbox=0.006913, lr=6e-05, time_each_step=0.42s, eta=0:17:24\n",
      "2021-02-25 23:36:54 [INFO]\t[TRAIN] Epoch=30/64, Step=31/41, loss=0.201732, loss_cls=0.10819, loss_bbox=0.074069, loss_rpn_cls=0.01093, loss_rpn_bbox=0.008543, lr=6e-05, time_each_step=0.41s, eta=0:17:23\n",
      "2021-02-25 23:36:55 [INFO]\t[TRAIN] Epoch=30/64, Step=33/41, loss=0.28884, loss_cls=0.146207, loss_bbox=0.11448, loss_rpn_cls=0.021035, loss_rpn_bbox=0.007118, lr=6e-05, time_each_step=0.41s, eta=0:17:22\n",
      "2021-02-25 23:36:56 [INFO]\t[TRAIN] Epoch=30/64, Step=35/41, loss=0.286861, loss_cls=0.14126, loss_bbox=0.107603, loss_rpn_cls=0.0253, loss_rpn_bbox=0.012697, lr=6e-05, time_each_step=0.41s, eta=0:17:21\n",
      "2021-02-25 23:36:56 [INFO]\t[TRAIN] Epoch=30/64, Step=37/41, loss=0.237518, loss_cls=0.119588, loss_bbox=0.096673, loss_rpn_cls=0.01198, loss_rpn_bbox=0.009277, lr=6e-05, time_each_step=0.4s, eta=0:17:21\n",
      "2021-02-25 23:36:57 [INFO]\t[TRAIN] Epoch=30/64, Step=39/41, loss=0.30226, loss_cls=0.163599, loss_bbox=0.116652, loss_rpn_cls=0.015366, loss_rpn_bbox=0.006642, lr=6e-05, time_each_step=0.4s, eta=0:17:20\n",
      "2021-02-25 23:36:58 [INFO]\t[TRAIN] Epoch=30/64, Step=41/41, loss=0.209958, loss_cls=0.107836, loss_bbox=0.087775, loss_rpn_cls=0.009239, loss_rpn_bbox=0.005108, lr=6e-05, time_each_step=0.4s, eta=0:17:19\n",
      "2021-02-25 23:36:58 [INFO]\t[TRAIN] Epoch 30 finished, loss=0.210692, loss_cls=0.108307, loss_bbox=0.082693, loss_rpn_cls=0.012049, loss_rpn_bbox=0.007643, lr=6e-05 .\n",
      "2021-02-25 23:36:58 [WARNING]\tFaster RCNN supports batch_size=1 only during evaluating, so batch_size is forced to be set to 1.\n",
      "2021-02-25 23:36:58 [INFO]\tStart to evaluating(total_samples=2, total_steps=2)...\n"
     ]
    },
    {
     "name": "stderr",
     "output_type": "stream",
     "text": [
      "100%|██████████| 2/2 [00:07<00:00,  3.71s/it]\n"
     ]
    },
    {
     "name": "stdout",
     "output_type": "stream",
     "text": [
      "2021-02-25 23:37:05 [INFO]\t[EVAL] Finished, Epoch=30, bbox_map=46.212121 .\n",
      "2021-02-25 23:37:10 [INFO]\tModel saved in output/faster_rcnn_r50_fpn/epoch_30.\n",
      "2021-02-25 23:37:10 [INFO]\tCurrent evaluated best model in eval_dataset is epoch_10, bbox_map=83.33333333333334\n",
      "2021-02-25 23:37:15 [INFO]\t[TRAIN] Epoch=31/64, Step=2/41, loss=0.188072, loss_cls=0.105515, loss_bbox=0.066727, loss_rpn_cls=0.009191, loss_rpn_bbox=0.006638, lr=5.7e-05, time_each_step=0.64s, eta=0:19:10\n",
      "2021-02-25 23:37:17 [INFO]\t[TRAIN] Epoch=31/64, Step=4/41, loss=0.146903, loss_cls=0.072949, loss_bbox=0.059965, loss_rpn_cls=0.008508, loss_rpn_bbox=0.005481, lr=5.7e-05, time_each_step=0.66s, eta=0:19:9\n",
      "2021-02-25 23:37:17 [INFO]\t[TRAIN] Epoch=31/64, Step=6/41, loss=0.265471, loss_cls=0.126624, loss_bbox=0.078017, loss_rpn_cls=0.03198, loss_rpn_bbox=0.02885, lr=5.7e-05, time_each_step=0.66s, eta=0:19:8\n",
      "2021-02-25 23:37:18 [INFO]\t[TRAIN] Epoch=31/64, Step=8/41, loss=0.125253, loss_cls=0.068255, loss_bbox=0.041808, loss_rpn_cls=0.010964, loss_rpn_bbox=0.004225, lr=5.7e-05, time_each_step=0.67s, eta=0:19:7\n",
      "2021-02-25 23:37:19 [INFO]\t[TRAIN] Epoch=31/64, Step=10/41, loss=0.164629, loss_cls=0.078123, loss_bbox=0.0598, loss_rpn_cls=0.017378, loss_rpn_bbox=0.009329, lr=5.7e-05, time_each_step=0.68s, eta=0:19:6\n",
      "2021-02-25 23:37:20 [INFO]\t[TRAIN] Epoch=31/64, Step=12/41, loss=0.3008, loss_cls=0.147414, loss_bbox=0.126158, loss_rpn_cls=0.013655, loss_rpn_bbox=0.013573, lr=5.7e-05, time_each_step=0.68s, eta=0:19:5\n",
      "2021-02-25 23:37:21 [INFO]\t[TRAIN] Epoch=31/64, Step=14/41, loss=0.152242, loss_cls=0.08548, loss_bbox=0.060976, loss_rpn_cls=0.001948, loss_rpn_bbox=0.003838, lr=5.7e-05, time_each_step=0.69s, eta=0:19:3\n",
      "2021-02-25 23:37:22 [INFO]\t[TRAIN] Epoch=31/64, Step=16/41, loss=0.281106, loss_cls=0.139994, loss_bbox=0.118341, loss_rpn_cls=0.014887, loss_rpn_bbox=0.007884, lr=5.7e-05, time_each_step=0.69s, eta=0:19:2\n",
      "2021-02-25 23:37:23 [INFO]\t[TRAIN] Epoch=31/64, Step=18/41, loss=0.191009, loss_cls=0.102274, loss_bbox=0.072993, loss_rpn_cls=0.010792, loss_rpn_bbox=0.004951, lr=5.7e-05, time_each_step=0.69s, eta=0:19:1\n",
      "2021-02-25 23:37:24 [INFO]\t[TRAIN] Epoch=31/64, Step=20/41, loss=0.355048, loss_cls=0.172669, loss_bbox=0.154922, loss_rpn_cls=0.020215, loss_rpn_bbox=0.007242, lr=5.7e-05, time_each_step=0.69s, eta=0:18:59\n",
      "2021-02-25 23:37:25 [INFO]\t[TRAIN] Epoch=31/64, Step=22/41, loss=0.268721, loss_cls=0.132565, loss_bbox=0.113571, loss_rpn_cls=0.012602, loss_rpn_bbox=0.009983, lr=5.7e-05, time_each_step=0.45s, eta=0:18:53\n",
      "2021-02-25 23:37:25 [INFO]\t[TRAIN] Epoch=31/64, Step=24/41, loss=0.196227, loss_cls=0.106622, loss_bbox=0.07615, loss_rpn_cls=0.008253, loss_rpn_bbox=0.005202, lr=5.7e-05, time_each_step=0.43s, eta=0:18:52\n",
      "2021-02-25 23:37:26 [INFO]\t[TRAIN] Epoch=31/64, Step=26/41, loss=0.268958, loss_cls=0.138139, loss_bbox=0.104686, loss_rpn_cls=0.018862, loss_rpn_bbox=0.007271, lr=5.7e-05, time_each_step=0.43s, eta=0:18:51\n",
      "2021-02-25 23:37:27 [INFO]\t[TRAIN] Epoch=31/64, Step=28/41, loss=0.226204, loss_cls=0.128162, loss_bbox=0.084696, loss_rpn_cls=0.007683, loss_rpn_bbox=0.005664, lr=5.7e-05, time_each_step=0.43s, eta=0:18:50\n",
      "2021-02-25 23:37:28 [INFO]\t[TRAIN] Epoch=31/64, Step=30/41, loss=0.139896, loss_cls=0.0745, loss_bbox=0.051524, loss_rpn_cls=0.00949, loss_rpn_bbox=0.004382, lr=5.7e-05, time_each_step=0.42s, eta=0:18:49\n",
      "2021-02-25 23:37:29 [INFO]\t[TRAIN] Epoch=31/64, Step=32/41, loss=0.32399, loss_cls=0.147456, loss_bbox=0.138041, loss_rpn_cls=0.027975, loss_rpn_bbox=0.010517, lr=5.7e-05, time_each_step=0.42s, eta=0:18:49\n",
      "2021-02-25 23:37:29 [INFO]\t[TRAIN] Epoch=31/64, Step=34/41, loss=0.212855, loss_cls=0.108324, loss_bbox=0.084048, loss_rpn_cls=0.015378, loss_rpn_bbox=0.005105, lr=5.7e-05, time_each_step=0.42s, eta=0:18:48\n",
      "2021-02-25 23:37:30 [INFO]\t[TRAIN] Epoch=31/64, Step=36/41, loss=0.227677, loss_cls=0.096134, loss_bbox=0.118932, loss_rpn_cls=0.006418, loss_rpn_bbox=0.006192, lr=5.7e-05, time_each_step=0.41s, eta=0:18:47\n",
      "2021-02-25 23:37:31 [INFO]\t[TRAIN] Epoch=31/64, Step=38/41, loss=0.187875, loss_cls=0.093995, loss_bbox=0.068867, loss_rpn_cls=0.012551, loss_rpn_bbox=0.012462, lr=5.7e-05, time_each_step=0.41s, eta=0:18:46\n",
      "2021-02-25 23:37:32 [INFO]\t[TRAIN] Epoch=31/64, Step=40/41, loss=0.160398, loss_cls=0.086114, loss_bbox=0.056403, loss_rpn_cls=0.007528, loss_rpn_bbox=0.010353, lr=5.7e-05, time_each_step=0.4s, eta=0:18:45\n",
      "2021-02-25 23:37:32 [INFO]\t[TRAIN] Epoch 31 finished, loss=0.205978, loss_cls=0.104748, loss_bbox=0.081634, loss_rpn_cls=0.012113, loss_rpn_bbox=0.007483, lr=5.7e-05 .\n",
      "2021-02-25 23:37:32 [WARNING]\tFaster RCNN supports batch_size=1 only during evaluating, so batch_size is forced to be set to 1.\n",
      "2021-02-25 23:37:32 [INFO]\tStart to evaluating(total_samples=2, total_steps=2)...\n"
     ]
    },
    {
     "name": "stderr",
     "output_type": "stream",
     "text": [
      "100%|██████████| 2/2 [00:03<00:00,  1.59s/it]\n"
     ]
    },
    {
     "name": "stdout",
     "output_type": "stream",
     "text": [
      "2021-02-25 23:37:35 [INFO]\t[EVAL] Finished, Epoch=31, bbox_map=70.0 .\n",
      "2021-02-25 23:37:39 [INFO]\tModel saved in output/faster_rcnn_r50_fpn/epoch_31.\n",
      "2021-02-25 23:37:39 [INFO]\tCurrent evaluated best model in eval_dataset is epoch_10, bbox_map=83.33333333333334\n",
      "2021-02-25 23:37:44 [INFO]\t[TRAIN] Epoch=32/64, Step=1/41, loss=0.201238, loss_cls=0.106723, loss_bbox=0.082918, loss_rpn_cls=0.006146, loss_rpn_bbox=0.00545, lr=5.4e-05, time_each_step=0.63s, eta=0:16:14\n",
      "2021-02-25 23:37:46 [INFO]\t[TRAIN] Epoch=32/64, Step=3/41, loss=0.255587, loss_cls=0.138279, loss_bbox=0.100192, loss_rpn_cls=0.008942, loss_rpn_bbox=0.008174, lr=5.4e-05, time_each_step=0.67s, eta=0:16:14\n",
      "2021-02-25 23:37:47 [INFO]\t[TRAIN] Epoch=32/64, Step=5/41, loss=0.295383, loss_cls=0.141775, loss_bbox=0.126548, loss_rpn_cls=0.014552, loss_rpn_bbox=0.012509, lr=5.4e-05, time_each_step=0.68s, eta=0:16:13\n",
      "2021-02-25 23:37:48 [INFO]\t[TRAIN] Epoch=32/64, Step=7/41, loss=0.262011, loss_cls=0.125169, loss_bbox=0.115897, loss_rpn_cls=0.014039, loss_rpn_bbox=0.006907, lr=5.4e-05, time_each_step=0.69s, eta=0:16:12\n",
      "2021-02-25 23:37:49 [INFO]\t[TRAIN] Epoch=32/64, Step=9/41, loss=0.150475, loss_cls=0.073282, loss_bbox=0.06618, loss_rpn_cls=0.00697, loss_rpn_bbox=0.004042, lr=5.4e-05, time_each_step=0.7s, eta=0:16:11\n",
      "2021-02-25 23:37:50 [INFO]\t[TRAIN] Epoch=32/64, Step=11/41, loss=0.270291, loss_cls=0.137386, loss_bbox=0.116594, loss_rpn_cls=0.008829, loss_rpn_bbox=0.007482, lr=5.4e-05, time_each_step=0.7s, eta=0:16:10\n",
      "2021-02-25 23:37:51 [INFO]\t[TRAIN] Epoch=32/64, Step=13/41, loss=0.154013, loss_cls=0.087742, loss_bbox=0.052751, loss_rpn_cls=0.006564, loss_rpn_bbox=0.006956, lr=5.4e-05, time_each_step=0.7s, eta=0:16:8\n",
      "2021-02-25 23:37:51 [INFO]\t[TRAIN] Epoch=32/64, Step=15/41, loss=0.206924, loss_cls=0.115415, loss_bbox=0.077309, loss_rpn_cls=0.008352, loss_rpn_bbox=0.005848, lr=5.4e-05, time_each_step=0.7s, eta=0:16:7\n",
      "2021-02-25 23:37:53 [INFO]\t[TRAIN] Epoch=32/64, Step=17/41, loss=0.200648, loss_cls=0.097315, loss_bbox=0.083401, loss_rpn_cls=0.013046, loss_rpn_bbox=0.006886, lr=5.4e-05, time_each_step=0.72s, eta=0:16:6\n",
      "2021-02-25 23:37:53 [INFO]\t[TRAIN] Epoch=32/64, Step=19/41, loss=0.287391, loss_cls=0.1519, loss_bbox=0.116684, loss_rpn_cls=0.011025, loss_rpn_bbox=0.007783, lr=5.4e-05, time_each_step=0.72s, eta=0:16:5\n",
      "2021-02-25 23:37:54 [INFO]\t[TRAIN] Epoch=32/64, Step=21/41, loss=0.183413, loss_cls=0.09078, loss_bbox=0.075371, loss_rpn_cls=0.010892, loss_rpn_bbox=0.00637, lr=5.4e-05, time_each_step=0.49s, eta=0:15:59\n",
      "2021-02-25 23:37:55 [INFO]\t[TRAIN] Epoch=32/64, Step=23/41, loss=0.132418, loss_cls=0.07155, loss_bbox=0.049333, loss_rpn_cls=0.008665, loss_rpn_bbox=0.00287, lr=5.4e-05, time_each_step=0.46s, eta=0:15:57\n",
      "2021-02-25 23:37:56 [INFO]\t[TRAIN] Epoch=32/64, Step=25/41, loss=0.146156, loss_cls=0.078476, loss_bbox=0.059123, loss_rpn_cls=0.00496, loss_rpn_bbox=0.003597, lr=5.4e-05, time_each_step=0.45s, eta=0:15:56\n",
      "2021-02-25 23:37:57 [INFO]\t[TRAIN] Epoch=32/64, Step=27/41, loss=0.12281, loss_cls=0.066753, loss_bbox=0.045013, loss_rpn_cls=0.006377, loss_rpn_bbox=0.004666, lr=5.4e-05, time_each_step=0.43s, eta=0:15:55\n",
      "2021-02-25 23:37:57 [INFO]\t[TRAIN] Epoch=32/64, Step=29/41, loss=0.121657, loss_cls=0.068352, loss_bbox=0.037985, loss_rpn_cls=0.010291, loss_rpn_bbox=0.00503, lr=5.4e-05, time_each_step=0.42s, eta=0:15:54\n",
      "2021-02-25 23:37:58 [INFO]\t[TRAIN] Epoch=32/64, Step=31/41, loss=0.164842, loss_cls=0.09077, loss_bbox=0.063766, loss_rpn_cls=0.006776, loss_rpn_bbox=0.00353, lr=5.4e-05, time_each_step=0.42s, eta=0:15:53\n",
      "2021-02-25 23:37:59 [INFO]\t[TRAIN] Epoch=32/64, Step=33/41, loss=0.115092, loss_cls=0.060715, loss_bbox=0.043335, loss_rpn_cls=0.005226, loss_rpn_bbox=0.005817, lr=5.4e-05, time_each_step=0.42s, eta=0:15:52\n",
      "2021-02-25 23:38:00 [INFO]\t[TRAIN] Epoch=32/64, Step=35/41, loss=0.175812, loss_cls=0.083251, loss_bbox=0.066368, loss_rpn_cls=0.018281, loss_rpn_bbox=0.007911, lr=5.4e-05, time_each_step=0.42s, eta=0:15:51\n",
      "2021-02-25 23:38:01 [INFO]\t[TRAIN] Epoch=32/64, Step=37/41, loss=0.096334, loss_cls=0.050588, loss_bbox=0.036128, loss_rpn_cls=0.003794, loss_rpn_bbox=0.005824, lr=5.4e-05, time_each_step=0.4s, eta=0:15:50\n",
      "2021-02-25 23:38:01 [INFO]\t[TRAIN] Epoch=32/64, Step=39/41, loss=0.228534, loss_cls=0.124383, loss_bbox=0.091398, loss_rpn_cls=0.00607, loss_rpn_bbox=0.006682, lr=5.4e-05, time_each_step=0.41s, eta=0:15:50\n",
      "2021-02-25 23:38:02 [INFO]\t[TRAIN] Epoch=32/64, Step=41/41, loss=0.252824, loss_cls=0.139418, loss_bbox=0.103727, loss_rpn_cls=0.005601, loss_rpn_bbox=0.004079, lr=5.4e-05, time_each_step=0.4s, eta=0:15:49\n",
      "2021-02-25 23:38:02 [INFO]\t[TRAIN] Epoch 32 finished, loss=0.209648, loss_cls=0.107305, loss_bbox=0.083434, loss_rpn_cls=0.011233, loss_rpn_bbox=0.007675, lr=5.4e-05 .\n",
      "2021-02-25 23:38:02 [WARNING]\tFaster RCNN supports batch_size=1 only during evaluating, so batch_size is forced to be set to 1.\n",
      "2021-02-25 23:38:02 [INFO]\tStart to evaluating(total_samples=2, total_steps=2)...\n"
     ]
    },
    {
     "name": "stderr",
     "output_type": "stream",
     "text": [
      "100%|██████████| 2/2 [00:03<00:00,  1.77s/it]\n"
     ]
    },
    {
     "name": "stdout",
     "output_type": "stream",
     "text": [
      "2021-02-25 23:38:06 [INFO]\t[EVAL] Finished, Epoch=32, bbox_map=40.584416 .\n",
      "2021-02-25 23:38:10 [INFO]\tModel saved in output/faster_rcnn_r50_fpn/epoch_32.\n",
      "2021-02-25 23:38:10 [INFO]\tCurrent evaluated best model in eval_dataset is epoch_10, bbox_map=83.33333333333334\n",
      "2021-02-25 23:38:14 [INFO]\t[TRAIN] Epoch=33/64, Step=2/41, loss=0.130986, loss_cls=0.078195, loss_bbox=0.038014, loss_rpn_cls=0.010131, loss_rpn_bbox=0.004646, lr=5.1e-05, time_each_step=0.59s, eta=0:16:10\n",
      "2021-02-25 23:38:16 [INFO]\t[TRAIN] Epoch=33/64, Step=4/41, loss=0.276638, loss_cls=0.135832, loss_bbox=0.116913, loss_rpn_cls=0.015698, loss_rpn_bbox=0.008195, lr=5.1e-05, time_each_step=0.62s, eta=0:16:10\n",
      "2021-02-25 23:38:16 [INFO]\t[TRAIN] Epoch=33/64, Step=6/41, loss=0.135302, loss_cls=0.073974, loss_bbox=0.044539, loss_rpn_cls=0.009553, loss_rpn_bbox=0.007236, lr=5.1e-05, time_each_step=0.63s, eta=0:16:9\n",
      "2021-02-25 23:38:17 [INFO]\t[TRAIN] Epoch=33/64, Step=8/41, loss=0.168726, loss_cls=0.081816, loss_bbox=0.066884, loss_rpn_cls=0.012026, loss_rpn_bbox=0.008, lr=5.1e-05, time_each_step=0.63s, eta=0:16:8\n",
      "2021-02-25 23:38:18 [INFO]\t[TRAIN] Epoch=33/64, Step=10/41, loss=0.208424, loss_cls=0.116576, loss_bbox=0.078851, loss_rpn_cls=0.006009, loss_rpn_bbox=0.006988, lr=5.1e-05, time_each_step=0.64s, eta=0:16:7\n",
      "2021-02-25 23:38:19 [INFO]\t[TRAIN] Epoch=33/64, Step=12/41, loss=0.139396, loss_cls=0.079328, loss_bbox=0.053431, loss_rpn_cls=0.00266, loss_rpn_bbox=0.003978, lr=5.1e-05, time_each_step=0.64s, eta=0:16:6\n",
      "2021-02-25 23:38:20 [INFO]\t[TRAIN] Epoch=33/64, Step=14/41, loss=0.189647, loss_cls=0.10382, loss_bbox=0.076155, loss_rpn_cls=0.00656, loss_rpn_bbox=0.003112, lr=5.1e-05, time_each_step=0.65s, eta=0:16:5\n",
      "2021-02-25 23:38:21 [INFO]\t[TRAIN] Epoch=33/64, Step=16/41, loss=0.181143, loss_cls=0.087071, loss_bbox=0.058911, loss_rpn_cls=0.025396, loss_rpn_bbox=0.009765, lr=5.1e-05, time_each_step=0.64s, eta=0:16:3\n",
      "2021-02-25 23:38:22 [INFO]\t[TRAIN] Epoch=33/64, Step=18/41, loss=0.1843, loss_cls=0.102849, loss_bbox=0.065241, loss_rpn_cls=0.006193, loss_rpn_bbox=0.010017, lr=5.1e-05, time_each_step=0.64s, eta=0:16:2\n",
      "2021-02-25 23:38:23 [INFO]\t[TRAIN] Epoch=33/64, Step=20/41, loss=0.164588, loss_cls=0.096541, loss_bbox=0.059986, loss_rpn_cls=0.004054, loss_rpn_bbox=0.004007, lr=5.1e-05, time_each_step=0.65s, eta=0:16:1\n",
      "2021-02-25 23:38:23 [INFO]\t[TRAIN] Epoch=33/64, Step=22/41, loss=0.233658, loss_cls=0.121059, loss_bbox=0.094278, loss_rpn_cls=0.010488, loss_rpn_bbox=0.007833, lr=5.1e-05, time_each_step=0.46s, eta=0:15:56\n",
      "2021-02-25 23:38:24 [INFO]\t[TRAIN] Epoch=33/64, Step=24/41, loss=0.287832, loss_cls=0.145114, loss_bbox=0.121919, loss_rpn_cls=0.014235, loss_rpn_bbox=0.006564, lr=5.1e-05, time_each_step=0.43s, eta=0:15:54\n",
      "2021-02-25 23:38:25 [INFO]\t[TRAIN] Epoch=33/64, Step=26/41, loss=0.10225, loss_cls=0.053198, loss_bbox=0.043827, loss_rpn_cls=0.001241, loss_rpn_bbox=0.003984, lr=5.1e-05, time_each_step=0.42s, eta=0:15:54\n",
      "2021-02-25 23:38:26 [INFO]\t[TRAIN] Epoch=33/64, Step=28/41, loss=0.195833, loss_cls=0.107572, loss_bbox=0.067445, loss_rpn_cls=0.010572, loss_rpn_bbox=0.010244, lr=5.1e-05, time_each_step=0.41s, eta=0:15:53\n",
      "2021-02-25 23:38:26 [INFO]\t[TRAIN] Epoch=33/64, Step=30/41, loss=0.349453, loss_cls=0.188315, loss_bbox=0.135068, loss_rpn_cls=0.018026, loss_rpn_bbox=0.008044, lr=5.1e-05, time_each_step=0.41s, eta=0:15:52\n",
      "2021-02-25 23:38:27 [INFO]\t[TRAIN] Epoch=33/64, Step=32/41, loss=0.099968, loss_cls=0.056206, loss_bbox=0.037403, loss_rpn_cls=0.003525, loss_rpn_bbox=0.002834, lr=5.1e-05, time_each_step=0.41s, eta=0:15:51\n",
      "2021-02-25 23:38:28 [INFO]\t[TRAIN] Epoch=33/64, Step=34/41, loss=0.271593, loss_cls=0.13878, loss_bbox=0.102967, loss_rpn_cls=0.01667, loss_rpn_bbox=0.013176, lr=5.1e-05, time_each_step=0.4s, eta=0:15:50\n",
      "2021-02-25 23:38:29 [INFO]\t[TRAIN] Epoch=33/64, Step=36/41, loss=0.26278, loss_cls=0.109309, loss_bbox=0.115753, loss_rpn_cls=0.026694, loss_rpn_bbox=0.011024, lr=5.1e-05, time_each_step=0.4s, eta=0:15:49\n",
      "2021-02-25 23:38:30 [INFO]\t[TRAIN] Epoch=33/64, Step=38/41, loss=0.294872, loss_cls=0.144996, loss_bbox=0.111555, loss_rpn_cls=0.022492, loss_rpn_bbox=0.015829, lr=5.1e-05, time_each_step=0.4s, eta=0:15:48\n",
      "2021-02-25 23:38:30 [INFO]\t[TRAIN] Epoch=33/64, Step=40/41, loss=0.177574, loss_cls=0.096375, loss_bbox=0.066335, loss_rpn_cls=0.008685, loss_rpn_bbox=0.006178, lr=5.1e-05, time_each_step=0.39s, eta=0:15:48\n",
      "2021-02-25 23:38:31 [INFO]\t[TRAIN] Epoch 33 finished, loss=0.20668, loss_cls=0.106818, loss_bbox=0.080348, loss_rpn_cls=0.011885, loss_rpn_bbox=0.007629, lr=5.1e-05 .\n",
      "2021-02-25 23:38:31 [WARNING]\tFaster RCNN supports batch_size=1 only during evaluating, so batch_size is forced to be set to 1.\n",
      "2021-02-25 23:38:31 [INFO]\tStart to evaluating(total_samples=2, total_steps=2)...\n"
     ]
    },
    {
     "name": "stderr",
     "output_type": "stream",
     "text": [
      "100%|██████████| 2/2 [00:05<00:00,  2.69s/it]\n"
     ]
    },
    {
     "name": "stdout",
     "output_type": "stream",
     "text": [
      "2021-02-25 23:38:36 [INFO]\t[EVAL] Finished, Epoch=33, bbox_map=45.0 .\n",
      "2021-02-25 23:38:40 [INFO]\tModel saved in output/faster_rcnn_r50_fpn/epoch_33.\n",
      "2021-02-25 23:38:40 [INFO]\tCurrent evaluated best model in eval_dataset is epoch_10, bbox_map=83.33333333333334\n",
      "2021-02-25 23:38:48 [INFO]\t[TRAIN] Epoch=34/64, Step=1/41, loss=0.310032, loss_cls=0.153832, loss_bbox=0.128853, loss_rpn_cls=0.016947, loss_rpn_bbox=0.0104, lr=4.9e-05, time_each_step=0.78s, eta=0:16:2\n",
      "2021-02-25 23:38:50 [INFO]\t[TRAIN] Epoch=34/64, Step=3/41, loss=0.192912, loss_cls=0.080449, loss_bbox=0.089708, loss_rpn_cls=0.015163, loss_rpn_bbox=0.007591, lr=4.9e-05, time_each_step=0.8s, eta=0:16:1\n",
      "2021-02-25 23:38:51 [INFO]\t[TRAIN] Epoch=34/64, Step=5/41, loss=0.10845, loss_cls=0.060491, loss_bbox=0.03794, loss_rpn_cls=0.003888, loss_rpn_bbox=0.006131, lr=4.9e-05, time_each_step=0.82s, eta=0:16:0\n",
      "2021-02-25 23:38:52 [INFO]\t[TRAIN] Epoch=34/64, Step=7/41, loss=0.375069, loss_cls=0.189575, loss_bbox=0.158227, loss_rpn_cls=0.01495, loss_rpn_bbox=0.012316, lr=4.9e-05, time_each_step=0.83s, eta=0:15:59\n",
      "2021-02-25 23:38:53 [INFO]\t[TRAIN] Epoch=34/64, Step=9/41, loss=0.257247, loss_cls=0.134623, loss_bbox=0.106556, loss_rpn_cls=0.009399, loss_rpn_bbox=0.006668, lr=4.9e-05, time_each_step=0.84s, eta=0:15:58\n",
      "2021-02-25 23:38:54 [INFO]\t[TRAIN] Epoch=34/64, Step=11/41, loss=0.203187, loss_cls=0.104397, loss_bbox=0.078561, loss_rpn_cls=0.012111, loss_rpn_bbox=0.008118, lr=4.9e-05, time_each_step=0.84s, eta=0:15:56\n",
      "2021-02-25 23:38:54 [INFO]\t[TRAIN] Epoch=34/64, Step=13/41, loss=0.158156, loss_cls=0.084187, loss_bbox=0.061526, loss_rpn_cls=0.004596, loss_rpn_bbox=0.007846, lr=4.9e-05, time_each_step=0.84s, eta=0:15:55\n",
      "2021-02-25 23:38:55 [INFO]\t[TRAIN] Epoch=34/64, Step=15/41, loss=0.133399, loss_cls=0.072376, loss_bbox=0.044706, loss_rpn_cls=0.01188, loss_rpn_bbox=0.004437, lr=4.9e-05, time_each_step=0.84s, eta=0:15:53\n",
      "2021-02-25 23:38:56 [INFO]\t[TRAIN] Epoch=34/64, Step=17/41, loss=0.118533, loss_cls=0.069035, loss_bbox=0.044913, loss_rpn_cls=0.002202, loss_rpn_bbox=0.002383, lr=4.9e-05, time_each_step=0.84s, eta=0:15:51\n",
      "2021-02-25 23:38:57 [INFO]\t[TRAIN] Epoch=34/64, Step=19/41, loss=0.112305, loss_cls=0.06485, loss_bbox=0.042054, loss_rpn_cls=0.002984, loss_rpn_bbox=0.002417, lr=4.9e-05, time_each_step=0.84s, eta=0:15:50\n",
      "2021-02-25 23:38:58 [INFO]\t[TRAIN] Epoch=34/64, Step=21/41, loss=0.237021, loss_cls=0.121937, loss_bbox=0.100555, loss_rpn_cls=0.010215, loss_rpn_bbox=0.004313, lr=4.9e-05, time_each_step=0.46s, eta=0:15:40\n",
      "2021-02-25 23:38:58 [INFO]\t[TRAIN] Epoch=34/64, Step=23/41, loss=0.315507, loss_cls=0.163952, loss_bbox=0.121954, loss_rpn_cls=0.018742, loss_rpn_bbox=0.010859, lr=4.9e-05, time_each_step=0.43s, eta=0:15:39\n",
      "2021-02-25 23:38:59 [INFO]\t[TRAIN] Epoch=34/64, Step=25/41, loss=0.190034, loss_cls=0.095524, loss_bbox=0.06442, loss_rpn_cls=0.020678, loss_rpn_bbox=0.009413, lr=4.9e-05, time_each_step=0.42s, eta=0:15:38\n",
      "2021-02-25 23:39:00 [INFO]\t[TRAIN] Epoch=34/64, Step=27/41, loss=0.222497, loss_cls=0.120414, loss_bbox=0.078976, loss_rpn_cls=0.016728, loss_rpn_bbox=0.006379, lr=4.9e-05, time_each_step=0.4s, eta=0:15:37\n",
      "2021-02-25 23:39:01 [INFO]\t[TRAIN] Epoch=34/64, Step=29/41, loss=0.20457, loss_cls=0.107355, loss_bbox=0.080492, loss_rpn_cls=0.010396, loss_rpn_bbox=0.006327, lr=4.9e-05, time_each_step=0.4s, eta=0:15:36\n",
      "2021-02-25 23:39:02 [INFO]\t[TRAIN] Epoch=34/64, Step=31/41, loss=0.247084, loss_cls=0.136152, loss_bbox=0.088327, loss_rpn_cls=0.013922, loss_rpn_bbox=0.008682, lr=4.9e-05, time_each_step=0.4s, eta=0:15:35\n",
      "2021-02-25 23:39:02 [INFO]\t[TRAIN] Epoch=34/64, Step=33/41, loss=0.155658, loss_cls=0.086788, loss_bbox=0.052574, loss_rpn_cls=0.010203, loss_rpn_bbox=0.006094, lr=4.9e-05, time_each_step=0.4s, eta=0:15:34\n",
      "2021-02-25 23:39:03 [INFO]\t[TRAIN] Epoch=34/64, Step=35/41, loss=0.171817, loss_cls=0.095445, loss_bbox=0.063103, loss_rpn_cls=0.008145, loss_rpn_bbox=0.005124, lr=4.9e-05, time_each_step=0.4s, eta=0:15:33\n",
      "2021-02-25 23:39:04 [INFO]\t[TRAIN] Epoch=34/64, Step=37/41, loss=0.117334, loss_cls=0.060114, loss_bbox=0.046277, loss_rpn_cls=0.006903, loss_rpn_bbox=0.004041, lr=4.9e-05, time_each_step=0.4s, eta=0:15:33\n",
      "2021-02-25 23:39:05 [INFO]\t[TRAIN] Epoch=34/64, Step=39/41, loss=0.209974, loss_cls=0.11076, loss_bbox=0.076404, loss_rpn_cls=0.016234, loss_rpn_bbox=0.006575, lr=4.9e-05, time_each_step=0.4s, eta=0:15:32\n",
      "2021-02-25 23:39:06 [INFO]\t[TRAIN] Epoch=34/64, Step=41/41, loss=0.173989, loss_cls=0.097022, loss_bbox=0.068606, loss_rpn_cls=0.00352, loss_rpn_bbox=0.004841, lr=4.9e-05, time_each_step=0.4s, eta=0:15:31\n",
      "2021-02-25 23:39:06 [INFO]\t[TRAIN] Epoch 34 finished, loss=0.207828, loss_cls=0.107168, loss_bbox=0.081922, loss_rpn_cls=0.011514, loss_rpn_bbox=0.007225, lr=4.9e-05 .\n",
      "2021-02-25 23:39:06 [WARNING]\tFaster RCNN supports batch_size=1 only during evaluating, so batch_size is forced to be set to 1.\n",
      "2021-02-25 23:39:06 [INFO]\tStart to evaluating(total_samples=2, total_steps=2)...\n"
     ]
    },
    {
     "name": "stderr",
     "output_type": "stream",
     "text": [
      "100%|██████████| 2/2 [00:04<00:00,  2.14s/it]\n"
     ]
    },
    {
     "name": "stdout",
     "output_type": "stream",
     "text": [
      "2021-02-25 23:39:10 [INFO]\t[EVAL] Finished, Epoch=34, bbox_map=40.584416 .\n",
      "2021-02-25 23:39:14 [INFO]\tModel saved in output/faster_rcnn_r50_fpn/epoch_34.\n",
      "2021-02-25 23:39:14 [INFO]\tCurrent evaluated best model in eval_dataset is epoch_10, bbox_map=83.33333333333334\n",
      "2021-02-25 23:39:20 [INFO]\t[TRAIN] Epoch=35/64, Step=2/41, loss=0.098796, loss_cls=0.056151, loss_bbox=0.039862, loss_rpn_cls=0.001211, loss_rpn_bbox=0.001572, lr=4.6e-05, time_each_step=0.67s, eta=0:16:42\n",
      "2021-02-25 23:39:21 [INFO]\t[TRAIN] Epoch=35/64, Step=4/41, loss=0.216731, loss_cls=0.1011, loss_bbox=0.082128, loss_rpn_cls=0.021492, loss_rpn_bbox=0.012012, lr=4.6e-05, time_each_step=0.69s, eta=0:16:41\n",
      "2021-02-25 23:39:22 [INFO]\t[TRAIN] Epoch=35/64, Step=6/41, loss=0.125945, loss_cls=0.066349, loss_bbox=0.050993, loss_rpn_cls=0.003431, loss_rpn_bbox=0.005173, lr=4.6e-05, time_each_step=0.69s, eta=0:16:40\n",
      "2021-02-25 23:39:23 [INFO]\t[TRAIN] Epoch=35/64, Step=8/41, loss=0.152965, loss_cls=0.080177, loss_bbox=0.057997, loss_rpn_cls=0.010106, loss_rpn_bbox=0.004685, lr=4.6e-05, time_each_step=0.7s, eta=0:16:38\n",
      "2021-02-25 23:39:24 [INFO]\t[TRAIN] Epoch=35/64, Step=10/41, loss=0.305625, loss_cls=0.143527, loss_bbox=0.132585, loss_rpn_cls=0.01615, loss_rpn_bbox=0.013362, lr=4.6e-05, time_each_step=0.7s, eta=0:16:37\n",
      "2021-02-25 23:39:25 [INFO]\t[TRAIN] Epoch=35/64, Step=12/41, loss=0.126594, loss_cls=0.06676, loss_bbox=0.036915, loss_rpn_cls=0.009342, loss_rpn_bbox=0.013576, lr=4.6e-05, time_each_step=0.71s, eta=0:16:36\n",
      "2021-02-25 23:39:25 [INFO]\t[TRAIN] Epoch=35/64, Step=14/41, loss=0.161147, loss_cls=0.081888, loss_bbox=0.057192, loss_rpn_cls=0.015772, loss_rpn_bbox=0.006296, lr=4.6e-05, time_each_step=0.71s, eta=0:16:34\n",
      "2021-02-25 23:39:26 [INFO]\t[TRAIN] Epoch=35/64, Step=16/41, loss=0.12303, loss_cls=0.063337, loss_bbox=0.050066, loss_rpn_cls=0.007021, loss_rpn_bbox=0.002605, lr=4.6e-05, time_each_step=0.71s, eta=0:16:33\n",
      "2021-02-25 23:39:27 [INFO]\t[TRAIN] Epoch=35/64, Step=18/41, loss=0.18111, loss_cls=0.094584, loss_bbox=0.076276, loss_rpn_cls=0.005123, loss_rpn_bbox=0.005127, lr=4.6e-05, time_each_step=0.71s, eta=0:16:32\n",
      "2021-02-25 23:39:28 [INFO]\t[TRAIN] Epoch=35/64, Step=20/41, loss=0.137083, loss_cls=0.066262, loss_bbox=0.049721, loss_rpn_cls=0.017338, loss_rpn_bbox=0.003761, lr=4.6e-05, time_each_step=0.72s, eta=0:16:30\n",
      "2021-02-25 23:39:29 [INFO]\t[TRAIN] Epoch=35/64, Step=22/41, loss=0.225881, loss_cls=0.108916, loss_bbox=0.098935, loss_rpn_cls=0.010664, loss_rpn_bbox=0.007366, lr=4.6e-05, time_each_step=0.45s, eta=0:16:24\n",
      "2021-02-25 23:39:30 [INFO]\t[TRAIN] Epoch=35/64, Step=24/41, loss=0.207771, loss_cls=0.09869, loss_bbox=0.097127, loss_rpn_cls=0.006572, loss_rpn_bbox=0.005382, lr=4.6e-05, time_each_step=0.43s, eta=0:16:23\n",
      "2021-02-25 23:39:31 [INFO]\t[TRAIN] Epoch=35/64, Step=26/41, loss=0.225933, loss_cls=0.121325, loss_bbox=0.093032, loss_rpn_cls=0.005964, loss_rpn_bbox=0.005611, lr=4.6e-05, time_each_step=0.43s, eta=0:16:22\n",
      "2021-02-25 23:39:31 [INFO]\t[TRAIN] Epoch=35/64, Step=28/41, loss=0.200736, loss_cls=0.099232, loss_bbox=0.067335, loss_rpn_cls=0.020134, loss_rpn_bbox=0.014035, lr=4.6e-05, time_each_step=0.42s, eta=0:16:21\n",
      "2021-02-25 23:39:32 [INFO]\t[TRAIN] Epoch=35/64, Step=30/41, loss=0.315878, loss_cls=0.166585, loss_bbox=0.123651, loss_rpn_cls=0.018266, loss_rpn_bbox=0.007377, lr=4.6e-05, time_each_step=0.42s, eta=0:16:20\n",
      "2021-02-25 23:39:33 [INFO]\t[TRAIN] Epoch=35/64, Step=32/41, loss=0.182682, loss_cls=0.092161, loss_bbox=0.075351, loss_rpn_cls=0.010064, loss_rpn_bbox=0.005105, lr=4.6e-05, time_each_step=0.41s, eta=0:16:19\n",
      "2021-02-25 23:39:34 [INFO]\t[TRAIN] Epoch=35/64, Step=34/41, loss=0.307626, loss_cls=0.151565, loss_bbox=0.125687, loss_rpn_cls=0.016916, loss_rpn_bbox=0.013458, lr=4.6e-05, time_each_step=0.41s, eta=0:16:18\n",
      "2021-02-25 23:39:35 [INFO]\t[TRAIN] Epoch=35/64, Step=36/41, loss=0.13278, loss_cls=0.069976, loss_bbox=0.050551, loss_rpn_cls=0.007719, loss_rpn_bbox=0.004534, lr=4.6e-05, time_each_step=0.41s, eta=0:16:17\n",
      "2021-02-25 23:39:35 [INFO]\t[TRAIN] Epoch=35/64, Step=38/41, loss=0.235562, loss_cls=0.133341, loss_bbox=0.087485, loss_rpn_cls=0.008584, loss_rpn_bbox=0.006152, lr=4.6e-05, time_each_step=0.4s, eta=0:16:16\n",
      "2021-02-25 23:39:36 [INFO]\t[TRAIN] Epoch=35/64, Step=40/41, loss=0.295202, loss_cls=0.159777, loss_bbox=0.114672, loss_rpn_cls=0.012784, loss_rpn_bbox=0.007969, lr=4.6e-05, time_each_step=0.4s, eta=0:16:16\n",
      "2021-02-25 23:39:36 [INFO]\t[TRAIN] Epoch 35 finished, loss=0.203825, loss_cls=0.104848, loss_bbox=0.080545, loss_rpn_cls=0.011162, loss_rpn_bbox=0.00727, lr=4.6e-05 .\n",
      "2021-02-25 23:39:36 [WARNING]\tFaster RCNN supports batch_size=1 only during evaluating, so batch_size is forced to be set to 1.\n",
      "2021-02-25 23:39:36 [INFO]\tStart to evaluating(total_samples=2, total_steps=2)...\n"
     ]
    },
    {
     "name": "stderr",
     "output_type": "stream",
     "text": [
      "100%|██████████| 2/2 [00:03<00:00,  1.80s/it]\n"
     ]
    },
    {
     "name": "stdout",
     "output_type": "stream",
     "text": [
      "2021-02-25 23:39:40 [INFO]\t[EVAL] Finished, Epoch=35, bbox_map=40.584416 .\n",
      "2021-02-25 23:39:44 [INFO]\tModel saved in output/faster_rcnn_r50_fpn/epoch_35.\n",
      "2021-02-25 23:39:44 [INFO]\tCurrent evaluated best model in eval_dataset is epoch_10, bbox_map=83.33333333333334\n",
      "2021-02-25 23:39:49 [INFO]\t[TRAIN] Epoch=36/64, Step=1/41, loss=0.287691, loss_cls=0.143247, loss_bbox=0.104425, loss_rpn_cls=0.028687, loss_rpn_bbox=0.011331, lr=4.4e-05, time_each_step=0.64s, eta=0:14:47\n",
      "2021-02-25 23:39:51 [INFO]\t[TRAIN] Epoch=36/64, Step=3/41, loss=0.303555, loss_cls=0.138946, loss_bbox=0.126493, loss_rpn_cls=0.025666, loss_rpn_bbox=0.012451, lr=4.4e-05, time_each_step=0.68s, eta=0:14:47\n",
      "2021-02-25 23:39:52 [INFO]\t[TRAIN] Epoch=36/64, Step=5/41, loss=0.204228, loss_cls=0.084221, loss_bbox=0.109353, loss_rpn_cls=0.004854, loss_rpn_bbox=0.0058, lr=4.4e-05, time_each_step=0.7s, eta=0:14:46\n",
      "2021-02-25 23:39:53 [INFO]\t[TRAIN] Epoch=36/64, Step=7/41, loss=0.132945, loss_cls=0.073603, loss_bbox=0.050516, loss_rpn_cls=0.003959, loss_rpn_bbox=0.004867, lr=4.4e-05, time_each_step=0.71s, eta=0:14:46\n",
      "2021-02-25 23:39:54 [INFO]\t[TRAIN] Epoch=36/64, Step=9/41, loss=0.1315, loss_cls=0.067617, loss_bbox=0.046899, loss_rpn_cls=0.00865, loss_rpn_bbox=0.008334, lr=4.4e-05, time_each_step=0.71s, eta=0:14:44\n",
      "2021-02-25 23:39:55 [INFO]\t[TRAIN] Epoch=36/64, Step=11/41, loss=0.277994, loss_cls=0.132582, loss_bbox=0.121012, loss_rpn_cls=0.011957, loss_rpn_bbox=0.012443, lr=4.4e-05, time_each_step=0.72s, eta=0:14:43\n",
      "2021-02-25 23:39:56 [INFO]\t[TRAIN] Epoch=36/64, Step=13/41, loss=0.226764, loss_cls=0.120345, loss_bbox=0.076758, loss_rpn_cls=0.017675, loss_rpn_bbox=0.011986, lr=4.4e-05, time_each_step=0.72s, eta=0:14:41\n",
      "2021-02-25 23:39:57 [INFO]\t[TRAIN] Epoch=36/64, Step=15/41, loss=0.213421, loss_cls=0.104506, loss_bbox=0.072508, loss_rpn_cls=0.027445, loss_rpn_bbox=0.008962, lr=4.4e-05, time_each_step=0.72s, eta=0:14:40\n",
      "2021-02-25 23:39:57 [INFO]\t[TRAIN] Epoch=36/64, Step=17/41, loss=0.248556, loss_cls=0.130623, loss_bbox=0.098129, loss_rpn_cls=0.010915, loss_rpn_bbox=0.008889, lr=4.4e-05, time_each_step=0.72s, eta=0:14:39\n",
      "2021-02-25 23:39:58 [INFO]\t[TRAIN] Epoch=36/64, Step=19/41, loss=0.144582, loss_cls=0.075762, loss_bbox=0.055958, loss_rpn_cls=0.008797, loss_rpn_bbox=0.004065, lr=4.4e-05, time_each_step=0.73s, eta=0:14:37\n",
      "2021-02-25 23:39:59 [INFO]\t[TRAIN] Epoch=36/64, Step=21/41, loss=0.215426, loss_cls=0.114681, loss_bbox=0.081421, loss_rpn_cls=0.011595, loss_rpn_bbox=0.007729, lr=4.4e-05, time_each_step=0.49s, eta=0:14:31\n",
      "2021-02-25 23:40:00 [INFO]\t[TRAIN] Epoch=36/64, Step=23/41, loss=0.289945, loss_cls=0.147106, loss_bbox=0.119896, loss_rpn_cls=0.013489, loss_rpn_bbox=0.009453, lr=4.4e-05, time_each_step=0.44s, eta=0:14:29\n",
      "2021-02-25 23:40:01 [INFO]\t[TRAIN] Epoch=36/64, Step=25/41, loss=0.194775, loss_cls=0.099502, loss_bbox=0.073076, loss_rpn_cls=0.01225, loss_rpn_bbox=0.009946, lr=4.4e-05, time_each_step=0.43s, eta=0:14:28\n",
      "2021-02-25 23:40:01 [INFO]\t[TRAIN] Epoch=36/64, Step=27/41, loss=0.22698, loss_cls=0.115749, loss_bbox=0.087311, loss_rpn_cls=0.015602, loss_rpn_bbox=0.008318, lr=4.4e-05, time_each_step=0.41s, eta=0:14:27\n",
      "2021-02-25 23:40:02 [INFO]\t[TRAIN] Epoch=36/64, Step=29/41, loss=0.276544, loss_cls=0.13196, loss_bbox=0.126817, loss_rpn_cls=0.011421, loss_rpn_bbox=0.006346, lr=4.4e-05, time_each_step=0.4s, eta=0:14:26\n",
      "2021-02-25 23:40:03 [INFO]\t[TRAIN] Epoch=36/64, Step=31/41, loss=0.091806, loss_cls=0.050622, loss_bbox=0.038187, loss_rpn_cls=0.001496, loss_rpn_bbox=0.001501, lr=4.4e-05, time_each_step=0.4s, eta=0:14:25\n",
      "2021-02-25 23:40:04 [INFO]\t[TRAIN] Epoch=36/64, Step=33/41, loss=0.213191, loss_cls=0.109421, loss_bbox=0.07589, loss_rpn_cls=0.017425, loss_rpn_bbox=0.010455, lr=4.4e-05, time_each_step=0.4s, eta=0:14:25\n",
      "2021-02-25 23:40:05 [INFO]\t[TRAIN] Epoch=36/64, Step=35/41, loss=0.247889, loss_cls=0.125452, loss_bbox=0.104148, loss_rpn_cls=0.011653, loss_rpn_bbox=0.006637, lr=4.4e-05, time_each_step=0.4s, eta=0:14:24\n",
      "2021-02-25 23:40:05 [INFO]\t[TRAIN] Epoch=36/64, Step=37/41, loss=0.181258, loss_cls=0.090499, loss_bbox=0.076608, loss_rpn_cls=0.008164, loss_rpn_bbox=0.005986, lr=4.4e-05, time_each_step=0.39s, eta=0:14:23\n",
      "2021-02-25 23:40:06 [INFO]\t[TRAIN] Epoch=36/64, Step=39/41, loss=0.117492, loss_cls=0.072682, loss_bbox=0.038949, loss_rpn_cls=0.002555, loss_rpn_bbox=0.003306, lr=4.4e-05, time_each_step=0.39s, eta=0:14:22\n",
      "2021-02-25 23:40:07 [INFO]\t[TRAIN] Epoch=36/64, Step=41/41, loss=0.267661, loss_cls=0.137364, loss_bbox=0.092695, loss_rpn_cls=0.027973, loss_rpn_bbox=0.009628, lr=4.4e-05, time_each_step=0.39s, eta=0:14:21\n",
      "2021-02-25 23:40:07 [INFO]\t[TRAIN] Epoch 36 finished, loss=0.199582, loss_cls=0.101506, loss_bbox=0.07981, loss_rpn_cls=0.010939, loss_rpn_bbox=0.007326, lr=4.4e-05 .\n",
      "2021-02-25 23:40:07 [WARNING]\tFaster RCNN supports batch_size=1 only during evaluating, so batch_size is forced to be set to 1.\n",
      "2021-02-25 23:40:07 [INFO]\tStart to evaluating(total_samples=2, total_steps=2)...\n"
     ]
    },
    {
     "name": "stderr",
     "output_type": "stream",
     "text": [
      "100%|██████████| 2/2 [00:03<00:00,  1.59s/it]\n"
     ]
    },
    {
     "name": "stdout",
     "output_type": "stream",
     "text": [
      "2021-02-25 23:40:10 [INFO]\t[EVAL] Finished, Epoch=36, bbox_map=71.212121 .\n",
      "2021-02-25 23:40:14 [INFO]\tModel saved in output/faster_rcnn_r50_fpn/epoch_36.\n",
      "2021-02-25 23:40:14 [INFO]\tCurrent evaluated best model in eval_dataset is epoch_10, bbox_map=83.33333333333334\n",
      "2021-02-25 23:40:21 [INFO]\t[TRAIN] Epoch=37/64, Step=2/41, loss=0.174271, loss_cls=0.090844, loss_bbox=0.071934, loss_rpn_cls=0.006339, loss_rpn_bbox=0.005154, lr=4.2e-05, time_each_step=0.68s, eta=0:14:2\n",
      "2021-02-25 23:40:22 [INFO]\t[TRAIN] Epoch=37/64, Step=4/41, loss=0.146561, loss_cls=0.075579, loss_bbox=0.055421, loss_rpn_cls=0.010787, loss_rpn_bbox=0.004774, lr=4.2e-05, time_each_step=0.69s, eta=0:14:1\n",
      "2021-02-25 23:40:23 [INFO]\t[TRAIN] Epoch=37/64, Step=6/41, loss=0.155767, loss_cls=0.088612, loss_bbox=0.052116, loss_rpn_cls=0.011406, loss_rpn_bbox=0.003634, lr=4.2e-05, time_each_step=0.7s, eta=0:14:0\n",
      "2021-02-25 23:40:24 [INFO]\t[TRAIN] Epoch=37/64, Step=8/41, loss=0.189433, loss_cls=0.098802, loss_bbox=0.068333, loss_rpn_cls=0.013321, loss_rpn_bbox=0.008977, lr=4.2e-05, time_each_step=0.71s, eta=0:13:59\n",
      "2021-02-25 23:40:25 [INFO]\t[TRAIN] Epoch=37/64, Step=10/41, loss=0.166115, loss_cls=0.088576, loss_bbox=0.059471, loss_rpn_cls=0.0121, loss_rpn_bbox=0.005968, lr=4.2e-05, time_each_step=0.72s, eta=0:13:58\n",
      "2021-02-25 23:40:25 [INFO]\t[TRAIN] Epoch=37/64, Step=12/41, loss=0.198973, loss_cls=0.103556, loss_bbox=0.072243, loss_rpn_cls=0.015852, loss_rpn_bbox=0.007323, lr=4.2e-05, time_each_step=0.72s, eta=0:13:56\n",
      "2021-02-25 23:40:26 [INFO]\t[TRAIN] Epoch=37/64, Step=14/41, loss=0.178047, loss_cls=0.097481, loss_bbox=0.068176, loss_rpn_cls=0.007308, loss_rpn_bbox=0.005083, lr=4.2e-05, time_each_step=0.72s, eta=0:13:55\n",
      "2021-02-25 23:40:27 [INFO]\t[TRAIN] Epoch=37/64, Step=16/41, loss=0.283268, loss_cls=0.151025, loss_bbox=0.123988, loss_rpn_cls=0.002014, loss_rpn_bbox=0.006241, lr=4.2e-05, time_each_step=0.73s, eta=0:13:54\n",
      "2021-02-25 23:40:28 [INFO]\t[TRAIN] Epoch=37/64, Step=18/41, loss=0.261373, loss_cls=0.134185, loss_bbox=0.113308, loss_rpn_cls=0.007716, loss_rpn_bbox=0.006164, lr=4.2e-05, time_each_step=0.73s, eta=0:13:52\n",
      "2021-02-25 23:40:29 [INFO]\t[TRAIN] Epoch=37/64, Step=20/41, loss=0.199539, loss_cls=0.100745, loss_bbox=0.065659, loss_rpn_cls=0.016599, loss_rpn_bbox=0.016535, lr=4.2e-05, time_each_step=0.73s, eta=0:13:51\n",
      "2021-02-25 23:40:30 [INFO]\t[TRAIN] Epoch=37/64, Step=22/41, loss=0.18087, loss_cls=0.092883, loss_bbox=0.062904, loss_rpn_cls=0.015518, loss_rpn_bbox=0.009564, lr=4.2e-05, time_each_step=0.44s, eta=0:13:44\n",
      "2021-02-25 23:40:30 [INFO]\t[TRAIN] Epoch=37/64, Step=24/41, loss=0.103923, loss_cls=0.049392, loss_bbox=0.039632, loss_rpn_cls=0.011573, loss_rpn_bbox=0.003326, lr=4.2e-05, time_each_step=0.43s, eta=0:13:43\n",
      "2021-02-25 23:40:31 [INFO]\t[TRAIN] Epoch=37/64, Step=26/41, loss=0.355084, loss_cls=0.176624, loss_bbox=0.152463, loss_rpn_cls=0.013634, loss_rpn_bbox=0.012363, lr=4.2e-05, time_each_step=0.42s, eta=0:13:42\n",
      "2021-02-25 23:40:32 [INFO]\t[TRAIN] Epoch=37/64, Step=28/41, loss=0.135276, loss_cls=0.0775, loss_bbox=0.042147, loss_rpn_cls=0.008601, loss_rpn_bbox=0.007029, lr=4.2e-05, time_each_step=0.41s, eta=0:13:41\n",
      "2021-02-25 23:40:33 [INFO]\t[TRAIN] Epoch=37/64, Step=30/41, loss=0.116946, loss_cls=0.061213, loss_bbox=0.040437, loss_rpn_cls=0.010759, loss_rpn_bbox=0.004536, lr=4.2e-05, time_each_step=0.41s, eta=0:13:40\n",
      "2021-02-25 23:40:34 [INFO]\t[TRAIN] Epoch=37/64, Step=32/41, loss=0.246264, loss_cls=0.1129, loss_bbox=0.100301, loss_rpn_cls=0.02623, loss_rpn_bbox=0.006833, lr=4.2e-05, time_each_step=0.4s, eta=0:13:39\n",
      "2021-02-25 23:40:34 [INFO]\t[TRAIN] Epoch=37/64, Step=34/41, loss=0.1284, loss_cls=0.066498, loss_bbox=0.041824, loss_rpn_cls=0.015884, loss_rpn_bbox=0.004195, lr=4.2e-05, time_each_step=0.4s, eta=0:13:38\n",
      "2021-02-25 23:40:35 [INFO]\t[TRAIN] Epoch=37/64, Step=36/41, loss=0.193442, loss_cls=0.0941, loss_bbox=0.077172, loss_rpn_cls=0.014301, loss_rpn_bbox=0.007869, lr=4.2e-05, time_each_step=0.39s, eta=0:13:38\n",
      "2021-02-25 23:40:36 [INFO]\t[TRAIN] Epoch=37/64, Step=38/41, loss=0.167748, loss_cls=0.092735, loss_bbox=0.062408, loss_rpn_cls=0.004937, loss_rpn_bbox=0.007668, lr=4.2e-05, time_each_step=0.39s, eta=0:13:37\n",
      "2021-02-25 23:40:36 [INFO]\t[TRAIN] Epoch=37/64, Step=40/41, loss=0.224873, loss_cls=0.113104, loss_bbox=0.090725, loss_rpn_cls=0.011798, loss_rpn_bbox=0.009246, lr=4.2e-05, time_each_step=0.39s, eta=0:13:36\n",
      "2021-02-25 23:40:37 [INFO]\t[TRAIN] Epoch 37 finished, loss=0.202116, loss_cls=0.103871, loss_bbox=0.079829, loss_rpn_cls=0.011402, loss_rpn_bbox=0.007014, lr=4.2e-05 .\n",
      "2021-02-25 23:40:37 [WARNING]\tFaster RCNN supports batch_size=1 only during evaluating, so batch_size is forced to be set to 1.\n",
      "2021-02-25 23:40:37 [INFO]\tStart to evaluating(total_samples=2, total_steps=2)...\n"
     ]
    },
    {
     "name": "stderr",
     "output_type": "stream",
     "text": [
      "100%|██████████| 2/2 [00:03<00:00,  1.77s/it]\n"
     ]
    },
    {
     "name": "stdout",
     "output_type": "stream",
     "text": [
      "2021-02-25 23:40:40 [INFO]\t[EVAL] Finished, Epoch=37, bbox_map=65.584416 .\n",
      "2021-02-25 23:40:44 [INFO]\tModel saved in output/faster_rcnn_r50_fpn/epoch_37.\n",
      "2021-02-25 23:40:44 [INFO]\tCurrent evaluated best model in eval_dataset is epoch_10, bbox_map=83.33333333333334\n",
      "2021-02-25 23:40:50 [INFO]\t[TRAIN] Epoch=38/64, Step=1/41, loss=0.144425, loss_cls=0.072579, loss_bbox=0.056699, loss_rpn_cls=0.008389, loss_rpn_bbox=0.006758, lr=4e-05, time_each_step=0.66s, eta=0:13:42\n",
      "2021-02-25 23:40:52 [INFO]\t[TRAIN] Epoch=38/64, Step=3/41, loss=0.182659, loss_cls=0.092389, loss_bbox=0.074648, loss_rpn_cls=0.00924, loss_rpn_bbox=0.006382, lr=4e-05, time_each_step=0.69s, eta=0:13:42\n",
      "2021-02-25 23:40:53 [INFO]\t[TRAIN] Epoch=38/64, Step=5/41, loss=0.110098, loss_cls=0.066788, loss_bbox=0.03628, loss_rpn_cls=0.004923, loss_rpn_bbox=0.002108, lr=4e-05, time_each_step=0.7s, eta=0:13:41\n",
      "2021-02-25 23:40:54 [INFO]\t[TRAIN] Epoch=38/64, Step=7/41, loss=0.25284, loss_cls=0.133565, loss_bbox=0.102171, loss_rpn_cls=0.010927, loss_rpn_bbox=0.006177, lr=4e-05, time_each_step=0.71s, eta=0:13:40\n",
      "2021-02-25 23:40:55 [INFO]\t[TRAIN] Epoch=38/64, Step=9/41, loss=0.279217, loss_cls=0.15362, loss_bbox=0.098402, loss_rpn_cls=0.018264, loss_rpn_bbox=0.008932, lr=4e-05, time_each_step=0.72s, eta=0:13:39\n",
      "2021-02-25 23:40:56 [INFO]\t[TRAIN] Epoch=38/64, Step=11/41, loss=0.141593, loss_cls=0.078857, loss_bbox=0.050858, loss_rpn_cls=0.007336, loss_rpn_bbox=0.004541, lr=4e-05, time_each_step=0.72s, eta=0:13:37\n",
      "2021-02-25 23:40:56 [INFO]\t[TRAIN] Epoch=38/64, Step=13/41, loss=0.167324, loss_cls=0.096089, loss_bbox=0.05737, loss_rpn_cls=0.007749, loss_rpn_bbox=0.006116, lr=4e-05, time_each_step=0.72s, eta=0:13:36\n",
      "2021-02-25 23:40:57 [INFO]\t[TRAIN] Epoch=38/64, Step=15/41, loss=0.28524, loss_cls=0.142054, loss_bbox=0.125389, loss_rpn_cls=0.011812, loss_rpn_bbox=0.005985, lr=4e-05, time_each_step=0.72s, eta=0:13:34\n",
      "2021-02-25 23:40:58 [INFO]\t[TRAIN] Epoch=38/64, Step=17/41, loss=0.330881, loss_cls=0.16707, loss_bbox=0.140144, loss_rpn_cls=0.012939, loss_rpn_bbox=0.010729, lr=4e-05, time_each_step=0.72s, eta=0:13:33\n",
      "2021-02-25 23:40:59 [INFO]\t[TRAIN] Epoch=38/64, Step=19/41, loss=0.142355, loss_cls=0.075869, loss_bbox=0.051913, loss_rpn_cls=0.010488, loss_rpn_bbox=0.004084, lr=4e-05, time_each_step=0.72s, eta=0:13:32\n",
      "2021-02-25 23:40:59 [INFO]\t[TRAIN] Epoch=38/64, Step=21/41, loss=0.198344, loss_cls=0.104012, loss_bbox=0.081472, loss_rpn_cls=0.005349, loss_rpn_bbox=0.007511, lr=4e-05, time_each_step=0.44s, eta=0:13:25\n",
      "2021-02-25 23:41:00 [INFO]\t[TRAIN] Epoch=38/64, Step=23/41, loss=0.152716, loss_cls=0.076293, loss_bbox=0.063661, loss_rpn_cls=0.007741, loss_rpn_bbox=0.005021, lr=4e-05, time_each_step=0.42s, eta=0:13:23\n",
      "2021-02-25 23:41:01 [INFO]\t[TRAIN] Epoch=38/64, Step=25/41, loss=0.192793, loss_cls=0.100303, loss_bbox=0.07783, loss_rpn_cls=0.008622, loss_rpn_bbox=0.006037, lr=4e-05, time_each_step=0.42s, eta=0:13:22\n",
      "2021-02-25 23:41:02 [INFO]\t[TRAIN] Epoch=38/64, Step=27/41, loss=0.159253, loss_cls=0.07562, loss_bbox=0.059557, loss_rpn_cls=0.006504, loss_rpn_bbox=0.017572, lr=4e-05, time_each_step=0.4s, eta=0:13:21\n",
      "2021-02-25 23:41:03 [INFO]\t[TRAIN] Epoch=38/64, Step=29/41, loss=0.192264, loss_cls=0.097863, loss_bbox=0.071436, loss_rpn_cls=0.013735, loss_rpn_bbox=0.009229, lr=4e-05, time_each_step=0.4s, eta=0:13:20\n",
      "2021-02-25 23:41:03 [INFO]\t[TRAIN] Epoch=38/64, Step=31/41, loss=0.141955, loss_cls=0.079832, loss_bbox=0.051935, loss_rpn_cls=0.005044, loss_rpn_bbox=0.005144, lr=4e-05, time_each_step=0.4s, eta=0:13:20\n",
      "2021-02-25 23:41:04 [INFO]\t[TRAIN] Epoch=38/64, Step=33/41, loss=0.128711, loss_cls=0.066952, loss_bbox=0.042381, loss_rpn_cls=0.014909, loss_rpn_bbox=0.00447, lr=4e-05, time_each_step=0.39s, eta=0:13:19\n",
      "2021-02-25 23:41:05 [INFO]\t[TRAIN] Epoch=38/64, Step=35/41, loss=0.278266, loss_cls=0.1323, loss_bbox=0.129709, loss_rpn_cls=0.010951, loss_rpn_bbox=0.005306, lr=4e-05, time_each_step=0.4s, eta=0:13:18\n",
      "2021-02-25 23:41:06 [INFO]\t[TRAIN] Epoch=38/64, Step=37/41, loss=0.141139, loss_cls=0.075857, loss_bbox=0.052352, loss_rpn_cls=0.007009, loss_rpn_bbox=0.005921, lr=4e-05, time_each_step=0.4s, eta=0:13:17\n",
      "2021-02-25 23:41:07 [INFO]\t[TRAIN] Epoch=38/64, Step=39/41, loss=0.171183, loss_cls=0.084101, loss_bbox=0.070625, loss_rpn_cls=0.012016, loss_rpn_bbox=0.004441, lr=4e-05, time_each_step=0.41s, eta=0:13:16\n",
      "2021-02-25 23:41:08 [INFO]\t[TRAIN] Epoch=38/64, Step=41/41, loss=0.135562, loss_cls=0.075357, loss_bbox=0.049163, loss_rpn_cls=0.007219, loss_rpn_bbox=0.003823, lr=4e-05, time_each_step=0.41s, eta=0:13:16\n",
      "2021-02-25 23:41:08 [INFO]\t[TRAIN] Epoch 38 finished, loss=0.201538, loss_cls=0.103652, loss_bbox=0.080029, loss_rpn_cls=0.010607, loss_rpn_bbox=0.00725, lr=4e-05 .\n",
      "2021-02-25 23:41:08 [WARNING]\tFaster RCNN supports batch_size=1 only during evaluating, so batch_size is forced to be set to 1.\n",
      "2021-02-25 23:41:08 [INFO]\tStart to evaluating(total_samples=2, total_steps=2)...\n"
     ]
    },
    {
     "name": "stderr",
     "output_type": "stream",
     "text": [
      "100%|██████████| 2/2 [00:04<00:00,  2.09s/it]\n"
     ]
    },
    {
     "name": "stdout",
     "output_type": "stream",
     "text": [
      "2021-02-25 23:41:12 [INFO]\t[EVAL] Finished, Epoch=38, bbox_map=65.584416 .\n",
      "2021-02-25 23:41:17 [INFO]\tModel saved in output/faster_rcnn_r50_fpn/epoch_38.\n",
      "2021-02-25 23:41:17 [INFO]\tCurrent evaluated best model in eval_dataset is epoch_10, bbox_map=83.33333333333334\n",
      "2021-02-25 23:41:26 [INFO]\t[TRAIN] Epoch=39/64, Step=2/41, loss=0.121003, loss_cls=0.066341, loss_bbox=0.044763, loss_rpn_cls=0.006389, loss_rpn_bbox=0.003509, lr=3.8e-05, time_each_step=0.85s, eta=0:14:8\n",
      "2021-02-25 23:41:28 [INFO]\t[TRAIN] Epoch=39/64, Step=4/41, loss=0.097236, loss_cls=0.052891, loss_bbox=0.038115, loss_rpn_cls=0.003882, loss_rpn_bbox=0.002348, lr=3.8e-05, time_each_step=0.88s, eta=0:14:7\n",
      "2021-02-25 23:41:29 [INFO]\t[TRAIN] Epoch=39/64, Step=6/41, loss=0.198408, loss_cls=0.097152, loss_bbox=0.07245, loss_rpn_cls=0.016661, loss_rpn_bbox=0.012145, lr=3.8e-05, time_each_step=0.89s, eta=0:14:6\n",
      "2021-02-25 23:41:30 [INFO]\t[TRAIN] Epoch=39/64, Step=8/41, loss=0.178356, loss_cls=0.097497, loss_bbox=0.070543, loss_rpn_cls=0.006886, loss_rpn_bbox=0.00343, lr=3.8e-05, time_each_step=0.9s, eta=0:14:4\n",
      "2021-02-25 23:41:31 [INFO]\t[TRAIN] Epoch=39/64, Step=10/41, loss=0.25132, loss_cls=0.108865, loss_bbox=0.121742, loss_rpn_cls=0.01327, loss_rpn_bbox=0.007443, lr=3.8e-05, time_each_step=0.9s, eta=0:14:3\n",
      "2021-02-25 23:41:32 [INFO]\t[TRAIN] Epoch=39/64, Step=12/41, loss=0.103946, loss_cls=0.053413, loss_bbox=0.043757, loss_rpn_cls=0.003181, loss_rpn_bbox=0.003594, lr=3.8e-05, time_each_step=0.91s, eta=0:14:1\n",
      "2021-02-25 23:41:33 [INFO]\t[TRAIN] Epoch=39/64, Step=14/41, loss=0.161023, loss_cls=0.094811, loss_bbox=0.056053, loss_rpn_cls=0.004699, loss_rpn_bbox=0.00546, lr=3.8e-05, time_each_step=0.92s, eta=0:14:0\n",
      "2021-02-25 23:41:33 [INFO]\t[TRAIN] Epoch=39/64, Step=16/41, loss=0.280512, loss_cls=0.124288, loss_bbox=0.097518, loss_rpn_cls=0.030253, loss_rpn_bbox=0.028454, lr=3.8e-05, time_each_step=0.92s, eta=0:13:58\n",
      "2021-02-25 23:41:34 [INFO]\t[TRAIN] Epoch=39/64, Step=18/41, loss=0.273613, loss_cls=0.145629, loss_bbox=0.106427, loss_rpn_cls=0.010861, loss_rpn_bbox=0.010694, lr=3.8e-05, time_each_step=0.92s, eta=0:13:56\n",
      "2021-02-25 23:41:35 [INFO]\t[TRAIN] Epoch=39/64, Step=20/41, loss=0.223672, loss_cls=0.112719, loss_bbox=0.095373, loss_rpn_cls=0.008089, loss_rpn_bbox=0.007492, lr=3.8e-05, time_each_step=0.92s, eta=0:13:54\n",
      "2021-02-25 23:41:36 [INFO]\t[TRAIN] Epoch=39/64, Step=22/41, loss=0.107574, loss_cls=0.064573, loss_bbox=0.035396, loss_rpn_cls=0.003333, loss_rpn_bbox=0.004271, lr=3.8e-05, time_each_step=0.47s, eta=0:13:44\n",
      "2021-02-25 23:41:37 [INFO]\t[TRAIN] Epoch=39/64, Step=24/41, loss=0.170524, loss_cls=0.09255, loss_bbox=0.071562, loss_rpn_cls=0.001428, loss_rpn_bbox=0.004984, lr=3.8e-05, time_each_step=0.44s, eta=0:13:42\n",
      "2021-02-25 23:41:37 [INFO]\t[TRAIN] Epoch=39/64, Step=26/41, loss=0.340359, loss_cls=0.17127, loss_bbox=0.139202, loss_rpn_cls=0.019545, loss_rpn_bbox=0.010342, lr=3.8e-05, time_each_step=0.43s, eta=0:13:41\n",
      "2021-02-25 23:41:38 [INFO]\t[TRAIN] Epoch=39/64, Step=28/41, loss=0.235285, loss_cls=0.124794, loss_bbox=0.095352, loss_rpn_cls=0.008435, loss_rpn_bbox=0.006705, lr=3.8e-05, time_each_step=0.42s, eta=0:13:40\n",
      "2021-02-25 23:41:39 [INFO]\t[TRAIN] Epoch=39/64, Step=30/41, loss=0.205602, loss_cls=0.101153, loss_bbox=0.072609, loss_rpn_cls=0.0234, loss_rpn_bbox=0.00844, lr=3.8e-05, time_each_step=0.41s, eta=0:13:39\n",
      "2021-02-25 23:41:40 [INFO]\t[TRAIN] Epoch=39/64, Step=32/41, loss=0.310106, loss_cls=0.151021, loss_bbox=0.139518, loss_rpn_cls=0.012688, loss_rpn_bbox=0.00688, lr=3.8e-05, time_each_step=0.41s, eta=0:13:39\n",
      "2021-02-25 23:41:40 [INFO]\t[TRAIN] Epoch=39/64, Step=34/41, loss=0.124693, loss_cls=0.066386, loss_bbox=0.048217, loss_rpn_cls=0.004671, loss_rpn_bbox=0.005419, lr=3.8e-05, time_each_step=0.39s, eta=0:13:38\n",
      "2021-02-25 23:41:41 [INFO]\t[TRAIN] Epoch=39/64, Step=36/41, loss=0.300231, loss_cls=0.15895, loss_bbox=0.106398, loss_rpn_cls=0.02226, loss_rpn_bbox=0.012623, lr=3.8e-05, time_each_step=0.39s, eta=0:13:37\n",
      "2021-02-25 23:41:42 [INFO]\t[TRAIN] Epoch=39/64, Step=38/41, loss=0.286463, loss_cls=0.128761, loss_bbox=0.140185, loss_rpn_cls=0.011054, loss_rpn_bbox=0.006462, lr=3.8e-05, time_each_step=0.39s, eta=0:13:36\n",
      "2021-02-25 23:41:43 [INFO]\t[TRAIN] Epoch=39/64, Step=40/41, loss=0.171909, loss_cls=0.091318, loss_bbox=0.066679, loss_rpn_cls=0.009431, loss_rpn_bbox=0.00448, lr=3.8e-05, time_each_step=0.39s, eta=0:13:35\n",
      "2021-02-25 23:41:43 [INFO]\t[TRAIN] Epoch 39 finished, loss=0.194994, loss_cls=0.099937, loss_bbox=0.077586, loss_rpn_cls=0.010201, loss_rpn_bbox=0.007271, lr=3.8e-05 .\n",
      "2021-02-25 23:41:43 [WARNING]\tFaster RCNN supports batch_size=1 only during evaluating, so batch_size is forced to be set to 1.\n",
      "2021-02-25 23:41:43 [INFO]\tStart to evaluating(total_samples=2, total_steps=2)...\n"
     ]
    },
    {
     "name": "stderr",
     "output_type": "stream",
     "text": [
      "100%|██████████| 2/2 [00:03<00:00,  1.74s/it]\n"
     ]
    },
    {
     "name": "stdout",
     "output_type": "stream",
     "text": [
      "2021-02-25 23:41:47 [INFO]\t[EVAL] Finished, Epoch=39, bbox_map=65.584416 .\n",
      "2021-02-25 23:41:50 [INFO]\tModel saved in output/faster_rcnn_r50_fpn/epoch_39.\n",
      "2021-02-25 23:41:50 [INFO]\tCurrent evaluated best model in eval_dataset is epoch_10, bbox_map=83.33333333333334\n",
      "2021-02-25 23:41:55 [INFO]\t[TRAIN] Epoch=40/64, Step=1/41, loss=0.302507, loss_cls=0.158169, loss_bbox=0.130412, loss_rpn_cls=0.008787, loss_rpn_bbox=0.005139, lr=3.6e-05, time_each_step=0.58s, eta=0:13:59\n",
      "2021-02-25 23:41:57 [INFO]\t[TRAIN] Epoch=40/64, Step=3/41, loss=0.215231, loss_cls=0.105681, loss_bbox=0.090403, loss_rpn_cls=0.01078, loss_rpn_bbox=0.008368, lr=3.6e-05, time_each_step=0.63s, eta=0:14:0\n",
      "2021-02-25 23:41:58 [INFO]\t[TRAIN] Epoch=40/64, Step=5/41, loss=0.16862, loss_cls=0.080594, loss_bbox=0.055209, loss_rpn_cls=0.015834, loss_rpn_bbox=0.016983, lr=3.6e-05, time_each_step=0.65s, eta=0:13:59\n",
      "2021-02-25 23:41:59 [INFO]\t[TRAIN] Epoch=40/64, Step=7/41, loss=0.263039, loss_cls=0.146047, loss_bbox=0.097408, loss_rpn_cls=0.009045, loss_rpn_bbox=0.010539, lr=3.6e-05, time_each_step=0.65s, eta=0:13:58\n",
      "2021-02-25 23:41:59 [INFO]\t[TRAIN] Epoch=40/64, Step=9/41, loss=0.151437, loss_cls=0.073683, loss_bbox=0.061891, loss_rpn_cls=0.009674, loss_rpn_bbox=0.006189, lr=3.6e-05, time_each_step=0.66s, eta=0:13:57\n",
      "2021-02-25 23:42:00 [INFO]\t[TRAIN] Epoch=40/64, Step=11/41, loss=0.197784, loss_cls=0.094733, loss_bbox=0.073075, loss_rpn_cls=0.018928, loss_rpn_bbox=0.011048, lr=3.6e-05, time_each_step=0.66s, eta=0:13:56\n",
      "2021-02-25 23:42:01 [INFO]\t[TRAIN] Epoch=40/64, Step=13/41, loss=0.143204, loss_cls=0.079748, loss_bbox=0.056134, loss_rpn_cls=0.003553, loss_rpn_bbox=0.003768, lr=3.6e-05, time_each_step=0.67s, eta=0:13:54\n",
      "2021-02-25 23:42:02 [INFO]\t[TRAIN] Epoch=40/64, Step=15/41, loss=0.280878, loss_cls=0.143111, loss_bbox=0.109868, loss_rpn_cls=0.019821, loss_rpn_bbox=0.008078, lr=3.6e-05, time_each_step=0.67s, eta=0:13:53\n",
      "2021-02-25 23:42:03 [INFO]\t[TRAIN] Epoch=40/64, Step=17/41, loss=0.106339, loss_cls=0.06057, loss_bbox=0.040416, loss_rpn_cls=0.001563, loss_rpn_bbox=0.00379, lr=3.6e-05, time_each_step=0.68s, eta=0:13:52\n",
      "2021-02-25 23:42:04 [INFO]\t[TRAIN] Epoch=40/64, Step=19/41, loss=0.178011, loss_cls=0.099447, loss_bbox=0.067978, loss_rpn_cls=0.005624, loss_rpn_bbox=0.004962, lr=3.6e-05, time_each_step=0.68s, eta=0:13:51\n",
      "2021-02-25 23:42:05 [INFO]\t[TRAIN] Epoch=40/64, Step=21/41, loss=0.205749, loss_cls=0.106524, loss_bbox=0.08417, loss_rpn_cls=0.008922, loss_rpn_bbox=0.006132, lr=3.6e-05, time_each_step=0.49s, eta=0:13:45\n",
      "2021-02-25 23:42:05 [INFO]\t[TRAIN] Epoch=40/64, Step=23/41, loss=0.281985, loss_cls=0.13185, loss_bbox=0.136164, loss_rpn_cls=0.006741, loss_rpn_bbox=0.007229, lr=3.6e-05, time_each_step=0.44s, eta=0:13:44\n",
      "2021-02-25 23:42:06 [INFO]\t[TRAIN] Epoch=40/64, Step=25/41, loss=0.204325, loss_cls=0.095108, loss_bbox=0.067981, loss_rpn_cls=0.030505, loss_rpn_bbox=0.010732, lr=3.6e-05, time_each_step=0.43s, eta=0:13:42\n",
      "2021-02-25 23:42:07 [INFO]\t[TRAIN] Epoch=40/64, Step=27/41, loss=0.11881, loss_cls=0.06316, loss_bbox=0.041631, loss_rpn_cls=0.007189, loss_rpn_bbox=0.006829, lr=3.6e-05, time_each_step=0.42s, eta=0:13:42\n",
      "2021-02-25 23:42:08 [INFO]\t[TRAIN] Epoch=40/64, Step=29/41, loss=0.220555, loss_cls=0.121171, loss_bbox=0.079606, loss_rpn_cls=0.011311, loss_rpn_bbox=0.008466, lr=3.6e-05, time_each_step=0.42s, eta=0:13:41\n",
      "2021-02-25 23:42:09 [INFO]\t[TRAIN] Epoch=40/64, Step=31/41, loss=0.298918, loss_cls=0.152639, loss_bbox=0.123448, loss_rpn_cls=0.015169, loss_rpn_bbox=0.007663, lr=3.6e-05, time_each_step=0.41s, eta=0:13:40\n",
      "2021-02-25 23:42:09 [INFO]\t[TRAIN] Epoch=40/64, Step=33/41, loss=0.20509, loss_cls=0.105024, loss_bbox=0.086487, loss_rpn_cls=0.007383, loss_rpn_bbox=0.006196, lr=3.6e-05, time_each_step=0.41s, eta=0:13:39\n",
      "2021-02-25 23:42:10 [INFO]\t[TRAIN] Epoch=40/64, Step=35/41, loss=0.231021, loss_cls=0.123189, loss_bbox=0.087229, loss_rpn_cls=0.011513, loss_rpn_bbox=0.00909, lr=3.6e-05, time_each_step=0.41s, eta=0:13:38\n",
      "2021-02-25 23:42:11 [INFO]\t[TRAIN] Epoch=40/64, Step=37/41, loss=0.173994, loss_cls=0.094615, loss_bbox=0.067047, loss_rpn_cls=0.007377, loss_rpn_bbox=0.004956, lr=3.6e-05, time_each_step=0.41s, eta=0:13:37\n",
      "2021-02-25 23:42:12 [INFO]\t[TRAIN] Epoch=40/64, Step=39/41, loss=0.125425, loss_cls=0.064364, loss_bbox=0.055271, loss_rpn_cls=0.003389, loss_rpn_bbox=0.002401, lr=3.6e-05, time_each_step=0.4s, eta=0:13:36\n",
      "2021-02-25 23:42:13 [INFO]\t[TRAIN] Epoch=40/64, Step=41/41, loss=0.240235, loss_cls=0.118319, loss_bbox=0.097335, loss_rpn_cls=0.014778, loss_rpn_bbox=0.009804, lr=3.6e-05, time_each_step=0.4s, eta=0:13:36\n",
      "2021-02-25 23:42:13 [INFO]\t[TRAIN] Epoch 40 finished, loss=0.200196, loss_cls=0.103023, loss_bbox=0.07918, loss_rpn_cls=0.010575, loss_rpn_bbox=0.007417, lr=3.6e-05 .\n",
      "2021-02-25 23:42:13 [WARNING]\tFaster RCNN supports batch_size=1 only during evaluating, so batch_size is forced to be set to 1.\n",
      "2021-02-25 23:42:13 [INFO]\tStart to evaluating(total_samples=2, total_steps=2)...\n"
     ]
    },
    {
     "name": "stderr",
     "output_type": "stream",
     "text": [
      "100%|██████████| 2/2 [00:06<00:00,  3.09s/it]\n"
     ]
    },
    {
     "name": "stdout",
     "output_type": "stream",
     "text": [
      "2021-02-25 23:42:19 [INFO]\t[EVAL] Finished, Epoch=40, bbox_map=65.584416 .\n",
      "2021-02-25 23:42:23 [INFO]\tModel saved in output/faster_rcnn_r50_fpn/epoch_40.\n",
      "2021-02-25 23:42:23 [INFO]\tCurrent evaluated best model in eval_dataset is epoch_10, bbox_map=83.33333333333334\n",
      "2021-02-25 23:42:30 [INFO]\t[TRAIN] Epoch=41/64, Step=2/41, loss=0.228318, loss_cls=0.108554, loss_bbox=0.104285, loss_rpn_cls=0.007837, loss_rpn_bbox=0.007642, lr=3.4e-05, time_each_step=0.69s, eta=0:13:15\n",
      "2021-02-25 23:42:31 [INFO]\t[TRAIN] Epoch=41/64, Step=4/41, loss=0.141811, loss_cls=0.074298, loss_bbox=0.055045, loss_rpn_cls=0.007938, loss_rpn_bbox=0.00453, lr=3.4e-05, time_each_step=0.7s, eta=0:13:14\n",
      "2021-02-25 23:42:32 [INFO]\t[TRAIN] Epoch=41/64, Step=6/41, loss=0.16378, loss_cls=0.076575, loss_bbox=0.067557, loss_rpn_cls=0.013417, loss_rpn_bbox=0.006231, lr=3.4e-05, time_each_step=0.7s, eta=0:13:12\n",
      "2021-02-25 23:42:33 [INFO]\t[TRAIN] Epoch=41/64, Step=8/41, loss=0.182953, loss_cls=0.100228, loss_bbox=0.064021, loss_rpn_cls=0.011753, loss_rpn_bbox=0.006951, lr=3.4e-05, time_each_step=0.71s, eta=0:13:11\n",
      "2021-02-25 23:42:33 [INFO]\t[TRAIN] Epoch=41/64, Step=10/41, loss=0.097504, loss_cls=0.049488, loss_bbox=0.042685, loss_rpn_cls=0.001665, loss_rpn_bbox=0.003666, lr=3.4e-05, time_each_step=0.71s, eta=0:13:10\n",
      "2021-02-25 23:42:34 [INFO]\t[TRAIN] Epoch=41/64, Step=12/41, loss=0.111933, loss_cls=0.059485, loss_bbox=0.040365, loss_rpn_cls=0.005784, loss_rpn_bbox=0.0063, lr=3.4e-05, time_each_step=0.71s, eta=0:13:8\n",
      "2021-02-25 23:42:35 [INFO]\t[TRAIN] Epoch=41/64, Step=14/41, loss=0.265456, loss_cls=0.142665, loss_bbox=0.103248, loss_rpn_cls=0.012067, loss_rpn_bbox=0.007476, lr=3.4e-05, time_each_step=0.71s, eta=0:13:7\n",
      "2021-02-25 23:42:36 [INFO]\t[TRAIN] Epoch=41/64, Step=16/41, loss=0.145347, loss_cls=0.075057, loss_bbox=0.051416, loss_rpn_cls=0.01271, loss_rpn_bbox=0.006165, lr=3.4e-05, time_each_step=0.71s, eta=0:13:6\n",
      "2021-02-25 23:42:37 [INFO]\t[TRAIN] Epoch=41/64, Step=18/41, loss=0.227432, loss_cls=0.118525, loss_bbox=0.093776, loss_rpn_cls=0.00862, loss_rpn_bbox=0.006511, lr=3.4e-05, time_each_step=0.71s, eta=0:13:4\n",
      "2021-02-25 23:42:38 [INFO]\t[TRAIN] Epoch=41/64, Step=20/41, loss=0.261855, loss_cls=0.135451, loss_bbox=0.112427, loss_rpn_cls=0.006497, loss_rpn_bbox=0.007481, lr=3.4e-05, time_each_step=0.71s, eta=0:13:3\n",
      "2021-02-25 23:42:38 [INFO]\t[TRAIN] Epoch=41/64, Step=22/41, loss=0.279663, loss_cls=0.1456, loss_bbox=0.105397, loss_rpn_cls=0.019083, loss_rpn_bbox=0.009583, lr=3.4e-05, time_each_step=0.43s, eta=0:12:56\n",
      "2021-02-25 23:42:39 [INFO]\t[TRAIN] Epoch=41/64, Step=24/41, loss=0.284916, loss_cls=0.150004, loss_bbox=0.115343, loss_rpn_cls=0.010026, loss_rpn_bbox=0.009544, lr=3.4e-05, time_each_step=0.41s, eta=0:12:55\n",
      "2021-02-25 23:42:40 [INFO]\t[TRAIN] Epoch=41/64, Step=26/41, loss=0.106822, loss_cls=0.05571, loss_bbox=0.044557, loss_rpn_cls=0.004243, loss_rpn_bbox=0.002312, lr=3.4e-05, time_each_step=0.41s, eta=0:12:54\n",
      "2021-02-25 23:42:41 [INFO]\t[TRAIN] Epoch=41/64, Step=28/41, loss=0.219239, loss_cls=0.112401, loss_bbox=0.092405, loss_rpn_cls=0.007045, loss_rpn_bbox=0.007389, lr=3.4e-05, time_each_step=0.41s, eta=0:12:53\n",
      "2021-02-25 23:42:41 [INFO]\t[TRAIN] Epoch=41/64, Step=30/41, loss=0.198905, loss_cls=0.096077, loss_bbox=0.089475, loss_rpn_cls=0.00893, loss_rpn_bbox=0.004423, lr=3.4e-05, time_each_step=0.4s, eta=0:12:52\n",
      "2021-02-25 23:42:42 [INFO]\t[TRAIN] Epoch=41/64, Step=32/41, loss=0.226409, loss_cls=0.117875, loss_bbox=0.076681, loss_rpn_cls=0.017171, loss_rpn_bbox=0.014682, lr=3.4e-05, time_each_step=0.4s, eta=0:12:52\n",
      "2021-02-25 23:42:43 [INFO]\t[TRAIN] Epoch=41/64, Step=34/41, loss=0.15182, loss_cls=0.08293, loss_bbox=0.058279, loss_rpn_cls=0.006019, loss_rpn_bbox=0.004592, lr=3.4e-05, time_each_step=0.4s, eta=0:12:51\n",
      "2021-02-25 23:42:44 [INFO]\t[TRAIN] Epoch=41/64, Step=36/41, loss=0.268594, loss_cls=0.138032, loss_bbox=0.115943, loss_rpn_cls=0.008321, loss_rpn_bbox=0.006298, lr=3.4e-05, time_each_step=0.39s, eta=0:12:50\n",
      "2021-02-25 23:42:45 [INFO]\t[TRAIN] Epoch=41/64, Step=38/41, loss=0.228066, loss_cls=0.118301, loss_bbox=0.096178, loss_rpn_cls=0.006997, loss_rpn_bbox=0.00659, lr=3.4e-05, time_each_step=0.4s, eta=0:12:49\n",
      "2021-02-25 23:42:45 [INFO]\t[TRAIN] Epoch=41/64, Step=40/41, loss=0.209415, loss_cls=0.099711, loss_bbox=0.075382, loss_rpn_cls=0.016059, loss_rpn_bbox=0.018262, lr=3.4e-05, time_each_step=0.4s, eta=0:12:48\n",
      "2021-02-25 23:42:46 [INFO]\t[TRAIN] Epoch 41 finished, loss=0.2002, loss_cls=0.102865, loss_bbox=0.07969, loss_rpn_cls=0.010123, loss_rpn_bbox=0.007522, lr=3.4e-05 .\n",
      "2021-02-25 23:42:46 [WARNING]\tFaster RCNN supports batch_size=1 only during evaluating, so batch_size is forced to be set to 1.\n",
      "2021-02-25 23:42:46 [INFO]\tStart to evaluating(total_samples=2, total_steps=2)...\n"
     ]
    },
    {
     "name": "stderr",
     "output_type": "stream",
     "text": [
      "100%|██████████| 2/2 [00:04<00:00,  2.03s/it]\n"
     ]
    },
    {
     "name": "stdout",
     "output_type": "stream",
     "text": [
      "2021-02-25 23:42:50 [INFO]\t[EVAL] Finished, Epoch=41, bbox_map=70.12987 .\n",
      "2021-02-25 23:42:54 [INFO]\tModel saved in output/faster_rcnn_r50_fpn/epoch_41.\n",
      "2021-02-25 23:42:54 [INFO]\tCurrent evaluated best model in eval_dataset is epoch_10, bbox_map=83.33333333333334\n",
      "2021-02-25 23:43:00 [INFO]\t[TRAIN] Epoch=42/64, Step=1/41, loss=0.277095, loss_cls=0.136319, loss_bbox=0.115893, loss_rpn_cls=0.015587, loss_rpn_bbox=0.009297, lr=3.2e-05, time_each_step=0.65s, eta=0:11:57\n",
      "2021-02-25 23:43:01 [INFO]\t[TRAIN] Epoch=42/64, Step=3/41, loss=0.245517, loss_cls=0.110729, loss_bbox=0.102236, loss_rpn_cls=0.019753, loss_rpn_bbox=0.012799, lr=3.2e-05, time_each_step=0.68s, eta=0:11:57\n",
      "2021-02-25 23:43:02 [INFO]\t[TRAIN] Epoch=42/64, Step=5/41, loss=0.167065, loss_cls=0.09673, loss_bbox=0.057009, loss_rpn_cls=0.007971, loss_rpn_bbox=0.005354, lr=3.2e-05, time_each_step=0.69s, eta=0:11:56\n",
      "2021-02-25 23:43:03 [INFO]\t[TRAIN] Epoch=42/64, Step=7/41, loss=0.181589, loss_cls=0.090756, loss_bbox=0.076423, loss_rpn_cls=0.008889, loss_rpn_bbox=0.005521, lr=3.2e-05, time_each_step=0.69s, eta=0:11:54\n",
      "2021-02-25 23:43:04 [INFO]\t[TRAIN] Epoch=42/64, Step=9/41, loss=0.210828, loss_cls=0.10272, loss_bbox=0.089097, loss_rpn_cls=0.014267, loss_rpn_bbox=0.004744, lr=3.2e-05, time_each_step=0.71s, eta=0:11:53\n",
      "2021-02-25 23:43:05 [INFO]\t[TRAIN] Epoch=42/64, Step=11/41, loss=0.10071, loss_cls=0.055652, loss_bbox=0.038647, loss_rpn_cls=0.002481, loss_rpn_bbox=0.00393, lr=3.2e-05, time_each_step=0.71s, eta=0:11:52\n",
      "2021-02-25 23:43:06 [INFO]\t[TRAIN] Epoch=42/64, Step=13/41, loss=0.174931, loss_cls=0.091933, loss_bbox=0.067892, loss_rpn_cls=0.010218, loss_rpn_bbox=0.004888, lr=3.2e-05, time_each_step=0.7s, eta=0:11:50\n",
      "2021-02-25 23:43:06 [INFO]\t[TRAIN] Epoch=42/64, Step=15/41, loss=0.144563, loss_cls=0.072837, loss_bbox=0.061937, loss_rpn_cls=0.005076, loss_rpn_bbox=0.004714, lr=3.2e-05, time_each_step=0.7s, eta=0:11:49\n",
      "2021-02-25 23:43:07 [INFO]\t[TRAIN] Epoch=42/64, Step=17/41, loss=0.121949, loss_cls=0.060594, loss_bbox=0.048861, loss_rpn_cls=0.007399, loss_rpn_bbox=0.005095, lr=3.2e-05, time_each_step=0.7s, eta=0:11:47\n",
      "2021-02-25 23:43:08 [INFO]\t[TRAIN] Epoch=42/64, Step=19/41, loss=0.185263, loss_cls=0.096305, loss_bbox=0.082977, loss_rpn_cls=0.002483, loss_rpn_bbox=0.003498, lr=3.2e-05, time_each_step=0.7s, eta=0:11:46\n",
      "2021-02-25 23:43:09 [INFO]\t[TRAIN] Epoch=42/64, Step=21/41, loss=0.311054, loss_cls=0.153171, loss_bbox=0.138701, loss_rpn_cls=0.011548, loss_rpn_bbox=0.007633, lr=3.2e-05, time_each_step=0.46s, eta=0:11:40\n",
      "2021-02-25 23:43:10 [INFO]\t[TRAIN] Epoch=42/64, Step=23/41, loss=0.095058, loss_cls=0.049036, loss_bbox=0.033177, loss_rpn_cls=0.01114, loss_rpn_bbox=0.001705, lr=3.2e-05, time_each_step=0.42s, eta=0:11:38\n",
      "2021-02-25 23:43:10 [INFO]\t[TRAIN] Epoch=42/64, Step=25/41, loss=0.145484, loss_cls=0.079359, loss_bbox=0.053378, loss_rpn_cls=0.008641, loss_rpn_bbox=0.004106, lr=3.2e-05, time_each_step=0.42s, eta=0:11:37\n",
      "2021-02-25 23:43:11 [INFO]\t[TRAIN] Epoch=42/64, Step=27/41, loss=0.183468, loss_cls=0.088994, loss_bbox=0.060387, loss_rpn_cls=0.021426, loss_rpn_bbox=0.012661, lr=3.2e-05, time_each_step=0.41s, eta=0:11:36\n",
      "2021-02-25 23:43:12 [INFO]\t[TRAIN] Epoch=42/64, Step=29/41, loss=0.26977, loss_cls=0.139392, loss_bbox=0.115296, loss_rpn_cls=0.006698, loss_rpn_bbox=0.008384, lr=3.2e-05, time_each_step=0.4s, eta=0:11:35\n",
      "2021-02-25 23:43:13 [INFO]\t[TRAIN] Epoch=42/64, Step=31/41, loss=0.309889, loss_cls=0.151251, loss_bbox=0.138427, loss_rpn_cls=0.005848, loss_rpn_bbox=0.014362, lr=3.2e-05, time_each_step=0.4s, eta=0:11:35\n",
      "2021-02-25 23:43:14 [INFO]\t[TRAIN] Epoch=42/64, Step=33/41, loss=0.071091, loss_cls=0.042245, loss_bbox=0.023617, loss_rpn_cls=0.00227, loss_rpn_bbox=0.002959, lr=3.2e-05, time_each_step=0.4s, eta=0:11:34\n",
      "2021-02-25 23:43:14 [INFO]\t[TRAIN] Epoch=42/64, Step=35/41, loss=0.316049, loss_cls=0.164014, loss_bbox=0.115096, loss_rpn_cls=0.025049, loss_rpn_bbox=0.01189, lr=3.2e-05, time_each_step=0.4s, eta=0:11:33\n",
      "2021-02-25 23:43:15 [INFO]\t[TRAIN] Epoch=42/64, Step=37/41, loss=0.140429, loss_cls=0.066237, loss_bbox=0.050932, loss_rpn_cls=0.016686, loss_rpn_bbox=0.006573, lr=3.2e-05, time_each_step=0.4s, eta=0:11:32\n",
      "2021-02-25 23:43:16 [INFO]\t[TRAIN] Epoch=42/64, Step=39/41, loss=0.209146, loss_cls=0.113552, loss_bbox=0.074321, loss_rpn_cls=0.013309, loss_rpn_bbox=0.007965, lr=3.2e-05, time_each_step=0.4s, eta=0:11:31\n",
      "2021-02-25 23:43:17 [INFO]\t[TRAIN] Epoch=42/64, Step=41/41, loss=0.186873, loss_cls=0.100694, loss_bbox=0.05894, loss_rpn_cls=0.012591, loss_rpn_bbox=0.014648, lr=3.2e-05, time_each_step=0.39s, eta=0:11:31\n",
      "2021-02-25 23:43:17 [INFO]\t[TRAIN] Epoch 42 finished, loss=0.19674, loss_cls=0.100839, loss_bbox=0.078419, loss_rpn_cls=0.010226, loss_rpn_bbox=0.007257, lr=3.2e-05 .\n",
      "2021-02-25 23:43:17 [WARNING]\tFaster RCNN supports batch_size=1 only during evaluating, so batch_size is forced to be set to 1.\n",
      "2021-02-25 23:43:17 [INFO]\tStart to evaluating(total_samples=2, total_steps=2)...\n"
     ]
    },
    {
     "name": "stderr",
     "output_type": "stream",
     "text": [
      "100%|██████████| 2/2 [00:03<00:00,  1.79s/it]\n"
     ]
    },
    {
     "name": "stdout",
     "output_type": "stream",
     "text": [
      "2021-02-25 23:43:20 [INFO]\t[EVAL] Finished, Epoch=42, bbox_map=70.12987 .\n",
      "2021-02-25 23:43:24 [INFO]\tModel saved in output/faster_rcnn_r50_fpn/epoch_42.\n",
      "2021-02-25 23:43:24 [INFO]\tCurrent evaluated best model in eval_dataset is epoch_10, bbox_map=83.33333333333334\n",
      "2021-02-25 23:43:30 [INFO]\t[TRAIN] Epoch=43/64, Step=2/41, loss=0.154666, loss_cls=0.080423, loss_bbox=0.061198, loss_rpn_cls=0.007217, loss_rpn_bbox=0.005828, lr=3.1e-05, time_each_step=0.62s, eta=0:10:56\n",
      "2021-02-25 23:43:31 [INFO]\t[TRAIN] Epoch=43/64, Step=4/41, loss=0.304519, loss_cls=0.156719, loss_bbox=0.132316, loss_rpn_cls=0.008109, loss_rpn_bbox=0.007375, lr=3.1e-05, time_each_step=0.64s, eta=0:10:55\n",
      "2021-02-25 23:43:32 [INFO]\t[TRAIN] Epoch=43/64, Step=6/41, loss=0.227079, loss_cls=0.110948, loss_bbox=0.096291, loss_rpn_cls=0.013785, loss_rpn_bbox=0.006056, lr=3.1e-05, time_each_step=0.65s, eta=0:10:54\n",
      "2021-02-25 23:43:33 [INFO]\t[TRAIN] Epoch=43/64, Step=8/41, loss=0.188513, loss_cls=0.103753, loss_bbox=0.07009, loss_rpn_cls=0.00972, loss_rpn_bbox=0.00495, lr=3.1e-05, time_each_step=0.66s, eta=0:10:53\n",
      "2021-02-25 23:43:34 [INFO]\t[TRAIN] Epoch=43/64, Step=10/41, loss=0.085609, loss_cls=0.042363, loss_bbox=0.033103, loss_rpn_cls=0.004422, loss_rpn_bbox=0.005721, lr=3.1e-05, time_each_step=0.66s, eta=0:10:52\n",
      "2021-02-25 23:43:34 [INFO]\t[TRAIN] Epoch=43/64, Step=12/41, loss=0.263016, loss_cls=0.119979, loss_bbox=0.123162, loss_rpn_cls=0.010851, loss_rpn_bbox=0.009024, lr=3.1e-05, time_each_step=0.67s, eta=0:10:51\n",
      "2021-02-25 23:43:35 [INFO]\t[TRAIN] Epoch=43/64, Step=14/41, loss=0.259383, loss_cls=0.127892, loss_bbox=0.119797, loss_rpn_cls=0.005236, loss_rpn_bbox=0.006459, lr=3.1e-05, time_each_step=0.67s, eta=0:10:50\n",
      "2021-02-25 23:43:36 [INFO]\t[TRAIN] Epoch=43/64, Step=16/41, loss=0.173644, loss_cls=0.09562, loss_bbox=0.060911, loss_rpn_cls=0.009138, loss_rpn_bbox=0.007975, lr=3.1e-05, time_each_step=0.68s, eta=0:10:48\n",
      "2021-02-25 23:43:37 [INFO]\t[TRAIN] Epoch=43/64, Step=18/41, loss=0.179615, loss_cls=0.084969, loss_bbox=0.074933, loss_rpn_cls=0.013954, loss_rpn_bbox=0.005759, lr=3.1e-05, time_each_step=0.68s, eta=0:10:47\n",
      "2021-02-25 23:43:38 [INFO]\t[TRAIN] Epoch=43/64, Step=20/41, loss=0.310213, loss_cls=0.159232, loss_bbox=0.114068, loss_rpn_cls=0.01877, loss_rpn_bbox=0.018142, lr=3.1e-05, time_each_step=0.69s, eta=0:10:46\n",
      "2021-02-25 23:43:39 [INFO]\t[TRAIN] Epoch=43/64, Step=22/41, loss=0.129686, loss_cls=0.06781, loss_bbox=0.052808, loss_rpn_cls=0.004643, loss_rpn_bbox=0.004424, lr=3.1e-05, time_each_step=0.45s, eta=0:10:40\n",
      "2021-02-25 23:43:39 [INFO]\t[TRAIN] Epoch=43/64, Step=24/41, loss=0.295298, loss_cls=0.131399, loss_bbox=0.135687, loss_rpn_cls=0.020468, loss_rpn_bbox=0.007744, lr=3.1e-05, time_each_step=0.44s, eta=0:10:39\n",
      "2021-02-25 23:43:40 [INFO]\t[TRAIN] Epoch=43/64, Step=26/41, loss=0.229207, loss_cls=0.119351, loss_bbox=0.095514, loss_rpn_cls=0.008091, loss_rpn_bbox=0.00625, lr=3.1e-05, time_each_step=0.43s, eta=0:10:38\n",
      "2021-02-25 23:43:41 [INFO]\t[TRAIN] Epoch=43/64, Step=28/41, loss=0.326582, loss_cls=0.165728, loss_bbox=0.13661, loss_rpn_cls=0.015395, loss_rpn_bbox=0.008849, lr=3.1e-05, time_each_step=0.42s, eta=0:10:37\n",
      "2021-02-25 23:43:42 [INFO]\t[TRAIN] Epoch=43/64, Step=30/41, loss=0.141381, loss_cls=0.079867, loss_bbox=0.056004, loss_rpn_cls=0.003012, loss_rpn_bbox=0.002497, lr=3.1e-05, time_each_step=0.41s, eta=0:10:36\n",
      "2021-02-25 23:43:43 [INFO]\t[TRAIN] Epoch=43/64, Step=32/41, loss=0.124688, loss_cls=0.065966, loss_bbox=0.038411, loss_rpn_cls=0.014099, loss_rpn_bbox=0.006213, lr=3.1e-05, time_each_step=0.41s, eta=0:10:35\n",
      "2021-02-25 23:43:43 [INFO]\t[TRAIN] Epoch=43/64, Step=34/41, loss=0.13129, loss_cls=0.076696, loss_bbox=0.043832, loss_rpn_cls=0.00381, loss_rpn_bbox=0.006953, lr=3.1e-05, time_each_step=0.4s, eta=0:10:34\n",
      "2021-02-25 23:43:44 [INFO]\t[TRAIN] Epoch=43/64, Step=36/41, loss=0.155594, loss_cls=0.080822, loss_bbox=0.065631, loss_rpn_cls=0.005626, loss_rpn_bbox=0.003515, lr=3.1e-05, time_each_step=0.39s, eta=0:10:33\n",
      "2021-02-25 23:43:45 [INFO]\t[TRAIN] Epoch=43/64, Step=38/41, loss=0.172652, loss_cls=0.091378, loss_bbox=0.067769, loss_rpn_cls=0.007826, loss_rpn_bbox=0.005679, lr=3.1e-05, time_each_step=0.39s, eta=0:10:33\n",
      "2021-02-25 23:43:46 [INFO]\t[TRAIN] Epoch=43/64, Step=40/41, loss=0.139023, loss_cls=0.07493, loss_bbox=0.053019, loss_rpn_cls=0.006371, loss_rpn_bbox=0.004703, lr=3.1e-05, time_each_step=0.39s, eta=0:10:32\n",
      "2021-02-25 23:43:46 [INFO]\t[TRAIN] Epoch 43 finished, loss=0.195568, loss_cls=0.100189, loss_bbox=0.07789, loss_rpn_cls=0.010403, loss_rpn_bbox=0.007087, lr=3.1e-05 .\n",
      "2021-02-25 23:43:46 [WARNING]\tFaster RCNN supports batch_size=1 only during evaluating, so batch_size is forced to be set to 1.\n",
      "2021-02-25 23:43:46 [INFO]\tStart to evaluating(total_samples=2, total_steps=2)...\n"
     ]
    },
    {
     "name": "stderr",
     "output_type": "stream",
     "text": [
      "100%|██████████| 2/2 [00:05<00:00,  2.88s/it]\n"
     ]
    },
    {
     "name": "stdout",
     "output_type": "stream",
     "text": [
      "2021-02-25 23:43:52 [INFO]\t[EVAL] Finished, Epoch=43, bbox_map=70.12987 .\n",
      "2021-02-25 23:43:56 [INFO]\tModel saved in output/faster_rcnn_r50_fpn/epoch_43.\n",
      "2021-02-25 23:43:56 [INFO]\tCurrent evaluated best model in eval_dataset is epoch_10, bbox_map=83.33333333333334\n",
      "2021-02-25 23:44:02 [INFO]\t[TRAIN] Epoch=44/64, Step=1/41, loss=0.150561, loss_cls=0.090897, loss_bbox=0.048378, loss_rpn_cls=0.006086, loss_rpn_bbox=0.005199, lr=2.9e-05, time_each_step=0.65s, eta=0:11:16\n",
      "2021-02-25 23:44:03 [INFO]\t[TRAIN] Epoch=44/64, Step=3/41, loss=0.13244, loss_cls=0.071453, loss_bbox=0.052095, loss_rpn_cls=0.004111, loss_rpn_bbox=0.004781, lr=2.9e-05, time_each_step=0.68s, eta=0:11:16\n",
      "2021-02-25 23:44:04 [INFO]\t[TRAIN] Epoch=44/64, Step=5/41, loss=0.235742, loss_cls=0.115029, loss_bbox=0.110071, loss_rpn_cls=0.005688, loss_rpn_bbox=0.004954, lr=2.9e-05, time_each_step=0.69s, eta=0:11:15\n",
      "2021-02-25 23:44:05 [INFO]\t[TRAIN] Epoch=44/64, Step=7/41, loss=0.123804, loss_cls=0.06702, loss_bbox=0.052058, loss_rpn_cls=0.001528, loss_rpn_bbox=0.003197, lr=2.9e-05, time_each_step=0.7s, eta=0:11:14\n",
      "2021-02-25 23:44:06 [INFO]\t[TRAIN] Epoch=44/64, Step=9/41, loss=0.250058, loss_cls=0.124876, loss_bbox=0.108913, loss_rpn_cls=0.007564, loss_rpn_bbox=0.008705, lr=2.9e-05, time_each_step=0.71s, eta=0:11:13\n",
      "2021-02-25 23:44:07 [INFO]\t[TRAIN] Epoch=44/64, Step=11/41, loss=0.165121, loss_cls=0.079105, loss_bbox=0.069612, loss_rpn_cls=0.010428, loss_rpn_bbox=0.005977, lr=2.9e-05, time_each_step=0.71s, eta=0:11:12\n",
      "2021-02-25 23:44:08 [INFO]\t[TRAIN] Epoch=44/64, Step=13/41, loss=0.24425, loss_cls=0.11275, loss_bbox=0.106855, loss_rpn_cls=0.015384, loss_rpn_bbox=0.009261, lr=2.9e-05, time_each_step=0.71s, eta=0:11:10\n",
      "2021-02-25 23:44:09 [INFO]\t[TRAIN] Epoch=44/64, Step=15/41, loss=0.121293, loss_cls=0.068929, loss_bbox=0.040295, loss_rpn_cls=0.003555, loss_rpn_bbox=0.008515, lr=2.9e-05, time_each_step=0.72s, eta=0:11:9\n",
      "2021-02-25 23:44:09 [INFO]\t[TRAIN] Epoch=44/64, Step=17/41, loss=0.253371, loss_cls=0.13274, loss_bbox=0.084173, loss_rpn_cls=0.024185, loss_rpn_bbox=0.012273, lr=2.9e-05, time_each_step=0.72s, eta=0:11:8\n",
      "2021-02-25 23:44:10 [INFO]\t[TRAIN] Epoch=44/64, Step=19/41, loss=0.182725, loss_cls=0.098267, loss_bbox=0.077003, loss_rpn_cls=0.00278, loss_rpn_bbox=0.004674, lr=2.9e-05, time_each_step=0.72s, eta=0:11:6\n",
      "2021-02-25 23:44:11 [INFO]\t[TRAIN] Epoch=44/64, Step=21/41, loss=0.139888, loss_cls=0.07431, loss_bbox=0.05505, loss_rpn_cls=0.006661, loss_rpn_bbox=0.003868, lr=2.9e-05, time_each_step=0.47s, eta=0:11:0\n",
      "2021-02-25 23:44:12 [INFO]\t[TRAIN] Epoch=44/64, Step=23/41, loss=0.096914, loss_cls=0.052284, loss_bbox=0.03618, loss_rpn_cls=0.003415, loss_rpn_bbox=0.005035, lr=2.9e-05, time_each_step=0.43s, eta=0:10:58\n",
      "2021-02-25 23:44:13 [INFO]\t[TRAIN] Epoch=44/64, Step=25/41, loss=0.150997, loss_cls=0.081586, loss_bbox=0.062898, loss_rpn_cls=0.002104, loss_rpn_bbox=0.004409, lr=2.9e-05, time_each_step=0.43s, eta=0:10:57\n",
      "2021-02-25 23:44:14 [INFO]\t[TRAIN] Epoch=44/64, Step=27/41, loss=0.205883, loss_cls=0.107934, loss_bbox=0.08313, loss_rpn_cls=0.00907, loss_rpn_bbox=0.005748, lr=2.9e-05, time_each_step=0.43s, eta=0:10:56\n",
      "2021-02-25 23:44:14 [INFO]\t[TRAIN] Epoch=44/64, Step=29/41, loss=0.136529, loss_cls=0.075978, loss_bbox=0.047919, loss_rpn_cls=0.007807, loss_rpn_bbox=0.004826, lr=2.9e-05, time_each_step=0.41s, eta=0:10:55\n",
      "2021-02-25 23:44:15 [INFO]\t[TRAIN] Epoch=44/64, Step=31/41, loss=0.197945, loss_cls=0.096997, loss_bbox=0.075288, loss_rpn_cls=0.017161, loss_rpn_bbox=0.008499, lr=2.9e-05, time_each_step=0.41s, eta=0:10:54\n",
      "2021-02-25 23:44:16 [INFO]\t[TRAIN] Epoch=44/64, Step=33/41, loss=0.285943, loss_cls=0.14583, loss_bbox=0.107475, loss_rpn_cls=0.015306, loss_rpn_bbox=0.017332, lr=2.9e-05, time_each_step=0.41s, eta=0:10:54\n",
      "2021-02-25 23:44:17 [INFO]\t[TRAIN] Epoch=44/64, Step=35/41, loss=0.162509, loss_cls=0.086592, loss_bbox=0.066784, loss_rpn_cls=0.005917, loss_rpn_bbox=0.003215, lr=2.9e-05, time_each_step=0.41s, eta=0:10:53\n",
      "2021-02-25 23:44:17 [INFO]\t[TRAIN] Epoch=44/64, Step=37/41, loss=0.208047, loss_cls=0.101133, loss_bbox=0.079096, loss_rpn_cls=0.016852, loss_rpn_bbox=0.010966, lr=2.9e-05, time_each_step=0.4s, eta=0:10:52\n",
      "2021-02-25 23:44:18 [INFO]\t[TRAIN] Epoch=44/64, Step=39/41, loss=0.256287, loss_cls=0.134103, loss_bbox=0.109126, loss_rpn_cls=0.00729, loss_rpn_bbox=0.005769, lr=2.9e-05, time_each_step=0.4s, eta=0:10:51\n",
      "2021-02-25 23:44:19 [INFO]\t[TRAIN] Epoch=44/64, Step=41/41, loss=0.159508, loss_cls=0.078817, loss_bbox=0.054269, loss_rpn_cls=0.016883, loss_rpn_bbox=0.009539, lr=2.9e-05, time_each_step=0.39s, eta=0:10:50\n",
      "2021-02-25 23:44:19 [INFO]\t[TRAIN] Epoch 44 finished, loss=0.19864, loss_cls=0.102078, loss_bbox=0.079756, loss_rpn_cls=0.009701, loss_rpn_bbox=0.007105, lr=2.9e-05 .\n",
      "2021-02-25 23:44:19 [WARNING]\tFaster RCNN supports batch_size=1 only during evaluating, so batch_size is forced to be set to 1.\n",
      "2021-02-25 23:44:19 [INFO]\tStart to evaluating(total_samples=2, total_steps=2)...\n"
     ]
    },
    {
     "name": "stderr",
     "output_type": "stream",
     "text": [
      "100%|██████████| 2/2 [00:03<00:00,  1.58s/it]\n"
     ]
    },
    {
     "name": "stdout",
     "output_type": "stream",
     "text": [
      "2021-02-25 23:44:22 [INFO]\t[EVAL] Finished, Epoch=44, bbox_map=70.12987 .\n",
      "2021-02-25 23:44:26 [INFO]\tModel saved in output/faster_rcnn_r50_fpn/epoch_44.\n",
      "2021-02-25 23:44:26 [INFO]\tCurrent evaluated best model in eval_dataset is epoch_10, bbox_map=83.33333333333334\n",
      "2021-02-25 23:44:33 [INFO]\t[TRAIN] Epoch=45/64, Step=2/41, loss=0.371974, loss_cls=0.185117, loss_bbox=0.166417, loss_rpn_cls=0.010053, loss_rpn_bbox=0.010387, lr=2.8e-05, time_each_step=0.72s, eta=0:10:3\n",
      "2021-02-25 23:44:34 [INFO]\t[TRAIN] Epoch=45/64, Step=4/41, loss=0.262858, loss_cls=0.132234, loss_bbox=0.100168, loss_rpn_cls=0.015089, loss_rpn_bbox=0.015367, lr=2.8e-05, time_each_step=0.72s, eta=0:10:2\n",
      "2021-02-25 23:44:36 [INFO]\t[TRAIN] Epoch=45/64, Step=6/41, loss=0.249174, loss_cls=0.124803, loss_bbox=0.104224, loss_rpn_cls=0.013809, loss_rpn_bbox=0.006338, lr=2.8e-05, time_each_step=0.76s, eta=0:10:2\n",
      "2021-02-25 23:44:37 [INFO]\t[TRAIN] Epoch=45/64, Step=8/41, loss=0.241686, loss_cls=0.135042, loss_bbox=0.091899, loss_rpn_cls=0.006998, loss_rpn_bbox=0.007747, lr=2.8e-05, time_each_step=0.77s, eta=0:10:1\n",
      "2021-02-25 23:44:38 [INFO]\t[TRAIN] Epoch=45/64, Step=10/41, loss=0.123135, loss_cls=0.063984, loss_bbox=0.049999, loss_rpn_cls=0.005802, loss_rpn_bbox=0.00335, lr=2.8e-05, time_each_step=0.77s, eta=0:9:59\n",
      "2021-02-25 23:44:38 [INFO]\t[TRAIN] Epoch=45/64, Step=12/41, loss=0.194823, loss_cls=0.096692, loss_bbox=0.073311, loss_rpn_cls=0.006041, loss_rpn_bbox=0.018779, lr=2.8e-05, time_each_step=0.77s, eta=0:9:58\n",
      "2021-02-25 23:44:39 [INFO]\t[TRAIN] Epoch=45/64, Step=14/41, loss=0.20582, loss_cls=0.111633, loss_bbox=0.07611, loss_rpn_cls=0.009506, loss_rpn_bbox=0.008572, lr=2.8e-05, time_each_step=0.77s, eta=0:9:56\n",
      "2021-02-25 23:44:40 [INFO]\t[TRAIN] Epoch=45/64, Step=16/41, loss=0.164738, loss_cls=0.091439, loss_bbox=0.062918, loss_rpn_cls=0.006313, loss_rpn_bbox=0.004068, lr=2.8e-05, time_each_step=0.77s, eta=0:9:55\n",
      "2021-02-25 23:44:41 [INFO]\t[TRAIN] Epoch=45/64, Step=18/41, loss=0.286839, loss_cls=0.148024, loss_bbox=0.116994, loss_rpn_cls=0.014542, loss_rpn_bbox=0.007278, lr=2.8e-05, time_each_step=0.77s, eta=0:9:53\n",
      "2021-02-25 23:44:42 [INFO]\t[TRAIN] Epoch=45/64, Step=20/41, loss=0.180764, loss_cls=0.095643, loss_bbox=0.068773, loss_rpn_cls=0.013287, loss_rpn_bbox=0.003061, lr=2.8e-05, time_each_step=0.78s, eta=0:9:52\n",
      "2021-02-25 23:44:43 [INFO]\t[TRAIN] Epoch=45/64, Step=22/41, loss=0.15889, loss_cls=0.088898, loss_bbox=0.06208, loss_rpn_cls=0.003984, loss_rpn_bbox=0.003928, lr=2.8e-05, time_each_step=0.46s, eta=0:9:44\n",
      "2021-02-25 23:44:43 [INFO]\t[TRAIN] Epoch=45/64, Step=24/41, loss=0.187921, loss_cls=0.091, loss_bbox=0.089297, loss_rpn_cls=0.003813, loss_rpn_bbox=0.003811, lr=2.8e-05, time_each_step=0.45s, eta=0:9:43\n",
      "2021-02-25 23:44:44 [INFO]\t[TRAIN] Epoch=45/64, Step=26/41, loss=0.130099, loss_cls=0.0642, loss_bbox=0.04415, loss_rpn_cls=0.015459, loss_rpn_bbox=0.00629, lr=2.8e-05, time_each_step=0.41s, eta=0:9:42\n",
      "2021-02-25 23:44:45 [INFO]\t[TRAIN] Epoch=45/64, Step=28/41, loss=0.239302, loss_cls=0.106727, loss_bbox=0.114893, loss_rpn_cls=0.010682, loss_rpn_bbox=0.007001, lr=2.8e-05, time_each_step=0.4s, eta=0:9:41\n",
      "2021-02-25 23:44:46 [INFO]\t[TRAIN] Epoch=45/64, Step=30/41, loss=0.159099, loss_cls=0.083597, loss_bbox=0.056516, loss_rpn_cls=0.013037, loss_rpn_bbox=0.005949, lr=2.8e-05, time_each_step=0.4s, eta=0:9:40\n",
      "2021-02-25 23:44:47 [INFO]\t[TRAIN] Epoch=45/64, Step=32/41, loss=0.129901, loss_cls=0.066471, loss_bbox=0.048779, loss_rpn_cls=0.008748, loss_rpn_bbox=0.005903, lr=2.8e-05, time_each_step=0.4s, eta=0:9:39\n",
      "2021-02-25 23:44:47 [INFO]\t[TRAIN] Epoch=45/64, Step=34/41, loss=0.253426, loss_cls=0.124203, loss_bbox=0.108687, loss_rpn_cls=0.010683, loss_rpn_bbox=0.009853, lr=2.8e-05, time_each_step=0.4s, eta=0:9:38\n",
      "2021-02-25 23:44:48 [INFO]\t[TRAIN] Epoch=45/64, Step=36/41, loss=0.269675, loss_cls=0.123374, loss_bbox=0.10571, loss_rpn_cls=0.026722, loss_rpn_bbox=0.013869, lr=2.8e-05, time_each_step=0.41s, eta=0:9:37\n",
      "2021-02-25 23:44:49 [INFO]\t[TRAIN] Epoch=45/64, Step=38/41, loss=0.12909, loss_cls=0.066684, loss_bbox=0.04938, loss_rpn_cls=0.007089, loss_rpn_bbox=0.005937, lr=2.8e-05, time_each_step=0.41s, eta=0:9:37\n",
      "2021-02-25 23:44:50 [INFO]\t[TRAIN] Epoch=45/64, Step=40/41, loss=0.217577, loss_cls=0.10774, loss_bbox=0.090582, loss_rpn_cls=0.012695, loss_rpn_bbox=0.00656, lr=2.8e-05, time_each_step=0.41s, eta=0:9:36\n",
      "2021-02-25 23:44:50 [INFO]\t[TRAIN] Epoch 45 finished, loss=0.199289, loss_cls=0.102226, loss_bbox=0.07988, loss_rpn_cls=0.010125, loss_rpn_bbox=0.007058, lr=2.8e-05 .\n",
      "2021-02-25 23:44:50 [WARNING]\tFaster RCNN supports batch_size=1 only during evaluating, so batch_size is forced to be set to 1.\n",
      "2021-02-25 23:44:50 [INFO]\tStart to evaluating(total_samples=2, total_steps=2)...\n"
     ]
    },
    {
     "name": "stderr",
     "output_type": "stream",
     "text": [
      "100%|██████████| 2/2 [00:03<00:00,  1.65s/it]\n"
     ]
    },
    {
     "name": "stdout",
     "output_type": "stream",
     "text": [
      "2021-02-25 23:44:54 [INFO]\t[EVAL] Finished, Epoch=45, bbox_map=70.12987 .\n",
      "2021-02-25 23:44:57 [INFO]\tModel saved in output/faster_rcnn_r50_fpn/epoch_45.\n",
      "2021-02-25 23:44:57 [INFO]\tCurrent evaluated best model in eval_dataset is epoch_10, bbox_map=83.33333333333334\n",
      "2021-02-25 23:45:01 [INFO]\t[TRAIN] Epoch=46/64, Step=1/41, loss=0.087755, loss_cls=0.044451, loss_bbox=0.034358, loss_rpn_cls=0.005439, loss_rpn_bbox=0.003507, lr=2.6e-05, time_each_step=0.59s, eta=0:9:51\n",
      "2021-02-25 23:45:03 [INFO]\t[TRAIN] Epoch=46/64, Step=3/41, loss=0.155815, loss_cls=0.085034, loss_bbox=0.058682, loss_rpn_cls=0.007232, loss_rpn_bbox=0.004867, lr=2.6e-05, time_each_step=0.63s, eta=0:9:51\n",
      "2021-02-25 23:45:04 [INFO]\t[TRAIN] Epoch=46/64, Step=5/41, loss=0.170435, loss_cls=0.082174, loss_bbox=0.073605, loss_rpn_cls=0.008056, loss_rpn_bbox=0.0066, lr=2.6e-05, time_each_step=0.64s, eta=0:9:50\n",
      "2021-02-25 23:45:05 [INFO]\t[TRAIN] Epoch=46/64, Step=7/41, loss=0.247649, loss_cls=0.117971, loss_bbox=0.104473, loss_rpn_cls=0.017171, loss_rpn_bbox=0.008034, lr=2.6e-05, time_each_step=0.65s, eta=0:9:49\n",
      "2021-02-25 23:45:06 [INFO]\t[TRAIN] Epoch=46/64, Step=9/41, loss=0.071489, loss_cls=0.039106, loss_bbox=0.01961, loss_rpn_cls=0.010945, loss_rpn_bbox=0.00183, lr=2.6e-05, time_each_step=0.66s, eta=0:9:48\n",
      "2021-02-25 23:45:07 [INFO]\t[TRAIN] Epoch=46/64, Step=11/41, loss=0.276604, loss_cls=0.138936, loss_bbox=0.10471, loss_rpn_cls=0.023736, loss_rpn_bbox=0.009222, lr=2.6e-05, time_each_step=0.66s, eta=0:9:47\n",
      "2021-02-25 23:45:08 [INFO]\t[TRAIN] Epoch=46/64, Step=13/41, loss=0.274931, loss_cls=0.13344, loss_bbox=0.132066, loss_rpn_cls=0.00133, loss_rpn_bbox=0.008095, lr=2.6e-05, time_each_step=0.66s, eta=0:9:46\n",
      "2021-02-25 23:45:08 [INFO]\t[TRAIN] Epoch=46/64, Step=15/41, loss=0.102274, loss_cls=0.060817, loss_bbox=0.035747, loss_rpn_cls=0.003761, loss_rpn_bbox=0.00195, lr=2.6e-05, time_each_step=0.66s, eta=0:9:44\n",
      "2021-02-25 23:45:09 [INFO]\t[TRAIN] Epoch=46/64, Step=17/41, loss=0.172827, loss_cls=0.087524, loss_bbox=0.072888, loss_rpn_cls=0.006288, loss_rpn_bbox=0.006128, lr=2.6e-05, time_each_step=0.66s, eta=0:9:43\n",
      "2021-02-25 23:45:10 [INFO]\t[TRAIN] Epoch=46/64, Step=19/41, loss=0.164884, loss_cls=0.08993, loss_bbox=0.065577, loss_rpn_cls=0.005399, loss_rpn_bbox=0.003979, lr=2.6e-05, time_each_step=0.66s, eta=0:9:42\n",
      "2021-02-25 23:45:11 [INFO]\t[TRAIN] Epoch=46/64, Step=21/41, loss=0.400577, loss_cls=0.203242, loss_bbox=0.172933, loss_rpn_cls=0.010987, loss_rpn_bbox=0.013414, lr=2.6e-05, time_each_step=0.48s, eta=0:9:37\n",
      "2021-02-25 23:45:12 [INFO]\t[TRAIN] Epoch=46/64, Step=23/41, loss=0.223487, loss_cls=0.113851, loss_bbox=0.097001, loss_rpn_cls=0.00838, loss_rpn_bbox=0.004256, lr=2.6e-05, time_each_step=0.44s, eta=0:9:35\n",
      "2021-02-25 23:45:13 [INFO]\t[TRAIN] Epoch=46/64, Step=25/41, loss=0.26783, loss_cls=0.132007, loss_bbox=0.117602, loss_rpn_cls=0.011298, loss_rpn_bbox=0.006922, lr=2.6e-05, time_each_step=0.44s, eta=0:9:34\n",
      "2021-02-25 23:45:13 [INFO]\t[TRAIN] Epoch=46/64, Step=27/41, loss=0.216813, loss_cls=0.113105, loss_bbox=0.07723, loss_rpn_cls=0.0098, loss_rpn_bbox=0.016678, lr=2.6e-05, time_each_step=0.42s, eta=0:9:33\n",
      "2021-02-25 23:45:14 [INFO]\t[TRAIN] Epoch=46/64, Step=29/41, loss=0.223503, loss_cls=0.100545, loss_bbox=0.109908, loss_rpn_cls=0.00757, loss_rpn_bbox=0.00548, lr=2.6e-05, time_each_step=0.41s, eta=0:9:32\n",
      "2021-02-25 23:45:15 [INFO]\t[TRAIN] Epoch=46/64, Step=31/41, loss=0.199203, loss_cls=0.106664, loss_bbox=0.073851, loss_rpn_cls=0.010865, loss_rpn_bbox=0.007823, lr=2.6e-05, time_each_step=0.41s, eta=0:9:31\n",
      "2021-02-25 23:45:16 [INFO]\t[TRAIN] Epoch=46/64, Step=33/41, loss=0.194313, loss_cls=0.102699, loss_bbox=0.078022, loss_rpn_cls=0.006058, loss_rpn_bbox=0.007533, lr=2.6e-05, time_each_step=0.4s, eta=0:9:30\n",
      "2021-02-25 23:45:16 [INFO]\t[TRAIN] Epoch=46/64, Step=35/41, loss=0.185069, loss_cls=0.094601, loss_bbox=0.079588, loss_rpn_cls=0.00519, loss_rpn_bbox=0.005691, lr=2.6e-05, time_each_step=0.4s, eta=0:9:29\n",
      "2021-02-25 23:45:17 [INFO]\t[TRAIN] Epoch=46/64, Step=37/41, loss=0.172564, loss_cls=0.097169, loss_bbox=0.057791, loss_rpn_cls=0.01038, loss_rpn_bbox=0.007225, lr=2.6e-05, time_each_step=0.4s, eta=0:9:29\n",
      "2021-02-25 23:45:18 [INFO]\t[TRAIN] Epoch=46/64, Step=39/41, loss=0.138326, loss_cls=0.074263, loss_bbox=0.050219, loss_rpn_cls=0.004417, loss_rpn_bbox=0.009428, lr=2.6e-05, time_each_step=0.4s, eta=0:9:28\n",
      "2021-02-25 23:45:19 [INFO]\t[TRAIN] Epoch=46/64, Step=41/41, loss=0.341782, loss_cls=0.156626, loss_bbox=0.138291, loss_rpn_cls=0.026623, loss_rpn_bbox=0.020244, lr=2.6e-05, time_each_step=0.41s, eta=0:9:27\n",
      "2021-02-25 23:45:19 [INFO]\t[TRAIN] Epoch 46 finished, loss=0.197066, loss_cls=0.101404, loss_bbox=0.078974, loss_rpn_cls=0.009515, loss_rpn_bbox=0.007174, lr=2.6e-05 .\n",
      "2021-02-25 23:45:19 [WARNING]\tFaster RCNN supports batch_size=1 only during evaluating, so batch_size is forced to be set to 1.\n",
      "2021-02-25 23:45:19 [INFO]\tStart to evaluating(total_samples=2, total_steps=2)...\n"
     ]
    },
    {
     "name": "stderr",
     "output_type": "stream",
     "text": [
      "100%|██████████| 2/2 [00:03<00:00,  1.90s/it]\n"
     ]
    },
    {
     "name": "stdout",
     "output_type": "stream",
     "text": [
      "2021-02-25 23:45:23 [INFO]\t[EVAL] Finished, Epoch=46, bbox_map=70.12987 .\n",
      "2021-02-25 23:45:27 [INFO]\tModel saved in output/faster_rcnn_r50_fpn/epoch_46.\n",
      "2021-02-25 23:45:27 [INFO]\tCurrent evaluated best model in eval_dataset is epoch_10, bbox_map=83.33333333333334\n",
      "2021-02-25 23:45:34 [INFO]\t[TRAIN] Epoch=47/64, Step=2/41, loss=0.344606, loss_cls=0.170476, loss_bbox=0.13656, loss_rpn_cls=0.02552, loss_rpn_bbox=0.012049, lr=2.5e-05, time_each_step=0.71s, eta=0:9:9\n",
      "2021-02-25 23:45:36 [INFO]\t[TRAIN] Epoch=47/64, Step=4/41, loss=0.228959, loss_cls=0.127809, loss_bbox=0.077822, loss_rpn_cls=0.016907, loss_rpn_bbox=0.006421, lr=2.5e-05, time_each_step=0.73s, eta=0:9:9\n",
      "2021-02-25 23:45:37 [INFO]\t[TRAIN] Epoch=47/64, Step=6/41, loss=0.185614, loss_cls=0.089389, loss_bbox=0.0781, loss_rpn_cls=0.01253, loss_rpn_bbox=0.005595, lr=2.5e-05, time_each_step=0.74s, eta=0:9:8\n",
      "2021-02-25 23:45:38 [INFO]\t[TRAIN] Epoch=47/64, Step=8/41, loss=0.248249, loss_cls=0.128503, loss_bbox=0.107013, loss_rpn_cls=0.006597, loss_rpn_bbox=0.006136, lr=2.5e-05, time_each_step=0.76s, eta=0:9:7\n",
      "2021-02-25 23:45:39 [INFO]\t[TRAIN] Epoch=47/64, Step=10/41, loss=0.115259, loss_cls=0.057868, loss_bbox=0.047072, loss_rpn_cls=0.006953, loss_rpn_bbox=0.003365, lr=2.5e-05, time_each_step=0.77s, eta=0:9:5\n",
      "2021-02-25 23:45:40 [INFO]\t[TRAIN] Epoch=47/64, Step=12/41, loss=0.134149, loss_cls=0.066139, loss_bbox=0.045691, loss_rpn_cls=0.013439, loss_rpn_bbox=0.008881, lr=2.5e-05, time_each_step=0.77s, eta=0:9:4\n",
      "2021-02-25 23:45:40 [INFO]\t[TRAIN] Epoch=47/64, Step=14/41, loss=0.247899, loss_cls=0.10294, loss_bbox=0.125354, loss_rpn_cls=0.015101, loss_rpn_bbox=0.004504, lr=2.5e-05, time_each_step=0.78s, eta=0:9:3\n",
      "2021-02-25 23:45:41 [INFO]\t[TRAIN] Epoch=47/64, Step=16/41, loss=0.12701, loss_cls=0.072295, loss_bbox=0.04257, loss_rpn_cls=0.004609, loss_rpn_bbox=0.007535, lr=2.5e-05, time_each_step=0.78s, eta=0:9:1\n",
      "2021-02-25 23:45:42 [INFO]\t[TRAIN] Epoch=47/64, Step=18/41, loss=0.095547, loss_cls=0.054513, loss_bbox=0.036088, loss_rpn_cls=0.001703, loss_rpn_bbox=0.003243, lr=2.5e-05, time_each_step=0.78s, eta=0:8:59\n",
      "2021-02-25 23:45:43 [INFO]\t[TRAIN] Epoch=47/64, Step=20/41, loss=0.327544, loss_cls=0.148439, loss_bbox=0.141388, loss_rpn_cls=0.014468, loss_rpn_bbox=0.023248, lr=2.5e-05, time_each_step=0.77s, eta=0:8:58\n",
      "2021-02-25 23:45:44 [INFO]\t[TRAIN] Epoch=47/64, Step=22/41, loss=0.234183, loss_cls=0.125269, loss_bbox=0.095668, loss_rpn_cls=0.00626, loss_rpn_bbox=0.006987, lr=2.5e-05, time_each_step=0.47s, eta=0:8:50\n",
      "2021-02-25 23:45:44 [INFO]\t[TRAIN] Epoch=47/64, Step=24/41, loss=0.212436, loss_cls=0.106974, loss_bbox=0.084196, loss_rpn_cls=0.014681, loss_rpn_bbox=0.006585, lr=2.5e-05, time_each_step=0.43s, eta=0:8:49\n",
      "2021-02-25 23:45:45 [INFO]\t[TRAIN] Epoch=47/64, Step=26/41, loss=0.137627, loss_cls=0.078031, loss_bbox=0.049571, loss_rpn_cls=0.005698, loss_rpn_bbox=0.004327, lr=2.5e-05, time_each_step=0.42s, eta=0:8:48\n",
      "2021-02-25 23:45:46 [INFO]\t[TRAIN] Epoch=47/64, Step=28/41, loss=0.141927, loss_cls=0.069539, loss_bbox=0.061902, loss_rpn_cls=0.005661, loss_rpn_bbox=0.004826, lr=2.5e-05, time_each_step=0.41s, eta=0:8:47\n",
      "2021-02-25 23:45:47 [INFO]\t[TRAIN] Epoch=47/64, Step=30/41, loss=0.178372, loss_cls=0.099519, loss_bbox=0.066008, loss_rpn_cls=0.008086, loss_rpn_bbox=0.004759, lr=2.5e-05, time_each_step=0.41s, eta=0:8:46\n",
      "2021-02-25 23:45:48 [INFO]\t[TRAIN] Epoch=47/64, Step=32/41, loss=0.240734, loss_cls=0.133759, loss_bbox=0.080579, loss_rpn_cls=0.014583, loss_rpn_bbox=0.011814, lr=2.5e-05, time_each_step=0.4s, eta=0:8:45\n",
      "2021-02-25 23:45:48 [INFO]\t[TRAIN] Epoch=47/64, Step=34/41, loss=0.172915, loss_cls=0.099219, loss_bbox=0.068321, loss_rpn_cls=0.000872, loss_rpn_bbox=0.004504, lr=2.5e-05, time_each_step=0.4s, eta=0:8:44\n",
      "2021-02-25 23:45:49 [INFO]\t[TRAIN] Epoch=47/64, Step=36/41, loss=0.218715, loss_cls=0.102947, loss_bbox=0.082644, loss_rpn_cls=0.02717, loss_rpn_bbox=0.005953, lr=2.5e-05, time_each_step=0.4s, eta=0:8:44\n",
      "2021-02-25 23:45:50 [INFO]\t[TRAIN] Epoch=47/64, Step=38/41, loss=0.263627, loss_cls=0.127038, loss_bbox=0.120011, loss_rpn_cls=0.006942, loss_rpn_bbox=0.009636, lr=2.5e-05, time_each_step=0.4s, eta=0:8:43\n",
      "2021-02-25 23:45:51 [INFO]\t[TRAIN] Epoch=47/64, Step=40/41, loss=0.208376, loss_cls=0.104964, loss_bbox=0.089595, loss_rpn_cls=0.008384, loss_rpn_bbox=0.005433, lr=2.5e-05, time_each_step=0.4s, eta=0:8:42\n",
      "2021-02-25 23:45:51 [INFO]\t[TRAIN] Epoch 47 finished, loss=0.1968, loss_cls=0.100451, loss_bbox=0.079126, loss_rpn_cls=0.010156, loss_rpn_bbox=0.007068, lr=2.5e-05 .\n",
      "2021-02-25 23:45:51 [WARNING]\tFaster RCNN supports batch_size=1 only during evaluating, so batch_size is forced to be set to 1.\n",
      "2021-02-25 23:45:51 [INFO]\tStart to evaluating(total_samples=2, total_steps=2)...\n"
     ]
    },
    {
     "name": "stderr",
     "output_type": "stream",
     "text": [
      "100%|██████████| 2/2 [00:06<00:00,  3.48s/it]\n"
     ]
    },
    {
     "name": "stdout",
     "output_type": "stream",
     "text": [
      "2021-02-25 23:45:58 [INFO]\t[EVAL] Finished, Epoch=47, bbox_map=69.318182 .\n",
      "2021-02-25 23:46:02 [INFO]\tModel saved in output/faster_rcnn_r50_fpn/epoch_47.\n",
      "2021-02-25 23:46:02 [INFO]\tCurrent evaluated best model in eval_dataset is epoch_10, bbox_map=83.33333333333334\n",
      "2021-02-25 23:46:07 [INFO]\t[TRAIN] Epoch=48/64, Step=1/41, loss=0.249397, loss_cls=0.12095, loss_bbox=0.106791, loss_rpn_cls=0.008918, loss_rpn_bbox=0.012739, lr=2.4e-05, time_each_step=0.64s, eta=0:9:54\n",
      "2021-02-25 23:46:09 [INFO]\t[TRAIN] Epoch=48/64, Step=3/41, loss=0.271507, loss_cls=0.149105, loss_bbox=0.106399, loss_rpn_cls=0.009864, loss_rpn_bbox=0.006139, lr=2.4e-05, time_each_step=0.67s, eta=0:9:54\n",
      "2021-02-25 23:46:10 [INFO]\t[TRAIN] Epoch=48/64, Step=5/41, loss=0.158307, loss_cls=0.085365, loss_bbox=0.056713, loss_rpn_cls=0.008334, loss_rpn_bbox=0.007895, lr=2.4e-05, time_each_step=0.68s, eta=0:9:53\n",
      "2021-02-25 23:46:11 [INFO]\t[TRAIN] Epoch=48/64, Step=7/41, loss=0.272718, loss_cls=0.142565, loss_bbox=0.097999, loss_rpn_cls=0.021086, loss_rpn_bbox=0.011068, lr=2.4e-05, time_each_step=0.69s, eta=0:9:52\n",
      "2021-02-25 23:46:12 [INFO]\t[TRAIN] Epoch=48/64, Step=9/41, loss=0.135269, loss_cls=0.077232, loss_bbox=0.052395, loss_rpn_cls=0.00112, loss_rpn_bbox=0.004522, lr=2.4e-05, time_each_step=0.69s, eta=0:9:51\n",
      "2021-02-25 23:46:13 [INFO]\t[TRAIN] Epoch=48/64, Step=11/41, loss=0.28892, loss_cls=0.138508, loss_bbox=0.114586, loss_rpn_cls=0.02459, loss_rpn_bbox=0.011236, lr=2.4e-05, time_each_step=0.69s, eta=0:9:49\n",
      "2021-02-25 23:46:13 [INFO]\t[TRAIN] Epoch=48/64, Step=13/41, loss=0.265407, loss_cls=0.129432, loss_bbox=0.119582, loss_rpn_cls=0.006551, loss_rpn_bbox=0.009842, lr=2.4e-05, time_each_step=0.69s, eta=0:9:48\n",
      "2021-02-25 23:46:14 [INFO]\t[TRAIN] Epoch=48/64, Step=15/41, loss=0.188045, loss_cls=0.100052, loss_bbox=0.080122, loss_rpn_cls=0.002686, loss_rpn_bbox=0.005185, lr=2.4e-05, time_each_step=0.69s, eta=0:9:46\n",
      "2021-02-25 23:46:15 [INFO]\t[TRAIN] Epoch=48/64, Step=17/41, loss=0.146114, loss_cls=0.079244, loss_bbox=0.053664, loss_rpn_cls=0.009119, loss_rpn_bbox=0.004087, lr=2.4e-05, time_each_step=0.69s, eta=0:9:45\n",
      "2021-02-25 23:46:16 [INFO]\t[TRAIN] Epoch=48/64, Step=19/41, loss=0.360994, loss_cls=0.181198, loss_bbox=0.155115, loss_rpn_cls=0.010838, loss_rpn_bbox=0.013843, lr=2.4e-05, time_each_step=0.69s, eta=0:9:43\n",
      "2021-02-25 23:46:16 [INFO]\t[TRAIN] Epoch=48/64, Step=21/41, loss=0.158939, loss_cls=0.086035, loss_bbox=0.061775, loss_rpn_cls=0.005388, loss_rpn_bbox=0.005741, lr=2.4e-05, time_each_step=0.45s, eta=0:9:37\n",
      "2021-02-25 23:46:17 [INFO]\t[TRAIN] Epoch=48/64, Step=23/41, loss=0.136781, loss_cls=0.077649, loss_bbox=0.046996, loss_rpn_cls=0.007212, loss_rpn_bbox=0.004925, lr=2.4e-05, time_each_step=0.42s, eta=0:9:36\n",
      "2021-02-25 23:46:18 [INFO]\t[TRAIN] Epoch=48/64, Step=25/41, loss=0.161531, loss_cls=0.082409, loss_bbox=0.065362, loss_rpn_cls=0.00857, loss_rpn_bbox=0.00519, lr=2.4e-05, time_each_step=0.42s, eta=0:9:35\n",
      "2021-02-25 23:46:19 [INFO]\t[TRAIN] Epoch=48/64, Step=27/41, loss=0.256539, loss_cls=0.130316, loss_bbox=0.097393, loss_rpn_cls=0.016684, loss_rpn_bbox=0.012146, lr=2.4e-05, time_each_step=0.41s, eta=0:9:34\n",
      "2021-02-25 23:46:20 [INFO]\t[TRAIN] Epoch=48/64, Step=29/41, loss=0.179229, loss_cls=0.095167, loss_bbox=0.066125, loss_rpn_cls=0.010803, loss_rpn_bbox=0.007134, lr=2.4e-05, time_each_step=0.4s, eta=0:9:33\n",
      "2021-02-25 23:46:21 [INFO]\t[TRAIN] Epoch=48/64, Step=31/41, loss=0.309618, loss_cls=0.146239, loss_bbox=0.132656, loss_rpn_cls=0.02289, loss_rpn_bbox=0.007833, lr=2.4e-05, time_each_step=0.4s, eta=0:9:32\n",
      "2021-02-25 23:46:21 [INFO]\t[TRAIN] Epoch=48/64, Step=33/41, loss=0.118876, loss_cls=0.059368, loss_bbox=0.048751, loss_rpn_cls=0.0078, loss_rpn_bbox=0.002956, lr=2.4e-05, time_each_step=0.4s, eta=0:9:32\n",
      "2021-02-25 23:46:22 [INFO]\t[TRAIN] Epoch=48/64, Step=35/41, loss=0.189451, loss_cls=0.101308, loss_bbox=0.069784, loss_rpn_cls=0.011512, loss_rpn_bbox=0.006848, lr=2.4e-05, time_each_step=0.39s, eta=0:9:31\n",
      "2021-02-25 23:46:23 [INFO]\t[TRAIN] Epoch=48/64, Step=37/41, loss=0.159952, loss_cls=0.082887, loss_bbox=0.068577, loss_rpn_cls=0.003136, loss_rpn_bbox=0.005352, lr=2.4e-05, time_each_step=0.39s, eta=0:9:30\n",
      "2021-02-25 23:46:24 [INFO]\t[TRAIN] Epoch=48/64, Step=39/41, loss=0.313668, loss_cls=0.166852, loss_bbox=0.129531, loss_rpn_cls=0.008783, loss_rpn_bbox=0.008501, lr=2.4e-05, time_each_step=0.39s, eta=0:9:29\n",
      "2021-02-25 23:46:24 [INFO]\t[TRAIN] Epoch=48/64, Step=41/41, loss=0.129989, loss_cls=0.074773, loss_bbox=0.048222, loss_rpn_cls=0.003698, loss_rpn_bbox=0.003296, lr=2.4e-05, time_each_step=0.39s, eta=0:9:28\n",
      "2021-02-25 23:46:24 [INFO]\t[TRAIN] Epoch 48 finished, loss=0.193705, loss_cls=0.100196, loss_bbox=0.076418, loss_rpn_cls=0.009661, loss_rpn_bbox=0.007431, lr=2.4e-05 .\n",
      "2021-02-25 23:46:24 [WARNING]\tFaster RCNN supports batch_size=1 only during evaluating, so batch_size is forced to be set to 1.\n",
      "2021-02-25 23:46:24 [INFO]\tStart to evaluating(total_samples=2, total_steps=2)...\n"
     ]
    },
    {
     "name": "stderr",
     "output_type": "stream",
     "text": [
      "100%|██████████| 2/2 [00:04<00:00,  2.11s/it]\n"
     ]
    },
    {
     "name": "stdout",
     "output_type": "stream",
     "text": [
      "2021-02-25 23:46:29 [INFO]\t[EVAL] Finished, Epoch=48, bbox_map=68.686869 .\n",
      "2021-02-25 23:46:33 [INFO]\tModel saved in output/faster_rcnn_r50_fpn/epoch_48.\n",
      "2021-02-25 23:46:33 [INFO]\tCurrent evaluated best model in eval_dataset is epoch_10, bbox_map=83.33333333333334\n",
      "2021-02-25 23:46:41 [INFO]\t[TRAIN] Epoch=49/64, Step=2/41, loss=0.210007, loss_cls=0.101374, loss_bbox=0.083637, loss_rpn_cls=0.01702, loss_rpn_bbox=0.007976, lr=2.3e-05, time_each_step=0.77s, eta=0:8:19\n",
      "2021-02-25 23:46:43 [INFO]\t[TRAIN] Epoch=49/64, Step=4/41, loss=0.119529, loss_cls=0.066441, loss_bbox=0.041688, loss_rpn_cls=0.00567, loss_rpn_bbox=0.00573, lr=2.3e-05, time_each_step=0.78s, eta=0:8:18\n",
      "2021-02-25 23:46:44 [INFO]\t[TRAIN] Epoch=49/64, Step=6/41, loss=0.302126, loss_cls=0.146588, loss_bbox=0.138425, loss_rpn_cls=0.008998, loss_rpn_bbox=0.008115, lr=2.3e-05, time_each_step=0.8s, eta=0:8:17\n",
      "2021-02-25 23:46:44 [INFO]\t[TRAIN] Epoch=49/64, Step=8/41, loss=0.142308, loss_cls=0.069185, loss_bbox=0.055959, loss_rpn_cls=0.013531, loss_rpn_bbox=0.003633, lr=2.3e-05, time_each_step=0.8s, eta=0:8:15\n",
      "2021-02-25 23:46:45 [INFO]\t[TRAIN] Epoch=49/64, Step=10/41, loss=0.134927, loss_cls=0.069685, loss_bbox=0.052335, loss_rpn_cls=0.0067, loss_rpn_bbox=0.006207, lr=2.3e-05, time_each_step=0.8s, eta=0:8:14\n",
      "2021-02-25 23:46:46 [INFO]\t[TRAIN] Epoch=49/64, Step=12/41, loss=0.173866, loss_cls=0.087635, loss_bbox=0.069291, loss_rpn_cls=0.008447, loss_rpn_bbox=0.008493, lr=2.3e-05, time_each_step=0.81s, eta=0:8:13\n",
      "2021-02-25 23:46:47 [INFO]\t[TRAIN] Epoch=49/64, Step=14/41, loss=0.229301, loss_cls=0.116192, loss_bbox=0.094577, loss_rpn_cls=0.009921, loss_rpn_bbox=0.008612, lr=2.3e-05, time_each_step=0.81s, eta=0:8:11\n",
      "2021-02-25 23:46:48 [INFO]\t[TRAIN] Epoch=49/64, Step=16/41, loss=0.398599, loss_cls=0.173056, loss_bbox=0.205636, loss_rpn_cls=0.006887, loss_rpn_bbox=0.01302, lr=2.3e-05, time_each_step=0.82s, eta=0:8:10\n",
      "2021-02-25 23:46:49 [INFO]\t[TRAIN] Epoch=49/64, Step=18/41, loss=0.210624, loss_cls=0.116274, loss_bbox=0.082268, loss_rpn_cls=0.007495, loss_rpn_bbox=0.004587, lr=2.3e-05, time_each_step=0.82s, eta=0:8:8\n",
      "2021-02-25 23:46:49 [INFO]\t[TRAIN] Epoch=49/64, Step=20/41, loss=0.203703, loss_cls=0.100329, loss_bbox=0.080385, loss_rpn_cls=0.012901, loss_rpn_bbox=0.010088, lr=2.3e-05, time_each_step=0.82s, eta=0:8:6\n",
      "2021-02-25 23:46:50 [INFO]\t[TRAIN] Epoch=49/64, Step=22/41, loss=0.141693, loss_cls=0.07374, loss_bbox=0.053508, loss_rpn_cls=0.009064, loss_rpn_bbox=0.005381, lr=2.3e-05, time_each_step=0.44s, eta=0:7:57\n",
      "2021-02-25 23:46:51 [INFO]\t[TRAIN] Epoch=49/64, Step=24/41, loss=0.15932, loss_cls=0.081121, loss_bbox=0.065792, loss_rpn_cls=0.008733, loss_rpn_bbox=0.003675, lr=2.3e-05, time_each_step=0.42s, eta=0:7:56\n",
      "2021-02-25 23:46:52 [INFO]\t[TRAIN] Epoch=49/64, Step=26/41, loss=0.192687, loss_cls=0.105142, loss_bbox=0.078409, loss_rpn_cls=0.003819, loss_rpn_bbox=0.005316, lr=2.3e-05, time_each_step=0.41s, eta=0:7:55\n",
      "2021-02-25 23:46:52 [INFO]\t[TRAIN] Epoch=49/64, Step=28/41, loss=0.237841, loss_cls=0.127442, loss_bbox=0.098116, loss_rpn_cls=0.00406, loss_rpn_bbox=0.008224, lr=2.3e-05, time_each_step=0.4s, eta=0:7:54\n",
      "2021-02-25 23:46:53 [INFO]\t[TRAIN] Epoch=49/64, Step=30/41, loss=0.3467, loss_cls=0.17929, loss_bbox=0.145825, loss_rpn_cls=0.014149, loss_rpn_bbox=0.007437, lr=2.3e-05, time_each_step=0.4s, eta=0:7:54\n",
      "2021-02-25 23:46:54 [INFO]\t[TRAIN] Epoch=49/64, Step=32/41, loss=0.092381, loss_cls=0.049137, loss_bbox=0.033948, loss_rpn_cls=0.006969, loss_rpn_bbox=0.002327, lr=2.3e-05, time_each_step=0.39s, eta=0:7:53\n",
      "2021-02-25 23:46:55 [INFO]\t[TRAIN] Epoch=49/64, Step=34/41, loss=0.252906, loss_cls=0.132096, loss_bbox=0.09604, loss_rpn_cls=0.012522, loss_rpn_bbox=0.012248, lr=2.3e-05, time_each_step=0.39s, eta=0:7:52\n",
      "2021-02-25 23:46:56 [INFO]\t[TRAIN] Epoch=49/64, Step=36/41, loss=0.096787, loss_cls=0.05498, loss_bbox=0.038141, loss_rpn_cls=0.001318, loss_rpn_bbox=0.002349, lr=2.3e-05, time_each_step=0.39s, eta=0:7:51\n",
      "2021-02-25 23:46:56 [INFO]\t[TRAIN] Epoch=49/64, Step=38/41, loss=0.202017, loss_cls=0.106809, loss_bbox=0.064957, loss_rpn_cls=0.018458, loss_rpn_bbox=0.011793, lr=2.3e-05, time_each_step=0.38s, eta=0:7:50\n",
      "2021-02-25 23:46:57 [INFO]\t[TRAIN] Epoch=49/64, Step=40/41, loss=0.29643, loss_cls=0.14554, loss_bbox=0.109353, loss_rpn_cls=0.031891, loss_rpn_bbox=0.009645, lr=2.3e-05, time_each_step=0.38s, eta=0:7:50\n",
      "2021-02-25 23:46:57 [INFO]\t[TRAIN] Epoch 49 finished, loss=0.196303, loss_cls=0.101405, loss_bbox=0.078457, loss_rpn_cls=0.009374, loss_rpn_bbox=0.007067, lr=2.3e-05 .\n",
      "2021-02-25 23:46:57 [WARNING]\tFaster RCNN supports batch_size=1 only during evaluating, so batch_size is forced to be set to 1.\n",
      "2021-02-25 23:46:57 [INFO]\tStart to evaluating(total_samples=2, total_steps=2)...\n"
     ]
    },
    {
     "name": "stderr",
     "output_type": "stream",
     "text": [
      "100%|██████████| 2/2 [00:05<00:00,  2.74s/it]\n"
     ]
    },
    {
     "name": "stdout",
     "output_type": "stream",
     "text": [
      "2021-02-25 23:47:03 [INFO]\t[EVAL] Finished, Epoch=49, bbox_map=69.318182 .\n",
      "2021-02-25 23:47:07 [INFO]\tModel saved in output/faster_rcnn_r50_fpn/epoch_49.\n",
      "2021-02-25 23:47:07 [INFO]\tCurrent evaluated best model in eval_dataset is epoch_10, bbox_map=83.33333333333334\n",
      "2021-02-25 23:47:13 [INFO]\t[TRAIN] Epoch=50/64, Step=1/41, loss=0.079302, loss_cls=0.045572, loss_bbox=0.028965, loss_rpn_cls=0.002973, loss_rpn_bbox=0.001792, lr=2.1e-05, time_each_step=0.66s, eta=0:8:31\n",
      "2021-02-25 23:47:14 [INFO]\t[TRAIN] Epoch=50/64, Step=3/41, loss=0.136415, loss_cls=0.076276, loss_bbox=0.049285, loss_rpn_cls=0.003476, loss_rpn_bbox=0.007377, lr=2.1e-05, time_each_step=0.69s, eta=0:8:31\n",
      "2021-02-25 23:47:15 [INFO]\t[TRAIN] Epoch=50/64, Step=5/41, loss=0.174977, loss_cls=0.092749, loss_bbox=0.066301, loss_rpn_cls=0.008944, loss_rpn_bbox=0.006983, lr=2.1e-05, time_each_step=0.7s, eta=0:8:30\n",
      "2021-02-25 23:47:16 [INFO]\t[TRAIN] Epoch=50/64, Step=7/41, loss=0.213662, loss_cls=0.101331, loss_bbox=0.08346, loss_rpn_cls=0.010048, loss_rpn_bbox=0.018823, lr=2.1e-05, time_each_step=0.71s, eta=0:8:29\n",
      "2021-02-25 23:47:17 [INFO]\t[TRAIN] Epoch=50/64, Step=9/41, loss=0.295594, loss_cls=0.147416, loss_bbox=0.125243, loss_rpn_cls=0.012726, loss_rpn_bbox=0.01021, lr=2.1e-05, time_each_step=0.72s, eta=0:8:28\n",
      "2021-02-25 23:47:18 [INFO]\t[TRAIN] Epoch=50/64, Step=11/41, loss=0.168943, loss_cls=0.083559, loss_bbox=0.065669, loss_rpn_cls=0.012165, loss_rpn_bbox=0.007551, lr=2.1e-05, time_each_step=0.72s, eta=0:8:26\n",
      "2021-02-25 23:47:19 [INFO]\t[TRAIN] Epoch=50/64, Step=13/41, loss=0.14785, loss_cls=0.077654, loss_bbox=0.050197, loss_rpn_cls=0.013838, loss_rpn_bbox=0.006162, lr=2.1e-05, time_each_step=0.73s, eta=0:8:25\n",
      "2021-02-25 23:47:20 [INFO]\t[TRAIN] Epoch=50/64, Step=15/41, loss=0.202208, loss_cls=0.09911, loss_bbox=0.079849, loss_rpn_cls=0.013156, loss_rpn_bbox=0.010094, lr=2.1e-05, time_each_step=0.73s, eta=0:8:24\n",
      "2021-02-25 23:47:20 [INFO]\t[TRAIN] Epoch=50/64, Step=17/41, loss=0.260724, loss_cls=0.137461, loss_bbox=0.105025, loss_rpn_cls=0.010614, loss_rpn_bbox=0.007624, lr=2.1e-05, time_each_step=0.73s, eta=0:8:22\n",
      "2021-02-25 23:47:21 [INFO]\t[TRAIN] Epoch=50/64, Step=19/41, loss=0.212123, loss_cls=0.111133, loss_bbox=0.083411, loss_rpn_cls=0.011699, loss_rpn_bbox=0.005879, lr=2.1e-05, time_each_step=0.73s, eta=0:8:21\n",
      "2021-02-25 23:47:22 [INFO]\t[TRAIN] Epoch=50/64, Step=21/41, loss=0.313445, loss_cls=0.158553, loss_bbox=0.136513, loss_rpn_cls=0.006278, loss_rpn_bbox=0.012101, lr=2.1e-05, time_each_step=0.46s, eta=0:8:14\n",
      "2021-02-25 23:47:23 [INFO]\t[TRAIN] Epoch=50/64, Step=23/41, loss=0.134575, loss_cls=0.079972, loss_bbox=0.049284, loss_rpn_cls=0.002262, loss_rpn_bbox=0.003057, lr=2.1e-05, time_each_step=0.43s, eta=0:8:13\n",
      "2021-02-25 23:47:24 [INFO]\t[TRAIN] Epoch=50/64, Step=25/41, loss=0.355246, loss_cls=0.177019, loss_bbox=0.150702, loss_rpn_cls=0.01573, loss_rpn_bbox=0.011796, lr=2.1e-05, time_each_step=0.42s, eta=0:8:12\n",
      "2021-02-25 23:47:25 [INFO]\t[TRAIN] Epoch=50/64, Step=27/41, loss=0.236003, loss_cls=0.115468, loss_bbox=0.105855, loss_rpn_cls=0.007214, loss_rpn_bbox=0.007465, lr=2.1e-05, time_each_step=0.42s, eta=0:8:11\n",
      "2021-02-25 23:47:26 [INFO]\t[TRAIN] Epoch=50/64, Step=29/41, loss=0.206676, loss_cls=0.101638, loss_bbox=0.08994, loss_rpn_cls=0.009462, loss_rpn_bbox=0.005636, lr=2.1e-05, time_each_step=0.42s, eta=0:8:10\n",
      "2021-02-25 23:47:26 [INFO]\t[TRAIN] Epoch=50/64, Step=31/41, loss=0.287638, loss_cls=0.148618, loss_bbox=0.117235, loss_rpn_cls=0.012466, loss_rpn_bbox=0.009319, lr=2.1e-05, time_each_step=0.42s, eta=0:8:9\n",
      "2021-02-25 23:47:27 [INFO]\t[TRAIN] Epoch=50/64, Step=33/41, loss=0.174395, loss_cls=0.092598, loss_bbox=0.073464, loss_rpn_cls=0.003136, loss_rpn_bbox=0.005197, lr=2.1e-05, time_each_step=0.41s, eta=0:8:8\n",
      "2021-02-25 23:47:28 [INFO]\t[TRAIN] Epoch=50/64, Step=35/41, loss=0.135425, loss_cls=0.085724, loss_bbox=0.045238, loss_rpn_cls=0.001347, loss_rpn_bbox=0.003116, lr=2.1e-05, time_each_step=0.41s, eta=0:8:7\n",
      "2021-02-25 23:47:29 [INFO]\t[TRAIN] Epoch=50/64, Step=37/41, loss=0.205828, loss_cls=0.103693, loss_bbox=0.084993, loss_rpn_cls=0.011917, loss_rpn_bbox=0.005225, lr=2.1e-05, time_each_step=0.41s, eta=0:8:6\n",
      "2021-02-25 23:47:30 [INFO]\t[TRAIN] Epoch=50/64, Step=39/41, loss=0.292285, loss_cls=0.153168, loss_bbox=0.115802, loss_rpn_cls=0.014502, loss_rpn_bbox=0.008813, lr=2.1e-05, time_each_step=0.41s, eta=0:8:6\n",
      "2021-02-25 23:47:30 [INFO]\t[TRAIN] Epoch=50/64, Step=41/41, loss=0.201068, loss_cls=0.084047, loss_bbox=0.097526, loss_rpn_cls=0.012736, loss_rpn_bbox=0.006759, lr=2.1e-05, time_each_step=0.41s, eta=0:8:5\n",
      "2021-02-25 23:47:30 [INFO]\t[TRAIN] Epoch 50 finished, loss=0.19619, loss_cls=0.101964, loss_bbox=0.077798, loss_rpn_cls=0.00918, loss_rpn_bbox=0.007249, lr=2.1e-05 .\n",
      "2021-02-25 23:47:30 [WARNING]\tFaster RCNN supports batch_size=1 only during evaluating, so batch_size is forced to be set to 1.\n",
      "2021-02-25 23:47:30 [INFO]\tStart to evaluating(total_samples=2, total_steps=2)...\n"
     ]
    },
    {
     "name": "stderr",
     "output_type": "stream",
     "text": [
      "100%|██████████| 2/2 [00:03<00:00,  1.78s/it]\n"
     ]
    },
    {
     "name": "stdout",
     "output_type": "stream",
     "text": [
      "2021-02-25 23:47:34 [INFO]\t[EVAL] Finished, Epoch=50, bbox_map=66.31016 .\n",
      "2021-02-25 23:47:38 [INFO]\tModel saved in output/faster_rcnn_r50_fpn/epoch_50.\n",
      "2021-02-25 23:47:38 [INFO]\tCurrent evaluated best model in eval_dataset is epoch_10, bbox_map=83.33333333333334\n",
      "2021-02-25 23:47:43 [INFO]\t[TRAIN] Epoch=51/64, Step=2/41, loss=0.28904, loss_cls=0.152783, loss_bbox=0.109624, loss_rpn_cls=0.017494, loss_rpn_bbox=0.009139, lr=2e-05, time_each_step=0.6s, eta=0:7:10\n",
      "2021-02-25 23:47:44 [INFO]\t[TRAIN] Epoch=51/64, Step=4/41, loss=0.151283, loss_cls=0.07685, loss_bbox=0.053735, loss_rpn_cls=0.011663, loss_rpn_bbox=0.009035, lr=2e-05, time_each_step=0.63s, eta=0:7:10\n",
      "2021-02-25 23:47:45 [INFO]\t[TRAIN] Epoch=51/64, Step=6/41, loss=0.133515, loss_cls=0.072903, loss_bbox=0.050935, loss_rpn_cls=0.004292, loss_rpn_bbox=0.005384, lr=2e-05, time_each_step=0.64s, eta=0:7:9\n",
      "2021-02-25 23:47:46 [INFO]\t[TRAIN] Epoch=51/64, Step=8/41, loss=0.272188, loss_cls=0.149818, loss_bbox=0.099237, loss_rpn_cls=0.013552, loss_rpn_bbox=0.009581, lr=2e-05, time_each_step=0.63s, eta=0:7:8\n",
      "2021-02-25 23:47:47 [INFO]\t[TRAIN] Epoch=51/64, Step=10/41, loss=0.12625, loss_cls=0.07431, loss_bbox=0.042088, loss_rpn_cls=0.005936, loss_rpn_bbox=0.003915, lr=2e-05, time_each_step=0.64s, eta=0:7:7\n",
      "2021-02-25 23:47:48 [INFO]\t[TRAIN] Epoch=51/64, Step=12/41, loss=0.091418, loss_cls=0.051212, loss_bbox=0.030156, loss_rpn_cls=0.008054, loss_rpn_bbox=0.001996, lr=2e-05, time_each_step=0.65s, eta=0:7:6\n",
      "2021-02-25 23:47:48 [INFO]\t[TRAIN] Epoch=51/64, Step=14/41, loss=0.105704, loss_cls=0.060491, loss_bbox=0.032756, loss_rpn_cls=0.006586, loss_rpn_bbox=0.005871, lr=2e-05, time_each_step=0.65s, eta=0:7:4\n",
      "2021-02-25 23:47:49 [INFO]\t[TRAIN] Epoch=51/64, Step=16/41, loss=0.196953, loss_cls=0.098587, loss_bbox=0.089792, loss_rpn_cls=0.002841, loss_rpn_bbox=0.005733, lr=2e-05, time_each_step=0.65s, eta=0:7:3\n",
      "2021-02-25 23:47:50 [INFO]\t[TRAIN] Epoch=51/64, Step=18/41, loss=0.291403, loss_cls=0.156449, loss_bbox=0.110342, loss_rpn_cls=0.015536, loss_rpn_bbox=0.009075, lr=2e-05, time_each_step=0.65s, eta=0:7:2\n",
      "2021-02-25 23:47:51 [INFO]\t[TRAIN] Epoch=51/64, Step=20/41, loss=0.162314, loss_cls=0.08546, loss_bbox=0.070346, loss_rpn_cls=0.00278, loss_rpn_bbox=0.003728, lr=2e-05, time_each_step=0.65s, eta=0:7:1\n",
      "2021-02-25 23:47:52 [INFO]\t[TRAIN] Epoch=51/64, Step=22/41, loss=0.168516, loss_cls=0.083204, loss_bbox=0.072189, loss_rpn_cls=0.004869, loss_rpn_bbox=0.008254, lr=2e-05, time_each_step=0.45s, eta=0:6:56\n",
      "2021-02-25 23:47:52 [INFO]\t[TRAIN] Epoch=51/64, Step=24/41, loss=0.15335, loss_cls=0.076859, loss_bbox=0.062591, loss_rpn_cls=0.011086, loss_rpn_bbox=0.002813, lr=2e-05, time_each_step=0.43s, eta=0:6:54\n",
      "2021-02-25 23:47:53 [INFO]\t[TRAIN] Epoch=51/64, Step=26/41, loss=0.249284, loss_cls=0.117429, loss_bbox=0.090781, loss_rpn_cls=0.026612, loss_rpn_bbox=0.014462, lr=2e-05, time_each_step=0.42s, eta=0:6:53\n",
      "2021-02-25 23:47:54 [INFO]\t[TRAIN] Epoch=51/64, Step=28/41, loss=0.13258, loss_cls=0.069148, loss_bbox=0.055059, loss_rpn_cls=0.00357, loss_rpn_bbox=0.004803, lr=2e-05, time_each_step=0.42s, eta=0:6:52\n",
      "2021-02-25 23:47:55 [INFO]\t[TRAIN] Epoch=51/64, Step=30/41, loss=0.291685, loss_cls=0.146603, loss_bbox=0.121495, loss_rpn_cls=0.011498, loss_rpn_bbox=0.01209, lr=2e-05, time_each_step=0.41s, eta=0:6:51\n",
      "2021-02-25 23:47:56 [INFO]\t[TRAIN] Epoch=51/64, Step=32/41, loss=0.281621, loss_cls=0.144426, loss_bbox=0.124035, loss_rpn_cls=0.005808, loss_rpn_bbox=0.007353, lr=2e-05, time_each_step=0.41s, eta=0:6:51\n",
      "2021-02-25 23:47:56 [INFO]\t[TRAIN] Epoch=51/64, Step=34/41, loss=0.20143, loss_cls=0.097198, loss_bbox=0.085811, loss_rpn_cls=0.010381, loss_rpn_bbox=0.00804, lr=2e-05, time_each_step=0.41s, eta=0:6:50\n",
      "2021-02-25 23:47:57 [INFO]\t[TRAIN] Epoch=51/64, Step=36/41, loss=0.218361, loss_cls=0.104427, loss_bbox=0.083999, loss_rpn_cls=0.010684, loss_rpn_bbox=0.01925, lr=2e-05, time_each_step=0.4s, eta=0:6:49\n",
      "2021-02-25 23:47:58 [INFO]\t[TRAIN] Epoch=51/64, Step=38/41, loss=0.331964, loss_cls=0.158511, loss_bbox=0.146466, loss_rpn_cls=0.012937, loss_rpn_bbox=0.014051, lr=2e-05, time_each_step=0.4s, eta=0:6:48\n",
      "2021-02-25 23:47:59 [INFO]\t[TRAIN] Epoch=51/64, Step=40/41, loss=0.122443, loss_cls=0.070126, loss_bbox=0.042335, loss_rpn_cls=0.006816, loss_rpn_bbox=0.003167, lr=2e-05, time_each_step=0.4s, eta=0:6:47\n",
      "2021-02-25 23:47:59 [INFO]\t[TRAIN] Epoch 51 finished, loss=0.196469, loss_cls=0.101213, loss_bbox=0.078867, loss_rpn_cls=0.009418, loss_rpn_bbox=0.006971, lr=2e-05 .\n",
      "2021-02-25 23:47:59 [WARNING]\tFaster RCNN supports batch_size=1 only during evaluating, so batch_size is forced to be set to 1.\n",
      "2021-02-25 23:47:59 [INFO]\tStart to evaluating(total_samples=2, total_steps=2)...\n"
     ]
    },
    {
     "name": "stderr",
     "output_type": "stream",
     "text": [
      "100%|██████████| 2/2 [00:04<00:00,  2.04s/it]\n"
     ]
    },
    {
     "name": "stdout",
     "output_type": "stream",
     "text": [
      "2021-02-25 23:48:03 [INFO]\t[EVAL] Finished, Epoch=51, bbox_map=66.31016 .\n",
      "2021-02-25 23:48:08 [INFO]\tModel saved in output/faster_rcnn_r50_fpn/epoch_51.\n",
      "2021-02-25 23:48:08 [INFO]\tCurrent evaluated best model in eval_dataset is epoch_10, bbox_map=83.33333333333334\n",
      "2021-02-25 23:48:13 [INFO]\t[TRAIN] Epoch=52/64, Step=1/41, loss=0.108383, loss_cls=0.062281, loss_bbox=0.036372, loss_rpn_cls=0.003302, loss_rpn_bbox=0.006427, lr=1.9e-05, time_each_step=0.66s, eta=0:6:31\n",
      "2021-02-25 23:48:15 [INFO]\t[TRAIN] Epoch=52/64, Step=3/41, loss=0.172435, loss_cls=0.091112, loss_bbox=0.0695, loss_rpn_cls=0.005875, loss_rpn_bbox=0.005947, lr=1.9e-05, time_each_step=0.7s, eta=0:6:31\n",
      "2021-02-25 23:48:16 [INFO]\t[TRAIN] Epoch=52/64, Step=5/41, loss=0.138225, loss_cls=0.079798, loss_bbox=0.05131, loss_rpn_cls=0.002411, loss_rpn_bbox=0.004705, lr=1.9e-05, time_each_step=0.71s, eta=0:6:30\n",
      "2021-02-25 23:48:17 [INFO]\t[TRAIN] Epoch=52/64, Step=7/41, loss=0.312155, loss_cls=0.152887, loss_bbox=0.138637, loss_rpn_cls=0.012144, loss_rpn_bbox=0.008486, lr=1.9e-05, time_each_step=0.72s, eta=0:6:29\n",
      "2021-02-25 23:48:18 [INFO]\t[TRAIN] Epoch=52/64, Step=9/41, loss=0.194734, loss_cls=0.108685, loss_bbox=0.070263, loss_rpn_cls=0.009548, loss_rpn_bbox=0.006237, lr=1.9e-05, time_each_step=0.73s, eta=0:6:28\n",
      "2021-02-25 23:48:19 [INFO]\t[TRAIN] Epoch=52/64, Step=11/41, loss=0.101347, loss_cls=0.057439, loss_bbox=0.038121, loss_rpn_cls=0.002112, loss_rpn_bbox=0.003676, lr=1.9e-05, time_each_step=0.74s, eta=0:6:27\n",
      "2021-02-25 23:48:19 [INFO]\t[TRAIN] Epoch=52/64, Step=13/41, loss=0.143853, loss_cls=0.078334, loss_bbox=0.05028, loss_rpn_cls=0.01053, loss_rpn_bbox=0.00471, lr=1.9e-05, time_each_step=0.74s, eta=0:6:25\n",
      "2021-02-25 23:48:20 [INFO]\t[TRAIN] Epoch=52/64, Step=15/41, loss=0.214136, loss_cls=0.106368, loss_bbox=0.09618, loss_rpn_cls=0.006055, loss_rpn_bbox=0.005534, lr=1.9e-05, time_each_step=0.74s, eta=0:6:24\n",
      "2021-02-25 23:48:21 [INFO]\t[TRAIN] Epoch=52/64, Step=17/41, loss=0.143029, loss_cls=0.07782, loss_bbox=0.051872, loss_rpn_cls=0.00947, loss_rpn_bbox=0.003868, lr=1.9e-05, time_each_step=0.74s, eta=0:6:22\n",
      "2021-02-25 23:48:22 [INFO]\t[TRAIN] Epoch=52/64, Step=19/41, loss=0.149794, loss_cls=0.076583, loss_bbox=0.056791, loss_rpn_cls=0.008745, loss_rpn_bbox=0.007676, lr=1.9e-05, time_each_step=0.74s, eta=0:6:21\n",
      "2021-02-25 23:48:23 [INFO]\t[TRAIN] Epoch=52/64, Step=21/41, loss=0.114483, loss_cls=0.060481, loss_bbox=0.044702, loss_rpn_cls=0.003285, loss_rpn_bbox=0.006016, lr=1.9e-05, time_each_step=0.48s, eta=0:6:14\n",
      "2021-02-25 23:48:23 [INFO]\t[TRAIN] Epoch=52/64, Step=23/41, loss=0.270823, loss_cls=0.136037, loss_bbox=0.123499, loss_rpn_cls=0.006016, loss_rpn_bbox=0.005271, lr=1.9e-05, time_each_step=0.44s, eta=0:6:13\n",
      "2021-02-25 23:48:24 [INFO]\t[TRAIN] Epoch=52/64, Step=25/41, loss=0.149298, loss_cls=0.075864, loss_bbox=0.052972, loss_rpn_cls=0.01175, loss_rpn_bbox=0.008712, lr=1.9e-05, time_each_step=0.42s, eta=0:6:11\n",
      "2021-02-25 23:48:25 [INFO]\t[TRAIN] Epoch=52/64, Step=27/41, loss=0.140487, loss_cls=0.070285, loss_bbox=0.059691, loss_rpn_cls=0.006654, loss_rpn_bbox=0.003857, lr=1.9e-05, time_each_step=0.41s, eta=0:6:10\n",
      "2021-02-25 23:48:26 [INFO]\t[TRAIN] Epoch=52/64, Step=29/41, loss=0.285912, loss_cls=0.144138, loss_bbox=0.116256, loss_rpn_cls=0.018992, loss_rpn_bbox=0.006526, lr=1.9e-05, time_each_step=0.4s, eta=0:6:9\n",
      "2021-02-25 23:48:27 [INFO]\t[TRAIN] Epoch=52/64, Step=31/41, loss=0.233248, loss_cls=0.11598, loss_bbox=0.104048, loss_rpn_cls=0.006742, loss_rpn_bbox=0.006477, lr=1.9e-05, time_each_step=0.4s, eta=0:6:9\n",
      "2021-02-25 23:48:27 [INFO]\t[TRAIN] Epoch=52/64, Step=33/41, loss=0.232395, loss_cls=0.126041, loss_bbox=0.093816, loss_rpn_cls=0.005956, loss_rpn_bbox=0.006581, lr=1.9e-05, time_each_step=0.4s, eta=0:6:8\n",
      "2021-02-25 23:48:28 [INFO]\t[TRAIN] Epoch=52/64, Step=35/41, loss=0.180676, loss_cls=0.093335, loss_bbox=0.077184, loss_rpn_cls=0.004885, loss_rpn_bbox=0.005272, lr=1.9e-05, time_each_step=0.4s, eta=0:6:7\n",
      "2021-02-25 23:48:29 [INFO]\t[TRAIN] Epoch=52/64, Step=37/41, loss=0.192574, loss_cls=0.087046, loss_bbox=0.08069, loss_rpn_cls=0.018241, loss_rpn_bbox=0.006598, lr=1.9e-05, time_each_step=0.4s, eta=0:6:6\n",
      "2021-02-25 23:48:30 [INFO]\t[TRAIN] Epoch=52/64, Step=39/41, loss=0.197596, loss_cls=0.088453, loss_bbox=0.070815, loss_rpn_cls=0.021082, loss_rpn_bbox=0.017246, lr=1.9e-05, time_each_step=0.39s, eta=0:6:5\n",
      "2021-02-25 23:48:31 [INFO]\t[TRAIN] Epoch=52/64, Step=41/41, loss=0.20888, loss_cls=0.104739, loss_bbox=0.089576, loss_rpn_cls=0.007364, loss_rpn_bbox=0.007202, lr=1.9e-05, time_each_step=0.39s, eta=0:6:5\n",
      "2021-02-25 23:48:31 [INFO]\t[TRAIN] Epoch 52 finished, loss=0.192637, loss_cls=0.098128, loss_bbox=0.077489, loss_rpn_cls=0.009722, loss_rpn_bbox=0.007298, lr=1.9e-05 .\n",
      "2021-02-25 23:48:31 [WARNING]\tFaster RCNN supports batch_size=1 only during evaluating, so batch_size is forced to be set to 1.\n",
      "2021-02-25 23:48:31 [INFO]\tStart to evaluating(total_samples=2, total_steps=2)...\n"
     ]
    },
    {
     "name": "stderr",
     "output_type": "stream",
     "text": [
      "100%|██████████| 2/2 [00:03<00:00,  1.87s/it]\n"
     ]
    },
    {
     "name": "stdout",
     "output_type": "stream",
     "text": [
      "2021-02-25 23:48:34 [INFO]\t[EVAL] Finished, Epoch=52, bbox_map=66.477273 .\n",
      "2021-02-25 23:48:38 [INFO]\tModel saved in output/faster_rcnn_r50_fpn/epoch_52.\n",
      "2021-02-25 23:48:38 [INFO]\tCurrent evaluated best model in eval_dataset is epoch_10, bbox_map=83.33333333333334\n",
      "2021-02-25 23:48:44 [INFO]\t[TRAIN] Epoch=53/64, Step=2/41, loss=0.192552, loss_cls=0.095158, loss_bbox=0.085096, loss_rpn_cls=0.005927, loss_rpn_bbox=0.006372, lr=1.8e-05, time_each_step=0.62s, eta=0:6:10\n",
      "2021-02-25 23:48:45 [INFO]\t[TRAIN] Epoch=53/64, Step=4/41, loss=0.102432, loss_cls=0.057281, loss_bbox=0.037117, loss_rpn_cls=0.004441, loss_rpn_bbox=0.003594, lr=1.8e-05, time_each_step=0.65s, eta=0:6:10\n",
      "2021-02-25 23:48:46 [INFO]\t[TRAIN] Epoch=53/64, Step=6/41, loss=0.155455, loss_cls=0.080508, loss_bbox=0.068703, loss_rpn_cls=0.00244, loss_rpn_bbox=0.003803, lr=1.8e-05, time_each_step=0.66s, eta=0:6:9\n",
      "2021-02-25 23:48:47 [INFO]\t[TRAIN] Epoch=53/64, Step=8/41, loss=0.161496, loss_cls=0.083396, loss_bbox=0.053054, loss_rpn_cls=0.010106, loss_rpn_bbox=0.014939, lr=1.8e-05, time_each_step=0.68s, eta=0:6:8\n",
      "2021-02-25 23:48:48 [INFO]\t[TRAIN] Epoch=53/64, Step=10/41, loss=0.231428, loss_cls=0.118936, loss_bbox=0.093178, loss_rpn_cls=0.011933, loss_rpn_bbox=0.007381, lr=1.8e-05, time_each_step=0.68s, eta=0:6:7\n",
      "2021-02-25 23:48:49 [INFO]\t[TRAIN] Epoch=53/64, Step=12/41, loss=0.267389, loss_cls=0.137955, loss_bbox=0.115862, loss_rpn_cls=0.00595, loss_rpn_bbox=0.007623, lr=1.8e-05, time_each_step=0.68s, eta=0:6:6\n",
      "2021-02-25 23:48:50 [INFO]\t[TRAIN] Epoch=53/64, Step=14/41, loss=0.270433, loss_cls=0.13901, loss_bbox=0.10352, loss_rpn_cls=0.018694, loss_rpn_bbox=0.009209, lr=1.8e-05, time_each_step=0.68s, eta=0:6:4\n",
      "2021-02-25 23:48:50 [INFO]\t[TRAIN] Epoch=53/64, Step=16/41, loss=0.291973, loss_cls=0.144701, loss_bbox=0.124475, loss_rpn_cls=0.010693, loss_rpn_bbox=0.012104, lr=1.8e-05, time_each_step=0.68s, eta=0:6:3\n",
      "2021-02-25 23:48:51 [INFO]\t[TRAIN] Epoch=53/64, Step=18/41, loss=0.323164, loss_cls=0.147256, loss_bbox=0.149773, loss_rpn_cls=0.013958, loss_rpn_bbox=0.012177, lr=1.8e-05, time_each_step=0.69s, eta=0:6:2\n",
      "2021-02-25 23:48:52 [INFO]\t[TRAIN] Epoch=53/64, Step=20/41, loss=0.257681, loss_cls=0.132748, loss_bbox=0.095261, loss_rpn_cls=0.019748, loss_rpn_bbox=0.009924, lr=1.8e-05, time_each_step=0.68s, eta=0:6:0\n",
      "2021-02-25 23:48:53 [INFO]\t[TRAIN] Epoch=53/64, Step=22/41, loss=0.096936, loss_cls=0.051326, loss_bbox=0.036614, loss_rpn_cls=0.004688, loss_rpn_bbox=0.004309, lr=1.8e-05, time_each_step=0.45s, eta=0:5:54\n",
      "2021-02-25 23:48:54 [INFO]\t[TRAIN] Epoch=53/64, Step=24/41, loss=0.154763, loss_cls=0.083803, loss_bbox=0.05979, loss_rpn_cls=0.00632, loss_rpn_bbox=0.004851, lr=1.8e-05, time_each_step=0.43s, eta=0:5:53\n",
      "2021-02-25 23:48:54 [INFO]\t[TRAIN] Epoch=53/64, Step=26/41, loss=0.201799, loss_cls=0.108806, loss_bbox=0.081365, loss_rpn_cls=0.006562, loss_rpn_bbox=0.005065, lr=1.8e-05, time_each_step=0.42s, eta=0:5:52\n",
      "2021-02-25 23:48:55 [INFO]\t[TRAIN] Epoch=53/64, Step=28/41, loss=0.147412, loss_cls=0.07542, loss_bbox=0.052431, loss_rpn_cls=0.013619, loss_rpn_bbox=0.005942, lr=1.8e-05, time_each_step=0.4s, eta=0:5:51\n",
      "2021-02-25 23:48:56 [INFO]\t[TRAIN] Epoch=53/64, Step=30/41, loss=0.132513, loss_cls=0.068152, loss_bbox=0.055817, loss_rpn_cls=0.003525, loss_rpn_bbox=0.00502, lr=1.8e-05, time_each_step=0.4s, eta=0:5:50\n",
      "2021-02-25 23:48:57 [INFO]\t[TRAIN] Epoch=53/64, Step=32/41, loss=0.082818, loss_cls=0.049648, loss_bbox=0.025107, loss_rpn_cls=0.003197, loss_rpn_bbox=0.004867, lr=1.8e-05, time_each_step=0.4s, eta=0:5:49\n",
      "2021-02-25 23:48:57 [INFO]\t[TRAIN] Epoch=53/64, Step=34/41, loss=0.116177, loss_cls=0.063297, loss_bbox=0.039631, loss_rpn_cls=0.007626, loss_rpn_bbox=0.005622, lr=1.8e-05, time_each_step=0.39s, eta=0:5:49\n",
      "2021-02-25 23:48:58 [INFO]\t[TRAIN] Epoch=53/64, Step=36/41, loss=0.218767, loss_cls=0.110024, loss_bbox=0.090962, loss_rpn_cls=0.010238, loss_rpn_bbox=0.007544, lr=1.8e-05, time_each_step=0.39s, eta=0:5:48\n",
      "2021-02-25 23:48:59 [INFO]\t[TRAIN] Epoch=53/64, Step=38/41, loss=0.163431, loss_cls=0.079927, loss_bbox=0.061367, loss_rpn_cls=0.015027, loss_rpn_bbox=0.007109, lr=1.8e-05, time_each_step=0.39s, eta=0:5:47\n",
      "2021-02-25 23:49:00 [INFO]\t[TRAIN] Epoch=53/64, Step=40/41, loss=0.158361, loss_cls=0.076762, loss_bbox=0.074119, loss_rpn_cls=0.002352, loss_rpn_bbox=0.005128, lr=1.8e-05, time_each_step=0.39s, eta=0:5:46\n",
      "2021-02-25 23:49:00 [INFO]\t[TRAIN] Epoch 53 finished, loss=0.191968, loss_cls=0.098368, loss_bbox=0.077135, loss_rpn_cls=0.009356, loss_rpn_bbox=0.007108, lr=1.8e-05 .\n",
      "2021-02-25 23:49:00 [WARNING]\tFaster RCNN supports batch_size=1 only during evaluating, so batch_size is forced to be set to 1.\n",
      "2021-02-25 23:49:00 [INFO]\tStart to evaluating(total_samples=2, total_steps=2)...\n"
     ]
    },
    {
     "name": "stderr",
     "output_type": "stream",
     "text": [
      "100%|██████████| 2/2 [00:04<00:00,  2.21s/it]\n"
     ]
    },
    {
     "name": "stdout",
     "output_type": "stream",
     "text": [
      "2021-02-25 23:49:05 [INFO]\t[EVAL] Finished, Epoch=53, bbox_map=66.477273 .\n",
      "2021-02-25 23:49:09 [INFO]\tModel saved in output/faster_rcnn_r50_fpn/epoch_53.\n",
      "2021-02-25 23:49:09 [INFO]\tCurrent evaluated best model in eval_dataset is epoch_10, bbox_map=83.33333333333334\n",
      "2021-02-25 23:49:16 [INFO]\t[TRAIN] Epoch=54/64, Step=1/41, loss=0.209474, loss_cls=0.099063, loss_bbox=0.096651, loss_rpn_cls=0.008141, loss_rpn_bbox=0.005619, lr=1.7e-05, time_each_step=0.73s, eta=0:5:42\n",
      "2021-02-25 23:49:17 [INFO]\t[TRAIN] Epoch=54/64, Step=3/41, loss=0.166478, loss_cls=0.091513, loss_bbox=0.054749, loss_rpn_cls=0.006878, loss_rpn_bbox=0.013338, lr=1.7e-05, time_each_step=0.76s, eta=0:5:42\n",
      "2021-02-25 23:49:19 [INFO]\t[TRAIN] Epoch=54/64, Step=5/41, loss=0.181837, loss_cls=0.076511, loss_bbox=0.093345, loss_rpn_cls=0.004372, loss_rpn_bbox=0.007609, lr=1.7e-05, time_each_step=0.79s, eta=0:5:41\n",
      "2021-02-25 23:49:20 [INFO]\t[TRAIN] Epoch=54/64, Step=7/41, loss=0.185528, loss_cls=0.093153, loss_bbox=0.0685, loss_rpn_cls=0.006967, loss_rpn_bbox=0.016907, lr=1.7e-05, time_each_step=0.8s, eta=0:5:40\n",
      "2021-02-25 23:49:21 [INFO]\t[TRAIN] Epoch=54/64, Step=9/41, loss=0.237883, loss_cls=0.11918, loss_bbox=0.099737, loss_rpn_cls=0.011916, loss_rpn_bbox=0.00705, lr=1.7e-05, time_each_step=0.81s, eta=0:5:39\n",
      "2021-02-25 23:49:22 [INFO]\t[TRAIN] Epoch=54/64, Step=11/41, loss=0.135337, loss_cls=0.081555, loss_bbox=0.045358, loss_rpn_cls=0.005381, loss_rpn_bbox=0.003043, lr=1.7e-05, time_each_step=0.81s, eta=0:5:37\n",
      "2021-02-25 23:49:22 [INFO]\t[TRAIN] Epoch=54/64, Step=13/41, loss=0.250161, loss_cls=0.136717, loss_bbox=0.09832, loss_rpn_cls=0.006407, loss_rpn_bbox=0.008717, lr=1.7e-05, time_each_step=0.81s, eta=0:5:36\n",
      "2021-02-25 23:49:23 [INFO]\t[TRAIN] Epoch=54/64, Step=15/41, loss=0.072275, loss_cls=0.038852, loss_bbox=0.02927, loss_rpn_cls=0.002699, loss_rpn_bbox=0.001454, lr=1.7e-05, time_each_step=0.81s, eta=0:5:34\n",
      "2021-02-25 23:49:24 [INFO]\t[TRAIN] Epoch=54/64, Step=17/41, loss=0.235034, loss_cls=0.120626, loss_bbox=0.107384, loss_rpn_cls=0.002445, loss_rpn_bbox=0.00458, lr=1.7e-05, time_each_step=0.81s, eta=0:5:32\n",
      "2021-02-25 23:49:25 [INFO]\t[TRAIN] Epoch=54/64, Step=19/41, loss=0.186802, loss_cls=0.098961, loss_bbox=0.074931, loss_rpn_cls=0.00697, loss_rpn_bbox=0.00594, lr=1.7e-05, time_each_step=0.82s, eta=0:5:31\n",
      "2021-02-25 23:49:26 [INFO]\t[TRAIN] Epoch=54/64, Step=21/41, loss=0.210385, loss_cls=0.111486, loss_bbox=0.071081, loss_rpn_cls=0.019455, loss_rpn_bbox=0.008362, lr=1.7e-05, time_each_step=0.48s, eta=0:5:22\n",
      "2021-02-25 23:49:26 [INFO]\t[TRAIN] Epoch=54/64, Step=23/41, loss=0.182326, loss_cls=0.087414, loss_bbox=0.079501, loss_rpn_cls=0.009923, loss_rpn_bbox=0.005487, lr=1.7e-05, time_each_step=0.45s, eta=0:5:21\n",
      "2021-02-25 23:49:27 [INFO]\t[TRAIN] Epoch=54/64, Step=25/41, loss=0.142942, loss_cls=0.07506, loss_bbox=0.061187, loss_rpn_cls=0.003869, loss_rpn_bbox=0.002826, lr=1.7e-05, time_each_step=0.42s, eta=0:5:20\n",
      "2021-02-25 23:49:28 [INFO]\t[TRAIN] Epoch=54/64, Step=27/41, loss=0.18596, loss_cls=0.097395, loss_bbox=0.081224, loss_rpn_cls=0.003802, loss_rpn_bbox=0.003539, lr=1.7e-05, time_each_step=0.41s, eta=0:5:19\n",
      "2021-02-25 23:49:29 [INFO]\t[TRAIN] Epoch=54/64, Step=29/41, loss=0.199767, loss_cls=0.100693, loss_bbox=0.086644, loss_rpn_cls=0.006613, loss_rpn_bbox=0.005816, lr=1.7e-05, time_each_step=0.4s, eta=0:5:18\n",
      "2021-02-25 23:49:29 [INFO]\t[TRAIN] Epoch=54/64, Step=31/41, loss=0.239526, loss_cls=0.126417, loss_bbox=0.098701, loss_rpn_cls=0.007921, loss_rpn_bbox=0.006488, lr=1.7e-05, time_each_step=0.39s, eta=0:5:17\n",
      "2021-02-25 23:49:30 [INFO]\t[TRAIN] Epoch=54/64, Step=33/41, loss=0.165975, loss_cls=0.081981, loss_bbox=0.065952, loss_rpn_cls=0.008094, loss_rpn_bbox=0.009949, lr=1.7e-05, time_each_step=0.39s, eta=0:5:16\n",
      "2021-02-25 23:49:31 [INFO]\t[TRAIN] Epoch=54/64, Step=35/41, loss=0.170285, loss_cls=0.095015, loss_bbox=0.061603, loss_rpn_cls=0.007303, loss_rpn_bbox=0.006363, lr=1.7e-05, time_each_step=0.4s, eta=0:5:15\n",
      "2021-02-25 23:49:32 [INFO]\t[TRAIN] Epoch=54/64, Step=37/41, loss=0.367142, loss_cls=0.185279, loss_bbox=0.148151, loss_rpn_cls=0.02311, loss_rpn_bbox=0.010602, lr=1.7e-05, time_each_step=0.39s, eta=0:5:14\n",
      "2021-02-25 23:49:33 [INFO]\t[TRAIN] Epoch=54/64, Step=39/41, loss=0.283462, loss_cls=0.137137, loss_bbox=0.122106, loss_rpn_cls=0.009951, loss_rpn_bbox=0.014267, lr=1.7e-05, time_each_step=0.39s, eta=0:5:14\n",
      "2021-02-25 23:49:33 [INFO]\t[TRAIN] Epoch=54/64, Step=41/41, loss=0.095328, loss_cls=0.051594, loss_bbox=0.029935, loss_rpn_cls=0.009431, loss_rpn_bbox=0.004369, lr=1.7e-05, time_each_step=0.39s, eta=0:5:13\n",
      "2021-02-25 23:49:33 [INFO]\t[TRAIN] Epoch 54 finished, loss=0.190748, loss_cls=0.098634, loss_bbox=0.076287, loss_rpn_cls=0.008747, loss_rpn_bbox=0.00708, lr=1.7e-05 .\n",
      "2021-02-25 23:49:33 [WARNING]\tFaster RCNN supports batch_size=1 only during evaluating, so batch_size is forced to be set to 1.\n",
      "2021-02-25 23:49:33 [INFO]\tStart to evaluating(total_samples=2, total_steps=2)...\n"
     ]
    },
    {
     "name": "stderr",
     "output_type": "stream",
     "text": [
      "100%|██████████| 2/2 [00:03<00:00,  1.60s/it]\n"
     ]
    },
    {
     "name": "stdout",
     "output_type": "stream",
     "text": [
      "2021-02-25 23:49:37 [INFO]\t[EVAL] Finished, Epoch=54, bbox_map=68.686869 .\n",
      "2021-02-25 23:49:41 [INFO]\tModel saved in output/faster_rcnn_r50_fpn/epoch_54.\n",
      "2021-02-25 23:49:41 [INFO]\tCurrent evaluated best model in eval_dataset is epoch_10, bbox_map=83.33333333333334\n",
      "2021-02-25 23:49:47 [INFO]\t[TRAIN] Epoch=55/64, Step=2/41, loss=0.155906, loss_cls=0.090359, loss_bbox=0.058789, loss_rpn_cls=0.003595, loss_rpn_bbox=0.003163, lr=1.7e-05, time_each_step=0.62s, eta=0:5:23\n",
      "2021-02-25 23:49:48 [INFO]\t[TRAIN] Epoch=55/64, Step=4/41, loss=0.203324, loss_cls=0.106785, loss_bbox=0.08331, loss_rpn_cls=0.007473, loss_rpn_bbox=0.005755, lr=1.7e-05, time_each_step=0.65s, eta=0:5:23\n",
      "2021-02-25 23:49:49 [INFO]\t[TRAIN] Epoch=55/64, Step=6/41, loss=0.176759, loss_cls=0.09083, loss_bbox=0.072869, loss_rpn_cls=0.00636, loss_rpn_bbox=0.006701, lr=1.7e-05, time_each_step=0.67s, eta=0:5:22\n",
      "2021-02-25 23:49:50 [INFO]\t[TRAIN] Epoch=55/64, Step=8/41, loss=0.252037, loss_cls=0.118821, loss_bbox=0.118616, loss_rpn_cls=0.007456, loss_rpn_bbox=0.007144, lr=1.7e-05, time_each_step=0.68s, eta=0:5:21\n",
      "2021-02-25 23:49:51 [INFO]\t[TRAIN] Epoch=55/64, Step=10/41, loss=0.214383, loss_cls=0.102625, loss_bbox=0.080753, loss_rpn_cls=0.024378, loss_rpn_bbox=0.006627, lr=1.7e-05, time_each_step=0.69s, eta=0:5:20\n",
      "2021-02-25 23:49:52 [INFO]\t[TRAIN] Epoch=55/64, Step=12/41, loss=0.168312, loss_cls=0.082342, loss_bbox=0.068021, loss_rpn_cls=0.01176, loss_rpn_bbox=0.006189, lr=1.7e-05, time_each_step=0.69s, eta=0:5:19\n",
      "2021-02-25 23:49:53 [INFO]\t[TRAIN] Epoch=55/64, Step=14/41, loss=0.115016, loss_cls=0.059965, loss_bbox=0.049593, loss_rpn_cls=0.000914, loss_rpn_bbox=0.004544, lr=1.7e-05, time_each_step=0.69s, eta=0:5:17\n",
      "2021-02-25 23:49:53 [INFO]\t[TRAIN] Epoch=55/64, Step=16/41, loss=0.203449, loss_cls=0.111533, loss_bbox=0.069662, loss_rpn_cls=0.011505, loss_rpn_bbox=0.010749, lr=1.7e-05, time_each_step=0.68s, eta=0:5:16\n",
      "2021-02-25 23:49:54 [INFO]\t[TRAIN] Epoch=55/64, Step=18/41, loss=0.10603, loss_cls=0.05223, loss_bbox=0.037937, loss_rpn_cls=0.011916, loss_rpn_bbox=0.003947, lr=1.7e-05, time_each_step=0.69s, eta=0:5:15\n",
      "2021-02-25 23:49:55 [INFO]\t[TRAIN] Epoch=55/64, Step=20/41, loss=0.151634, loss_cls=0.078635, loss_bbox=0.05428, loss_rpn_cls=0.008093, loss_rpn_bbox=0.010627, lr=1.7e-05, time_each_step=0.69s, eta=0:5:13\n",
      "2021-02-25 23:49:56 [INFO]\t[TRAIN] Epoch=55/64, Step=22/41, loss=0.32573, loss_cls=0.160442, loss_bbox=0.137698, loss_rpn_cls=0.018858, loss_rpn_bbox=0.008731, lr=1.7e-05, time_each_step=0.46s, eta=0:5:7\n",
      "2021-02-25 23:49:56 [INFO]\t[TRAIN] Epoch=55/64, Step=24/41, loss=0.340881, loss_cls=0.176374, loss_bbox=0.134528, loss_rpn_cls=0.015292, loss_rpn_bbox=0.014688, lr=1.7e-05, time_each_step=0.42s, eta=0:5:6\n",
      "2021-02-25 23:49:57 [INFO]\t[TRAIN] Epoch=55/64, Step=26/41, loss=0.134936, loss_cls=0.075644, loss_bbox=0.048781, loss_rpn_cls=0.00663, loss_rpn_bbox=0.003882, lr=1.7e-05, time_each_step=0.41s, eta=0:5:5\n",
      "2021-02-25 23:49:58 [INFO]\t[TRAIN] Epoch=55/64, Step=28/41, loss=0.116359, loss_cls=0.059864, loss_bbox=0.04607, loss_rpn_cls=0.006063, loss_rpn_bbox=0.004362, lr=1.7e-05, time_each_step=0.41s, eta=0:5:4\n",
      "2021-02-25 23:49:59 [INFO]\t[TRAIN] Epoch=55/64, Step=30/41, loss=0.198972, loss_cls=0.10616, loss_bbox=0.081824, loss_rpn_cls=0.005134, loss_rpn_bbox=0.005854, lr=1.7e-05, time_each_step=0.4s, eta=0:5:3\n",
      "2021-02-25 23:50:00 [INFO]\t[TRAIN] Epoch=55/64, Step=32/41, loss=0.365899, loss_cls=0.193654, loss_bbox=0.14559, loss_rpn_cls=0.016907, loss_rpn_bbox=0.009748, lr=1.7e-05, time_each_step=0.4s, eta=0:5:2\n",
      "2021-02-25 23:50:01 [INFO]\t[TRAIN] Epoch=55/64, Step=34/41, loss=0.142414, loss_cls=0.084694, loss_bbox=0.049156, loss_rpn_cls=0.003249, loss_rpn_bbox=0.005314, lr=1.7e-05, time_each_step=0.39s, eta=0:5:1\n",
      "2021-02-25 23:50:01 [INFO]\t[TRAIN] Epoch=55/64, Step=36/41, loss=0.227625, loss_cls=0.114387, loss_bbox=0.096239, loss_rpn_cls=0.00869, loss_rpn_bbox=0.008309, lr=1.7e-05, time_each_step=0.4s, eta=0:5:1\n",
      "2021-02-25 23:50:02 [INFO]\t[TRAIN] Epoch=55/64, Step=38/41, loss=0.154716, loss_cls=0.077424, loss_bbox=0.063692, loss_rpn_cls=0.006925, loss_rpn_bbox=0.006675, lr=1.7e-05, time_each_step=0.4s, eta=0:5:0\n",
      "2021-02-25 23:50:03 [INFO]\t[TRAIN] Epoch=55/64, Step=40/41, loss=0.168252, loss_cls=0.083558, loss_bbox=0.071873, loss_rpn_cls=0.005869, loss_rpn_bbox=0.006953, lr=1.7e-05, time_each_step=0.39s, eta=0:4:59\n",
      "2021-02-25 23:50:03 [INFO]\t[TRAIN] Epoch 55 finished, loss=0.192732, loss_cls=0.09953, loss_bbox=0.077048, loss_rpn_cls=0.009064, loss_rpn_bbox=0.00709, lr=1.7e-05 .\n",
      "2021-02-25 23:50:03 [WARNING]\tFaster RCNN supports batch_size=1 only during evaluating, so batch_size is forced to be set to 1.\n",
      "2021-02-25 23:50:03 [INFO]\tStart to evaluating(total_samples=2, total_steps=2)...\n"
     ]
    },
    {
     "name": "stderr",
     "output_type": "stream",
     "text": [
      "100%|██████████| 2/2 [00:04<00:00,  2.01s/it]\n"
     ]
    },
    {
     "name": "stdout",
     "output_type": "stream",
     "text": [
      "2021-02-25 23:50:07 [INFO]\t[EVAL] Finished, Epoch=55, bbox_map=68.686869 .\n",
      "2021-02-25 23:50:12 [INFO]\tModel saved in output/faster_rcnn_r50_fpn/epoch_55.\n",
      "2021-02-25 23:50:12 [INFO]\tCurrent evaluated best model in eval_dataset is epoch_10, bbox_map=83.33333333333334\n",
      "2021-02-25 23:50:18 [INFO]\t[TRAIN] Epoch=56/64, Step=1/41, loss=0.138525, loss_cls=0.07154, loss_bbox=0.060709, loss_rpn_cls=0.001406, loss_rpn_bbox=0.004869, lr=1.6e-05, time_each_step=0.7s, eta=0:4:39\n",
      "2021-02-25 23:50:20 [INFO]\t[TRAIN] Epoch=56/64, Step=3/41, loss=0.132016, loss_cls=0.078232, loss_bbox=0.047855, loss_rpn_cls=0.002748, loss_rpn_bbox=0.003181, lr=1.6e-05, time_each_step=0.74s, eta=0:4:39\n",
      "2021-02-25 23:50:21 [INFO]\t[TRAIN] Epoch=56/64, Step=5/41, loss=0.33109, loss_cls=0.170733, loss_bbox=0.134794, loss_rpn_cls=0.016356, loss_rpn_bbox=0.009207, lr=1.6e-05, time_each_step=0.75s, eta=0:4:38\n",
      "2021-02-25 23:50:22 [INFO]\t[TRAIN] Epoch=56/64, Step=7/41, loss=0.167165, loss_cls=0.096983, loss_bbox=0.057259, loss_rpn_cls=0.007669, loss_rpn_bbox=0.005255, lr=1.6e-05, time_each_step=0.76s, eta=0:4:37\n",
      "2021-02-25 23:50:23 [INFO]\t[TRAIN] Epoch=56/64, Step=9/41, loss=0.169941, loss_cls=0.094608, loss_bbox=0.064606, loss_rpn_cls=0.007155, loss_rpn_bbox=0.003572, lr=1.6e-05, time_each_step=0.77s, eta=0:4:35\n",
      "2021-02-25 23:50:24 [INFO]\t[TRAIN] Epoch=56/64, Step=11/41, loss=0.118318, loss_cls=0.058442, loss_bbox=0.042326, loss_rpn_cls=0.012309, loss_rpn_bbox=0.00524, lr=1.6e-05, time_each_step=0.77s, eta=0:4:34\n",
      "2021-02-25 23:50:24 [INFO]\t[TRAIN] Epoch=56/64, Step=13/41, loss=0.35715, loss_cls=0.183182, loss_bbox=0.144477, loss_rpn_cls=0.017987, loss_rpn_bbox=0.011504, lr=1.6e-05, time_each_step=0.77s, eta=0:4:33\n",
      "2021-02-25 23:50:25 [INFO]\t[TRAIN] Epoch=56/64, Step=15/41, loss=0.165638, loss_cls=0.096617, loss_bbox=0.053107, loss_rpn_cls=0.00932, loss_rpn_bbox=0.006594, lr=1.6e-05, time_each_step=0.78s, eta=0:4:31\n",
      "2021-02-25 23:50:26 [INFO]\t[TRAIN] Epoch=56/64, Step=17/41, loss=0.086986, loss_cls=0.046948, loss_bbox=0.028245, loss_rpn_cls=0.0057, loss_rpn_bbox=0.006093, lr=1.6e-05, time_each_step=0.78s, eta=0:4:29\n",
      "2021-02-25 23:50:27 [INFO]\t[TRAIN] Epoch=56/64, Step=19/41, loss=0.23782, loss_cls=0.114549, loss_bbox=0.098555, loss_rpn_cls=0.012564, loss_rpn_bbox=0.012153, lr=1.6e-05, time_each_step=0.78s, eta=0:4:28\n",
      "2021-02-25 23:50:28 [INFO]\t[TRAIN] Epoch=56/64, Step=21/41, loss=0.178815, loss_cls=0.098154, loss_bbox=0.07034, loss_rpn_cls=0.00457, loss_rpn_bbox=0.00575, lr=1.6e-05, time_each_step=0.47s, eta=0:4:20\n",
      "2021-02-25 23:50:28 [INFO]\t[TRAIN] Epoch=56/64, Step=23/41, loss=0.168123, loss_cls=0.076804, loss_bbox=0.077884, loss_rpn_cls=0.008594, loss_rpn_bbox=0.004841, lr=1.6e-05, time_each_step=0.45s, eta=0:4:19\n",
      "2021-02-25 23:50:29 [INFO]\t[TRAIN] Epoch=56/64, Step=25/41, loss=0.137049, loss_cls=0.072445, loss_bbox=0.052784, loss_rpn_cls=0.005612, loss_rpn_bbox=0.006207, lr=1.6e-05, time_each_step=0.43s, eta=0:4:18\n",
      "2021-02-25 23:50:30 [INFO]\t[TRAIN] Epoch=56/64, Step=27/41, loss=0.258889, loss_cls=0.116247, loss_bbox=0.122135, loss_rpn_cls=0.012205, loss_rpn_bbox=0.008302, lr=1.6e-05, time_each_step=0.42s, eta=0:4:17\n",
      "2021-02-25 23:50:31 [INFO]\t[TRAIN] Epoch=56/64, Step=29/41, loss=0.284855, loss_cls=0.151806, loss_bbox=0.119596, loss_rpn_cls=0.007308, loss_rpn_bbox=0.006145, lr=1.6e-05, time_each_step=0.41s, eta=0:4:16\n",
      "2021-02-25 23:50:32 [INFO]\t[TRAIN] Epoch=56/64, Step=31/41, loss=0.075284, loss_cls=0.045437, loss_bbox=0.021219, loss_rpn_cls=0.003309, loss_rpn_bbox=0.005318, lr=1.6e-05, time_each_step=0.41s, eta=0:4:15\n",
      "2021-02-25 23:50:32 [INFO]\t[TRAIN] Epoch=56/64, Step=33/41, loss=0.195663, loss_cls=0.100502, loss_bbox=0.081195, loss_rpn_cls=0.008307, loss_rpn_bbox=0.005658, lr=1.6e-05, time_each_step=0.4s, eta=0:4:14\n",
      "2021-02-25 23:50:33 [INFO]\t[TRAIN] Epoch=56/64, Step=35/41, loss=0.214317, loss_cls=0.109838, loss_bbox=0.080746, loss_rpn_cls=0.014287, loss_rpn_bbox=0.009447, lr=1.6e-05, time_each_step=0.4s, eta=0:4:13\n",
      "2021-02-25 23:50:34 [INFO]\t[TRAIN] Epoch=56/64, Step=37/41, loss=0.154098, loss_cls=0.077415, loss_bbox=0.060855, loss_rpn_cls=0.011512, loss_rpn_bbox=0.004317, lr=1.6e-05, time_each_step=0.4s, eta=0:4:12\n",
      "2021-02-25 23:50:35 [INFO]\t[TRAIN] Epoch=56/64, Step=39/41, loss=0.135375, loss_cls=0.067083, loss_bbox=0.060258, loss_rpn_cls=0.004275, loss_rpn_bbox=0.003759, lr=1.6e-05, time_each_step=0.4s, eta=0:4:12\n",
      "2021-02-25 23:50:35 [INFO]\t[TRAIN] Epoch=56/64, Step=41/41, loss=0.130496, loss_cls=0.0723, loss_bbox=0.046391, loss_rpn_cls=0.006764, loss_rpn_bbox=0.005041, lr=1.6e-05, time_each_step=0.4s, eta=0:4:11\n",
      "2021-02-25 23:50:35 [INFO]\t[TRAIN] Epoch 56 finished, loss=0.191092, loss_cls=0.09886, loss_bbox=0.076277, loss_rpn_cls=0.00899, loss_rpn_bbox=0.006966, lr=1.6e-05 .\n",
      "2021-02-25 23:50:35 [WARNING]\tFaster RCNN supports batch_size=1 only during evaluating, so batch_size is forced to be set to 1.\n",
      "2021-02-25 23:50:35 [INFO]\tStart to evaluating(total_samples=2, total_steps=2)...\n"
     ]
    },
    {
     "name": "stderr",
     "output_type": "stream",
     "text": [
      "100%|██████████| 2/2 [00:06<00:00,  3.19s/it]\n"
     ]
    },
    {
     "name": "stdout",
     "output_type": "stream",
     "text": [
      "2021-02-25 23:50:42 [INFO]\t[EVAL] Finished, Epoch=56, bbox_map=68.686869 .\n",
      "2021-02-25 23:50:46 [INFO]\tModel saved in output/faster_rcnn_r50_fpn/epoch_56.\n",
      "2021-02-25 23:50:46 [INFO]\tCurrent evaluated best model in eval_dataset is epoch_10, bbox_map=83.33333333333334\n",
      "2021-02-25 23:50:53 [INFO]\t[TRAIN] Epoch=57/64, Step=2/41, loss=0.077815, loss_cls=0.040999, loss_bbox=0.032851, loss_rpn_cls=0.00181, loss_rpn_bbox=0.002156, lr=1.5e-05, time_each_step=0.72s, eta=0:4:40\n",
      "2021-02-25 23:50:54 [INFO]\t[TRAIN] Epoch=57/64, Step=4/41, loss=0.126438, loss_cls=0.069633, loss_bbox=0.049218, loss_rpn_cls=0.003923, loss_rpn_bbox=0.003664, lr=1.5e-05, time_each_step=0.73s, eta=0:4:39\n",
      "2021-02-25 23:50:55 [INFO]\t[TRAIN] Epoch=57/64, Step=6/41, loss=0.241828, loss_cls=0.121046, loss_bbox=0.10198, loss_rpn_cls=0.011147, loss_rpn_bbox=0.007655, lr=1.5e-05, time_each_step=0.73s, eta=0:4:38\n",
      "2021-02-25 23:50:56 [INFO]\t[TRAIN] Epoch=57/64, Step=8/41, loss=0.209818, loss_cls=0.111523, loss_bbox=0.081941, loss_rpn_cls=0.008399, loss_rpn_bbox=0.007955, lr=1.5e-05, time_each_step=0.74s, eta=0:4:36\n",
      "2021-02-25 23:50:57 [INFO]\t[TRAIN] Epoch=57/64, Step=10/41, loss=0.27753, loss_cls=0.123821, loss_bbox=0.133036, loss_rpn_cls=0.012987, loss_rpn_bbox=0.007686, lr=1.5e-05, time_each_step=0.75s, eta=0:4:35\n",
      "2021-02-25 23:50:58 [INFO]\t[TRAIN] Epoch=57/64, Step=12/41, loss=0.190375, loss_cls=0.10347, loss_bbox=0.078401, loss_rpn_cls=0.003269, loss_rpn_bbox=0.005235, lr=1.5e-05, time_each_step=0.75s, eta=0:4:34\n",
      "2021-02-25 23:50:59 [INFO]\t[TRAIN] Epoch=57/64, Step=14/41, loss=0.081604, loss_cls=0.044886, loss_bbox=0.030073, loss_rpn_cls=0.004448, loss_rpn_bbox=0.002197, lr=1.5e-05, time_each_step=0.76s, eta=0:4:32\n",
      "2021-02-25 23:51:00 [INFO]\t[TRAIN] Epoch=57/64, Step=16/41, loss=0.065589, loss_cls=0.037599, loss_bbox=0.024774, loss_rpn_cls=0.00156, loss_rpn_bbox=0.001656, lr=1.5e-05, time_each_step=0.76s, eta=0:4:31\n",
      "2021-02-25 23:51:01 [INFO]\t[TRAIN] Epoch=57/64, Step=18/41, loss=0.237377, loss_cls=0.11766, loss_bbox=0.110771, loss_rpn_cls=0.004042, loss_rpn_bbox=0.004903, lr=1.5e-05, time_each_step=0.77s, eta=0:4:30\n",
      "2021-02-25 23:51:02 [INFO]\t[TRAIN] Epoch=57/64, Step=20/41, loss=0.17063, loss_cls=0.090562, loss_bbox=0.056922, loss_rpn_cls=0.014552, loss_rpn_bbox=0.008593, lr=1.5e-05, time_each_step=0.77s, eta=0:4:28\n",
      "2021-02-25 23:51:02 [INFO]\t[TRAIN] Epoch=57/64, Step=22/41, loss=0.133557, loss_cls=0.073157, loss_bbox=0.046442, loss_rpn_cls=0.006041, loss_rpn_bbox=0.007918, lr=1.5e-05, time_each_step=0.44s, eta=0:4:20\n",
      "2021-02-25 23:51:03 [INFO]\t[TRAIN] Epoch=57/64, Step=24/41, loss=0.156108, loss_cls=0.08612, loss_bbox=0.0609, loss_rpn_cls=0.00348, loss_rpn_bbox=0.005608, lr=1.5e-05, time_each_step=0.43s, eta=0:4:19\n",
      "2021-02-25 23:51:04 [INFO]\t[TRAIN] Epoch=57/64, Step=26/41, loss=0.2337, loss_cls=0.118731, loss_bbox=0.099153, loss_rpn_cls=0.0067, loss_rpn_bbox=0.009115, lr=1.5e-05, time_each_step=0.43s, eta=0:4:18\n",
      "2021-02-25 23:51:05 [INFO]\t[TRAIN] Epoch=57/64, Step=28/41, loss=0.116721, loss_cls=0.063816, loss_bbox=0.043116, loss_rpn_cls=0.004245, loss_rpn_bbox=0.005544, lr=1.5e-05, time_each_step=0.42s, eta=0:4:17\n",
      "2021-02-25 23:51:05 [INFO]\t[TRAIN] Epoch=57/64, Step=30/41, loss=0.208754, loss_cls=0.098289, loss_bbox=0.077867, loss_rpn_cls=0.025098, loss_rpn_bbox=0.0075, lr=1.5e-05, time_each_step=0.41s, eta=0:4:16\n",
      "2021-02-25 23:51:06 [INFO]\t[TRAIN] Epoch=57/64, Step=32/41, loss=0.17256, loss_cls=0.096277, loss_bbox=0.066445, loss_rpn_cls=0.004961, loss_rpn_bbox=0.004877, lr=1.5e-05, time_each_step=0.41s, eta=0:4:16\n",
      "2021-02-25 23:51:07 [INFO]\t[TRAIN] Epoch=57/64, Step=34/41, loss=0.140562, loss_cls=0.076504, loss_bbox=0.054275, loss_rpn_cls=0.00456, loss_rpn_bbox=0.005223, lr=1.5e-05, time_each_step=0.41s, eta=0:4:15\n",
      "2021-02-25 23:51:08 [INFO]\t[TRAIN] Epoch=57/64, Step=36/41, loss=0.115706, loss_cls=0.06635, loss_bbox=0.038692, loss_rpn_cls=0.006033, loss_rpn_bbox=0.004631, lr=1.5e-05, time_each_step=0.4s, eta=0:4:14\n",
      "2021-02-25 23:51:09 [INFO]\t[TRAIN] Epoch=57/64, Step=38/41, loss=0.282604, loss_cls=0.146604, loss_bbox=0.117201, loss_rpn_cls=0.011988, loss_rpn_bbox=0.00681, lr=1.5e-05, time_each_step=0.4s, eta=0:4:13\n",
      "2021-02-25 23:51:10 [INFO]\t[TRAIN] Epoch=57/64, Step=40/41, loss=0.123123, loss_cls=0.060615, loss_bbox=0.055269, loss_rpn_cls=0.00292, loss_rpn_bbox=0.004319, lr=1.5e-05, time_each_step=0.4s, eta=0:4:12\n",
      "2021-02-25 23:51:10 [INFO]\t[TRAIN] Epoch 57 finished, loss=0.191788, loss_cls=0.098525, loss_bbox=0.077138, loss_rpn_cls=0.00918, loss_rpn_bbox=0.006944, lr=1.5e-05 .\n",
      "2021-02-25 23:51:10 [WARNING]\tFaster RCNN supports batch_size=1 only during evaluating, so batch_size is forced to be set to 1.\n",
      "2021-02-25 23:51:10 [INFO]\tStart to evaluating(total_samples=2, total_steps=2)...\n"
     ]
    },
    {
     "name": "stderr",
     "output_type": "stream",
     "text": [
      "100%|██████████| 2/2 [00:03<00:00,  1.65s/it]\n"
     ]
    },
    {
     "name": "stdout",
     "output_type": "stream",
     "text": [
      "2021-02-25 23:51:13 [INFO]\t[EVAL] Finished, Epoch=57, bbox_map=68.686869 .\n",
      "2021-02-25 23:51:17 [INFO]\tModel saved in output/faster_rcnn_r50_fpn/epoch_57.\n",
      "2021-02-25 23:51:17 [INFO]\tCurrent evaluated best model in eval_dataset is epoch_10, bbox_map=83.33333333333334\n",
      "2021-02-25 23:51:22 [INFO]\t[TRAIN] Epoch=58/64, Step=1/41, loss=0.419553, loss_cls=0.199127, loss_bbox=0.182365, loss_rpn_cls=0.021645, loss_rpn_bbox=0.016417, lr=1.4e-05, time_each_step=0.62s, eta=0:3:38\n",
      "2021-02-25 23:51:23 [INFO]\t[TRAIN] Epoch=58/64, Step=3/41, loss=0.178226, loss_cls=0.080662, loss_bbox=0.08185, loss_rpn_cls=0.009073, loss_rpn_bbox=0.006641, lr=1.4e-05, time_each_step=0.66s, eta=0:3:38\n",
      "2021-02-25 23:51:24 [INFO]\t[TRAIN] Epoch=58/64, Step=5/41, loss=0.232493, loss_cls=0.120029, loss_bbox=0.100491, loss_rpn_cls=0.007355, loss_rpn_bbox=0.004617, lr=1.4e-05, time_each_step=0.65s, eta=0:3:37\n",
      "2021-02-25 23:51:25 [INFO]\t[TRAIN] Epoch=58/64, Step=7/41, loss=0.116601, loss_cls=0.063431, loss_bbox=0.036696, loss_rpn_cls=0.008615, loss_rpn_bbox=0.007859, lr=1.4e-05, time_each_step=0.66s, eta=0:3:36\n",
      "2021-02-25 23:51:26 [INFO]\t[TRAIN] Epoch=58/64, Step=9/41, loss=0.172804, loss_cls=0.099514, loss_bbox=0.063465, loss_rpn_cls=0.004753, loss_rpn_bbox=0.005072, lr=1.4e-05, time_each_step=0.67s, eta=0:3:35\n",
      "2021-02-25 23:51:27 [INFO]\t[TRAIN] Epoch=58/64, Step=11/41, loss=0.194062, loss_cls=0.103788, loss_bbox=0.077447, loss_rpn_cls=0.009417, loss_rpn_bbox=0.003409, lr=1.4e-05, time_each_step=0.67s, eta=0:3:34\n",
      "2021-02-25 23:51:28 [INFO]\t[TRAIN] Epoch=58/64, Step=13/41, loss=0.273844, loss_cls=0.139029, loss_bbox=0.118824, loss_rpn_cls=0.006137, loss_rpn_bbox=0.009854, lr=1.4e-05, time_each_step=0.66s, eta=0:3:32\n",
      "2021-02-25 23:51:28 [INFO]\t[TRAIN] Epoch=58/64, Step=15/41, loss=0.160032, loss_cls=0.082275, loss_bbox=0.058383, loss_rpn_cls=0.014369, loss_rpn_bbox=0.005005, lr=1.4e-05, time_each_step=0.66s, eta=0:3:31\n",
      "2021-02-25 23:51:29 [INFO]\t[TRAIN] Epoch=58/64, Step=17/41, loss=0.127061, loss_cls=0.065902, loss_bbox=0.054057, loss_rpn_cls=0.002764, loss_rpn_bbox=0.004337, lr=1.4e-05, time_each_step=0.66s, eta=0:3:29\n",
      "2021-02-25 23:51:30 [INFO]\t[TRAIN] Epoch=58/64, Step=19/41, loss=0.110799, loss_cls=0.062338, loss_bbox=0.043515, loss_rpn_cls=0.002198, loss_rpn_bbox=0.002748, lr=1.4e-05, time_each_step=0.66s, eta=0:3:28\n",
      "2021-02-25 23:51:31 [INFO]\t[TRAIN] Epoch=58/64, Step=21/41, loss=0.20358, loss_cls=0.100042, loss_bbox=0.081681, loss_rpn_cls=0.012323, loss_rpn_bbox=0.009534, lr=1.4e-05, time_each_step=0.44s, eta=0:3:22\n",
      "2021-02-25 23:51:32 [INFO]\t[TRAIN] Epoch=58/64, Step=23/41, loss=0.091139, loss_cls=0.054736, loss_bbox=0.031345, loss_rpn_cls=0.001893, loss_rpn_bbox=0.003166, lr=1.4e-05, time_each_step=0.41s, eta=0:3:21\n",
      "2021-02-25 23:51:32 [INFO]\t[TRAIN] Epoch=58/64, Step=25/41, loss=0.151205, loss_cls=0.074715, loss_bbox=0.059362, loss_rpn_cls=0.01001, loss_rpn_bbox=0.007118, lr=1.4e-05, time_each_step=0.4s, eta=0:3:20\n",
      "2021-02-25 23:51:33 [INFO]\t[TRAIN] Epoch=58/64, Step=27/41, loss=0.267071, loss_cls=0.155602, loss_bbox=0.094195, loss_rpn_cls=0.008871, loss_rpn_bbox=0.008403, lr=1.4e-05, time_each_step=0.39s, eta=0:3:19\n",
      "2021-02-25 23:51:34 [INFO]\t[TRAIN] Epoch=58/64, Step=29/41, loss=0.121156, loss_cls=0.066008, loss_bbox=0.049348, loss_rpn_cls=0.002523, loss_rpn_bbox=0.003277, lr=1.4e-05, time_each_step=0.38s, eta=0:3:18\n",
      "2021-02-25 23:51:35 [INFO]\t[TRAIN] Epoch=58/64, Step=31/41, loss=0.161476, loss_cls=0.095722, loss_bbox=0.05627, loss_rpn_cls=0.004912, loss_rpn_bbox=0.004572, lr=1.4e-05, time_each_step=0.38s, eta=0:3:17\n",
      "2021-02-25 23:51:35 [INFO]\t[TRAIN] Epoch=58/64, Step=33/41, loss=0.20859, loss_cls=0.10586, loss_bbox=0.089845, loss_rpn_cls=0.006757, loss_rpn_bbox=0.006128, lr=1.4e-05, time_each_step=0.39s, eta=0:3:17\n",
      "2021-02-25 23:51:36 [INFO]\t[TRAIN] Epoch=58/64, Step=35/41, loss=0.189726, loss_cls=0.094016, loss_bbox=0.08029, loss_rpn_cls=0.007283, loss_rpn_bbox=0.008137, lr=1.4e-05, time_each_step=0.39s, eta=0:3:16\n",
      "2021-02-25 23:51:37 [INFO]\t[TRAIN] Epoch=58/64, Step=37/41, loss=0.114144, loss_cls=0.060199, loss_bbox=0.046105, loss_rpn_cls=0.004133, loss_rpn_bbox=0.003707, lr=1.4e-05, time_each_step=0.38s, eta=0:3:15\n",
      "2021-02-25 23:51:38 [INFO]\t[TRAIN] Epoch=58/64, Step=39/41, loss=0.247537, loss_cls=0.132448, loss_bbox=0.094774, loss_rpn_cls=0.012273, loss_rpn_bbox=0.008042, lr=1.4e-05, time_each_step=0.38s, eta=0:3:14\n",
      "2021-02-25 23:51:38 [INFO]\t[TRAIN] Epoch=58/64, Step=41/41, loss=0.195851, loss_cls=0.087363, loss_bbox=0.092974, loss_rpn_cls=0.007772, loss_rpn_bbox=0.007742, lr=1.4e-05, time_each_step=0.38s, eta=0:3:14\n",
      "2021-02-25 23:51:38 [INFO]\t[TRAIN] Epoch 58 finished, loss=0.191379, loss_cls=0.098573, loss_bbox=0.076621, loss_rpn_cls=0.009256, loss_rpn_bbox=0.006928, lr=1.4e-05 .\n",
      "2021-02-25 23:51:38 [WARNING]\tFaster RCNN supports batch_size=1 only during evaluating, so batch_size is forced to be set to 1.\n",
      "2021-02-25 23:51:38 [INFO]\tStart to evaluating(total_samples=2, total_steps=2)...\n"
     ]
    },
    {
     "name": "stderr",
     "output_type": "stream",
     "text": [
      "100%|██████████| 2/2 [00:04<00:00,  2.14s/it]\n"
     ]
    },
    {
     "name": "stdout",
     "output_type": "stream",
     "text": [
      "2021-02-25 23:51:43 [INFO]\t[EVAL] Finished, Epoch=58, bbox_map=68.686869 .\n",
      "2021-02-25 23:51:49 [INFO]\tModel saved in output/faster_rcnn_r50_fpn/epoch_58.\n",
      "2021-02-25 23:51:49 [INFO]\tCurrent evaluated best model in eval_dataset is epoch_10, bbox_map=83.33333333333334\n",
      "2021-02-25 23:51:54 [INFO]\t[TRAIN] Epoch=59/64, Step=2/41, loss=0.164715, loss_cls=0.091708, loss_bbox=0.060862, loss_rpn_cls=0.00656, loss_rpn_bbox=0.005585, lr=1.4e-05, time_each_step=0.63s, eta=0:3:11\n",
      "2021-02-25 23:51:56 [INFO]\t[TRAIN] Epoch=59/64, Step=4/41, loss=0.272247, loss_cls=0.139359, loss_bbox=0.118431, loss_rpn_cls=0.004659, loss_rpn_bbox=0.009797, lr=1.4e-05, time_each_step=0.66s, eta=0:3:11\n",
      "2021-02-25 23:51:57 [INFO]\t[TRAIN] Epoch=59/64, Step=6/41, loss=0.160292, loss_cls=0.09009, loss_bbox=0.05946, loss_rpn_cls=0.00654, loss_rpn_bbox=0.004201, lr=1.4e-05, time_each_step=0.68s, eta=0:3:10\n",
      "2021-02-25 23:51:58 [INFO]\t[TRAIN] Epoch=59/64, Step=8/41, loss=0.251158, loss_cls=0.12561, loss_bbox=0.111704, loss_rpn_cls=0.008157, loss_rpn_bbox=0.005688, lr=1.4e-05, time_each_step=0.68s, eta=0:3:9\n",
      "2021-02-25 23:51:59 [INFO]\t[TRAIN] Epoch=59/64, Step=10/41, loss=0.189448, loss_cls=0.103197, loss_bbox=0.077304, loss_rpn_cls=0.00393, loss_rpn_bbox=0.005016, lr=1.4e-05, time_each_step=0.69s, eta=0:3:8\n",
      "2021-02-25 23:52:00 [INFO]\t[TRAIN] Epoch=59/64, Step=12/41, loss=0.174516, loss_cls=0.089785, loss_bbox=0.071899, loss_rpn_cls=0.007458, loss_rpn_bbox=0.005375, lr=1.4e-05, time_each_step=0.69s, eta=0:3:7\n",
      "2021-02-25 23:52:00 [INFO]\t[TRAIN] Epoch=59/64, Step=14/41, loss=0.236872, loss_cls=0.118522, loss_bbox=0.10203, loss_rpn_cls=0.008018, loss_rpn_bbox=0.008302, lr=1.4e-05, time_each_step=0.7s, eta=0:3:6\n",
      "2021-02-25 23:52:01 [INFO]\t[TRAIN] Epoch=59/64, Step=16/41, loss=0.131482, loss_cls=0.063573, loss_bbox=0.05397, loss_rpn_cls=0.011308, loss_rpn_bbox=0.002632, lr=1.4e-05, time_each_step=0.7s, eta=0:3:4\n",
      "2021-02-25 23:52:02 [INFO]\t[TRAIN] Epoch=59/64, Step=18/41, loss=0.122244, loss_cls=0.066722, loss_bbox=0.045864, loss_rpn_cls=0.003796, loss_rpn_bbox=0.005862, lr=1.4e-05, time_each_step=0.7s, eta=0:3:3\n",
      "2021-02-25 23:52:03 [INFO]\t[TRAIN] Epoch=59/64, Step=20/41, loss=0.186582, loss_cls=0.092035, loss_bbox=0.08072, loss_rpn_cls=0.007584, loss_rpn_bbox=0.006242, lr=1.4e-05, time_each_step=0.71s, eta=0:3:2\n",
      "2021-02-25 23:52:04 [INFO]\t[TRAIN] Epoch=59/64, Step=22/41, loss=0.270556, loss_cls=0.141378, loss_bbox=0.111463, loss_rpn_cls=0.008275, loss_rpn_bbox=0.009441, lr=1.4e-05, time_each_step=0.46s, eta=0:2:56\n",
      "2021-02-25 23:52:04 [INFO]\t[TRAIN] Epoch=59/64, Step=24/41, loss=0.11208, loss_cls=0.066471, loss_bbox=0.041495, loss_rpn_cls=0.000884, loss_rpn_bbox=0.00323, lr=1.4e-05, time_each_step=0.43s, eta=0:2:54\n",
      "2021-02-25 23:52:05 [INFO]\t[TRAIN] Epoch=59/64, Step=26/41, loss=0.14973, loss_cls=0.068746, loss_bbox=0.051586, loss_rpn_cls=0.021313, loss_rpn_bbox=0.008084, lr=1.4e-05, time_each_step=0.42s, eta=0:2:53\n",
      "2021-02-25 23:52:06 [INFO]\t[TRAIN] Epoch=59/64, Step=28/41, loss=0.11087, loss_cls=0.058651, loss_bbox=0.045639, loss_rpn_cls=0.001675, loss_rpn_bbox=0.004906, lr=1.4e-05, time_each_step=0.41s, eta=0:2:52\n",
      "2021-02-25 23:52:07 [INFO]\t[TRAIN] Epoch=59/64, Step=30/41, loss=0.190463, loss_cls=0.09828, loss_bbox=0.07647, loss_rpn_cls=0.010405, loss_rpn_bbox=0.005308, lr=1.4e-05, time_each_step=0.41s, eta=0:2:51\n",
      "2021-02-25 23:52:08 [INFO]\t[TRAIN] Epoch=59/64, Step=32/41, loss=0.238416, loss_cls=0.114359, loss_bbox=0.07663, loss_rpn_cls=0.019891, loss_rpn_bbox=0.027536, lr=1.4e-05, time_each_step=0.41s, eta=0:2:50\n",
      "2021-02-25 23:52:08 [INFO]\t[TRAIN] Epoch=59/64, Step=34/41, loss=0.145725, loss_cls=0.079819, loss_bbox=0.05354, loss_rpn_cls=0.007151, loss_rpn_bbox=0.005214, lr=1.4e-05, time_each_step=0.4s, eta=0:2:50\n",
      "2021-02-25 23:52:09 [INFO]\t[TRAIN] Epoch=59/64, Step=36/41, loss=0.156465, loss_cls=0.080999, loss_bbox=0.066309, loss_rpn_cls=0.005823, loss_rpn_bbox=0.003333, lr=1.4e-05, time_each_step=0.4s, eta=0:2:49\n",
      "2021-02-25 23:52:10 [INFO]\t[TRAIN] Epoch=59/64, Step=38/41, loss=0.135782, loss_cls=0.072447, loss_bbox=0.05162, loss_rpn_cls=0.004883, loss_rpn_bbox=0.006832, lr=1.4e-05, time_each_step=0.4s, eta=0:2:48\n",
      "2021-02-25 23:52:11 [INFO]\t[TRAIN] Epoch=59/64, Step=40/41, loss=0.167679, loss_cls=0.086396, loss_bbox=0.064102, loss_rpn_cls=0.010525, loss_rpn_bbox=0.006657, lr=1.4e-05, time_each_step=0.4s, eta=0:2:47\n",
      "2021-02-25 23:52:11 [INFO]\t[TRAIN] Epoch 59 finished, loss=0.189089, loss_cls=0.097356, loss_bbox=0.075694, loss_rpn_cls=0.009046, loss_rpn_bbox=0.006993, lr=1.4e-05 .\n",
      "2021-02-25 23:52:11 [WARNING]\tFaster RCNN supports batch_size=1 only during evaluating, so batch_size is forced to be set to 1.\n",
      "2021-02-25 23:52:11 [INFO]\tStart to evaluating(total_samples=2, total_steps=2)...\n"
     ]
    },
    {
     "name": "stderr",
     "output_type": "stream",
     "text": [
      "100%|██████████| 2/2 [00:05<00:00,  2.66s/it]\n"
     ]
    },
    {
     "name": "stdout",
     "output_type": "stream",
     "text": [
      "2021-02-25 23:52:17 [INFO]\t[EVAL] Finished, Epoch=59, bbox_map=68.686869 .\n",
      "2021-02-25 23:52:22 [INFO]\tModel saved in output/faster_rcnn_r50_fpn/epoch_59.\n",
      "2021-02-25 23:52:22 [INFO]\tCurrent evaluated best model in eval_dataset is epoch_10, bbox_map=83.33333333333334\n",
      "2021-02-25 23:52:29 [INFO]\t[TRAIN] Epoch=60/64, Step=1/41, loss=0.357777, loss_cls=0.179382, loss_bbox=0.138493, loss_rpn_cls=0.018096, loss_rpn_bbox=0.021806, lr=1.3e-05, time_each_step=0.74s, eta=0:2:53\n",
      "2021-02-25 23:52:31 [INFO]\t[TRAIN] Epoch=60/64, Step=3/41, loss=0.171096, loss_cls=0.095247, loss_bbox=0.066396, loss_rpn_cls=0.004677, loss_rpn_bbox=0.004776, lr=1.3e-05, time_each_step=0.78s, eta=0:2:53\n",
      "2021-02-25 23:52:32 [INFO]\t[TRAIN] Epoch=60/64, Step=5/41, loss=0.243536, loss_cls=0.119216, loss_bbox=0.110607, loss_rpn_cls=0.008529, loss_rpn_bbox=0.005184, lr=1.3e-05, time_each_step=0.79s, eta=0:2:52\n",
      "2021-02-25 23:52:33 [INFO]\t[TRAIN] Epoch=60/64, Step=7/41, loss=0.085366, loss_cls=0.042643, loss_bbox=0.028938, loss_rpn_cls=0.010261, loss_rpn_bbox=0.003523, lr=1.3e-05, time_each_step=0.79s, eta=0:2:50\n",
      "2021-02-25 23:52:34 [INFO]\t[TRAIN] Epoch=60/64, Step=9/41, loss=0.267605, loss_cls=0.147501, loss_bbox=0.103384, loss_rpn_cls=0.009159, loss_rpn_bbox=0.007561, lr=1.3e-05, time_each_step=0.8s, eta=0:2:49\n",
      "2021-02-25 23:52:34 [INFO]\t[TRAIN] Epoch=60/64, Step=11/41, loss=0.137329, loss_cls=0.076676, loss_bbox=0.052266, loss_rpn_cls=0.004177, loss_rpn_bbox=0.004211, lr=1.3e-05, time_each_step=0.8s, eta=0:2:47\n",
      "2021-02-25 23:52:35 [INFO]\t[TRAIN] Epoch=60/64, Step=13/41, loss=0.180407, loss_cls=0.090137, loss_bbox=0.078848, loss_rpn_cls=0.005484, loss_rpn_bbox=0.005938, lr=1.3e-05, time_each_step=0.81s, eta=0:2:46\n",
      "2021-02-25 23:52:36 [INFO]\t[TRAIN] Epoch=60/64, Step=15/41, loss=0.109765, loss_cls=0.052032, loss_bbox=0.050616, loss_rpn_cls=0.003897, loss_rpn_bbox=0.00322, lr=1.3e-05, time_each_step=0.8s, eta=0:2:44\n",
      "2021-02-25 23:52:37 [INFO]\t[TRAIN] Epoch=60/64, Step=17/41, loss=0.142594, loss_cls=0.078929, loss_bbox=0.057209, loss_rpn_cls=0.001548, loss_rpn_bbox=0.004908, lr=1.3e-05, time_each_step=0.81s, eta=0:2:43\n",
      "2021-02-25 23:52:38 [INFO]\t[TRAIN] Epoch=60/64, Step=19/41, loss=0.155373, loss_cls=0.086112, loss_bbox=0.061905, loss_rpn_cls=0.002817, loss_rpn_bbox=0.004539, lr=1.3e-05, time_each_step=0.82s, eta=0:2:41\n",
      "2021-02-25 23:52:39 [INFO]\t[TRAIN] Epoch=60/64, Step=21/41, loss=0.127275, loss_cls=0.067699, loss_bbox=0.047646, loss_rpn_cls=0.006801, loss_rpn_bbox=0.005129, lr=1.3e-05, time_each_step=0.47s, eta=0:2:33\n",
      "2021-02-25 23:52:39 [INFO]\t[TRAIN] Epoch=60/64, Step=23/41, loss=0.128251, loss_cls=0.066987, loss_bbox=0.046782, loss_rpn_cls=0.009243, loss_rpn_bbox=0.005239, lr=1.3e-05, time_each_step=0.43s, eta=0:2:31\n",
      "2021-02-25 23:52:40 [INFO]\t[TRAIN] Epoch=60/64, Step=25/41, loss=0.202539, loss_cls=0.096674, loss_bbox=0.088847, loss_rpn_cls=0.011251, loss_rpn_bbox=0.005767, lr=1.3e-05, time_each_step=0.43s, eta=0:2:30\n",
      "2021-02-25 23:52:41 [INFO]\t[TRAIN] Epoch=60/64, Step=27/41, loss=0.127098, loss_cls=0.068552, loss_bbox=0.042192, loss_rpn_cls=0.011038, loss_rpn_bbox=0.005316, lr=1.3e-05, time_each_step=0.42s, eta=0:2:29\n",
      "2021-02-25 23:52:42 [INFO]\t[TRAIN] Epoch=60/64, Step=29/41, loss=0.147674, loss_cls=0.087336, loss_bbox=0.049558, loss_rpn_cls=0.003832, loss_rpn_bbox=0.006948, lr=1.3e-05, time_each_step=0.41s, eta=0:2:28\n",
      "2021-02-25 23:52:43 [INFO]\t[TRAIN] Epoch=60/64, Step=31/41, loss=0.196834, loss_cls=0.0974, loss_bbox=0.073862, loss_rpn_cls=0.013912, loss_rpn_bbox=0.01166, lr=1.3e-05, time_each_step=0.41s, eta=0:2:27\n",
      "2021-02-25 23:52:43 [INFO]\t[TRAIN] Epoch=60/64, Step=33/41, loss=0.199955, loss_cls=0.106418, loss_bbox=0.07671, loss_rpn_cls=0.009537, loss_rpn_bbox=0.00729, lr=1.3e-05, time_each_step=0.4s, eta=0:2:27\n",
      "2021-02-25 23:52:44 [INFO]\t[TRAIN] Epoch=60/64, Step=35/41, loss=0.251305, loss_cls=0.113471, loss_bbox=0.103278, loss_rpn_cls=0.026479, loss_rpn_bbox=0.008077, lr=1.3e-05, time_each_step=0.4s, eta=0:2:26\n",
      "2021-02-25 23:52:45 [INFO]\t[TRAIN] Epoch=60/64, Step=37/41, loss=0.226573, loss_cls=0.117746, loss_bbox=0.100195, loss_rpn_cls=0.002672, loss_rpn_bbox=0.00596, lr=1.3e-05, time_each_step=0.4s, eta=0:2:25\n",
      "2021-02-25 23:52:46 [INFO]\t[TRAIN] Epoch=60/64, Step=39/41, loss=0.155815, loss_cls=0.082064, loss_bbox=0.067273, loss_rpn_cls=0.002736, loss_rpn_bbox=0.003742, lr=1.3e-05, time_each_step=0.4s, eta=0:2:24\n",
      "2021-02-25 23:52:47 [INFO]\t[TRAIN] Epoch=60/64, Step=41/41, loss=0.108509, loss_cls=0.056883, loss_bbox=0.04439, loss_rpn_cls=0.0027, loss_rpn_bbox=0.004536, lr=1.3e-05, time_each_step=0.4s, eta=0:2:23\n",
      "2021-02-25 23:52:47 [INFO]\t[TRAIN] Epoch 60 finished, loss=0.191937, loss_cls=0.098191, loss_bbox=0.078342, loss_rpn_cls=0.008447, loss_rpn_bbox=0.006957, lr=1.3e-05 .\n",
      "2021-02-25 23:52:47 [WARNING]\tFaster RCNN supports batch_size=1 only during evaluating, so batch_size is forced to be set to 1.\n",
      "2021-02-25 23:52:47 [INFO]\tStart to evaluating(total_samples=2, total_steps=2)...\n"
     ]
    },
    {
     "name": "stderr",
     "output_type": "stream",
     "text": [
      "100%|██████████| 2/2 [00:03<00:00,  1.96s/it]\n"
     ]
    },
    {
     "name": "stdout",
     "output_type": "stream",
     "text": [
      "2021-02-25 23:52:51 [INFO]\t[EVAL] Finished, Epoch=60, bbox_map=68.686869 .\n",
      "2021-02-25 23:52:55 [INFO]\tModel saved in output/faster_rcnn_r50_fpn/epoch_60.\n",
      "2021-02-25 23:52:55 [INFO]\tCurrent evaluated best model in eval_dataset is epoch_10, bbox_map=83.33333333333334\n",
      "2021-02-25 23:53:01 [INFO]\t[TRAIN] Epoch=61/64, Step=2/41, loss=0.079975, loss_cls=0.046327, loss_bbox=0.025959, loss_rpn_cls=0.005148, loss_rpn_bbox=0.002541, lr=1.2e-05, time_each_step=0.68s, eta=0:2:13\n",
      "2021-02-25 23:53:03 [INFO]\t[TRAIN] Epoch=61/64, Step=4/41, loss=0.132343, loss_cls=0.072901, loss_bbox=0.048674, loss_rpn_cls=0.005426, loss_rpn_bbox=0.005342, lr=1.2e-05, time_each_step=0.72s, eta=0:2:13\n",
      "2021-02-25 23:53:04 [INFO]\t[TRAIN] Epoch=61/64, Step=6/41, loss=0.212043, loss_cls=0.109178, loss_bbox=0.08818, loss_rpn_cls=0.010277, loss_rpn_bbox=0.004409, lr=1.2e-05, time_each_step=0.72s, eta=0:2:12\n",
      "2021-02-25 23:53:05 [INFO]\t[TRAIN] Epoch=61/64, Step=8/41, loss=0.219552, loss_cls=0.109355, loss_bbox=0.093517, loss_rpn_cls=0.01167, loss_rpn_bbox=0.005009, lr=1.2e-05, time_each_step=0.74s, eta=0:2:11\n",
      "2021-02-25 23:53:06 [INFO]\t[TRAIN] Epoch=61/64, Step=10/41, loss=0.198539, loss_cls=0.110695, loss_bbox=0.075726, loss_rpn_cls=0.006699, loss_rpn_bbox=0.005419, lr=1.2e-05, time_each_step=0.74s, eta=0:2:10\n",
      "2021-02-25 23:53:07 [INFO]\t[TRAIN] Epoch=61/64, Step=12/41, loss=0.216543, loss_cls=0.115885, loss_bbox=0.087411, loss_rpn_cls=0.006979, loss_rpn_bbox=0.006268, lr=1.2e-05, time_each_step=0.75s, eta=0:2:8\n",
      "2021-02-25 23:53:07 [INFO]\t[TRAIN] Epoch=61/64, Step=14/41, loss=0.189952, loss_cls=0.095543, loss_bbox=0.070479, loss_rpn_cls=0.01388, loss_rpn_bbox=0.010051, lr=1.2e-05, time_each_step=0.75s, eta=0:2:7\n",
      "2021-02-25 23:53:08 [INFO]\t[TRAIN] Epoch=61/64, Step=16/41, loss=0.164844, loss_cls=0.090099, loss_bbox=0.063634, loss_rpn_cls=0.004925, loss_rpn_bbox=0.006186, lr=1.2e-05, time_each_step=0.74s, eta=0:2:5\n",
      "2021-02-25 23:53:09 [INFO]\t[TRAIN] Epoch=61/64, Step=18/41, loss=0.121444, loss_cls=0.068655, loss_bbox=0.048003, loss_rpn_cls=0.001562, loss_rpn_bbox=0.003225, lr=1.2e-05, time_each_step=0.74s, eta=0:2:4\n",
      "2021-02-25 23:53:10 [INFO]\t[TRAIN] Epoch=61/64, Step=20/41, loss=0.193101, loss_cls=0.096798, loss_bbox=0.081733, loss_rpn_cls=0.009354, loss_rpn_bbox=0.005216, lr=1.2e-05, time_each_step=0.74s, eta=0:2:2\n",
      "2021-02-25 23:53:11 [INFO]\t[TRAIN] Epoch=61/64, Step=22/41, loss=0.13921, loss_cls=0.068191, loss_bbox=0.062299, loss_rpn_cls=0.005377, loss_rpn_bbox=0.003342, lr=1.2e-05, time_each_step=0.46s, eta=0:1:55\n",
      "2021-02-25 23:53:11 [INFO]\t[TRAIN] Epoch=61/64, Step=24/41, loss=0.309349, loss_cls=0.151598, loss_bbox=0.133366, loss_rpn_cls=0.011959, loss_rpn_bbox=0.012427, lr=1.2e-05, time_each_step=0.43s, eta=0:1:54\n",
      "2021-02-25 23:53:12 [INFO]\t[TRAIN] Epoch=61/64, Step=26/41, loss=0.137652, loss_cls=0.067926, loss_bbox=0.04589, loss_rpn_cls=0.017532, loss_rpn_bbox=0.006303, lr=1.2e-05, time_each_step=0.42s, eta=0:1:53\n",
      "2021-02-25 23:53:13 [INFO]\t[TRAIN] Epoch=61/64, Step=28/41, loss=0.12953, loss_cls=0.075792, loss_bbox=0.046234, loss_rpn_cls=0.004039, loss_rpn_bbox=0.003465, lr=1.2e-05, time_each_step=0.41s, eta=0:1:52\n",
      "2021-02-25 23:53:14 [INFO]\t[TRAIN] Epoch=61/64, Step=30/41, loss=0.238408, loss_cls=0.110081, loss_bbox=0.09432, loss_rpn_cls=0.026513, loss_rpn_bbox=0.007494, lr=1.2e-05, time_each_step=0.4s, eta=0:1:51\n",
      "2021-02-25 23:53:14 [INFO]\t[TRAIN] Epoch=61/64, Step=32/41, loss=0.184083, loss_cls=0.100311, loss_bbox=0.073024, loss_rpn_cls=0.004335, loss_rpn_bbox=0.006412, lr=1.2e-05, time_each_step=0.4s, eta=0:1:50\n",
      "2021-02-25 23:53:15 [INFO]\t[TRAIN] Epoch=61/64, Step=34/41, loss=0.180529, loss_cls=0.093098, loss_bbox=0.069845, loss_rpn_cls=0.009028, loss_rpn_bbox=0.008558, lr=1.2e-05, time_each_step=0.4s, eta=0:1:49\n",
      "2021-02-25 23:53:16 [INFO]\t[TRAIN] Epoch=61/64, Step=36/41, loss=0.188716, loss_cls=0.10041, loss_bbox=0.081335, loss_rpn_cls=0.002728, loss_rpn_bbox=0.004243, lr=1.2e-05, time_each_step=0.4s, eta=0:1:49\n",
      "2021-02-25 23:53:17 [INFO]\t[TRAIN] Epoch=61/64, Step=38/41, loss=0.192217, loss_cls=0.092659, loss_bbox=0.080014, loss_rpn_cls=0.011654, loss_rpn_bbox=0.00789, lr=1.2e-05, time_each_step=0.39s, eta=0:1:48\n",
      "2021-02-25 23:53:18 [INFO]\t[TRAIN] Epoch=61/64, Step=40/41, loss=0.192491, loss_cls=0.100235, loss_bbox=0.067645, loss_rpn_cls=0.012724, loss_rpn_bbox=0.011886, lr=1.2e-05, time_each_step=0.39s, eta=0:1:47\n",
      "2021-02-25 23:53:18 [INFO]\t[TRAIN] Epoch 61 finished, loss=0.197391, loss_cls=0.100942, loss_bbox=0.080479, loss_rpn_cls=0.008986, loss_rpn_bbox=0.006984, lr=1.2e-05 .\n",
      "2021-02-25 23:53:18 [WARNING]\tFaster RCNN supports batch_size=1 only during evaluating, so batch_size is forced to be set to 1.\n",
      "2021-02-25 23:53:18 [INFO]\tStart to evaluating(total_samples=2, total_steps=2)...\n"
     ]
    },
    {
     "name": "stderr",
     "output_type": "stream",
     "text": [
      "100%|██████████| 2/2 [00:04<00:00,  2.02s/it]\n"
     ]
    },
    {
     "name": "stdout",
     "output_type": "stream",
     "text": [
      "2021-02-25 23:53:22 [INFO]\t[EVAL] Finished, Epoch=61, bbox_map=68.686869 .\n",
      "2021-02-25 23:53:26 [INFO]\tModel saved in output/faster_rcnn_r50_fpn/epoch_61.\n",
      "2021-02-25 23:53:26 [INFO]\tCurrent evaluated best model in eval_dataset is epoch_10, bbox_map=83.33333333333334\n",
      "2021-02-25 23:53:32 [INFO]\t[TRAIN] Epoch=62/64, Step=1/41, loss=0.186155, loss_cls=0.093434, loss_bbox=0.068366, loss_rpn_cls=0.014401, loss_rpn_bbox=0.009954, lr=1.2e-05, time_each_step=0.64s, eta=0:1:36\n",
      "2021-02-25 23:53:33 [INFO]\t[TRAIN] Epoch=62/64, Step=3/41, loss=0.269011, loss_cls=0.148022, loss_bbox=0.108106, loss_rpn_cls=0.006127, loss_rpn_bbox=0.006756, lr=1.2e-05, time_each_step=0.68s, eta=0:1:36\n",
      "2021-02-25 23:53:35 [INFO]\t[TRAIN] Epoch=62/64, Step=5/41, loss=0.253932, loss_cls=0.117058, loss_bbox=0.119506, loss_rpn_cls=0.008859, loss_rpn_bbox=0.00851, lr=1.2e-05, time_each_step=0.72s, eta=0:1:37\n",
      "2021-02-25 23:53:36 [INFO]\t[TRAIN] Epoch=62/64, Step=7/41, loss=0.241333, loss_cls=0.122689, loss_bbox=0.098116, loss_rpn_cls=0.012986, loss_rpn_bbox=0.007542, lr=1.2e-05, time_each_step=0.73s, eta=0:1:36\n",
      "2021-02-25 23:53:37 [INFO]\t[TRAIN] Epoch=62/64, Step=9/41, loss=0.091401, loss_cls=0.047214, loss_bbox=0.039452, loss_rpn_cls=0.002193, loss_rpn_bbox=0.002542, lr=1.2e-05, time_each_step=0.74s, eta=0:1:34\n",
      "2021-02-25 23:53:38 [INFO]\t[TRAIN] Epoch=62/64, Step=11/41, loss=0.188128, loss_cls=0.090633, loss_bbox=0.090996, loss_rpn_cls=0.001361, loss_rpn_bbox=0.005139, lr=1.2e-05, time_each_step=0.75s, eta=0:1:33\n",
      "2021-02-25 23:53:38 [INFO]\t[TRAIN] Epoch=62/64, Step=13/41, loss=0.178411, loss_cls=0.099976, loss_bbox=0.066453, loss_rpn_cls=0.006211, loss_rpn_bbox=0.005772, lr=1.2e-05, time_each_step=0.74s, eta=0:1:31\n",
      "2021-02-25 23:53:39 [INFO]\t[TRAIN] Epoch=62/64, Step=15/41, loss=0.179839, loss_cls=0.094354, loss_bbox=0.075659, loss_rpn_cls=0.003205, loss_rpn_bbox=0.006621, lr=1.2e-05, time_each_step=0.74s, eta=0:1:30\n",
      "2021-02-25 23:53:40 [INFO]\t[TRAIN] Epoch=62/64, Step=17/41, loss=0.170184, loss_cls=0.083586, loss_bbox=0.064889, loss_rpn_cls=0.013955, loss_rpn_bbox=0.007753, lr=1.2e-05, time_each_step=0.75s, eta=0:1:29\n",
      "2021-02-25 23:53:41 [INFO]\t[TRAIN] Epoch=62/64, Step=19/41, loss=0.241774, loss_cls=0.116694, loss_bbox=0.092986, loss_rpn_cls=0.021325, loss_rpn_bbox=0.01077, lr=1.2e-05, time_each_step=0.75s, eta=0:1:27\n",
      "2021-02-25 23:53:42 [INFO]\t[TRAIN] Epoch=62/64, Step=21/41, loss=0.141297, loss_cls=0.066481, loss_bbox=0.0624, loss_rpn_cls=0.007755, loss_rpn_bbox=0.004661, lr=1.2e-05, time_each_step=0.5s, eta=0:1:21\n",
      "2021-02-25 23:53:43 [INFO]\t[TRAIN] Epoch=62/64, Step=23/41, loss=0.294811, loss_cls=0.147582, loss_bbox=0.122723, loss_rpn_cls=0.014765, loss_rpn_bbox=0.009741, lr=1.2e-05, time_each_step=0.47s, eta=0:1:19\n",
      "2021-02-25 23:53:43 [INFO]\t[TRAIN] Epoch=62/64, Step=25/41, loss=0.199344, loss_cls=0.088944, loss_bbox=0.074226, loss_rpn_cls=0.023096, loss_rpn_bbox=0.013078, lr=1.2e-05, time_each_step=0.43s, eta=0:1:18\n",
      "2021-02-25 23:53:44 [INFO]\t[TRAIN] Epoch=62/64, Step=27/41, loss=0.167627, loss_cls=0.088492, loss_bbox=0.057534, loss_rpn_cls=0.008477, loss_rpn_bbox=0.013123, lr=1.2e-05, time_each_step=0.42s, eta=0:1:16\n",
      "2021-02-25 23:53:45 [INFO]\t[TRAIN] Epoch=62/64, Step=29/41, loss=0.319731, loss_cls=0.166027, loss_bbox=0.130262, loss_rpn_cls=0.012283, loss_rpn_bbox=0.01116, lr=1.2e-05, time_each_step=0.41s, eta=0:1:16\n",
      "2021-02-25 23:53:46 [INFO]\t[TRAIN] Epoch=62/64, Step=31/41, loss=0.207613, loss_cls=0.101771, loss_bbox=0.075982, loss_rpn_cls=0.019398, loss_rpn_bbox=0.010462, lr=1.2e-05, time_each_step=0.4s, eta=0:1:15\n",
      "2021-02-25 23:53:46 [INFO]\t[TRAIN] Epoch=62/64, Step=33/41, loss=0.281943, loss_cls=0.143249, loss_bbox=0.122846, loss_rpn_cls=0.005976, loss_rpn_bbox=0.009872, lr=1.2e-05, time_each_step=0.4s, eta=0:1:14\n",
      "2021-02-25 23:53:47 [INFO]\t[TRAIN] Epoch=62/64, Step=35/41, loss=0.093316, loss_cls=0.048693, loss_bbox=0.032924, loss_rpn_cls=0.008333, loss_rpn_bbox=0.003366, lr=1.2e-05, time_each_step=0.4s, eta=0:1:13\n",
      "2021-02-25 23:53:48 [INFO]\t[TRAIN] Epoch=62/64, Step=37/41, loss=0.110517, loss_cls=0.065095, loss_bbox=0.039458, loss_rpn_cls=0.002898, loss_rpn_bbox=0.003065, lr=1.2e-05, time_each_step=0.4s, eta=0:1:12\n",
      "2021-02-25 23:53:49 [INFO]\t[TRAIN] Epoch=62/64, Step=39/41, loss=0.135332, loss_cls=0.069733, loss_bbox=0.05475, loss_rpn_cls=0.004778, loss_rpn_bbox=0.00607, lr=1.2e-05, time_each_step=0.4s, eta=0:1:11\n",
      "2021-02-25 23:53:50 [INFO]\t[TRAIN] Epoch=62/64, Step=41/41, loss=0.190851, loss_cls=0.093622, loss_bbox=0.06963, loss_rpn_cls=0.020372, loss_rpn_bbox=0.007228, lr=1.2e-05, time_each_step=0.39s, eta=0:1:11\n",
      "2021-02-25 23:53:50 [INFO]\t[TRAIN] Epoch 62 finished, loss=0.191965, loss_cls=0.097415, loss_bbox=0.07806, loss_rpn_cls=0.009335, loss_rpn_bbox=0.007156, lr=1.2e-05 .\n",
      "2021-02-25 23:53:50 [WARNING]\tFaster RCNN supports batch_size=1 only during evaluating, so batch_size is forced to be set to 1.\n",
      "2021-02-25 23:53:50 [INFO]\tStart to evaluating(total_samples=2, total_steps=2)...\n"
     ]
    },
    {
     "name": "stderr",
     "output_type": "stream",
     "text": [
      "100%|██████████| 2/2 [00:05<00:00,  2.55s/it]\n"
     ]
    },
    {
     "name": "stdout",
     "output_type": "stream",
     "text": [
      "2021-02-25 23:53:55 [INFO]\t[EVAL] Finished, Epoch=62, bbox_map=68.686869 .\n",
      "2021-02-25 23:53:59 [INFO]\tModel saved in output/faster_rcnn_r50_fpn/epoch_62.\n",
      "2021-02-25 23:53:59 [INFO]\tCurrent evaluated best model in eval_dataset is epoch_10, bbox_map=83.33333333333334\n",
      "2021-02-25 23:54:06 [INFO]\t[TRAIN] Epoch=63/64, Step=2/41, loss=0.221013, loss_cls=0.114169, loss_bbox=0.094334, loss_rpn_cls=0.00534, loss_rpn_bbox=0.00717, lr=1.1e-05, time_each_step=0.67s, eta=0:1:8\n",
      "2021-02-25 23:54:07 [INFO]\t[TRAIN] Epoch=63/64, Step=4/41, loss=0.1792, loss_cls=0.094744, loss_bbox=0.077406, loss_rpn_cls=0.003593, loss_rpn_bbox=0.003457, lr=1.1e-05, time_each_step=0.68s, eta=0:1:8\n",
      "2021-02-25 23:54:08 [INFO]\t[TRAIN] Epoch=63/64, Step=6/41, loss=0.308334, loss_cls=0.157563, loss_bbox=0.127269, loss_rpn_cls=0.008393, loss_rpn_bbox=0.01511, lr=1.1e-05, time_each_step=0.7s, eta=0:1:7\n",
      "2021-02-25 23:54:09 [INFO]\t[TRAIN] Epoch=63/64, Step=8/41, loss=0.099867, loss_cls=0.057949, loss_bbox=0.034476, loss_rpn_cls=0.003668, loss_rpn_bbox=0.003775, lr=1.1e-05, time_each_step=0.71s, eta=0:1:6\n",
      "2021-02-25 23:54:10 [INFO]\t[TRAIN] Epoch=63/64, Step=10/41, loss=0.206742, loss_cls=0.097364, loss_bbox=0.090539, loss_rpn_cls=0.010782, loss_rpn_bbox=0.008057, lr=1.1e-05, time_each_step=0.72s, eta=0:1:4\n",
      "2021-02-25 23:54:11 [INFO]\t[TRAIN] Epoch=63/64, Step=12/41, loss=0.260222, loss_cls=0.126193, loss_bbox=0.111124, loss_rpn_cls=0.01539, loss_rpn_bbox=0.007514, lr=1.1e-05, time_each_step=0.72s, eta=0:1:3\n",
      "2021-02-25 23:54:12 [INFO]\t[TRAIN] Epoch=63/64, Step=14/41, loss=0.163239, loss_cls=0.079789, loss_bbox=0.071992, loss_rpn_cls=0.00645, loss_rpn_bbox=0.005007, lr=1.1e-05, time_each_step=0.73s, eta=0:1:2\n",
      "2021-02-25 23:54:12 [INFO]\t[TRAIN] Epoch=63/64, Step=16/41, loss=0.293856, loss_cls=0.136566, loss_bbox=0.130871, loss_rpn_cls=0.015318, loss_rpn_bbox=0.0111, lr=1.1e-05, time_each_step=0.73s, eta=0:1:0\n",
      "2021-02-25 23:54:13 [INFO]\t[TRAIN] Epoch=63/64, Step=18/41, loss=0.170389, loss_cls=0.090264, loss_bbox=0.073263, loss_rpn_cls=0.002272, loss_rpn_bbox=0.00459, lr=1.1e-05, time_each_step=0.72s, eta=0:0:59\n",
      "2021-02-25 23:54:14 [INFO]\t[TRAIN] Epoch=63/64, Step=20/41, loss=0.104261, loss_cls=0.055996, loss_bbox=0.040134, loss_rpn_cls=0.004266, loss_rpn_bbox=0.003865, lr=1.1e-05, time_each_step=0.73s, eta=0:0:58\n",
      "2021-02-25 23:54:15 [INFO]\t[TRAIN] Epoch=63/64, Step=22/41, loss=0.310784, loss_cls=0.155217, loss_bbox=0.130429, loss_rpn_cls=0.015701, loss_rpn_bbox=0.009437, lr=1.1e-05, time_each_step=0.45s, eta=0:0:51\n",
      "2021-02-25 23:54:15 [INFO]\t[TRAIN] Epoch=63/64, Step=24/41, loss=0.150188, loss_cls=0.076063, loss_bbox=0.062888, loss_rpn_cls=0.005227, loss_rpn_bbox=0.00601, lr=1.1e-05, time_each_step=0.43s, eta=0:0:50\n",
      "2021-02-25 23:54:16 [INFO]\t[TRAIN] Epoch=63/64, Step=26/41, loss=0.127049, loss_cls=0.076563, loss_bbox=0.041452, loss_rpn_cls=0.003611, loss_rpn_bbox=0.005423, lr=1.1e-05, time_each_step=0.41s, eta=0:0:48\n",
      "2021-02-25 23:54:17 [INFO]\t[TRAIN] Epoch=63/64, Step=28/41, loss=0.194292, loss_cls=0.099169, loss_bbox=0.081369, loss_rpn_cls=0.007359, loss_rpn_bbox=0.006395, lr=1.1e-05, time_each_step=0.4s, eta=0:0:47\n",
      "2021-02-25 23:54:18 [INFO]\t[TRAIN] Epoch=63/64, Step=30/41, loss=0.101252, loss_cls=0.054988, loss_bbox=0.037255, loss_rpn_cls=0.005748, loss_rpn_bbox=0.00326, lr=1.1e-05, time_each_step=0.4s, eta=0:0:47\n",
      "2021-02-25 23:54:19 [INFO]\t[TRAIN] Epoch=63/64, Step=32/41, loss=0.292745, loss_cls=0.143734, loss_bbox=0.128552, loss_rpn_cls=0.009327, loss_rpn_bbox=0.011132, lr=1.1e-05, time_each_step=0.4s, eta=0:0:46\n",
      "2021-02-25 23:54:19 [INFO]\t[TRAIN] Epoch=63/64, Step=34/41, loss=0.239786, loss_cls=0.12879, loss_bbox=0.083953, loss_rpn_cls=0.017955, loss_rpn_bbox=0.009088, lr=1.1e-05, time_each_step=0.4s, eta=0:0:45\n",
      "2021-02-25 23:54:20 [INFO]\t[TRAIN] Epoch=63/64, Step=36/41, loss=0.166595, loss_cls=0.092439, loss_bbox=0.065326, loss_rpn_cls=0.002907, loss_rpn_bbox=0.005923, lr=1.1e-05, time_each_step=0.4s, eta=0:0:44\n",
      "2021-02-25 23:54:21 [INFO]\t[TRAIN] Epoch=63/64, Step=38/41, loss=0.167944, loss_cls=0.077372, loss_bbox=0.066449, loss_rpn_cls=0.014955, loss_rpn_bbox=0.009168, lr=1.1e-05, time_each_step=0.4s, eta=0:0:43\n",
      "2021-02-25 23:54:22 [INFO]\t[TRAIN] Epoch=63/64, Step=40/41, loss=0.139793, loss_cls=0.078078, loss_bbox=0.048997, loss_rpn_cls=0.00577, loss_rpn_bbox=0.006949, lr=1.1e-05, time_each_step=0.4s, eta=0:0:43\n",
      "2021-02-25 23:54:22 [INFO]\t[TRAIN] Epoch 63 finished, loss=0.193073, loss_cls=0.099775, loss_bbox=0.077724, loss_rpn_cls=0.008586, loss_rpn_bbox=0.006988, lr=1.1e-05 .\n",
      "2021-02-25 23:54:22 [WARNING]\tFaster RCNN supports batch_size=1 only during evaluating, so batch_size is forced to be set to 1.\n",
      "2021-02-25 23:54:22 [INFO]\tStart to evaluating(total_samples=2, total_steps=2)...\n"
     ]
    },
    {
     "name": "stderr",
     "output_type": "stream",
     "text": [
      "100%|██████████| 2/2 [00:03<00:00,  1.62s/it]\n"
     ]
    },
    {
     "name": "stdout",
     "output_type": "stream",
     "text": [
      "2021-02-25 23:54:25 [INFO]\t[EVAL] Finished, Epoch=63, bbox_map=61.111111 .\n",
      "2021-02-25 23:54:30 [INFO]\tModel saved in output/faster_rcnn_r50_fpn/epoch_63.\n",
      "2021-02-25 23:54:30 [INFO]\tCurrent evaluated best model in eval_dataset is epoch_10, bbox_map=83.33333333333334\n",
      "2021-02-25 23:54:35 [INFO]\t[TRAIN] Epoch=64/64, Step=1/41, loss=0.265464, loss_cls=0.122991, loss_bbox=0.110821, loss_rpn_cls=0.024255, loss_rpn_bbox=0.007397, lr=1e-05, time_each_step=0.65s, eta=0:0:33\n",
      "2021-02-25 23:54:37 [INFO]\t[TRAIN] Epoch=64/64, Step=3/41, loss=0.161469, loss_cls=0.084753, loss_bbox=0.05702, loss_rpn_cls=0.005896, loss_rpn_bbox=0.0138, lr=1e-05, time_each_step=0.68s, eta=0:0:33\n",
      "2021-02-25 23:54:38 [INFO]\t[TRAIN] Epoch=64/64, Step=5/41, loss=0.208325, loss_cls=0.113235, loss_bbox=0.082658, loss_rpn_cls=0.007585, loss_rpn_bbox=0.004848, lr=1e-05, time_each_step=0.69s, eta=0:0:32\n",
      "2021-02-25 23:54:39 [INFO]\t[TRAIN] Epoch=64/64, Step=7/41, loss=0.176578, loss_cls=0.087884, loss_bbox=0.077577, loss_rpn_cls=0.00432, loss_rpn_bbox=0.006796, lr=1e-05, time_each_step=0.7s, eta=0:0:31\n",
      "2021-02-25 23:54:40 [INFO]\t[TRAIN] Epoch=64/64, Step=9/41, loss=0.261262, loss_cls=0.123471, loss_bbox=0.11154, loss_rpn_cls=0.018269, loss_rpn_bbox=0.007982, lr=1e-05, time_each_step=0.71s, eta=0:0:30\n",
      "2021-02-25 23:54:40 [INFO]\t[TRAIN] Epoch=64/64, Step=11/41, loss=0.125182, loss_cls=0.075967, loss_bbox=0.043716, loss_rpn_cls=0.002366, loss_rpn_bbox=0.003133, lr=1e-05, time_each_step=0.71s, eta=0:0:28\n",
      "2021-02-25 23:54:41 [INFO]\t[TRAIN] Epoch=64/64, Step=13/41, loss=0.351925, loss_cls=0.178035, loss_bbox=0.154326, loss_rpn_cls=0.006991, loss_rpn_bbox=0.012573, lr=1e-05, time_each_step=0.71s, eta=0:0:27\n",
      "2021-02-25 23:54:42 [INFO]\t[TRAIN] Epoch=64/64, Step=15/41, loss=0.290018, loss_cls=0.144704, loss_bbox=0.118691, loss_rpn_cls=0.013208, loss_rpn_bbox=0.013414, lr=1e-05, time_each_step=0.71s, eta=0:0:26\n",
      "2021-02-25 23:54:43 [INFO]\t[TRAIN] Epoch=64/64, Step=17/41, loss=0.170432, loss_cls=0.093815, loss_bbox=0.050754, loss_rpn_cls=0.013194, loss_rpn_bbox=0.012669, lr=1e-05, time_each_step=0.71s, eta=0:0:24\n",
      "2021-02-25 23:54:44 [INFO]\t[TRAIN] Epoch=64/64, Step=19/41, loss=0.136258, loss_cls=0.061125, loss_bbox=0.062847, loss_rpn_cls=0.007789, loss_rpn_bbox=0.004496, lr=1e-05, time_each_step=0.71s, eta=0:0:23\n",
      "2021-02-25 23:54:44 [INFO]\t[TRAIN] Epoch=64/64, Step=21/41, loss=0.07823, loss_cls=0.045823, loss_bbox=0.028395, loss_rpn_cls=0.001779, loss_rpn_bbox=0.002232, lr=1e-05, time_each_step=0.46s, eta=0:0:16\n",
      "2021-02-25 23:54:45 [INFO]\t[TRAIN] Epoch=64/64, Step=23/41, loss=0.219406, loss_cls=0.108639, loss_bbox=0.097551, loss_rpn_cls=0.007136, loss_rpn_bbox=0.00608, lr=1e-05, time_each_step=0.43s, eta=0:0:15\n",
      "2021-02-25 23:54:46 [INFO]\t[TRAIN] Epoch=64/64, Step=25/41, loss=0.238264, loss_cls=0.123554, loss_bbox=0.082467, loss_rpn_cls=0.022439, loss_rpn_bbox=0.009803, lr=1e-05, time_each_step=0.42s, eta=0:0:14\n",
      "2021-02-25 23:54:47 [INFO]\t[TRAIN] Epoch=64/64, Step=27/41, loss=0.104633, loss_cls=0.054927, loss_bbox=0.039775, loss_rpn_cls=0.004515, loss_rpn_bbox=0.005416, lr=1e-05, time_each_step=0.41s, eta=0:0:13\n",
      "2021-02-25 23:54:48 [INFO]\t[TRAIN] Epoch=64/64, Step=29/41, loss=0.251808, loss_cls=0.127003, loss_bbox=0.109614, loss_rpn_cls=0.006102, loss_rpn_bbox=0.009089, lr=1e-05, time_each_step=0.4s, eta=0:0:12\n",
      "2021-02-25 23:54:48 [INFO]\t[TRAIN] Epoch=64/64, Step=31/41, loss=0.076973, loss_cls=0.04232, loss_bbox=0.028567, loss_rpn_cls=0.003801, loss_rpn_bbox=0.002285, lr=1e-05, time_each_step=0.4s, eta=0:0:11\n",
      "2021-02-25 23:54:49 [INFO]\t[TRAIN] Epoch=64/64, Step=33/41, loss=0.135829, loss_cls=0.067138, loss_bbox=0.055949, loss_rpn_cls=0.004776, loss_rpn_bbox=0.007966, lr=1e-05, time_each_step=0.4s, eta=0:0:10\n",
      "2021-02-25 23:54:50 [INFO]\t[TRAIN] Epoch=64/64, Step=35/41, loss=0.1548, loss_cls=0.085713, loss_bbox=0.058426, loss_rpn_cls=0.005103, loss_rpn_bbox=0.005558, lr=1e-05, time_each_step=0.4s, eta=0:0:10\n",
      "2021-02-25 23:54:51 [INFO]\t[TRAIN] Epoch=64/64, Step=37/41, loss=0.287561, loss_cls=0.150882, loss_bbox=0.117875, loss_rpn_cls=0.009767, loss_rpn_bbox=0.009037, lr=1e-05, time_each_step=0.41s, eta=0:0:9\n",
      "2021-02-25 23:54:52 [INFO]\t[TRAIN] Epoch=64/64, Step=39/41, loss=0.249218, loss_cls=0.121246, loss_bbox=0.093765, loss_rpn_cls=0.022215, loss_rpn_bbox=0.011993, lr=1e-05, time_each_step=0.41s, eta=0:0:8\n",
      "2021-02-25 23:54:53 [INFO]\t[TRAIN] Epoch=64/64, Step=41/41, loss=0.310968, loss_cls=0.166623, loss_bbox=0.127407, loss_rpn_cls=0.009807, loss_rpn_bbox=0.007131, lr=1e-05, time_each_step=0.41s, eta=0:0:7\n",
      "2021-02-25 23:54:53 [INFO]\t[TRAIN] Epoch 64 finished, loss=0.186383, loss_cls=0.09573, loss_bbox=0.074344, loss_rpn_cls=0.00931, loss_rpn_bbox=0.006999, lr=1e-05 .\n",
      "2021-02-25 23:54:53 [WARNING]\tFaster RCNN supports batch_size=1 only during evaluating, so batch_size is forced to be set to 1.\n",
      "2021-02-25 23:54:53 [INFO]\tStart to evaluating(total_samples=2, total_steps=2)...\n"
     ]
    },
    {
     "name": "stderr",
     "output_type": "stream",
     "text": [
      "100%|██████████| 2/2 [00:04<00:00,  2.43s/it]\n"
     ]
    },
    {
     "name": "stdout",
     "output_type": "stream",
     "text": [
      "2021-02-25 23:54:57 [INFO]\t[EVAL] Finished, Epoch=64, bbox_map=69.318182 .\n",
      "2021-02-25 23:55:02 [INFO]\tModel saved in output/faster_rcnn_r50_fpn/epoch_64.\n",
      "2021-02-25 23:55:02 [INFO]\tCurrent evaluated best model in eval_dataset is epoch_10, bbox_map=83.33333333333334\n"
     ]
    }
   ],
   "source": [
    "# training\r\n",
    "! rm -rf ~/log & rm -rf output/faster_rcnn_r50_fpn\r\n",
    "! mkdir -p output/faster_rcnn_r50_fpn/vdl_log\r\n",
    "! ln -s output/faster_rcnn_r50_fpn/vdl_log ~/log\r\n",
    "\r\n",
    "decay_epoch=list(range(64))\r\n",
    "num_classes = len(train_dataset.labels) + 1\r\n",
    "model = pdx.det.FasterRCNN(num_classes=num_classes)\r\n",
    "model.train(\r\n",
    "    num_epochs=64,\r\n",
    "    train_dataset=train_dataset,\r\n",
    "    train_batch_size=4,\r\n",
    "    eval_dataset=eval_dataset,\r\n",
    "    learning_rate=0.0001,\r\n",
    "    lr_decay_epochs=decay_epoch[20:],\r\n",
    "    lr_decay_gamma=0.95,\r\n",
    "    save_interval_epochs=1,\r\n",
    "    save_dir='output/faster_rcnn_r50_fpn',\r\n",
    "    use_vdl=True)"
   ]
  },
  {
   "cell_type": "code",
   "execution_count": null,
   "metadata": {
    "collapsed": false
   },
   "outputs": [],
   "source": [
    "# single image predict\r\n",
    "image_name = 'yaoping_data/JPEGImages/Error6_7803_12_32_131922.jpg'\r\n",
    "result = model.predict(image_name)\r\n",
    "pdx.det.visualize(image_name, result, threshold=0.5, save_dir='output/resimg')"
   ]
  },
  {
   "cell_type": "code",
   "execution_count": 10,
   "metadata": {
    "collapsed": false
   },
   "outputs": [],
   "source": [
    "# valid sets predict\r\n",
    "import os\r\n",
    "import paddlex as pdx\r\n",
    "file = open(\"train/ImageSets/Main/train.txt\") \r\n",
    "model = pdx.load_model('output/faster_rcnn_r50_fpn/epoch_64')\r\n",
    "for line in file.readlines():  \r\n",
    "     print(line)\r\n",
    "     line=line.strip('\\n').split(' ')[0]\r\n",
    "     image_name = 'train/' + line\r\n",
    "     result = model.predict(image_name)\r\n",
    "     pdx.det.visualize(image_name, result, threshold=0.5, save_dir='output/resimg_train')"
   ]
  },
  {
   "cell_type": "code",
   "execution_count": null,
   "metadata": {
    "collapsed": false
   },
   "outputs": [],
   "source": []
  },
  {
   "cell_type": "markdown",
   "metadata": {
    "collapsed": false
   },
   "source": [
    "请点击[此处](https://ai.baidu.com/docs#/AIStudio_Project_Notebook/a38e5576)查看本环境基本用法.  <br>\n",
    "Please click [here ](https://ai.baidu.com/docs#/AIStudio_Project_Notebook/a38e5576) for more detailed instructions. "
   ]
  }
 ],
 "metadata": {
  "kernelspec": {
   "display_name": "PaddlePaddle 1.8.4 (Python 3.5)",
   "language": "python",
   "name": "py35-paddle1.2.0"
  },
  "language_info": {
   "codemirror_mode": {
    "name": "ipython",
    "version": 3
   },
   "file_extension": ".py",
   "mimetype": "text/x-python",
   "name": "python",
   "nbconvert_exporter": "python",
   "pygments_lexer": "ipython3",
   "version": "3.7.4"
  }
 },
 "nbformat": 4,
 "nbformat_minor": 1
}
